{
 "cells": [
  {
   "cell_type": "markdown",
   "id": "159769cd",
   "metadata": {
    "papermill": {
     "duration": 0.005722,
     "end_time": "2023-05-08T15:22:06.286364",
     "exception": false,
     "start_time": "2023-05-08T15:22:06.280642",
     "status": "completed"
    },
    "tags": []
   },
   "source": [
    "**This notebook is an exercise in the [Pandas](https://www.kaggle.com/learn/pandas) course.  You can reference the tutorial at [this link](https://www.kaggle.com/residentmario/renaming-and-combining).**\n",
    "\n",
    "---\n"
   ]
  },
  {
   "cell_type": "markdown",
   "id": "518a6e50",
   "metadata": {
    "papermill": {
     "duration": 0.00479,
     "end_time": "2023-05-08T15:22:06.296656",
     "exception": false,
     "start_time": "2023-05-08T15:22:06.291866",
     "status": "completed"
    },
    "tags": []
   },
   "source": [
    "# Introduction\n",
    "\n",
    "Run the following cell to load your data and some utility functions."
   ]
  },
  {
   "cell_type": "code",
   "execution_count": 1,
   "id": "f5926343",
   "metadata": {
    "execution": {
     "iopub.execute_input": "2023-05-08T15:22:06.309201Z",
     "iopub.status.busy": "2023-05-08T15:22:06.308023Z",
     "iopub.status.idle": "2023-05-08T15:22:10.660440Z",
     "shell.execute_reply": "2023-05-08T15:22:10.659315Z"
    },
    "papermill": {
     "duration": 4.361244,
     "end_time": "2023-05-08T15:22:10.663090",
     "exception": false,
     "start_time": "2023-05-08T15:22:06.301846",
     "status": "completed"
    },
    "tags": []
   },
   "outputs": [
    {
     "name": "stdout",
     "output_type": "stream",
     "text": [
      "Setup complete.\n"
     ]
    }
   ],
   "source": [
    "import pandas as pd\n",
    "\n",
    "reviews = pd.read_csv(\"../input/wine-reviews/winemag-data-130k-v2.csv\", index_col=0)\n",
    "\n",
    "from learntools.core import binder; binder.bind(globals())\n",
    "from learntools.pandas.renaming_and_combining import *\n",
    "print(\"Setup complete.\")"
   ]
  },
  {
   "cell_type": "markdown",
   "id": "beb6b026",
   "metadata": {
    "papermill": {
     "duration": 0.004949,
     "end_time": "2023-05-08T15:22:10.673334",
     "exception": false,
     "start_time": "2023-05-08T15:22:10.668385",
     "status": "completed"
    },
    "tags": []
   },
   "source": [
    "# Exercises\n",
    "\n",
    "View the first several lines of your data by running the cell below:"
   ]
  },
  {
   "cell_type": "code",
   "execution_count": 2,
   "id": "4097812f",
   "metadata": {
    "execution": {
     "iopub.execute_input": "2023-05-08T15:22:10.685273Z",
     "iopub.status.busy": "2023-05-08T15:22:10.684830Z",
     "iopub.status.idle": "2023-05-08T15:22:10.718433Z",
     "shell.execute_reply": "2023-05-08T15:22:10.717241Z"
    },
    "papermill": {
     "duration": 0.04271,
     "end_time": "2023-05-08T15:22:10.721112",
     "exception": false,
     "start_time": "2023-05-08T15:22:10.678402",
     "status": "completed"
    },
    "tags": []
   },
   "outputs": [
    {
     "data": {
      "text/html": [
       "<div>\n",
       "<style scoped>\n",
       "    .dataframe tbody tr th:only-of-type {\n",
       "        vertical-align: middle;\n",
       "    }\n",
       "\n",
       "    .dataframe tbody tr th {\n",
       "        vertical-align: top;\n",
       "    }\n",
       "\n",
       "    .dataframe thead th {\n",
       "        text-align: right;\n",
       "    }\n",
       "</style>\n",
       "<table border=\"1\" class=\"dataframe\">\n",
       "  <thead>\n",
       "    <tr style=\"text-align: right;\">\n",
       "      <th></th>\n",
       "      <th>country</th>\n",
       "      <th>description</th>\n",
       "      <th>designation</th>\n",
       "      <th>points</th>\n",
       "      <th>price</th>\n",
       "      <th>province</th>\n",
       "      <th>region_1</th>\n",
       "      <th>region_2</th>\n",
       "      <th>taster_name</th>\n",
       "      <th>taster_twitter_handle</th>\n",
       "      <th>title</th>\n",
       "      <th>variety</th>\n",
       "      <th>winery</th>\n",
       "    </tr>\n",
       "  </thead>\n",
       "  <tbody>\n",
       "    <tr>\n",
       "      <th>0</th>\n",
       "      <td>Italy</td>\n",
       "      <td>Aromas include tropical fruit, broom, brimston...</td>\n",
       "      <td>Vulkà Bianco</td>\n",
       "      <td>87</td>\n",
       "      <td>NaN</td>\n",
       "      <td>Sicily &amp; Sardinia</td>\n",
       "      <td>Etna</td>\n",
       "      <td>NaN</td>\n",
       "      <td>Kerin O’Keefe</td>\n",
       "      <td>@kerinokeefe</td>\n",
       "      <td>Nicosia 2013 Vulkà Bianco  (Etna)</td>\n",
       "      <td>White Blend</td>\n",
       "      <td>Nicosia</td>\n",
       "    </tr>\n",
       "    <tr>\n",
       "      <th>1</th>\n",
       "      <td>Portugal</td>\n",
       "      <td>This is ripe and fruity, a wine that is smooth...</td>\n",
       "      <td>Avidagos</td>\n",
       "      <td>87</td>\n",
       "      <td>15.0</td>\n",
       "      <td>Douro</td>\n",
       "      <td>NaN</td>\n",
       "      <td>NaN</td>\n",
       "      <td>Roger Voss</td>\n",
       "      <td>@vossroger</td>\n",
       "      <td>Quinta dos Avidagos 2011 Avidagos Red (Douro)</td>\n",
       "      <td>Portuguese Red</td>\n",
       "      <td>Quinta dos Avidagos</td>\n",
       "    </tr>\n",
       "    <tr>\n",
       "      <th>2</th>\n",
       "      <td>US</td>\n",
       "      <td>Tart and snappy, the flavors of lime flesh and...</td>\n",
       "      <td>NaN</td>\n",
       "      <td>87</td>\n",
       "      <td>14.0</td>\n",
       "      <td>Oregon</td>\n",
       "      <td>Willamette Valley</td>\n",
       "      <td>Willamette Valley</td>\n",
       "      <td>Paul Gregutt</td>\n",
       "      <td>@paulgwine</td>\n",
       "      <td>Rainstorm 2013 Pinot Gris (Willamette Valley)</td>\n",
       "      <td>Pinot Gris</td>\n",
       "      <td>Rainstorm</td>\n",
       "    </tr>\n",
       "    <tr>\n",
       "      <th>3</th>\n",
       "      <td>US</td>\n",
       "      <td>Pineapple rind, lemon pith and orange blossom ...</td>\n",
       "      <td>Reserve Late Harvest</td>\n",
       "      <td>87</td>\n",
       "      <td>13.0</td>\n",
       "      <td>Michigan</td>\n",
       "      <td>Lake Michigan Shore</td>\n",
       "      <td>NaN</td>\n",
       "      <td>Alexander Peartree</td>\n",
       "      <td>NaN</td>\n",
       "      <td>St. Julian 2013 Reserve Late Harvest Riesling ...</td>\n",
       "      <td>Riesling</td>\n",
       "      <td>St. Julian</td>\n",
       "    </tr>\n",
       "    <tr>\n",
       "      <th>4</th>\n",
       "      <td>US</td>\n",
       "      <td>Much like the regular bottling from 2012, this...</td>\n",
       "      <td>Vintner's Reserve Wild Child Block</td>\n",
       "      <td>87</td>\n",
       "      <td>65.0</td>\n",
       "      <td>Oregon</td>\n",
       "      <td>Willamette Valley</td>\n",
       "      <td>Willamette Valley</td>\n",
       "      <td>Paul Gregutt</td>\n",
       "      <td>@paulgwine</td>\n",
       "      <td>Sweet Cheeks 2012 Vintner's Reserve Wild Child...</td>\n",
       "      <td>Pinot Noir</td>\n",
       "      <td>Sweet Cheeks</td>\n",
       "    </tr>\n",
       "  </tbody>\n",
       "</table>\n",
       "</div>"
      ],
      "text/plain": [
       "    country                                        description  \\\n",
       "0     Italy  Aromas include tropical fruit, broom, brimston...   \n",
       "1  Portugal  This is ripe and fruity, a wine that is smooth...   \n",
       "2        US  Tart and snappy, the flavors of lime flesh and...   \n",
       "3        US  Pineapple rind, lemon pith and orange blossom ...   \n",
       "4        US  Much like the regular bottling from 2012, this...   \n",
       "\n",
       "                          designation  points  price           province  \\\n",
       "0                        Vulkà Bianco      87    NaN  Sicily & Sardinia   \n",
       "1                            Avidagos      87   15.0              Douro   \n",
       "2                                 NaN      87   14.0             Oregon   \n",
       "3                Reserve Late Harvest      87   13.0           Michigan   \n",
       "4  Vintner's Reserve Wild Child Block      87   65.0             Oregon   \n",
       "\n",
       "              region_1           region_2         taster_name  \\\n",
       "0                 Etna                NaN       Kerin O’Keefe   \n",
       "1                  NaN                NaN          Roger Voss   \n",
       "2    Willamette Valley  Willamette Valley        Paul Gregutt   \n",
       "3  Lake Michigan Shore                NaN  Alexander Peartree   \n",
       "4    Willamette Valley  Willamette Valley        Paul Gregutt   \n",
       "\n",
       "  taster_twitter_handle                                              title  \\\n",
       "0          @kerinokeefe                  Nicosia 2013 Vulkà Bianco  (Etna)   \n",
       "1            @vossroger      Quinta dos Avidagos 2011 Avidagos Red (Douro)   \n",
       "2           @paulgwine       Rainstorm 2013 Pinot Gris (Willamette Valley)   \n",
       "3                   NaN  St. Julian 2013 Reserve Late Harvest Riesling ...   \n",
       "4           @paulgwine   Sweet Cheeks 2012 Vintner's Reserve Wild Child...   \n",
       "\n",
       "          variety               winery  \n",
       "0     White Blend              Nicosia  \n",
       "1  Portuguese Red  Quinta dos Avidagos  \n",
       "2      Pinot Gris            Rainstorm  \n",
       "3        Riesling           St. Julian  \n",
       "4      Pinot Noir         Sweet Cheeks  "
      ]
     },
     "execution_count": 2,
     "metadata": {},
     "output_type": "execute_result"
    }
   ],
   "source": [
    "reviews.head()"
   ]
  },
  {
   "cell_type": "markdown",
   "id": "c1dc5002",
   "metadata": {
    "papermill": {
     "duration": 0.005477,
     "end_time": "2023-05-08T15:22:10.732422",
     "exception": false,
     "start_time": "2023-05-08T15:22:10.726945",
     "status": "completed"
    },
    "tags": []
   },
   "source": [
    "## 1.\n",
    "`region_1` and `region_2` are pretty uninformative names for locale columns in the dataset. Create a copy of `reviews` with these columns renamed to `region` and `locale`, respectively."
   ]
  },
  {
   "cell_type": "code",
   "execution_count": 3,
   "id": "0c6c97fd",
   "metadata": {
    "execution": {
     "iopub.execute_input": "2023-05-08T15:22:10.745581Z",
     "iopub.status.busy": "2023-05-08T15:22:10.745171Z",
     "iopub.status.idle": "2023-05-08T15:22:10.770509Z",
     "shell.execute_reply": "2023-05-08T15:22:10.769493Z"
    },
    "papermill": {
     "duration": 0.034943,
     "end_time": "2023-05-08T15:22:10.772968",
     "exception": false,
     "start_time": "2023-05-08T15:22:10.738025",
     "status": "completed"
    },
    "tags": []
   },
   "outputs": [
    {
     "data": {
      "application/javascript": [
       "parent.postMessage({\"jupyterEvent\": \"custom.exercise_interaction\", \"data\": {\"outcomeType\": 1, \"valueTowardsCompletion\": 0.25, \"interactionType\": 1, \"questionType\": 1, \"questionId\": \"1_RenameCols\", \"learnToolsVersion\": \"0.3.4\", \"failureMessage\": \"\", \"exceptionClass\": \"\", \"trace\": \"\"}}, \"*\")"
      ],
      "text/plain": [
       "<IPython.core.display.Javascript object>"
      ]
     },
     "metadata": {},
     "output_type": "display_data"
    },
    {
     "data": {
      "text/markdown": [
       "<span style=\"color:#33cc33\">Correct</span>"
      ],
      "text/plain": [
       "Correct"
      ]
     },
     "metadata": {},
     "output_type": "display_data"
    }
   ],
   "source": [
    "# Your code here\n",
    "renamed = reviews.rename(columns={\"region_1\":'region',\"region_2\":'locale'})\n",
    "\n",
    "# Check your answer\n",
    "q1.check()"
   ]
  },
  {
   "cell_type": "code",
   "execution_count": 4,
   "id": "7b7802f4",
   "metadata": {
    "execution": {
     "iopub.execute_input": "2023-05-08T15:22:10.786750Z",
     "iopub.status.busy": "2023-05-08T15:22:10.786369Z",
     "iopub.status.idle": "2023-05-08T15:22:10.795455Z",
     "shell.execute_reply": "2023-05-08T15:22:10.794353Z"
    },
    "papermill": {
     "duration": 0.018963,
     "end_time": "2023-05-08T15:22:10.797947",
     "exception": false,
     "start_time": "2023-05-08T15:22:10.778984",
     "status": "completed"
    },
    "tags": []
   },
   "outputs": [
    {
     "data": {
      "application/javascript": [
       "parent.postMessage({\"jupyterEvent\": \"custom.exercise_interaction\", \"data\": {\"interactionType\": 3, \"questionType\": 1, \"questionId\": \"1_RenameCols\", \"learnToolsVersion\": \"0.3.4\", \"valueTowardsCompletion\": 0.0, \"failureMessage\": \"\", \"exceptionClass\": \"\", \"trace\": \"\", \"outcomeType\": 4}}, \"*\")"
      ],
      "text/plain": [
       "<IPython.core.display.Javascript object>"
      ]
     },
     "metadata": {},
     "output_type": "display_data"
    },
    {
     "data": {
      "text/markdown": [
       "<span style=\"color:#33cc99\">Solution:</span> \n",
       "```python\n",
       "renamed = reviews.rename(columns=dict(region_1='region', region_2='locale'))\n",
       "```"
      ],
      "text/plain": [
       "Solution: \n",
       "```python\n",
       "renamed = reviews.rename(columns=dict(region_1='region', region_2='locale'))\n",
       "```"
      ]
     },
     "metadata": {},
     "output_type": "display_data"
    }
   ],
   "source": [
    "#q1.hint()\n",
    "q1.solution()"
   ]
  },
  {
   "cell_type": "markdown",
   "id": "ffa374e7",
   "metadata": {
    "papermill": {
     "duration": 0.006203,
     "end_time": "2023-05-08T15:22:10.810503",
     "exception": false,
     "start_time": "2023-05-08T15:22:10.804300",
     "status": "completed"
    },
    "tags": []
   },
   "source": [
    "## 2.\n",
    "Set the index name in the dataset to `wines`."
   ]
  },
  {
   "cell_type": "code",
   "execution_count": 5,
   "id": "ad4dcd02",
   "metadata": {
    "execution": {
     "iopub.execute_input": "2023-05-08T15:22:10.824465Z",
     "iopub.status.busy": "2023-05-08T15:22:10.823952Z",
     "iopub.status.idle": "2023-05-08T15:22:10.844914Z",
     "shell.execute_reply": "2023-05-08T15:22:10.843489Z"
    },
    "papermill": {
     "duration": 0.030941,
     "end_time": "2023-05-08T15:22:10.847444",
     "exception": false,
     "start_time": "2023-05-08T15:22:10.816503",
     "status": "completed"
    },
    "tags": []
   },
   "outputs": [
    {
     "data": {
      "application/javascript": [
       "parent.postMessage({\"jupyterEvent\": \"custom.exercise_interaction\", \"data\": {\"outcomeType\": 1, \"valueTowardsCompletion\": 0.25, \"interactionType\": 1, \"questionType\": 1, \"questionId\": \"2_RenameIndex\", \"learnToolsVersion\": \"0.3.4\", \"failureMessage\": \"\", \"exceptionClass\": \"\", \"trace\": \"\"}}, \"*\")"
      ],
      "text/plain": [
       "<IPython.core.display.Javascript object>"
      ]
     },
     "metadata": {},
     "output_type": "display_data"
    },
    {
     "data": {
      "text/markdown": [
       "<span style=\"color:#33cc33\">Correct</span>"
      ],
      "text/plain": [
       "Correct"
      ]
     },
     "metadata": {},
     "output_type": "display_data"
    }
   ],
   "source": [
    "reindexed = reviews.rename_axis('wines',axis=0)\n",
    "\n",
    "# Check your answer\n",
    "q2.check()"
   ]
  },
  {
   "cell_type": "code",
   "execution_count": 6,
   "id": "20900e8c",
   "metadata": {
    "execution": {
     "iopub.execute_input": "2023-05-08T15:22:10.862603Z",
     "iopub.status.busy": "2023-05-08T15:22:10.862179Z",
     "iopub.status.idle": "2023-05-08T15:22:10.872067Z",
     "shell.execute_reply": "2023-05-08T15:22:10.870812Z"
    },
    "papermill": {
     "duration": 0.020629,
     "end_time": "2023-05-08T15:22:10.874859",
     "exception": false,
     "start_time": "2023-05-08T15:22:10.854230",
     "status": "completed"
    },
    "tags": []
   },
   "outputs": [
    {
     "data": {
      "application/javascript": [
       "parent.postMessage({\"jupyterEvent\": \"custom.exercise_interaction\", \"data\": {\"interactionType\": 3, \"questionType\": 1, \"questionId\": \"2_RenameIndex\", \"learnToolsVersion\": \"0.3.4\", \"valueTowardsCompletion\": 0.0, \"failureMessage\": \"\", \"exceptionClass\": \"\", \"trace\": \"\", \"outcomeType\": 4}}, \"*\")"
      ],
      "text/plain": [
       "<IPython.core.display.Javascript object>"
      ]
     },
     "metadata": {},
     "output_type": "display_data"
    },
    {
     "data": {
      "text/markdown": [
       "<span style=\"color:#33cc99\">Solution:</span> \n",
       "```python\n",
       "reindexed = reviews.rename_axis('wines', axis='rows')\n",
       "```"
      ],
      "text/plain": [
       "Solution: \n",
       "```python\n",
       "reindexed = reviews.rename_axis('wines', axis='rows')\n",
       "```"
      ]
     },
     "metadata": {},
     "output_type": "display_data"
    }
   ],
   "source": [
    "#q2.hint()\n",
    "q2.solution()"
   ]
  },
  {
   "cell_type": "markdown",
   "id": "cca4454d",
   "metadata": {
    "papermill": {
     "duration": 0.006363,
     "end_time": "2023-05-08T15:22:10.888353",
     "exception": false,
     "start_time": "2023-05-08T15:22:10.881990",
     "status": "completed"
    },
    "tags": []
   },
   "source": [
    "## 3.\n",
    "The [Things on Reddit](https://www.kaggle.com/residentmario/things-on-reddit/data) dataset includes product links from a selection of top-ranked forums (\"subreddits\") on reddit.com. Run the cell below to load a dataframe of products mentioned on the */r/gaming* subreddit and another dataframe for products mentioned on the *r//movies* subreddit."
   ]
  },
  {
   "cell_type": "code",
   "execution_count": 7,
   "id": "4f60e57e",
   "metadata": {
    "execution": {
     "iopub.execute_input": "2023-05-08T15:22:10.904208Z",
     "iopub.status.busy": "2023-05-08T15:22:10.903048Z",
     "iopub.status.idle": "2023-05-08T15:22:10.918313Z",
     "shell.execute_reply": "2023-05-08T15:22:10.917209Z"
    },
    "papermill": {
     "duration": 0.026482,
     "end_time": "2023-05-08T15:22:10.921346",
     "exception": false,
     "start_time": "2023-05-08T15:22:10.894864",
     "status": "completed"
    },
    "tags": []
   },
   "outputs": [],
   "source": [
    "gaming_products = pd.read_csv(\"../input/things-on-reddit/top-things/top-things/reddits/g/gaming.csv\")\n",
    "gaming_products['subreddit'] = \"r/gaming\"\n",
    "movie_products = pd.read_csv(\"../input/things-on-reddit/top-things/top-things/reddits/m/movies.csv\")\n",
    "movie_products['subreddit'] = \"r/movies\""
   ]
  },
  {
   "cell_type": "markdown",
   "id": "03ecd41f",
   "metadata": {
    "papermill": {
     "duration": 0.006283,
     "end_time": "2023-05-08T15:22:10.934636",
     "exception": false,
     "start_time": "2023-05-08T15:22:10.928353",
     "status": "completed"
    },
    "tags": []
   },
   "source": [
    "Create a `DataFrame` of products mentioned on *either* subreddit."
   ]
  },
  {
   "cell_type": "code",
   "execution_count": 8,
   "id": "3e403841",
   "metadata": {
    "execution": {
     "iopub.execute_input": "2023-05-08T15:22:10.949891Z",
     "iopub.status.busy": "2023-05-08T15:22:10.949494Z",
     "iopub.status.idle": "2023-05-08T15:22:10.962419Z",
     "shell.execute_reply": "2023-05-08T15:22:10.961329Z"
    },
    "papermill": {
     "duration": 0.023168,
     "end_time": "2023-05-08T15:22:10.964653",
     "exception": false,
     "start_time": "2023-05-08T15:22:10.941485",
     "status": "completed"
    },
    "tags": []
   },
   "outputs": [
    {
     "data": {
      "application/javascript": [
       "parent.postMessage({\"jupyterEvent\": \"custom.exercise_interaction\", \"data\": {\"outcomeType\": 1, \"valueTowardsCompletion\": 0.25, \"interactionType\": 1, \"questionType\": 2, \"questionId\": \"3_ConcatReddit\", \"learnToolsVersion\": \"0.3.4\", \"failureMessage\": \"\", \"exceptionClass\": \"\", \"trace\": \"\"}}, \"*\")"
      ],
      "text/plain": [
       "<IPython.core.display.Javascript object>"
      ]
     },
     "metadata": {},
     "output_type": "display_data"
    },
    {
     "data": {
      "text/markdown": [
       "<span style=\"color:#33cc33\">Correct</span>"
      ],
      "text/plain": [
       "Correct"
      ]
     },
     "metadata": {},
     "output_type": "display_data"
    }
   ],
   "source": [
    "combined_products = pd.concat([gaming_products,movie_products])\n",
    "\n",
    "# Check your answer\n",
    "q3.check()"
   ]
  },
  {
   "cell_type": "code",
   "execution_count": 9,
   "id": "8a5666da",
   "metadata": {
    "execution": {
     "iopub.execute_input": "2023-05-08T15:22:10.979955Z",
     "iopub.status.busy": "2023-05-08T15:22:10.979559Z",
     "iopub.status.idle": "2023-05-08T15:22:10.984084Z",
     "shell.execute_reply": "2023-05-08T15:22:10.982954Z"
    },
    "papermill": {
     "duration": 0.014843,
     "end_time": "2023-05-08T15:22:10.986329",
     "exception": false,
     "start_time": "2023-05-08T15:22:10.971486",
     "status": "completed"
    },
    "tags": []
   },
   "outputs": [],
   "source": [
    "#q3.hint()\n",
    "#q3.solution()"
   ]
  },
  {
   "cell_type": "markdown",
   "id": "5e6b15d4",
   "metadata": {
    "papermill": {
     "duration": 0.00657,
     "end_time": "2023-05-08T15:22:10.999810",
     "exception": false,
     "start_time": "2023-05-08T15:22:10.993240",
     "status": "completed"
    },
    "tags": []
   },
   "source": [
    "## 4.\n",
    "The [Powerlifting Database](https://www.kaggle.com/open-powerlifting/powerlifting-database) dataset on Kaggle includes one CSV table for powerlifting meets and a separate one for powerlifting competitors. Run the cell below to load these datasets into dataframes:"
   ]
  },
  {
   "cell_type": "code",
   "execution_count": 10,
   "id": "31207f2f",
   "metadata": {
    "execution": {
     "iopub.execute_input": "2023-05-08T15:22:11.016021Z",
     "iopub.status.busy": "2023-05-08T15:22:11.015568Z",
     "iopub.status.idle": "2023-05-08T15:22:11.799099Z",
     "shell.execute_reply": "2023-05-08T15:22:11.797990Z"
    },
    "papermill": {
     "duration": 0.794836,
     "end_time": "2023-05-08T15:22:11.801658",
     "exception": false,
     "start_time": "2023-05-08T15:22:11.006822",
     "status": "completed"
    },
    "tags": []
   },
   "outputs": [],
   "source": [
    "powerlifting_meets = pd.read_csv(\"../input/powerlifting-database/meets.csv\")\n",
    "powerlifting_competitors = pd.read_csv(\"../input/powerlifting-database/openpowerlifting.csv\")"
   ]
  },
  {
   "cell_type": "markdown",
   "id": "cff473ce",
   "metadata": {
    "papermill": {
     "duration": 0.006937,
     "end_time": "2023-05-08T15:22:11.815585",
     "exception": false,
     "start_time": "2023-05-08T15:22:11.808648",
     "status": "completed"
    },
    "tags": []
   },
   "source": [
    "Both tables include references to a `MeetID`, a unique key for each meet (competition) included in the database. Using this, generate a dataset combining the two tables into one."
   ]
  },
  {
   "cell_type": "code",
   "execution_count": 11,
   "id": "16a3f4c8",
   "metadata": {
    "execution": {
     "iopub.execute_input": "2023-05-08T15:22:11.831162Z",
     "iopub.status.busy": "2023-05-08T15:22:11.830730Z",
     "iopub.status.idle": "2023-05-08T15:22:11.848862Z",
     "shell.execute_reply": "2023-05-08T15:22:11.847685Z"
    },
    "papermill": {
     "duration": 0.028617,
     "end_time": "2023-05-08T15:22:11.851207",
     "exception": false,
     "start_time": "2023-05-08T15:22:11.822590",
     "status": "completed"
    },
    "tags": []
   },
   "outputs": [
    {
     "name": "stdout",
     "output_type": "stream",
     "text": [
      "        MeetID              Name Sex   Equipment   Age     Division  \\\n",
      "0            0  Angie Belk Terry   F       Wraps  47.0    Mst 45-49   \n",
      "1            0       Dawn Bogart   F  Single-ply  42.0    Mst 40-44   \n",
      "2            0       Dawn Bogart   F  Single-ply  42.0  Open Senior   \n",
      "3            0       Dawn Bogart   F         Raw  42.0  Open Senior   \n",
      "4            0      Destiny Dula   F         Raw  18.0   Teen 18-19   \n",
      "...        ...               ...  ..         ...   ...          ...   \n",
      "386409    8481   William Barabas   M   Multi-ply   NaN        Elite   \n",
      "386410    8481      Justin Zottl   M   Multi-ply   NaN        Elite   \n",
      "386411    8481     Jake Anderson   M   Multi-ply   NaN        Elite   \n",
      "386412    8481    Jeff Bumanglag   M   Multi-ply   NaN        Elite   \n",
      "386413    8481     Shane Hammock   M   Multi-ply   NaN        Elite   \n",
      "\n",
      "        BodyweightKg WeightClassKg  Squat4Kg  BestSquatKg  Bench4Kg  \\\n",
      "0              59.60            60       NaN        47.63       NaN   \n",
      "1              58.51            60       NaN       142.88       NaN   \n",
      "2              58.51            60       NaN       142.88       NaN   \n",
      "3              58.51            60       NaN          NaN       NaN   \n",
      "4              63.68          67.5       NaN          NaN       NaN   \n",
      "...              ...           ...       ...          ...       ...   \n",
      "386409        113.58           125       NaN          NaN       NaN   \n",
      "386410        119.02           125       NaN          NaN       NaN   \n",
      "386411        120.29           125       NaN          NaN       NaN   \n",
      "386412        126.73           140       NaN          NaN       NaN   \n",
      "386413        129.46           140       NaN          NaN       NaN   \n",
      "\n",
      "        BestBenchKg  Deadlift4Kg  BestDeadliftKg  TotalKg Place   Wilks  \n",
      "0             20.41          NaN           70.31   138.35     1  155.05  \n",
      "1             95.25          NaN          163.29   401.42     1  456.38  \n",
      "2             95.25          NaN          163.29   401.42     1  456.38  \n",
      "3             95.25          NaN             NaN    95.25     1  108.29  \n",
      "4             31.75          NaN           90.72   122.47     1  130.47  \n",
      "...             ...          ...             ...      ...   ...     ...  \n",
      "386409          NaN          NaN          347.50   347.50     2  202.60  \n",
      "386410          NaN          NaN          322.50   322.50     3  185.77  \n",
      "386411          NaN          NaN          367.50   367.50     1  211.17  \n",
      "386412          NaN          NaN          320.00   320.00     3  181.85  \n",
      "386413          NaN          NaN          362.50   362.50     2  205.18  \n",
      "\n",
      "[386414 rows x 17 columns]\n"
     ]
    }
   ],
   "source": [
    "print(powerlifting_competitors)"
   ]
  },
  {
   "cell_type": "code",
   "execution_count": 12,
   "id": "feac721f",
   "metadata": {
    "execution": {
     "iopub.execute_input": "2023-05-08T15:22:11.867399Z",
     "iopub.status.busy": "2023-05-08T15:22:11.866356Z",
     "iopub.status.idle": "2023-05-08T15:22:13.261661Z",
     "shell.execute_reply": "2023-05-08T15:22:13.260472Z"
    },
    "papermill": {
     "duration": 1.40586,
     "end_time": "2023-05-08T15:22:13.264023",
     "exception": false,
     "start_time": "2023-05-08T15:22:11.858163",
     "status": "completed"
    },
    "tags": []
   },
   "outputs": [
    {
     "name": "stdout",
     "output_type": "stream",
     "text": [
      "               MeetPath Federation        Date MeetCountry MeetState  \\\n",
      "MeetID                                                                 \n",
      "0        365strong/1601  365Strong  2016-10-29         USA        NC   \n",
      "0        365strong/1601  365Strong  2016-10-29         USA        NC   \n",
      "0        365strong/1601  365Strong  2016-10-29         USA        NC   \n",
      "0        365strong/1601  365Strong  2016-10-29         USA        NC   \n",
      "0        365strong/1601  365Strong  2016-10-29         USA        NC   \n",
      "...                 ...        ...         ...         ...       ...   \n",
      "8481    xpc/2017-finals        XPC  2017-03-03         USA        OH   \n",
      "8481    xpc/2017-finals        XPC  2017-03-03         USA        OH   \n",
      "8481    xpc/2017-finals        XPC  2017-03-03         USA        OH   \n",
      "8481    xpc/2017-finals        XPC  2017-03-03         USA        OH   \n",
      "8481    xpc/2017-finals        XPC  2017-03-03         USA        OH   \n",
      "\n",
      "         MeetTown                                           MeetName  \\\n",
      "MeetID                                                                 \n",
      "0       Charlotte  2016 Junior & Senior National Powerlifting Cha...   \n",
      "0       Charlotte  2016 Junior & Senior National Powerlifting Cha...   \n",
      "0       Charlotte  2016 Junior & Senior National Powerlifting Cha...   \n",
      "0       Charlotte  2016 Junior & Senior National Powerlifting Cha...   \n",
      "0       Charlotte  2016 Junior & Senior National Powerlifting Cha...   \n",
      "...           ...                                                ...   \n",
      "8481     Columbus                                    2017 XPC Finals   \n",
      "8481     Columbus                                    2017 XPC Finals   \n",
      "8481     Columbus                                    2017 XPC Finals   \n",
      "8481     Columbus                                    2017 XPC Finals   \n",
      "8481     Columbus                                    2017 XPC Finals   \n",
      "\n",
      "                    Name Sex   Equipment  ...  WeightClassKg Squat4Kg  \\\n",
      "MeetID                                    ...                           \n",
      "0       Angie Belk Terry   F       Wraps  ...             60      NaN   \n",
      "0            Dawn Bogart   F  Single-ply  ...             60      NaN   \n",
      "0            Dawn Bogart   F  Single-ply  ...             60      NaN   \n",
      "0            Dawn Bogart   F         Raw  ...             60      NaN   \n",
      "0           Destiny Dula   F         Raw  ...           67.5      NaN   \n",
      "...                  ...  ..         ...  ...            ...      ...   \n",
      "8481     William Barabas   M   Multi-ply  ...            125      NaN   \n",
      "8481        Justin Zottl   M   Multi-ply  ...            125      NaN   \n",
      "8481       Jake Anderson   M   Multi-ply  ...            125      NaN   \n",
      "8481      Jeff Bumanglag   M   Multi-ply  ...            140      NaN   \n",
      "8481       Shane Hammock   M   Multi-ply  ...            140      NaN   \n",
      "\n",
      "        BestSquatKg Bench4Kg  BestBenchKg  Deadlift4Kg  BestDeadliftKg  \\\n",
      "MeetID                                                                   \n",
      "0             47.63      NaN        20.41          NaN           70.31   \n",
      "0            142.88      NaN        95.25          NaN          163.29   \n",
      "0            142.88      NaN        95.25          NaN          163.29   \n",
      "0               NaN      NaN        95.25          NaN             NaN   \n",
      "0               NaN      NaN        31.75          NaN           90.72   \n",
      "...             ...      ...          ...          ...             ...   \n",
      "8481            NaN      NaN          NaN          NaN          347.50   \n",
      "8481            NaN      NaN          NaN          NaN          322.50   \n",
      "8481            NaN      NaN          NaN          NaN          367.50   \n",
      "8481            NaN      NaN          NaN          NaN          320.00   \n",
      "8481            NaN      NaN          NaN          NaN          362.50   \n",
      "\n",
      "        TotalKg  Place   Wilks  \n",
      "MeetID                          \n",
      "0        138.35      1  155.05  \n",
      "0        401.42      1  456.38  \n",
      "0        401.42      1  456.38  \n",
      "0         95.25      1  108.29  \n",
      "0        122.47      1  130.47  \n",
      "...         ...    ...     ...  \n",
      "8481     347.50      2  202.60  \n",
      "8481     322.50      3  185.77  \n",
      "8481     367.50      1  211.17  \n",
      "8481     320.00      3  181.85  \n",
      "8481     362.50      2  205.18  \n",
      "\n",
      "[386414 rows x 23 columns]\n"
     ]
    },
    {
     "data": {
      "application/javascript": [
       "parent.postMessage({\"jupyterEvent\": \"custom.exercise_interaction\", \"data\": {\"outcomeType\": 1, \"valueTowardsCompletion\": 0.25, \"interactionType\": 1, \"questionType\": 2, \"questionId\": \"4_JoinLifting\", \"learnToolsVersion\": \"0.3.4\", \"failureMessage\": \"\", \"exceptionClass\": \"\", \"trace\": \"\"}}, \"*\")"
      ],
      "text/plain": [
       "<IPython.core.display.Javascript object>"
      ]
     },
     "metadata": {},
     "output_type": "display_data"
    },
    {
     "data": {
      "text/markdown": [
       "<span style=\"color:#33cc33\">Correct</span>"
      ],
      "text/plain": [
       "Correct"
      ]
     },
     "metadata": {},
     "output_type": "display_data"
    }
   ],
   "source": [
    "powerlifting_combined = pd.merge(powerlifting_meets , powerlifting_competitors , on='MeetID' , how='left').set_index('MeetID')\n",
    "print(powerlifting_combined)\n",
    "# Check your answer\n",
    "q4.check()"
   ]
  },
  {
   "cell_type": "code",
   "execution_count": 13,
   "id": "2b3dc84b",
   "metadata": {
    "execution": {
     "iopub.execute_input": "2023-05-08T15:22:13.280427Z",
     "iopub.status.busy": "2023-05-08T15:22:13.280019Z",
     "iopub.status.idle": "2023-05-08T15:22:13.288885Z",
     "shell.execute_reply": "2023-05-08T15:22:13.287869Z"
    },
    "papermill": {
     "duration": 0.019726,
     "end_time": "2023-05-08T15:22:13.291196",
     "exception": false,
     "start_time": "2023-05-08T15:22:13.271470",
     "status": "completed"
    },
    "tags": []
   },
   "outputs": [
    {
     "data": {
      "application/javascript": [
       "parent.postMessage({\"jupyterEvent\": \"custom.exercise_interaction\", \"data\": {\"interactionType\": 3, \"questionType\": 2, \"questionId\": \"4_JoinLifting\", \"learnToolsVersion\": \"0.3.4\", \"valueTowardsCompletion\": 0.0, \"failureMessage\": \"\", \"exceptionClass\": \"\", \"trace\": \"\", \"outcomeType\": 4}}, \"*\")"
      ],
      "text/plain": [
       "<IPython.core.display.Javascript object>"
      ]
     },
     "metadata": {},
     "output_type": "display_data"
    },
    {
     "data": {
      "text/markdown": [
       "<span style=\"color:#33cc99\">Solution:</span> \n",
       "```python\n",
       "powerlifting_combined = powerlifting_meets.set_index(\"MeetID\").join(powerlifting_competitors.set_index(\"MeetID\"))\n",
       "```"
      ],
      "text/plain": [
       "Solution: \n",
       "```python\n",
       "powerlifting_combined = powerlifting_meets.set_index(\"MeetID\").join(powerlifting_competitors.set_index(\"MeetID\"))\n",
       "```"
      ]
     },
     "metadata": {},
     "output_type": "display_data"
    }
   ],
   "source": [
    "#q4.hint()\n",
    "q4.solution()"
   ]
  },
  {
   "cell_type": "markdown",
   "id": "c315526f",
   "metadata": {
    "papermill": {
     "duration": 0.007103,
     "end_time": "2023-05-08T15:22:13.305846",
     "exception": false,
     "start_time": "2023-05-08T15:22:13.298743",
     "status": "completed"
    },
    "tags": []
   },
   "source": [
    "# Congratulations!\n",
    "\n",
    "You've finished the Pandas micro-course.  Many data scientists feel efficiency with Pandas is the most useful and practical skill they have, because it allows you to progress quickly in any project you have.\n",
    "\n",
    "If you'd like to apply your new skills to examining geospatial data, you're encouraged to check out our **[Geospatial Analysis](https://www.kaggle.com/learn/geospatial-analysis)** micro-course.\n",
    "\n",
    "You can also take advantage of your Pandas skills by entering a **[Kaggle Competition](https://www.kaggle.com/competitions)** or by answering a question you find interesting using **[Kaggle Datasets](https://www.kaggle.com/datasets)**."
   ]
  },
  {
   "cell_type": "markdown",
   "id": "f71d98ee",
   "metadata": {
    "papermill": {
     "duration": 0.007155,
     "end_time": "2023-05-08T15:22:13.320477",
     "exception": false,
     "start_time": "2023-05-08T15:22:13.313322",
     "status": "completed"
    },
    "tags": []
   },
   "source": [
    "---\n",
    "\n",
    "\n",
    "\n",
    "\n",
    "*Have questions or comments? Visit the [course discussion forum](https://www.kaggle.com/learn/pandas/discussion) to chat with other learners.*"
   ]
  }
 ],
 "metadata": {
  "kernelspec": {
   "display_name": "Python 3",
   "language": "python",
   "name": "python3"
  },
  "language_info": {
   "codemirror_mode": {
    "name": "ipython",
    "version": 3
   },
   "file_extension": ".py",
   "mimetype": "text/x-python",
   "name": "python",
   "nbconvert_exporter": "python",
   "pygments_lexer": "ipython3",
   "version": "3.10.10"
  },
  "papermill": {
   "default_parameters": {},
   "duration": 19.963056,
   "end_time": "2023-05-08T15:22:14.351384",
   "environment_variables": {},
   "exception": null,
   "input_path": "__notebook__.ipynb",
   "output_path": "__notebook__.ipynb",
   "parameters": {},
   "start_time": "2023-05-08T15:21:54.388328",
   "version": "2.4.0"
  }
 },
 "nbformat": 4,
 "nbformat_minor": 5
}
