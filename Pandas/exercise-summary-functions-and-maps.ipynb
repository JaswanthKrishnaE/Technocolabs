{
 "cells": [
  {
   "cell_type": "markdown",
   "id": "ab63b4c8",
   "metadata": {
    "papermill": {
     "duration": 0.006222,
     "end_time": "2023-05-08T13:32:50.885336",
     "exception": false,
     "start_time": "2023-05-08T13:32:50.879114",
     "status": "completed"
    },
    "tags": []
   },
   "source": [
    "**This notebook is an exercise in the [Pandas](https://www.kaggle.com/learn/pandas) course.  You can reference the tutorial at [this link](https://www.kaggle.com/residentmario/summary-functions-and-maps).**\n",
    "\n",
    "---\n"
   ]
  },
  {
   "cell_type": "markdown",
   "id": "86dce309",
   "metadata": {
    "papermill": {
     "duration": 0.005426,
     "end_time": "2023-05-08T13:32:50.896666",
     "exception": false,
     "start_time": "2023-05-08T13:32:50.891240",
     "status": "completed"
    },
    "tags": []
   },
   "source": [
    "# Introduction\n",
    "\n",
    "Now you are ready to get a deeper understanding of your data.\n",
    "\n",
    "Run the following cell to load your data and some utility functions (including code to check your answers)."
   ]
  },
  {
   "cell_type": "code",
   "execution_count": 1,
   "id": "5077b126",
   "metadata": {
    "execution": {
     "iopub.execute_input": "2023-05-08T13:32:50.910399Z",
     "iopub.status.busy": "2023-05-08T13:32:50.909752Z",
     "iopub.status.idle": "2023-05-08T13:32:57.751609Z",
     "shell.execute_reply": "2023-05-08T13:32:57.750827Z"
    },
    "papermill": {
     "duration": 6.851196,
     "end_time": "2023-05-08T13:32:57.753990",
     "exception": false,
     "start_time": "2023-05-08T13:32:50.902794",
     "status": "completed"
    },
    "tags": []
   },
   "outputs": [
    {
     "name": "stdout",
     "output_type": "stream",
     "text": [
      "Setup complete.\n"
     ]
    },
    {
     "data": {
      "text/html": [
       "<div>\n",
       "<style scoped>\n",
       "    .dataframe tbody tr th:only-of-type {\n",
       "        vertical-align: middle;\n",
       "    }\n",
       "\n",
       "    .dataframe tbody tr th {\n",
       "        vertical-align: top;\n",
       "    }\n",
       "\n",
       "    .dataframe thead th {\n",
       "        text-align: right;\n",
       "    }\n",
       "</style>\n",
       "<table border=\"1\" class=\"dataframe\">\n",
       "  <thead>\n",
       "    <tr style=\"text-align: right;\">\n",
       "      <th></th>\n",
       "      <th>country</th>\n",
       "      <th>description</th>\n",
       "      <th>designation</th>\n",
       "      <th>points</th>\n",
       "      <th>price</th>\n",
       "      <th>province</th>\n",
       "      <th>region_1</th>\n",
       "      <th>region_2</th>\n",
       "      <th>taster_name</th>\n",
       "      <th>taster_twitter_handle</th>\n",
       "      <th>title</th>\n",
       "      <th>variety</th>\n",
       "      <th>winery</th>\n",
       "    </tr>\n",
       "  </thead>\n",
       "  <tbody>\n",
       "    <tr>\n",
       "      <th>0</th>\n",
       "      <td>Italy</td>\n",
       "      <td>Aromas include tropical fruit, broom, brimston...</td>\n",
       "      <td>Vulkà Bianco</td>\n",
       "      <td>87</td>\n",
       "      <td>NaN</td>\n",
       "      <td>Sicily &amp; Sardinia</td>\n",
       "      <td>Etna</td>\n",
       "      <td>NaN</td>\n",
       "      <td>Kerin O’Keefe</td>\n",
       "      <td>@kerinokeefe</td>\n",
       "      <td>Nicosia 2013 Vulkà Bianco  (Etna)</td>\n",
       "      <td>White Blend</td>\n",
       "      <td>Nicosia</td>\n",
       "    </tr>\n",
       "    <tr>\n",
       "      <th>1</th>\n",
       "      <td>Portugal</td>\n",
       "      <td>This is ripe and fruity, a wine that is smooth...</td>\n",
       "      <td>Avidagos</td>\n",
       "      <td>87</td>\n",
       "      <td>15.0</td>\n",
       "      <td>Douro</td>\n",
       "      <td>NaN</td>\n",
       "      <td>NaN</td>\n",
       "      <td>Roger Voss</td>\n",
       "      <td>@vossroger</td>\n",
       "      <td>Quinta dos Avidagos 2011 Avidagos Red (Douro)</td>\n",
       "      <td>Portuguese Red</td>\n",
       "      <td>Quinta dos Avidagos</td>\n",
       "    </tr>\n",
       "    <tr>\n",
       "      <th>2</th>\n",
       "      <td>US</td>\n",
       "      <td>Tart and snappy, the flavors of lime flesh and...</td>\n",
       "      <td>NaN</td>\n",
       "      <td>87</td>\n",
       "      <td>14.0</td>\n",
       "      <td>Oregon</td>\n",
       "      <td>Willamette Valley</td>\n",
       "      <td>Willamette Valley</td>\n",
       "      <td>Paul Gregutt</td>\n",
       "      <td>@paulgwine</td>\n",
       "      <td>Rainstorm 2013 Pinot Gris (Willamette Valley)</td>\n",
       "      <td>Pinot Gris</td>\n",
       "      <td>Rainstorm</td>\n",
       "    </tr>\n",
       "    <tr>\n",
       "      <th>3</th>\n",
       "      <td>US</td>\n",
       "      <td>Pineapple rind, lemon pith and orange blossom ...</td>\n",
       "      <td>Reserve Late Harvest</td>\n",
       "      <td>87</td>\n",
       "      <td>13.0</td>\n",
       "      <td>Michigan</td>\n",
       "      <td>Lake Michigan Shore</td>\n",
       "      <td>NaN</td>\n",
       "      <td>Alexander Peartree</td>\n",
       "      <td>NaN</td>\n",
       "      <td>St. Julian 2013 Reserve Late Harvest Riesling ...</td>\n",
       "      <td>Riesling</td>\n",
       "      <td>St. Julian</td>\n",
       "    </tr>\n",
       "    <tr>\n",
       "      <th>4</th>\n",
       "      <td>US</td>\n",
       "      <td>Much like the regular bottling from 2012, this...</td>\n",
       "      <td>Vintner's Reserve Wild Child Block</td>\n",
       "      <td>87</td>\n",
       "      <td>65.0</td>\n",
       "      <td>Oregon</td>\n",
       "      <td>Willamette Valley</td>\n",
       "      <td>Willamette Valley</td>\n",
       "      <td>Paul Gregutt</td>\n",
       "      <td>@paulgwine</td>\n",
       "      <td>Sweet Cheeks 2012 Vintner's Reserve Wild Child...</td>\n",
       "      <td>Pinot Noir</td>\n",
       "      <td>Sweet Cheeks</td>\n",
       "    </tr>\n",
       "  </tbody>\n",
       "</table>\n",
       "</div>"
      ],
      "text/plain": [
       "    country                                        description  \\\n",
       "0     Italy  Aromas include tropical fruit, broom, brimston...   \n",
       "1  Portugal  This is ripe and fruity, a wine that is smooth...   \n",
       "2        US  Tart and snappy, the flavors of lime flesh and...   \n",
       "3        US  Pineapple rind, lemon pith and orange blossom ...   \n",
       "4        US  Much like the regular bottling from 2012, this...   \n",
       "\n",
       "                          designation  points  price           province  \\\n",
       "0                        Vulkà Bianco      87    NaN  Sicily & Sardinia   \n",
       "1                            Avidagos      87   15.0              Douro   \n",
       "2                                 NaN      87   14.0             Oregon   \n",
       "3                Reserve Late Harvest      87   13.0           Michigan   \n",
       "4  Vintner's Reserve Wild Child Block      87   65.0             Oregon   \n",
       "\n",
       "              region_1           region_2         taster_name  \\\n",
       "0                 Etna                NaN       Kerin O’Keefe   \n",
       "1                  NaN                NaN          Roger Voss   \n",
       "2    Willamette Valley  Willamette Valley        Paul Gregutt   \n",
       "3  Lake Michigan Shore                NaN  Alexander Peartree   \n",
       "4    Willamette Valley  Willamette Valley        Paul Gregutt   \n",
       "\n",
       "  taster_twitter_handle                                              title  \\\n",
       "0          @kerinokeefe                  Nicosia 2013 Vulkà Bianco  (Etna)   \n",
       "1            @vossroger      Quinta dos Avidagos 2011 Avidagos Red (Douro)   \n",
       "2           @paulgwine       Rainstorm 2013 Pinot Gris (Willamette Valley)   \n",
       "3                   NaN  St. Julian 2013 Reserve Late Harvest Riesling ...   \n",
       "4           @paulgwine   Sweet Cheeks 2012 Vintner's Reserve Wild Child...   \n",
       "\n",
       "          variety               winery  \n",
       "0     White Blend              Nicosia  \n",
       "1  Portuguese Red  Quinta dos Avidagos  \n",
       "2      Pinot Gris            Rainstorm  \n",
       "3        Riesling           St. Julian  \n",
       "4      Pinot Noir         Sweet Cheeks  "
      ]
     },
     "execution_count": 1,
     "metadata": {},
     "output_type": "execute_result"
    }
   ],
   "source": [
    "import pandas as pd\n",
    "pd.set_option(\"display.max_rows\", 5)\n",
    "reviews = pd.read_csv(\"../input/wine-reviews/winemag-data-130k-v2.csv\", index_col=0)\n",
    "\n",
    "from learntools.core import binder; binder.bind(globals())\n",
    "from learntools.pandas.summary_functions_and_maps import *\n",
    "print(\"Setup complete.\")\n",
    "\n",
    "reviews.head()"
   ]
  },
  {
   "cell_type": "markdown",
   "id": "9e5138c5",
   "metadata": {
    "papermill": {
     "duration": 0.005746,
     "end_time": "2023-05-08T13:32:57.765948",
     "exception": false,
     "start_time": "2023-05-08T13:32:57.760202",
     "status": "completed"
    },
    "tags": []
   },
   "source": [
    "# Exercises"
   ]
  },
  {
   "cell_type": "markdown",
   "id": "e51dd59f",
   "metadata": {
    "papermill": {
     "duration": 0.005706,
     "end_time": "2023-05-08T13:32:57.777649",
     "exception": false,
     "start_time": "2023-05-08T13:32:57.771943",
     "status": "completed"
    },
    "tags": []
   },
   "source": [
    "## 1.\n",
    "\n",
    "What is the median of the `points` column in the `reviews` DataFrame?"
   ]
  },
  {
   "cell_type": "code",
   "execution_count": 2,
   "id": "739da80e",
   "metadata": {
    "execution": {
     "iopub.execute_input": "2023-05-08T13:32:57.791666Z",
     "iopub.status.busy": "2023-05-08T13:32:57.790963Z",
     "iopub.status.idle": "2023-05-08T13:32:57.799421Z",
     "shell.execute_reply": "2023-05-08T13:32:57.798647Z"
    },
    "papermill": {
     "duration": 0.017613,
     "end_time": "2023-05-08T13:32:57.801235",
     "exception": false,
     "start_time": "2023-05-08T13:32:57.783622",
     "status": "completed"
    },
    "tags": []
   },
   "outputs": [
    {
     "data": {
      "application/javascript": [
       "parent.postMessage({\"jupyterEvent\": \"custom.exercise_interaction\", \"data\": {\"outcomeType\": 1, \"valueTowardsCompletion\": 0.14285714285714285, \"interactionType\": 1, \"questionType\": 1, \"questionId\": \"1_MedianPoints\", \"learnToolsVersion\": \"0.3.4\", \"failureMessage\": \"\", \"exceptionClass\": \"\", \"trace\": \"\"}}, \"*\")"
      ],
      "text/plain": [
       "<IPython.core.display.Javascript object>"
      ]
     },
     "metadata": {},
     "output_type": "display_data"
    },
    {
     "data": {
      "text/markdown": [
       "<span style=\"color:#33cc33\">Correct</span>"
      ],
      "text/plain": [
       "Correct"
      ]
     },
     "metadata": {},
     "output_type": "display_data"
    }
   ],
   "source": [
    "import numpy as np\n",
    "median_points = np.median(reviews.points)\n",
    "\n",
    "# Check your answer\n",
    "q1.check()"
   ]
  },
  {
   "cell_type": "code",
   "execution_count": 3,
   "id": "4a9d181c",
   "metadata": {
    "execution": {
     "iopub.execute_input": "2023-05-08T13:32:57.815954Z",
     "iopub.status.busy": "2023-05-08T13:32:57.815253Z",
     "iopub.status.idle": "2023-05-08T13:32:57.818991Z",
     "shell.execute_reply": "2023-05-08T13:32:57.818198Z"
    },
    "papermill": {
     "duration": 0.013243,
     "end_time": "2023-05-08T13:32:57.820882",
     "exception": false,
     "start_time": "2023-05-08T13:32:57.807639",
     "status": "completed"
    },
    "tags": []
   },
   "outputs": [],
   "source": [
    "#q1.hint()\n",
    "#q1.solution()"
   ]
  },
  {
   "cell_type": "markdown",
   "id": "29a19e78",
   "metadata": {
    "papermill": {
     "duration": 0.006139,
     "end_time": "2023-05-08T13:32:57.833599",
     "exception": false,
     "start_time": "2023-05-08T13:32:57.827460",
     "status": "completed"
    },
    "tags": []
   },
   "source": [
    "## 2. \n",
    "What countries are represented in the dataset? (Your answer should not include any duplicates.)"
   ]
  },
  {
   "cell_type": "code",
   "execution_count": 4,
   "id": "633297eb",
   "metadata": {
    "execution": {
     "iopub.execute_input": "2023-05-08T13:32:57.848575Z",
     "iopub.status.busy": "2023-05-08T13:32:57.847824Z",
     "iopub.status.idle": "2023-05-08T13:32:57.862325Z",
     "shell.execute_reply": "2023-05-08T13:32:57.860965Z"
    },
    "papermill": {
     "duration": 0.024456,
     "end_time": "2023-05-08T13:32:57.864446",
     "exception": false,
     "start_time": "2023-05-08T13:32:57.839990",
     "status": "completed"
    },
    "tags": []
   },
   "outputs": [
    {
     "data": {
      "application/javascript": [
       "parent.postMessage({\"jupyterEvent\": \"custom.exercise_interaction\", \"data\": {\"outcomeType\": 1, \"valueTowardsCompletion\": 0.14285714285714285, \"interactionType\": 1, \"questionType\": 2, \"questionId\": \"2_UniqueCountries\", \"learnToolsVersion\": \"0.3.4\", \"failureMessage\": \"\", \"exceptionClass\": \"\", \"trace\": \"\"}}, \"*\")"
      ],
      "text/plain": [
       "<IPython.core.display.Javascript object>"
      ]
     },
     "metadata": {},
     "output_type": "display_data"
    },
    {
     "data": {
      "text/markdown": [
       "<span style=\"color:#33cc33\">Correct</span>"
      ],
      "text/plain": [
       "Correct"
      ]
     },
     "metadata": {},
     "output_type": "display_data"
    }
   ],
   "source": [
    "countries = reviews.country.unique()\n",
    "\n",
    "# Check your answer\n",
    "q2.check()"
   ]
  },
  {
   "cell_type": "code",
   "execution_count": 5,
   "id": "bb87607d",
   "metadata": {
    "execution": {
     "iopub.execute_input": "2023-05-08T13:32:57.879897Z",
     "iopub.status.busy": "2023-05-08T13:32:57.879161Z",
     "iopub.status.idle": "2023-05-08T13:32:57.883470Z",
     "shell.execute_reply": "2023-05-08T13:32:57.882698Z"
    },
    "papermill": {
     "duration": 0.014386,
     "end_time": "2023-05-08T13:32:57.885545",
     "exception": false,
     "start_time": "2023-05-08T13:32:57.871159",
     "status": "completed"
    },
    "tags": []
   },
   "outputs": [],
   "source": [
    "#q2.hint()\n",
    "#q2.solution()"
   ]
  },
  {
   "cell_type": "markdown",
   "id": "d28264a6",
   "metadata": {
    "papermill": {
     "duration": 0.006301,
     "end_time": "2023-05-08T13:32:57.898568",
     "exception": false,
     "start_time": "2023-05-08T13:32:57.892267",
     "status": "completed"
    },
    "tags": []
   },
   "source": [
    "## 3.\n",
    "How often does each country appear in the dataset? Create a Series `reviews_per_country` mapping countries to the count of reviews of wines from that country."
   ]
  },
  {
   "cell_type": "code",
   "execution_count": 6,
   "id": "816a6d79",
   "metadata": {
    "execution": {
     "iopub.execute_input": "2023-05-08T13:32:57.913831Z",
     "iopub.status.busy": "2023-05-08T13:32:57.913083Z",
     "iopub.status.idle": "2023-05-08T13:32:57.931487Z",
     "shell.execute_reply": "2023-05-08T13:32:57.930438Z"
    },
    "papermill": {
     "duration": 0.028467,
     "end_time": "2023-05-08T13:32:57.933613",
     "exception": false,
     "start_time": "2023-05-08T13:32:57.905146",
     "status": "completed"
    },
    "tags": []
   },
   "outputs": [
    {
     "data": {
      "application/javascript": [
       "parent.postMessage({\"jupyterEvent\": \"custom.exercise_interaction\", \"data\": {\"outcomeType\": 1, \"valueTowardsCompletion\": 0.14285714285714285, \"interactionType\": 1, \"questionType\": 1, \"questionId\": \"3_ReviewsPerCountry\", \"learnToolsVersion\": \"0.3.4\", \"failureMessage\": \"\", \"exceptionClass\": \"\", \"trace\": \"\"}}, \"*\")"
      ],
      "text/plain": [
       "<IPython.core.display.Javascript object>"
      ]
     },
     "metadata": {},
     "output_type": "display_data"
    },
    {
     "data": {
      "text/markdown": [
       "<span style=\"color:#33cc33\">Correct</span>"
      ],
      "text/plain": [
       "Correct"
      ]
     },
     "metadata": {},
     "output_type": "display_data"
    }
   ],
   "source": [
    "reviews_per_country = reviews.country.value_counts()\n",
    "\n",
    "# Check your answer\n",
    "q3.check()"
   ]
  },
  {
   "cell_type": "code",
   "execution_count": 7,
   "id": "93a78232",
   "metadata": {
    "execution": {
     "iopub.execute_input": "2023-05-08T13:32:57.949159Z",
     "iopub.status.busy": "2023-05-08T13:32:57.948797Z",
     "iopub.status.idle": "2023-05-08T13:32:57.952978Z",
     "shell.execute_reply": "2023-05-08T13:32:57.951975Z"
    },
    "papermill": {
     "duration": 0.014325,
     "end_time": "2023-05-08T13:32:57.954983",
     "exception": false,
     "start_time": "2023-05-08T13:32:57.940658",
     "status": "completed"
    },
    "tags": []
   },
   "outputs": [],
   "source": [
    "#q3.hint()\n",
    "#q3.solution()"
   ]
  },
  {
   "cell_type": "markdown",
   "id": "6db16590",
   "metadata": {
    "papermill": {
     "duration": 0.006747,
     "end_time": "2023-05-08T13:32:57.968719",
     "exception": false,
     "start_time": "2023-05-08T13:32:57.961972",
     "status": "completed"
    },
    "tags": []
   },
   "source": [
    "## 4.\n",
    "Create variable `centered_price` containing a version of the `price` column with the mean price subtracted.\n",
    "\n",
    "(Note: this 'centering' transformation is a common preprocessing step before applying various machine learning algorithms.) "
   ]
  },
  {
   "cell_type": "code",
   "execution_count": 8,
   "id": "e431345c",
   "metadata": {
    "execution": {
     "iopub.execute_input": "2023-05-08T13:32:57.984662Z",
     "iopub.status.busy": "2023-05-08T13:32:57.983895Z",
     "iopub.status.idle": "2023-05-08T13:32:58.046057Z",
     "shell.execute_reply": "2023-05-08T13:32:58.044960Z"
    },
    "papermill": {
     "duration": 0.072372,
     "end_time": "2023-05-08T13:32:58.048185",
     "exception": false,
     "start_time": "2023-05-08T13:32:57.975813",
     "status": "completed"
    },
    "tags": []
   },
   "outputs": [
    {
     "data": {
      "application/javascript": [
       "parent.postMessage({\"jupyterEvent\": \"custom.exercise_interaction\", \"data\": {\"outcomeType\": 1, \"valueTowardsCompletion\": 0.14285714285714285, \"interactionType\": 1, \"questionType\": 1, \"questionId\": \"4_CenteredPrice\", \"learnToolsVersion\": \"0.3.4\", \"failureMessage\": \"\", \"exceptionClass\": \"\", \"trace\": \"\"}}, \"*\")"
      ],
      "text/plain": [
       "<IPython.core.display.Javascript object>"
      ]
     },
     "metadata": {},
     "output_type": "display_data"
    },
    {
     "data": {
      "text/markdown": [
       "<span style=\"color:#33cc33\">Correct</span>"
      ],
      "text/plain": [
       "Correct"
      ]
     },
     "metadata": {},
     "output_type": "display_data"
    }
   ],
   "source": [
    "Prices_mean = np.mean(reviews.price)\n",
    "centered_price = reviews.price.map(lambda x: x - Prices_mean)\n",
    "\n",
    "# Check your answer\n",
    "q4.check()"
   ]
  },
  {
   "cell_type": "code",
   "execution_count": 9,
   "id": "f90e0645",
   "metadata": {
    "execution": {
     "iopub.execute_input": "2023-05-08T13:32:58.065340Z",
     "iopub.status.busy": "2023-05-08T13:32:58.064114Z",
     "iopub.status.idle": "2023-05-08T13:32:58.069020Z",
     "shell.execute_reply": "2023-05-08T13:32:58.068097Z"
    },
    "papermill": {
     "duration": 0.015648,
     "end_time": "2023-05-08T13:32:58.071314",
     "exception": false,
     "start_time": "2023-05-08T13:32:58.055666",
     "status": "completed"
    },
    "tags": []
   },
   "outputs": [],
   "source": [
    "#q4.hint()\n",
    "# q4.solution()"
   ]
  },
  {
   "cell_type": "markdown",
   "id": "17aec2bb",
   "metadata": {
    "papermill": {
     "duration": 0.006891,
     "end_time": "2023-05-08T13:32:58.085547",
     "exception": false,
     "start_time": "2023-05-08T13:32:58.078656",
     "status": "completed"
    },
    "tags": []
   },
   "source": [
    "## 5.\n",
    "I'm an economical wine buyer. Which wine is the \"best bargain\"? Create a variable `bargain_wine` with the title of the wine with the highest points-to-price ratio in the dataset."
   ]
  },
  {
   "cell_type": "code",
   "execution_count": 10,
   "id": "f4f05ee3",
   "metadata": {
    "execution": {
     "iopub.execute_input": "2023-05-08T13:32:58.101365Z",
     "iopub.status.busy": "2023-05-08T13:32:58.100979Z",
     "iopub.status.idle": "2023-05-08T13:32:58.113538Z",
     "shell.execute_reply": "2023-05-08T13:32:58.112614Z"
    },
    "papermill": {
     "duration": 0.023079,
     "end_time": "2023-05-08T13:32:58.115750",
     "exception": false,
     "start_time": "2023-05-08T13:32:58.092671",
     "status": "completed"
    },
    "tags": []
   },
   "outputs": [
    {
     "data": {
      "application/javascript": [
       "parent.postMessage({\"jupyterEvent\": \"custom.exercise_interaction\", \"data\": {\"outcomeType\": 1, \"valueTowardsCompletion\": 0.14285714285714285, \"interactionType\": 1, \"questionType\": 2, \"questionId\": \"5_BargainWine\", \"learnToolsVersion\": \"0.3.4\", \"failureMessage\": \"\", \"exceptionClass\": \"\", \"trace\": \"\"}}, \"*\")"
      ],
      "text/plain": [
       "<IPython.core.display.Javascript object>"
      ]
     },
     "metadata": {},
     "output_type": "display_data"
    },
    {
     "data": {
      "text/markdown": [
       "<span style=\"color:#33cc33\">Correct</span>"
      ],
      "text/plain": [
       "Correct"
      ]
     },
     "metadata": {},
     "output_type": "display_data"
    }
   ],
   "source": [
    "bargain_idx = (reviews.points / reviews.price).idxmax()\n",
    "bargain_wine = reviews.loc[bargain_idx, 'title']\n",
    "\n",
    "# Check your answer\n",
    "q5.check()"
   ]
  },
  {
   "cell_type": "code",
   "execution_count": 11,
   "id": "42dd046e",
   "metadata": {
    "execution": {
     "iopub.execute_input": "2023-05-08T13:32:58.132665Z",
     "iopub.status.busy": "2023-05-08T13:32:58.131930Z",
     "iopub.status.idle": "2023-05-08T13:32:58.138287Z",
     "shell.execute_reply": "2023-05-08T13:32:58.137514Z"
    },
    "papermill": {
     "duration": 0.017099,
     "end_time": "2023-05-08T13:32:58.140364",
     "exception": false,
     "start_time": "2023-05-08T13:32:58.123265",
     "status": "completed"
    },
    "tags": []
   },
   "outputs": [
    {
     "data": {
      "text/plain": [
       "64590"
      ]
     },
     "execution_count": 11,
     "metadata": {},
     "output_type": "execute_result"
    }
   ],
   "source": [
    "bargain_idx"
   ]
  },
  {
   "cell_type": "code",
   "execution_count": 12,
   "id": "ebf84c84",
   "metadata": {
    "execution": {
     "iopub.execute_input": "2023-05-08T13:32:58.157433Z",
     "iopub.status.busy": "2023-05-08T13:32:58.156819Z",
     "iopub.status.idle": "2023-05-08T13:32:58.160905Z",
     "shell.execute_reply": "2023-05-08T13:32:58.160098Z"
    },
    "papermill": {
     "duration": 0.014953,
     "end_time": "2023-05-08T13:32:58.162843",
     "exception": false,
     "start_time": "2023-05-08T13:32:58.147890",
     "status": "completed"
    },
    "tags": []
   },
   "outputs": [],
   "source": [
    "# q5.hint()\n",
    "# q5.solution()"
   ]
  },
  {
   "cell_type": "markdown",
   "id": "013b07ea",
   "metadata": {
    "papermill": {
     "duration": 0.007102,
     "end_time": "2023-05-08T13:32:58.177362",
     "exception": false,
     "start_time": "2023-05-08T13:32:58.170260",
     "status": "completed"
    },
    "tags": []
   },
   "source": [
    "## 6.\n",
    "There are only so many words you can use when describing a bottle of wine. Is a wine more likely to be \"tropical\" or \"fruity\"? Create a Series `descriptor_counts` counting how many times each of these two words appears in the `description` column in the dataset. (For simplicity, let's ignore the capitalized versions of these words.)"
   ]
  },
  {
   "cell_type": "code",
   "execution_count": 13,
   "id": "5d593d6a",
   "metadata": {
    "execution": {
     "iopub.execute_input": "2023-05-08T13:32:58.194332Z",
     "iopub.status.busy": "2023-05-08T13:32:58.193726Z",
     "iopub.status.idle": "2023-05-08T13:32:58.333378Z",
     "shell.execute_reply": "2023-05-08T13:32:58.332256Z"
    },
    "papermill": {
     "duration": 0.150363,
     "end_time": "2023-05-08T13:32:58.335279",
     "exception": false,
     "start_time": "2023-05-08T13:32:58.184916",
     "status": "completed"
    },
    "tags": []
   },
   "outputs": [
    {
     "data": {
      "application/javascript": [
       "parent.postMessage({\"jupyterEvent\": \"custom.exercise_interaction\", \"data\": {\"outcomeType\": 1, \"valueTowardsCompletion\": 0.14285714285714285, \"interactionType\": 1, \"questionType\": 1, \"questionId\": \"6_DescriptorCounts\", \"learnToolsVersion\": \"0.3.4\", \"failureMessage\": \"\", \"exceptionClass\": \"\", \"trace\": \"\"}}, \"*\")"
      ],
      "text/plain": [
       "<IPython.core.display.Javascript object>"
      ]
     },
     "metadata": {},
     "output_type": "display_data"
    },
    {
     "data": {
      "text/markdown": [
       "<span style=\"color:#33cc33\">Correct</span>"
      ],
      "text/plain": [
       "Correct"
      ]
     },
     "metadata": {},
     "output_type": "display_data"
    }
   ],
   "source": [
    "n_trop = reviews.description.map(lambda desc: \"tropical\" in desc).sum()\n",
    "n_fruity = reviews.description.map(lambda desc: \"fruity\" in desc).sum()\n",
    "descriptor_counts = pd.Series([n_trop, n_fruity], index=['tropical', 'fruity'])\n",
    "\n",
    "# Check your answer\n",
    "q6.check()"
   ]
  },
  {
   "cell_type": "code",
   "execution_count": 14,
   "id": "eb2b25cc",
   "metadata": {
    "execution": {
     "iopub.execute_input": "2023-05-08T13:32:58.352615Z",
     "iopub.status.busy": "2023-05-08T13:32:58.352218Z",
     "iopub.status.idle": "2023-05-08T13:32:58.356346Z",
     "shell.execute_reply": "2023-05-08T13:32:58.355575Z"
    },
    "papermill": {
     "duration": 0.015072,
     "end_time": "2023-05-08T13:32:58.358189",
     "exception": false,
     "start_time": "2023-05-08T13:32:58.343117",
     "status": "completed"
    },
    "tags": []
   },
   "outputs": [],
   "source": [
    "# q6.hint()\n",
    "# q6.solution()"
   ]
  },
  {
   "cell_type": "markdown",
   "id": "9cf6a529",
   "metadata": {
    "papermill": {
     "duration": 0.007672,
     "end_time": "2023-05-08T13:32:58.373693",
     "exception": false,
     "start_time": "2023-05-08T13:32:58.366021",
     "status": "completed"
    },
    "tags": []
   },
   "source": [
    "## 7.\n",
    "We'd like to host these wine reviews on our website, but a rating system ranging from 80 to 100 points is too hard to understand - we'd like to translate them into simple star ratings. A score of 95 or higher counts as 3 stars, a score of at least 85 but less than 95 is 2 stars. Any other score is 1 star.\n",
    "\n",
    "Also, the Canadian Vintners Association bought a lot of ads on the site, so any wines from Canada should automatically get 3 stars, regardless of points.\n",
    "\n",
    "Create a series `star_ratings` with the number of stars corresponding to each review in the dataset."
   ]
  },
  {
   "cell_type": "code",
   "execution_count": 15,
   "id": "96a89ae5",
   "metadata": {
    "execution": {
     "iopub.execute_input": "2023-05-08T13:32:58.391338Z",
     "iopub.status.busy": "2023-05-08T13:32:58.390479Z",
     "iopub.status.idle": "2023-05-08T13:32:58.449751Z",
     "shell.execute_reply": "2023-05-08T13:32:58.448768Z"
    },
    "papermill": {
     "duration": 0.070048,
     "end_time": "2023-05-08T13:32:58.451750",
     "exception": false,
     "start_time": "2023-05-08T13:32:58.381702",
     "status": "completed"
    },
    "tags": []
   },
   "outputs": [
    {
     "data": {
      "application/javascript": [
       "parent.postMessage({\"jupyterEvent\": \"custom.exercise_interaction\", \"data\": {\"outcomeType\": 1, \"valueTowardsCompletion\": 0.14285714285714285, \"interactionType\": 1, \"questionType\": 1, \"questionId\": \"7_StarRatings\", \"learnToolsVersion\": \"0.3.4\", \"failureMessage\": \"\", \"exceptionClass\": \"\", \"trace\": \"\"}}, \"*\")"
      ],
      "text/plain": [
       "<IPython.core.display.Javascript object>"
      ]
     },
     "metadata": {},
     "output_type": "display_data"
    },
    {
     "data": {
      "text/markdown": [
       "<span style=\"color:#33cc33\">Correct</span>"
      ],
      "text/plain": [
       "Correct"
      ]
     },
     "metadata": {},
     "output_type": "display_data"
    }
   ],
   "source": [
    "def rating(value):\n",
    "    if(value>=95):\n",
    "        return 3\n",
    "    elif(value>=85):\n",
    "        return 2\n",
    "    return 1\n",
    "star_ratings = reviews.points.apply(rating)\n",
    "\n",
    "# Check your answer\n",
    "q7.check()"
   ]
  },
  {
   "cell_type": "code",
   "execution_count": 16,
   "id": "adf3df44",
   "metadata": {
    "execution": {
     "iopub.execute_input": "2023-05-08T13:32:58.469705Z",
     "iopub.status.busy": "2023-05-08T13:32:58.468831Z",
     "iopub.status.idle": "2023-05-08T13:32:58.473403Z",
     "shell.execute_reply": "2023-05-08T13:32:58.472467Z"
    },
    "papermill": {
     "duration": 0.015783,
     "end_time": "2023-05-08T13:32:58.475419",
     "exception": false,
     "start_time": "2023-05-08T13:32:58.459636",
     "status": "completed"
    },
    "tags": []
   },
   "outputs": [],
   "source": [
    "#q7.hint()\n",
    "#q7.solution()"
   ]
  },
  {
   "cell_type": "markdown",
   "id": "dc7b02cd",
   "metadata": {
    "papermill": {
     "duration": 0.007599,
     "end_time": "2023-05-08T13:32:58.491124",
     "exception": false,
     "start_time": "2023-05-08T13:32:58.483525",
     "status": "completed"
    },
    "tags": []
   },
   "source": [
    "# Keep going\n",
    "Continue to **[grouping and sorting](https://www.kaggle.com/residentmario/grouping-and-sorting)**."
   ]
  },
  {
   "cell_type": "markdown",
   "id": "ce1bc8bd",
   "metadata": {
    "papermill": {
     "duration": 0.007595,
     "end_time": "2023-05-08T13:32:58.506635",
     "exception": false,
     "start_time": "2023-05-08T13:32:58.499040",
     "status": "completed"
    },
    "tags": []
   },
   "source": [
    "---\n",
    "\n",
    "\n",
    "\n",
    "\n",
    "*Have questions or comments? Visit the [course discussion forum](https://www.kaggle.com/learn/pandas/discussion) to chat with other learners.*"
   ]
  }
 ],
 "metadata": {
  "kernelspec": {
   "display_name": "Python 3",
   "language": "python",
   "name": "python3"
  },
  "language_info": {
   "codemirror_mode": {
    "name": "ipython",
    "version": 3
   },
   "file_extension": ".py",
   "mimetype": "text/x-python",
   "name": "python",
   "nbconvert_exporter": "python",
   "pygments_lexer": "ipython3",
   "version": "3.10.10"
  },
  "papermill": {
   "default_parameters": {},
   "duration": 18.494302,
   "end_time": "2023-05-08T13:32:59.336632",
   "environment_variables": {},
   "exception": null,
   "input_path": "__notebook__.ipynb",
   "output_path": "__notebook__.ipynb",
   "parameters": {},
   "start_time": "2023-05-08T13:32:40.842330",
   "version": "2.4.0"
  }
 },
 "nbformat": 4,
 "nbformat_minor": 5
}
