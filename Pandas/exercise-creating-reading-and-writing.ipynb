{
 "cells": [
  {
   "cell_type": "markdown",
   "id": "d8ec69d3",
   "metadata": {
    "papermill": {
     "duration": 0.005048,
     "end_time": "2023-05-07T05:49:52.016300",
     "exception": false,
     "start_time": "2023-05-07T05:49:52.011252",
     "status": "completed"
    },
    "tags": []
   },
   "source": [
    "**This notebook is an exercise in the [Pandas](https://www.kaggle.com/learn/pandas) course.  You can reference the tutorial at [this link](https://www.kaggle.com/residentmario/creating-reading-and-writing).**\n",
    "\n",
    "---\n"
   ]
  },
  {
   "cell_type": "markdown",
   "id": "c4aa72bd",
   "metadata": {
    "papermill": {
     "duration": 0.004236,
     "end_time": "2023-05-07T05:49:52.025254",
     "exception": false,
     "start_time": "2023-05-07T05:49:52.021018",
     "status": "completed"
    },
    "tags": []
   },
   "source": [
    "# Introduction\n",
    "\n",
    "The first step in most data analytics projects is reading the data file. In this exercise, you'll create Series and DataFrame objects, both by hand and by reading data files.\n",
    "\n",
    "Run the code cell below to load libraries you will need (including code to check your answers)."
   ]
  },
  {
   "cell_type": "code",
   "execution_count": 1,
   "id": "7700dc58",
   "metadata": {
    "execution": {
     "iopub.execute_input": "2023-05-07T05:49:52.036023Z",
     "iopub.status.busy": "2023-05-07T05:49:52.035636Z",
     "iopub.status.idle": "2023-05-07T05:49:53.727460Z",
     "shell.execute_reply": "2023-05-07T05:49:53.726282Z"
    },
    "papermill": {
     "duration": 1.7007,
     "end_time": "2023-05-07T05:49:53.730484",
     "exception": false,
     "start_time": "2023-05-07T05:49:52.029784",
     "status": "completed"
    },
    "tags": []
   },
   "outputs": [
    {
     "name": "stdout",
     "output_type": "stream",
     "text": [
      "Setup complete.\n"
     ]
    }
   ],
   "source": [
    "import pandas as pd\n",
    "pd.set_option('display.max_rows', 5)\n",
    "from learntools.core import binder; binder.bind(globals())\n",
    "from learntools.pandas.creating_reading_and_writing import *\n",
    "print(\"Setup complete.\")"
   ]
  },
  {
   "cell_type": "markdown",
   "id": "6f8b2f49",
   "metadata": {
    "papermill": {
     "duration": 0.004564,
     "end_time": "2023-05-07T05:49:53.740234",
     "exception": false,
     "start_time": "2023-05-07T05:49:53.735670",
     "status": "completed"
    },
    "tags": []
   },
   "source": [
    "# Exercises"
   ]
  },
  {
   "cell_type": "markdown",
   "id": "73c0a6d2",
   "metadata": {
    "papermill": {
     "duration": 0.004373,
     "end_time": "2023-05-07T05:49:53.749302",
     "exception": false,
     "start_time": "2023-05-07T05:49:53.744929",
     "status": "completed"
    },
    "tags": []
   },
   "source": [
    "## 1.\n",
    "\n",
    "In the cell below, create a DataFrame `fruits` that looks like this:\n",
    "\n",
    "![](https://storage.googleapis.com/kaggle-media/learn/images/Ax3pp2A.png)"
   ]
  },
  {
   "cell_type": "code",
   "execution_count": 2,
   "id": "cd6faf1d",
   "metadata": {
    "execution": {
     "iopub.execute_input": "2023-05-07T05:49:53.760496Z",
     "iopub.status.busy": "2023-05-07T05:49:53.760115Z",
     "iopub.status.idle": "2023-05-07T05:49:53.788555Z",
     "shell.execute_reply": "2023-05-07T05:49:53.787707Z"
    },
    "papermill": {
     "duration": 0.036552,
     "end_time": "2023-05-07T05:49:53.790501",
     "exception": false,
     "start_time": "2023-05-07T05:49:53.753949",
     "status": "completed"
    },
    "tags": []
   },
   "outputs": [
    {
     "data": {
      "application/javascript": [
       "parent.postMessage({\"jupyterEvent\": \"custom.exercise_interaction\", \"data\": {\"outcomeType\": 1, \"valueTowardsCompletion\": 0.16666666666666666, \"interactionType\": 1, \"questionType\": 1, \"questionId\": \"1_FruitDfCreation\", \"learnToolsVersion\": \"0.3.4\", \"failureMessage\": \"\", \"exceptionClass\": \"\", \"trace\": \"\"}}, \"*\")"
      ],
      "text/plain": [
       "<IPython.core.display.Javascript object>"
      ]
     },
     "metadata": {},
     "output_type": "display_data"
    },
    {
     "data": {
      "text/markdown": [
       "<span style=\"color:#33cc33\">Correct</span>"
      ],
      "text/plain": [
       "Correct"
      ]
     },
     "metadata": {},
     "output_type": "display_data"
    },
    {
     "data": {
      "text/html": [
       "<div>\n",
       "<style scoped>\n",
       "    .dataframe tbody tr th:only-of-type {\n",
       "        vertical-align: middle;\n",
       "    }\n",
       "\n",
       "    .dataframe tbody tr th {\n",
       "        vertical-align: top;\n",
       "    }\n",
       "\n",
       "    .dataframe thead th {\n",
       "        text-align: right;\n",
       "    }\n",
       "</style>\n",
       "<table border=\"1\" class=\"dataframe\">\n",
       "  <thead>\n",
       "    <tr style=\"text-align: right;\">\n",
       "      <th></th>\n",
       "      <th>Apples</th>\n",
       "      <th>Bananas</th>\n",
       "    </tr>\n",
       "  </thead>\n",
       "  <tbody>\n",
       "    <tr>\n",
       "      <th>0</th>\n",
       "      <td>30</td>\n",
       "      <td>21</td>\n",
       "    </tr>\n",
       "  </tbody>\n",
       "</table>\n",
       "</div>"
      ],
      "text/plain": [
       "   Apples  Bananas\n",
       "0      30       21"
      ]
     },
     "execution_count": 2,
     "metadata": {},
     "output_type": "execute_result"
    }
   ],
   "source": [
    "# Your code goes here. Create a dataframe matching the above diagram and assign it to the variable fruits.\n",
    "fruits = pd.DataFrame({'Apples':[30],'Bananas':[21]})\n",
    "\n",
    "# Check your answer\n",
    "q1.check()\n",
    "fruits"
   ]
  },
  {
   "cell_type": "code",
   "execution_count": 3,
   "id": "500620ba",
   "metadata": {
    "execution": {
     "iopub.execute_input": "2023-05-07T05:49:53.802763Z",
     "iopub.status.busy": "2023-05-07T05:49:53.802387Z",
     "iopub.status.idle": "2023-05-07T05:49:53.806819Z",
     "shell.execute_reply": "2023-05-07T05:49:53.805893Z"
    },
    "papermill": {
     "duration": 0.012874,
     "end_time": "2023-05-07T05:49:53.808917",
     "exception": false,
     "start_time": "2023-05-07T05:49:53.796043",
     "status": "completed"
    },
    "tags": []
   },
   "outputs": [],
   "source": [
    "#q1.hint()\n",
    "#q1.solution()"
   ]
  },
  {
   "cell_type": "markdown",
   "id": "e4308da2",
   "metadata": {
    "papermill": {
     "duration": 0.004857,
     "end_time": "2023-05-07T05:49:53.819109",
     "exception": false,
     "start_time": "2023-05-07T05:49:53.814252",
     "status": "completed"
    },
    "tags": []
   },
   "source": [
    "## 2.\n",
    "\n",
    "Create a dataframe `fruit_sales` that matches the diagram below:\n",
    "\n",
    "![](https://storage.googleapis.com/kaggle-media/learn/images/CHPn7ZF.png)"
   ]
  },
  {
   "cell_type": "code",
   "execution_count": 4,
   "id": "cf1f7036",
   "metadata": {
    "execution": {
     "iopub.execute_input": "2023-05-07T05:49:53.831181Z",
     "iopub.status.busy": "2023-05-07T05:49:53.830435Z",
     "iopub.status.idle": "2023-05-07T05:49:53.843663Z",
     "shell.execute_reply": "2023-05-07T05:49:53.842745Z"
    },
    "papermill": {
     "duration": 0.021456,
     "end_time": "2023-05-07T05:49:53.845660",
     "exception": false,
     "start_time": "2023-05-07T05:49:53.824204",
     "status": "completed"
    },
    "tags": []
   },
   "outputs": [
    {
     "data": {
      "application/javascript": [
       "parent.postMessage({\"jupyterEvent\": \"custom.exercise_interaction\", \"data\": {\"outcomeType\": 1, \"valueTowardsCompletion\": 0.16666666666666666, \"interactionType\": 1, \"questionType\": 1, \"questionId\": \"2_FruitSalesDfCreation\", \"learnToolsVersion\": \"0.3.4\", \"failureMessage\": \"\", \"exceptionClass\": \"\", \"trace\": \"\"}}, \"*\")"
      ],
      "text/plain": [
       "<IPython.core.display.Javascript object>"
      ]
     },
     "metadata": {},
     "output_type": "display_data"
    },
    {
     "data": {
      "text/markdown": [
       "<span style=\"color:#33cc33\">Correct</span>"
      ],
      "text/plain": [
       "Correct"
      ]
     },
     "metadata": {},
     "output_type": "display_data"
    },
    {
     "data": {
      "text/html": [
       "<div>\n",
       "<style scoped>\n",
       "    .dataframe tbody tr th:only-of-type {\n",
       "        vertical-align: middle;\n",
       "    }\n",
       "\n",
       "    .dataframe tbody tr th {\n",
       "        vertical-align: top;\n",
       "    }\n",
       "\n",
       "    .dataframe thead th {\n",
       "        text-align: right;\n",
       "    }\n",
       "</style>\n",
       "<table border=\"1\" class=\"dataframe\">\n",
       "  <thead>\n",
       "    <tr style=\"text-align: right;\">\n",
       "      <th></th>\n",
       "      <th>Apples</th>\n",
       "      <th>Bananas</th>\n",
       "    </tr>\n",
       "  </thead>\n",
       "  <tbody>\n",
       "    <tr>\n",
       "      <th>2017 Sales</th>\n",
       "      <td>35</td>\n",
       "      <td>21</td>\n",
       "    </tr>\n",
       "    <tr>\n",
       "      <th>2018 Sales</th>\n",
       "      <td>41</td>\n",
       "      <td>34</td>\n",
       "    </tr>\n",
       "  </tbody>\n",
       "</table>\n",
       "</div>"
      ],
      "text/plain": [
       "            Apples  Bananas\n",
       "2017 Sales      35       21\n",
       "2018 Sales      41       34"
      ]
     },
     "execution_count": 4,
     "metadata": {},
     "output_type": "execute_result"
    }
   ],
   "source": [
    "# Your code goes here. Create a dataframe matching the above diagram and assign it to the variable fruit_sales.\n",
    "fruit_sales = pd.DataFrame({'Apples':[35,41],'Bananas':[21,34]},index=['2017 Sales','2018 Sales'])\n",
    "\n",
    "# Check your answer\n",
    "q2.check()\n",
    "fruit_sales"
   ]
  },
  {
   "cell_type": "code",
   "execution_count": 5,
   "id": "4bdb3937",
   "metadata": {
    "execution": {
     "iopub.execute_input": "2023-05-07T05:49:53.858406Z",
     "iopub.status.busy": "2023-05-07T05:49:53.858042Z",
     "iopub.status.idle": "2023-05-07T05:49:53.862314Z",
     "shell.execute_reply": "2023-05-07T05:49:53.861281Z"
    },
    "papermill": {
     "duration": 0.013194,
     "end_time": "2023-05-07T05:49:53.864363",
     "exception": false,
     "start_time": "2023-05-07T05:49:53.851169",
     "status": "completed"
    },
    "tags": []
   },
   "outputs": [],
   "source": [
    "#q2.hint()\n",
    "#q2.solution()"
   ]
  },
  {
   "cell_type": "markdown",
   "id": "038f0ac4",
   "metadata": {
    "papermill": {
     "duration": 0.005513,
     "end_time": "2023-05-07T05:49:53.876026",
     "exception": false,
     "start_time": "2023-05-07T05:49:53.870513",
     "status": "completed"
    },
    "tags": []
   },
   "source": [
    "## 3.\n",
    "\n",
    "Create a variable `ingredients` with a Series that looks like:\n",
    "\n",
    "```\n",
    "Flour     4 cups\n",
    "Milk       1 cup\n",
    "Eggs     2 large\n",
    "Spam       1 can\n",
    "Name: Dinner, dtype: object\n",
    "```"
   ]
  },
  {
   "cell_type": "code",
   "execution_count": 6,
   "id": "54b1ae0d",
   "metadata": {
    "execution": {
     "iopub.execute_input": "2023-05-07T05:49:53.889276Z",
     "iopub.status.busy": "2023-05-07T05:49:53.888681Z",
     "iopub.status.idle": "2023-05-07T05:49:53.901402Z",
     "shell.execute_reply": "2023-05-07T05:49:53.900254Z"
    },
    "papermill": {
     "duration": 0.021796,
     "end_time": "2023-05-07T05:49:53.903461",
     "exception": false,
     "start_time": "2023-05-07T05:49:53.881665",
     "status": "completed"
    },
    "tags": []
   },
   "outputs": [
    {
     "data": {
      "application/javascript": [
       "parent.postMessage({\"jupyterEvent\": \"custom.exercise_interaction\", \"data\": {\"outcomeType\": 1, \"valueTowardsCompletion\": 0.16666666666666666, \"interactionType\": 1, \"questionType\": 2, \"questionId\": \"3_RecipeSeriesCreation\", \"learnToolsVersion\": \"0.3.4\", \"failureMessage\": \"\", \"exceptionClass\": \"\", \"trace\": \"\"}}, \"*\")"
      ],
      "text/plain": [
       "<IPython.core.display.Javascript object>"
      ]
     },
     "metadata": {},
     "output_type": "display_data"
    },
    {
     "data": {
      "text/markdown": [
       "<span style=\"color:#33cc33\">Correct</span>"
      ],
      "text/plain": [
       "Correct"
      ]
     },
     "metadata": {},
     "output_type": "display_data"
    },
    {
     "data": {
      "text/plain": [
       "Flour     4 cups\n",
       "Milk       1 cup\n",
       "Eggs     2 large\n",
       "Spam       1 can\n",
       "Name: Dinner, dtype: object"
      ]
     },
     "execution_count": 6,
     "metadata": {},
     "output_type": "execute_result"
    }
   ],
   "source": [
    "ingredients = pd.Series(['4 cups','1 cup','2 large','1 can'],index=['Flour','Milk','Eggs','Spam'],name='Dinner')\n",
    "\n",
    "# Check your answer\n",
    "q3.check()\n",
    "ingredients"
   ]
  },
  {
   "cell_type": "code",
   "execution_count": 7,
   "id": "6d0161e1",
   "metadata": {
    "execution": {
     "iopub.execute_input": "2023-05-07T05:49:53.916932Z",
     "iopub.status.busy": "2023-05-07T05:49:53.916534Z",
     "iopub.status.idle": "2023-05-07T05:49:53.920924Z",
     "shell.execute_reply": "2023-05-07T05:49:53.919924Z"
    },
    "papermill": {
     "duration": 0.013532,
     "end_time": "2023-05-07T05:49:53.922925",
     "exception": false,
     "start_time": "2023-05-07T05:49:53.909393",
     "status": "completed"
    },
    "tags": []
   },
   "outputs": [],
   "source": [
    "#q3.hint()\n",
    "#q3.solution()"
   ]
  },
  {
   "cell_type": "markdown",
   "id": "13dc71d6",
   "metadata": {
    "papermill": {
     "duration": 0.006039,
     "end_time": "2023-05-07T05:49:53.934928",
     "exception": false,
     "start_time": "2023-05-07T05:49:53.928889",
     "status": "completed"
    },
    "tags": []
   },
   "source": [
    "## 4.\n",
    "\n",
    "Read the following csv dataset of wine reviews into a DataFrame called `reviews`:\n",
    "\n",
    "![](https://storage.googleapis.com/kaggle-media/learn/images/74RCZtU.png)\n",
    "\n",
    "The filepath to the csv file is `../input/wine-reviews/winemag-data_first150k.csv`. The first few lines look like:\n",
    "\n",
    "```\n",
    ",country,description,designation,points,price,province,region_1,region_2,variety,winery\n",
    "0,US,\"This tremendous 100% varietal wine[...]\",Martha's Vineyard,96,235.0,California,Napa Valley,Napa,Cabernet Sauvignon,Heitz\n",
    "1,Spain,\"Ripe aromas of fig, blackberry and[...]\",Carodorum Selección Especial Reserva,96,110.0,Northern Spain,Toro,,Tinta de Toro,Bodega Carmen Rodríguez\n",
    "```"
   ]
  },
  {
   "cell_type": "code",
   "execution_count": 8,
   "id": "ad665f21",
   "metadata": {
    "execution": {
     "iopub.execute_input": "2023-05-07T05:49:53.948569Z",
     "iopub.status.busy": "2023-05-07T05:49:53.948180Z",
     "iopub.status.idle": "2023-05-07T05:49:54.957726Z",
     "shell.execute_reply": "2023-05-07T05:49:54.956743Z"
    },
    "papermill": {
     "duration": 1.018752,
     "end_time": "2023-05-07T05:49:54.959729",
     "exception": false,
     "start_time": "2023-05-07T05:49:53.940977",
     "status": "completed"
    },
    "tags": []
   },
   "outputs": [
    {
     "data": {
      "application/javascript": [
       "parent.postMessage({\"jupyterEvent\": \"custom.exercise_interaction\", \"data\": {\"outcomeType\": 1, \"valueTowardsCompletion\": 0.16666666666666666, \"interactionType\": 1, \"questionType\": 1, \"questionId\": \"4_ReadWineCsv\", \"learnToolsVersion\": \"0.3.4\", \"failureMessage\": \"\", \"exceptionClass\": \"\", \"trace\": \"\"}}, \"*\")"
      ],
      "text/plain": [
       "<IPython.core.display.Javascript object>"
      ]
     },
     "metadata": {},
     "output_type": "display_data"
    },
    {
     "data": {
      "text/markdown": [
       "<span style=\"color:#33cc33\">Correct</span>"
      ],
      "text/plain": [
       "Correct"
      ]
     },
     "metadata": {},
     "output_type": "display_data"
    },
    {
     "data": {
      "text/html": [
       "<div>\n",
       "<style scoped>\n",
       "    .dataframe tbody tr th:only-of-type {\n",
       "        vertical-align: middle;\n",
       "    }\n",
       "\n",
       "    .dataframe tbody tr th {\n",
       "        vertical-align: top;\n",
       "    }\n",
       "\n",
       "    .dataframe thead th {\n",
       "        text-align: right;\n",
       "    }\n",
       "</style>\n",
       "<table border=\"1\" class=\"dataframe\">\n",
       "  <thead>\n",
       "    <tr style=\"text-align: right;\">\n",
       "      <th></th>\n",
       "      <th>country</th>\n",
       "      <th>description</th>\n",
       "      <th>designation</th>\n",
       "      <th>points</th>\n",
       "      <th>price</th>\n",
       "      <th>province</th>\n",
       "      <th>region_1</th>\n",
       "      <th>region_2</th>\n",
       "      <th>variety</th>\n",
       "      <th>winery</th>\n",
       "    </tr>\n",
       "  </thead>\n",
       "  <tbody>\n",
       "    <tr>\n",
       "      <th>0</th>\n",
       "      <td>US</td>\n",
       "      <td>This tremendous 100% varietal wine hails from ...</td>\n",
       "      <td>Martha's Vineyard</td>\n",
       "      <td>96</td>\n",
       "      <td>235.0</td>\n",
       "      <td>California</td>\n",
       "      <td>Napa Valley</td>\n",
       "      <td>Napa</td>\n",
       "      <td>Cabernet Sauvignon</td>\n",
       "      <td>Heitz</td>\n",
       "    </tr>\n",
       "    <tr>\n",
       "      <th>1</th>\n",
       "      <td>Spain</td>\n",
       "      <td>Ripe aromas of fig, blackberry and cassis are ...</td>\n",
       "      <td>Carodorum Selección Especial Reserva</td>\n",
       "      <td>96</td>\n",
       "      <td>110.0</td>\n",
       "      <td>Northern Spain</td>\n",
       "      <td>Toro</td>\n",
       "      <td>NaN</td>\n",
       "      <td>Tinta de Toro</td>\n",
       "      <td>Bodega Carmen Rodríguez</td>\n",
       "    </tr>\n",
       "    <tr>\n",
       "      <th>...</th>\n",
       "      <td>...</td>\n",
       "      <td>...</td>\n",
       "      <td>...</td>\n",
       "      <td>...</td>\n",
       "      <td>...</td>\n",
       "      <td>...</td>\n",
       "      <td>...</td>\n",
       "      <td>...</td>\n",
       "      <td>...</td>\n",
       "      <td>...</td>\n",
       "    </tr>\n",
       "    <tr>\n",
       "      <th>150928</th>\n",
       "      <td>France</td>\n",
       "      <td>A perfect salmon shade, with scents of peaches...</td>\n",
       "      <td>Grand Brut Rosé</td>\n",
       "      <td>90</td>\n",
       "      <td>52.0</td>\n",
       "      <td>Champagne</td>\n",
       "      <td>Champagne</td>\n",
       "      <td>NaN</td>\n",
       "      <td>Champagne Blend</td>\n",
       "      <td>Gosset</td>\n",
       "    </tr>\n",
       "    <tr>\n",
       "      <th>150929</th>\n",
       "      <td>Italy</td>\n",
       "      <td>More Pinot Grigios should taste like this. A r...</td>\n",
       "      <td>NaN</td>\n",
       "      <td>90</td>\n",
       "      <td>15.0</td>\n",
       "      <td>Northeastern Italy</td>\n",
       "      <td>Alto Adige</td>\n",
       "      <td>NaN</td>\n",
       "      <td>Pinot Grigio</td>\n",
       "      <td>Alois Lageder</td>\n",
       "    </tr>\n",
       "  </tbody>\n",
       "</table>\n",
       "<p>150930 rows × 10 columns</p>\n",
       "</div>"
      ],
      "text/plain": [
       "       country                                        description  \\\n",
       "0           US  This tremendous 100% varietal wine hails from ...   \n",
       "1        Spain  Ripe aromas of fig, blackberry and cassis are ...   \n",
       "...        ...                                                ...   \n",
       "150928  France  A perfect salmon shade, with scents of peaches...   \n",
       "150929   Italy  More Pinot Grigios should taste like this. A r...   \n",
       "\n",
       "                                 designation  points  price  \\\n",
       "0                          Martha's Vineyard      96  235.0   \n",
       "1       Carodorum Selección Especial Reserva      96  110.0   \n",
       "...                                      ...     ...    ...   \n",
       "150928                       Grand Brut Rosé      90   52.0   \n",
       "150929                                   NaN      90   15.0   \n",
       "\n",
       "                  province     region_1 region_2             variety  \\\n",
       "0               California  Napa Valley     Napa  Cabernet Sauvignon   \n",
       "1           Northern Spain         Toro      NaN       Tinta de Toro   \n",
       "...                    ...          ...      ...                 ...   \n",
       "150928           Champagne    Champagne      NaN     Champagne Blend   \n",
       "150929  Northeastern Italy   Alto Adige      NaN        Pinot Grigio   \n",
       "\n",
       "                         winery  \n",
       "0                         Heitz  \n",
       "1       Bodega Carmen Rodríguez  \n",
       "...                         ...  \n",
       "150928                   Gosset  \n",
       "150929            Alois Lageder  \n",
       "\n",
       "[150930 rows x 10 columns]"
      ]
     },
     "execution_count": 8,
     "metadata": {},
     "output_type": "execute_result"
    }
   ],
   "source": [
    "reviews = pd.read_csv('../input/wine-reviews/winemag-data_first150k.csv',index_col='Unnamed: 0')\n",
    "\n",
    "# Check your answer\n",
    "q4.check()\n",
    "reviews"
   ]
  },
  {
   "cell_type": "code",
   "execution_count": 9,
   "id": "998224c4",
   "metadata": {
    "execution": {
     "iopub.execute_input": "2023-05-07T05:49:54.974281Z",
     "iopub.status.busy": "2023-05-07T05:49:54.973875Z",
     "iopub.status.idle": "2023-05-07T05:49:54.978083Z",
     "shell.execute_reply": "2023-05-07T05:49:54.977022Z"
    },
    "papermill": {
     "duration": 0.014057,
     "end_time": "2023-05-07T05:49:54.980131",
     "exception": false,
     "start_time": "2023-05-07T05:49:54.966074",
     "status": "completed"
    },
    "tags": []
   },
   "outputs": [],
   "source": [
    "#q4.hint()\n",
    "#q4.solution()"
   ]
  },
  {
   "cell_type": "markdown",
   "id": "818c5887",
   "metadata": {
    "papermill": {
     "duration": 0.006306,
     "end_time": "2023-05-07T05:49:54.993047",
     "exception": false,
     "start_time": "2023-05-07T05:49:54.986741",
     "status": "completed"
    },
    "tags": []
   },
   "source": [
    "## 5.\n",
    "\n",
    "Run the cell below to create and display a DataFrame called `animals`:"
   ]
  },
  {
   "cell_type": "code",
   "execution_count": 10,
   "id": "e73654e8",
   "metadata": {
    "execution": {
     "iopub.execute_input": "2023-05-07T05:49:55.007593Z",
     "iopub.status.busy": "2023-05-07T05:49:55.007226Z",
     "iopub.status.idle": "2023-05-07T05:49:55.016969Z",
     "shell.execute_reply": "2023-05-07T05:49:55.015947Z"
    },
    "papermill": {
     "duration": 0.019725,
     "end_time": "2023-05-07T05:49:55.019124",
     "exception": false,
     "start_time": "2023-05-07T05:49:54.999399",
     "status": "completed"
    },
    "tags": []
   },
   "outputs": [
    {
     "data": {
      "text/html": [
       "<div>\n",
       "<style scoped>\n",
       "    .dataframe tbody tr th:only-of-type {\n",
       "        vertical-align: middle;\n",
       "    }\n",
       "\n",
       "    .dataframe tbody tr th {\n",
       "        vertical-align: top;\n",
       "    }\n",
       "\n",
       "    .dataframe thead th {\n",
       "        text-align: right;\n",
       "    }\n",
       "</style>\n",
       "<table border=\"1\" class=\"dataframe\">\n",
       "  <thead>\n",
       "    <tr style=\"text-align: right;\">\n",
       "      <th></th>\n",
       "      <th>Cows</th>\n",
       "      <th>Goats</th>\n",
       "    </tr>\n",
       "  </thead>\n",
       "  <tbody>\n",
       "    <tr>\n",
       "      <th>Year 1</th>\n",
       "      <td>12</td>\n",
       "      <td>22</td>\n",
       "    </tr>\n",
       "    <tr>\n",
       "      <th>Year 2</th>\n",
       "      <td>20</td>\n",
       "      <td>19</td>\n",
       "    </tr>\n",
       "  </tbody>\n",
       "</table>\n",
       "</div>"
      ],
      "text/plain": [
       "        Cows  Goats\n",
       "Year 1    12     22\n",
       "Year 2    20     19"
      ]
     },
     "execution_count": 10,
     "metadata": {},
     "output_type": "execute_result"
    }
   ],
   "source": [
    "animals = pd.DataFrame({'Cows': [12, 20], 'Goats': [22, 19]}, index=['Year 1', 'Year 2'])\n",
    "animals"
   ]
  },
  {
   "cell_type": "markdown",
   "id": "a79d7ffa",
   "metadata": {
    "papermill": {
     "duration": 0.006327,
     "end_time": "2023-05-07T05:49:55.032040",
     "exception": false,
     "start_time": "2023-05-07T05:49:55.025713",
     "status": "completed"
    },
    "tags": []
   },
   "source": [
    "In the cell below, write code to save this DataFrame to disk as a csv file with the name `cows_and_goats.csv`."
   ]
  },
  {
   "cell_type": "code",
   "execution_count": 11,
   "id": "00c37ebc",
   "metadata": {
    "execution": {
     "iopub.execute_input": "2023-05-07T05:49:55.046394Z",
     "iopub.status.busy": "2023-05-07T05:49:55.046006Z",
     "iopub.status.idle": "2023-05-07T05:49:55.062031Z",
     "shell.execute_reply": "2023-05-07T05:49:55.060993Z"
    },
    "papermill": {
     "duration": 0.025683,
     "end_time": "2023-05-07T05:49:55.064051",
     "exception": false,
     "start_time": "2023-05-07T05:49:55.038368",
     "status": "completed"
    },
    "tags": []
   },
   "outputs": [
    {
     "data": {
      "application/javascript": [
       "parent.postMessage({\"jupyterEvent\": \"custom.exercise_interaction\", \"data\": {\"outcomeType\": 1, \"valueTowardsCompletion\": 0.16666666666666666, \"interactionType\": 1, \"questionType\": 2, \"questionId\": \"5_SaveAnimalsCsv\", \"learnToolsVersion\": \"0.3.4\", \"failureMessage\": \"\", \"exceptionClass\": \"\", \"trace\": \"\"}}, \"*\")"
      ],
      "text/plain": [
       "<IPython.core.display.Javascript object>"
      ]
     },
     "metadata": {},
     "output_type": "display_data"
    },
    {
     "data": {
      "text/markdown": [
       "<span style=\"color:#33cc33\">Correct</span>"
      ],
      "text/plain": [
       "Correct"
      ]
     },
     "metadata": {},
     "output_type": "display_data"
    }
   ],
   "source": [
    "# Your code goes here\n",
    "animals.to_csv('cows_and_goats.csv')\n",
    "# Check your answer\n",
    "q5.check()"
   ]
  },
  {
   "cell_type": "code",
   "execution_count": 12,
   "id": "50cf2e9e",
   "metadata": {
    "execution": {
     "iopub.execute_input": "2023-05-07T05:49:55.079497Z",
     "iopub.status.busy": "2023-05-07T05:49:55.079146Z",
     "iopub.status.idle": "2023-05-07T05:49:55.083283Z",
     "shell.execute_reply": "2023-05-07T05:49:55.082462Z"
    },
    "papermill": {
     "duration": 0.014327,
     "end_time": "2023-05-07T05:49:55.085231",
     "exception": false,
     "start_time": "2023-05-07T05:49:55.070904",
     "status": "completed"
    },
    "tags": []
   },
   "outputs": [],
   "source": [
    "#q5.hint()\n",
    "#q5.solution()"
   ]
  },
  {
   "cell_type": "markdown",
   "id": "b8cffffc",
   "metadata": {
    "papermill": {
     "duration": 0.006625,
     "end_time": "2023-05-07T05:49:55.098685",
     "exception": false,
     "start_time": "2023-05-07T05:49:55.092060",
     "status": "completed"
    },
    "tags": []
   },
   "source": [
    "# Keep going\n",
    "\n",
    "Move on to learn about **[indexing, selecting and assigning](https://www.kaggle.com/residentmario/indexing-selecting-assigning)**."
   ]
  },
  {
   "cell_type": "markdown",
   "id": "cc15ce18",
   "metadata": {
    "papermill": {
     "duration": 0.006618,
     "end_time": "2023-05-07T05:49:55.112054",
     "exception": false,
     "start_time": "2023-05-07T05:49:55.105436",
     "status": "completed"
    },
    "tags": []
   },
   "source": [
    "---\n",
    "\n",
    "\n",
    "\n",
    "\n",
    "*Have questions or comments? Visit the [course discussion forum](https://www.kaggle.com/learn/pandas/discussion) to chat with other learners.*"
   ]
  }
 ],
 "metadata": {
  "kernelspec": {
   "display_name": "Python 3",
   "language": "python",
   "name": "python3"
  },
  "language_info": {
   "codemirror_mode": {
    "name": "ipython",
    "version": 3
   },
   "file_extension": ".py",
   "mimetype": "text/x-python",
   "name": "python",
   "nbconvert_exporter": "python",
   "pygments_lexer": "ipython3",
   "version": "3.10.10"
  },
  "papermill": {
   "default_parameters": {},
   "duration": 13.420733,
   "end_time": "2023-05-07T05:49:55.939995",
   "environment_variables": {},
   "exception": null,
   "input_path": "__notebook__.ipynb",
   "output_path": "__notebook__.ipynb",
   "parameters": {},
   "start_time": "2023-05-07T05:49:42.519262",
   "version": "2.4.0"
  }
 },
 "nbformat": 4,
 "nbformat_minor": 5
}
