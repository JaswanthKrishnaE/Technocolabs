{
 "cells": [
  {
   "cell_type": "markdown",
   "id": "495666f4",
   "metadata": {
    "papermill": {
     "duration": 0.004937,
     "end_time": "2023-05-08T15:07:48.150067",
     "exception": false,
     "start_time": "2023-05-08T15:07:48.145130",
     "status": "completed"
    },
    "tags": []
   },
   "source": [
    "**This notebook is an exercise in the [Pandas](https://www.kaggle.com/learn/pandas) course.  You can reference the tutorial at [this link](https://www.kaggle.com/residentmario/data-types-and-missing-values).**\n",
    "\n",
    "---\n"
   ]
  },
  {
   "cell_type": "markdown",
   "id": "9c5767fa",
   "metadata": {
    "papermill": {
     "duration": 0.003694,
     "end_time": "2023-05-08T15:07:48.158090",
     "exception": false,
     "start_time": "2023-05-08T15:07:48.154396",
     "status": "completed"
    },
    "tags": []
   },
   "source": [
    "# Introduction\n",
    "\n",
    "Run the following cell to load your data and some utility functions."
   ]
  },
  {
   "cell_type": "code",
   "execution_count": 1,
   "id": "ba4b7a81",
   "metadata": {
    "execution": {
     "iopub.execute_input": "2023-05-08T15:07:48.168335Z",
     "iopub.status.busy": "2023-05-08T15:07:48.167458Z",
     "iopub.status.idle": "2023-05-08T15:07:51.845764Z",
     "shell.execute_reply": "2023-05-08T15:07:51.844394Z"
    },
    "papermill": {
     "duration": 3.686534,
     "end_time": "2023-05-08T15:07:51.848574",
     "exception": false,
     "start_time": "2023-05-08T15:07:48.162040",
     "status": "completed"
    },
    "tags": []
   },
   "outputs": [
    {
     "name": "stdout",
     "output_type": "stream",
     "text": [
      "Setup complete.\n"
     ]
    }
   ],
   "source": [
    "import pandas as pd\n",
    "\n",
    "reviews = pd.read_csv(\"../input/wine-reviews/winemag-data-130k-v2.csv\", index_col=0)\n",
    "\n",
    "from learntools.core import binder; binder.bind(globals())\n",
    "from learntools.pandas.data_types_and_missing_data import *\n",
    "print(\"Setup complete.\")"
   ]
  },
  {
   "cell_type": "markdown",
   "id": "b8f78cdb",
   "metadata": {
    "papermill": {
     "duration": 0.003814,
     "end_time": "2023-05-08T15:07:51.856678",
     "exception": false,
     "start_time": "2023-05-08T15:07:51.852864",
     "status": "completed"
    },
    "tags": []
   },
   "source": [
    "# Exercises"
   ]
  },
  {
   "cell_type": "markdown",
   "id": "20c70af7",
   "metadata": {
    "papermill": {
     "duration": 0.003659,
     "end_time": "2023-05-08T15:07:51.864310",
     "exception": false,
     "start_time": "2023-05-08T15:07:51.860651",
     "status": "completed"
    },
    "tags": []
   },
   "source": [
    "## 1. \n",
    "What is the data type of the `points` column in the dataset?"
   ]
  },
  {
   "cell_type": "code",
   "execution_count": 2,
   "id": "9e7fedbf",
   "metadata": {
    "execution": {
     "iopub.execute_input": "2023-05-08T15:07:51.874209Z",
     "iopub.status.busy": "2023-05-08T15:07:51.873824Z",
     "iopub.status.idle": "2023-05-08T15:07:51.883834Z",
     "shell.execute_reply": "2023-05-08T15:07:51.882577Z"
    },
    "papermill": {
     "duration": 0.017972,
     "end_time": "2023-05-08T15:07:51.886278",
     "exception": false,
     "start_time": "2023-05-08T15:07:51.868306",
     "status": "completed"
    },
    "tags": []
   },
   "outputs": [
    {
     "data": {
      "application/javascript": [
       "parent.postMessage({\"jupyterEvent\": \"custom.exercise_interaction\", \"data\": {\"outcomeType\": 1, \"valueTowardsCompletion\": 0.25, \"interactionType\": 1, \"questionType\": 1, \"questionId\": \"1_PointsDtype\", \"learnToolsVersion\": \"0.3.4\", \"failureMessage\": \"\", \"exceptionClass\": \"\", \"trace\": \"\"}}, \"*\")"
      ],
      "text/plain": [
       "<IPython.core.display.Javascript object>"
      ]
     },
     "metadata": {},
     "output_type": "display_data"
    },
    {
     "data": {
      "text/markdown": [
       "<span style=\"color:#33cc33\">Correct</span>"
      ],
      "text/plain": [
       "Correct"
      ]
     },
     "metadata": {},
     "output_type": "display_data"
    }
   ],
   "source": [
    "# Your code here\n",
    "dtype = reviews.points.dtype\n",
    "\n",
    "# Check your answer\n",
    "q1.check()"
   ]
  },
  {
   "cell_type": "code",
   "execution_count": 3,
   "id": "c20d39f4",
   "metadata": {
    "execution": {
     "iopub.execute_input": "2023-05-08T15:07:51.897091Z",
     "iopub.status.busy": "2023-05-08T15:07:51.896695Z",
     "iopub.status.idle": "2023-05-08T15:07:51.900880Z",
     "shell.execute_reply": "2023-05-08T15:07:51.899697Z"
    },
    "papermill": {
     "duration": 0.012248,
     "end_time": "2023-05-08T15:07:51.902949",
     "exception": false,
     "start_time": "2023-05-08T15:07:51.890701",
     "status": "completed"
    },
    "tags": []
   },
   "outputs": [],
   "source": [
    "#q1.hint()\n",
    "#q1.solution()"
   ]
  },
  {
   "cell_type": "markdown",
   "id": "2cb23105",
   "metadata": {
    "papermill": {
     "duration": 0.004066,
     "end_time": "2023-05-08T15:07:51.911576",
     "exception": false,
     "start_time": "2023-05-08T15:07:51.907510",
     "status": "completed"
    },
    "tags": []
   },
   "source": [
    "## 2. \n",
    "Create a Series from entries in the `points` column, but convert the entries to strings. Hint: strings are `str` in native Python."
   ]
  },
  {
   "cell_type": "code",
   "execution_count": 4,
   "id": "8d9fe666",
   "metadata": {
    "execution": {
     "iopub.execute_input": "2023-05-08T15:07:51.922141Z",
     "iopub.status.busy": "2023-05-08T15:07:51.921265Z",
     "iopub.status.idle": "2023-05-08T15:07:51.984971Z",
     "shell.execute_reply": "2023-05-08T15:07:51.983870Z"
    },
    "papermill": {
     "duration": 0.071584,
     "end_time": "2023-05-08T15:07:51.987361",
     "exception": false,
     "start_time": "2023-05-08T15:07:51.915777",
     "status": "completed"
    },
    "tags": []
   },
   "outputs": [
    {
     "data": {
      "application/javascript": [
       "parent.postMessage({\"jupyterEvent\": \"custom.exercise_interaction\", \"data\": {\"outcomeType\": 1, \"valueTowardsCompletion\": 0.25, \"interactionType\": 1, \"questionType\": 1, \"questionId\": \"2_StrPoints\", \"learnToolsVersion\": \"0.3.4\", \"failureMessage\": \"\", \"exceptionClass\": \"\", \"trace\": \"\"}}, \"*\")"
      ],
      "text/plain": [
       "<IPython.core.display.Javascript object>"
      ]
     },
     "metadata": {},
     "output_type": "display_data"
    },
    {
     "data": {
      "text/markdown": [
       "<span style=\"color:#33cc33\">Correct</span>"
      ],
      "text/plain": [
       "Correct"
      ]
     },
     "metadata": {},
     "output_type": "display_data"
    }
   ],
   "source": [
    "point_strings = reviews.points.astype('str')\n",
    "\n",
    "# Check your answer\n",
    "q2.check()"
   ]
  },
  {
   "cell_type": "code",
   "execution_count": 5,
   "id": "843400c1",
   "metadata": {
    "execution": {
     "iopub.execute_input": "2023-05-08T15:07:51.999579Z",
     "iopub.status.busy": "2023-05-08T15:07:51.998330Z",
     "iopub.status.idle": "2023-05-08T15:07:52.004719Z",
     "shell.execute_reply": "2023-05-08T15:07:52.003670Z"
    },
    "papermill": {
     "duration": 0.015154,
     "end_time": "2023-05-08T15:07:52.007421",
     "exception": false,
     "start_time": "2023-05-08T15:07:51.992267",
     "status": "completed"
    },
    "tags": []
   },
   "outputs": [],
   "source": [
    "#q2.hint()\n",
    "#q2.solution()"
   ]
  },
  {
   "cell_type": "markdown",
   "id": "e238c233",
   "metadata": {
    "papermill": {
     "duration": 0.00452,
     "end_time": "2023-05-08T15:07:52.017185",
     "exception": false,
     "start_time": "2023-05-08T15:07:52.012665",
     "status": "completed"
    },
    "tags": []
   },
   "source": [
    "## 3.\n",
    "Sometimes the price column is null. How many reviews in the dataset are missing a price?"
   ]
  },
  {
   "cell_type": "code",
   "execution_count": 6,
   "id": "f1b413e9",
   "metadata": {
    "execution": {
     "iopub.execute_input": "2023-05-08T15:07:52.028706Z",
     "iopub.status.busy": "2023-05-08T15:07:52.028263Z",
     "iopub.status.idle": "2023-05-08T15:07:52.037755Z",
     "shell.execute_reply": "2023-05-08T15:07:52.036718Z"
    },
    "papermill": {
     "duration": 0.017917,
     "end_time": "2023-05-08T15:07:52.039984",
     "exception": false,
     "start_time": "2023-05-08T15:07:52.022067",
     "status": "completed"
    },
    "tags": []
   },
   "outputs": [
    {
     "data": {
      "application/javascript": [
       "parent.postMessage({\"jupyterEvent\": \"custom.exercise_interaction\", \"data\": {\"outcomeType\": 1, \"valueTowardsCompletion\": 0.25, \"interactionType\": 1, \"questionType\": 1, \"questionId\": \"3_CountMissingPrices\", \"learnToolsVersion\": \"0.3.4\", \"failureMessage\": \"\", \"exceptionClass\": \"\", \"trace\": \"\"}}, \"*\")"
      ],
      "text/plain": [
       "<IPython.core.display.Javascript object>"
      ]
     },
     "metadata": {},
     "output_type": "display_data"
    },
    {
     "data": {
      "text/markdown": [
       "<span style=\"color:#33cc33\">Correct</span>"
      ],
      "text/plain": [
       "Correct"
      ]
     },
     "metadata": {},
     "output_type": "display_data"
    }
   ],
   "source": [
    "n_missing_prices = reviews.price.isnull().sum()\n",
    "\n",
    "# Check your answer\n",
    "q3.check()"
   ]
  },
  {
   "cell_type": "code",
   "execution_count": 7,
   "id": "131bc3e1",
   "metadata": {
    "execution": {
     "iopub.execute_input": "2023-05-08T15:07:52.052079Z",
     "iopub.status.busy": "2023-05-08T15:07:52.051658Z",
     "iopub.status.idle": "2023-05-08T15:07:52.056524Z",
     "shell.execute_reply": "2023-05-08T15:07:52.055307Z"
    },
    "papermill": {
     "duration": 0.014153,
     "end_time": "2023-05-08T15:07:52.059185",
     "exception": false,
     "start_time": "2023-05-08T15:07:52.045032",
     "status": "completed"
    },
    "tags": []
   },
   "outputs": [],
   "source": [
    "#q3.hint()\n",
    "# q3.solution()"
   ]
  },
  {
   "cell_type": "markdown",
   "id": "d4613264",
   "metadata": {
    "papermill": {
     "duration": 0.004694,
     "end_time": "2023-05-08T15:07:52.069551",
     "exception": false,
     "start_time": "2023-05-08T15:07:52.064857",
     "status": "completed"
    },
    "tags": []
   },
   "source": [
    "## 4.\n",
    "What are the most common wine-producing regions? Create a Series counting the number of times each value occurs in the `region_1` field. This field is often missing data, so replace missing values with `Unknown`. Sort in descending order.  Your output should look something like this:\n",
    "\n",
    "```\n",
    "Unknown                    21247\n",
    "Napa Valley                 4480\n",
    "                           ...  \n",
    "Bardolino Superiore            1\n",
    "Primitivo del Tarantino        1\n",
    "Name: region_1, Length: 1230, dtype: int64\n",
    "```"
   ]
  },
  {
   "cell_type": "code",
   "execution_count": 8,
   "id": "da408181",
   "metadata": {
    "execution": {
     "iopub.execute_input": "2023-05-08T15:07:52.081299Z",
     "iopub.status.busy": "2023-05-08T15:07:52.080909Z",
     "iopub.status.idle": "2023-05-08T15:07:52.130671Z",
     "shell.execute_reply": "2023-05-08T15:07:52.129546Z"
    },
    "papermill": {
     "duration": 0.058455,
     "end_time": "2023-05-08T15:07:52.132912",
     "exception": false,
     "start_time": "2023-05-08T15:07:52.074457",
     "status": "completed"
    },
    "tags": []
   },
   "outputs": [
    {
     "data": {
      "application/javascript": [
       "parent.postMessage({\"jupyterEvent\": \"custom.exercise_interaction\", \"data\": {\"outcomeType\": 1, \"valueTowardsCompletion\": 0.25, \"interactionType\": 1, \"questionType\": 2, \"questionId\": \"4_ReviewsPerRegion\", \"learnToolsVersion\": \"0.3.4\", \"failureMessage\": \"\", \"exceptionClass\": \"\", \"trace\": \"\"}}, \"*\")"
      ],
      "text/plain": [
       "<IPython.core.display.Javascript object>"
      ]
     },
     "metadata": {},
     "output_type": "display_data"
    },
    {
     "data": {
      "text/markdown": [
       "<span style=\"color:#33cc33\">Correct</span>"
      ],
      "text/plain": [
       "Correct"
      ]
     },
     "metadata": {},
     "output_type": "display_data"
    }
   ],
   "source": [
    "reviews_per_region = reviews.region_1.fillna('Unknown').value_counts().sort_values(ascending=False)\n",
    "\n",
    "# Check your answer\n",
    "q4.check()"
   ]
  },
  {
   "cell_type": "code",
   "execution_count": 9,
   "id": "81cd06dc",
   "metadata": {
    "execution": {
     "iopub.execute_input": "2023-05-08T15:07:52.145347Z",
     "iopub.status.busy": "2023-05-08T15:07:52.144860Z",
     "iopub.status.idle": "2023-05-08T15:07:52.150043Z",
     "shell.execute_reply": "2023-05-08T15:07:52.148885Z"
    },
    "papermill": {
     "duration": 0.014039,
     "end_time": "2023-05-08T15:07:52.152140",
     "exception": false,
     "start_time": "2023-05-08T15:07:52.138101",
     "status": "completed"
    },
    "tags": []
   },
   "outputs": [],
   "source": [
    "#q4.hint()\n",
    "# q4.solution()"
   ]
  },
  {
   "cell_type": "markdown",
   "id": "4af781ad",
   "metadata": {
    "papermill": {
     "duration": 0.00501,
     "end_time": "2023-05-08T15:07:52.162511",
     "exception": false,
     "start_time": "2023-05-08T15:07:52.157501",
     "status": "completed"
    },
    "tags": []
   },
   "source": [
    "# Keep going\n",
    "\n",
    "Move on to **[renaming and combining](https://www.kaggle.com/residentmario/renaming-and-combining)**."
   ]
  },
  {
   "cell_type": "markdown",
   "id": "85ed1d49",
   "metadata": {
    "papermill": {
     "duration": 0.004821,
     "end_time": "2023-05-08T15:07:52.172637",
     "exception": false,
     "start_time": "2023-05-08T15:07:52.167816",
     "status": "completed"
    },
    "tags": []
   },
   "source": [
    "---\n",
    "\n",
    "\n",
    "\n",
    "\n",
    "*Have questions or comments? Visit the [course discussion forum](https://www.kaggle.com/learn/pandas/discussion) to chat with other learners.*"
   ]
  }
 ],
 "metadata": {
  "kernelspec": {
   "display_name": "Python 3",
   "language": "python",
   "name": "python3"
  },
  "language_info": {
   "codemirror_mode": {
    "name": "ipython",
    "version": 3
   },
   "file_extension": ".py",
   "mimetype": "text/x-python",
   "name": "python",
   "nbconvert_exporter": "python",
   "pygments_lexer": "ipython3",
   "version": "3.10.10"
  },
  "papermill": {
   "default_parameters": {},
   "duration": 15.811134,
   "end_time": "2023-05-08T15:07:53.401473",
   "environment_variables": {},
   "exception": null,
   "input_path": "__notebook__.ipynb",
   "output_path": "__notebook__.ipynb",
   "parameters": {},
   "start_time": "2023-05-08T15:07:37.590339",
   "version": "2.4.0"
  }
 },
 "nbformat": 4,
 "nbformat_minor": 5
}
