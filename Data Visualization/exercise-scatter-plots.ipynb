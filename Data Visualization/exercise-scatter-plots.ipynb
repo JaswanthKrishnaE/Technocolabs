{
 "cells": [
  {
   "cell_type": "markdown",
   "id": "18421bdd",
   "metadata": {
    "papermill": {
     "duration": 0.008276,
     "end_time": "2023-05-06T18:16:03.367464",
     "exception": false,
     "start_time": "2023-05-06T18:16:03.359188",
     "status": "completed"
    },
    "tags": []
   },
   "source": [
    "**This notebook is an exercise in the [Data Visualization](https://www.kaggle.com/learn/data-visualization) course.  You can reference the tutorial at [this link](https://www.kaggle.com/alexisbcook/scatter-plots).**\n",
    "\n",
    "---\n"
   ]
  },
  {
   "cell_type": "markdown",
   "id": "98e7795c",
   "metadata": {
    "papermill": {
     "duration": 0.007479,
     "end_time": "2023-05-06T18:16:03.382892",
     "exception": false,
     "start_time": "2023-05-06T18:16:03.375413",
     "status": "completed"
    },
    "tags": []
   },
   "source": [
    "In this exercise, you will use your new knowledge to propose a solution to a real-world scenario.  To succeed, you will need to import data into Python, answer questions using the data, and generate **scatter plots** to understand patterns in the data.\n",
    "\n",
    "## Scenario\n",
    "\n",
    "You work for a major candy producer, and your goal is to write a report that your company can use to guide the design of its next product.  Soon after starting your research, you stumble across this [very interesting dataset](https://fivethirtyeight.com/features/the-ultimate-halloween-candy-power-ranking/) containing results from a fun survey to crowdsource favorite candies.\n",
    "\n",
    "## Setup\n",
    "\n",
    "Run the next cell to import and configure the Python libraries that you need to complete the exercise."
   ]
  },
  {
   "cell_type": "code",
   "execution_count": 1,
   "id": "07b8e0f0",
   "metadata": {
    "execution": {
     "iopub.execute_input": "2023-05-06T18:16:03.400628Z",
     "iopub.status.busy": "2023-05-06T18:16:03.400146Z",
     "iopub.status.idle": "2023-05-06T18:16:04.644974Z",
     "shell.execute_reply": "2023-05-06T18:16:04.644156Z"
    },
    "papermill": {
     "duration": 1.257012,
     "end_time": "2023-05-06T18:16:04.647665",
     "exception": false,
     "start_time": "2023-05-06T18:16:03.390653",
     "status": "completed"
    },
    "tags": []
   },
   "outputs": [
    {
     "name": "stderr",
     "output_type": "stream",
     "text": [
      "/opt/conda/lib/python3.10/site-packages/scipy/__init__.py:146: UserWarning: A NumPy version >=1.16.5 and <1.23.0 is required for this version of SciPy (detected version 1.23.5\n",
      "  warnings.warn(f\"A NumPy version >={np_minversion} and <{np_maxversion}\"\n"
     ]
    },
    {
     "name": "stdout",
     "output_type": "stream",
     "text": [
      "Setup Complete\n"
     ]
    }
   ],
   "source": [
    "import pandas as pd\n",
    "import numpy as np\n",
    "pd.plotting.register_matplotlib_converters()\n",
    "import matplotlib.pyplot as plt\n",
    "%matplotlib inline\n",
    "import seaborn as sns\n",
    "print(\"Setup Complete\")"
   ]
  },
  {
   "cell_type": "markdown",
   "id": "f5b7ad70",
   "metadata": {
    "papermill": {
     "duration": 0.009939,
     "end_time": "2023-05-06T18:16:04.670083",
     "exception": false,
     "start_time": "2023-05-06T18:16:04.660144",
     "status": "completed"
    },
    "tags": []
   },
   "source": [
    "The questions below will give you feedback on your work. Run the following cell to set up our feedback system."
   ]
  },
  {
   "cell_type": "code",
   "execution_count": 2,
   "id": "557399c2",
   "metadata": {
    "execution": {
     "iopub.execute_input": "2023-05-06T18:16:04.688994Z",
     "iopub.status.busy": "2023-05-06T18:16:04.688193Z",
     "iopub.status.idle": "2023-05-06T18:16:04.754307Z",
     "shell.execute_reply": "2023-05-06T18:16:04.753273Z"
    },
    "papermill": {
     "duration": 0.078406,
     "end_time": "2023-05-06T18:16:04.756714",
     "exception": false,
     "start_time": "2023-05-06T18:16:04.678308",
     "status": "completed"
    },
    "tags": []
   },
   "outputs": [
    {
     "name": "stdout",
     "output_type": "stream",
     "text": [
      "Setup Complete\n"
     ]
    }
   ],
   "source": [
    "# Set up code checking\n",
    "import os\n",
    "if not os.path.exists(\"../input/candy.csv\"):\n",
    "    os.symlink(\"../input/data-for-datavis/candy.csv\", \"../input/candy.csv\") \n",
    "from learntools.core import binder\n",
    "binder.bind(globals())\n",
    "from learntools.data_viz_to_coder.ex4 import *\n",
    "print(\"Setup Complete\")\n"
   ]
  },
  {
   "cell_type": "markdown",
   "id": "04ff1a61",
   "metadata": {
    "papermill": {
     "duration": 0.00782,
     "end_time": "2023-05-06T18:16:04.772950",
     "exception": false,
     "start_time": "2023-05-06T18:16:04.765130",
     "status": "completed"
    },
    "tags": []
   },
   "source": [
    "## Step 1: Load the Data\n",
    "\n",
    "Read the candy data file into `candy_data`.  Use the `\"id\"` column to label the rows."
   ]
  },
  {
   "cell_type": "code",
   "execution_count": 3,
   "id": "25578f42",
   "metadata": {
    "execution": {
     "iopub.execute_input": "2023-05-06T18:16:04.791285Z",
     "iopub.status.busy": "2023-05-06T18:16:04.790902Z",
     "iopub.status.idle": "2023-05-06T18:16:04.808540Z",
     "shell.execute_reply": "2023-05-06T18:16:04.807757Z"
    },
    "papermill": {
     "duration": 0.029882,
     "end_time": "2023-05-06T18:16:04.810816",
     "exception": false,
     "start_time": "2023-05-06T18:16:04.780934",
     "status": "completed"
    },
    "tags": []
   },
   "outputs": [
    {
     "data": {
      "application/javascript": [
       "parent.postMessage({\"jupyterEvent\": \"custom.exercise_interaction\", \"data\": {\"outcomeType\": 1, \"valueTowardsCompletion\": 0.3333333333333333, \"interactionType\": 1, \"questionType\": 1, \"questionId\": \"1_LoadData\", \"learnToolsVersion\": \"0.3.4\", \"failureMessage\": \"\", \"exceptionClass\": \"\", \"trace\": \"\"}}, \"*\")"
      ],
      "text/plain": [
       "<IPython.core.display.Javascript object>"
      ]
     },
     "metadata": {},
     "output_type": "display_data"
    },
    {
     "data": {
      "text/markdown": [
       "<span style=\"color:#33cc33\">Correct</span>"
      ],
      "text/plain": [
       "Correct"
      ]
     },
     "metadata": {},
     "output_type": "display_data"
    }
   ],
   "source": [
    "# Path of the file to read\n",
    "candy_filepath = \"../input/candy.csv\"\n",
    "\n",
    "# Fill in the line below to read the file into a variable candy_data\n",
    "candy_data = pd.read_csv(candy_filepath,index_col='id')\n",
    "\n",
    "# Run the line below with no changes to check that you've loaded the data correctly\n",
    "step_1.check()"
   ]
  },
  {
   "cell_type": "code",
   "execution_count": 4,
   "id": "54ead94d",
   "metadata": {
    "execution": {
     "iopub.execute_input": "2023-05-06T18:16:04.830209Z",
     "iopub.status.busy": "2023-05-06T18:16:04.829767Z",
     "iopub.status.idle": "2023-05-06T18:16:04.834116Z",
     "shell.execute_reply": "2023-05-06T18:16:04.832929Z"
    },
    "papermill": {
     "duration": 0.016154,
     "end_time": "2023-05-06T18:16:04.836234",
     "exception": false,
     "start_time": "2023-05-06T18:16:04.820080",
     "status": "completed"
    },
    "tags": []
   },
   "outputs": [],
   "source": [
    "# Lines below will give you a hint or solution code\n",
    "#step_1.hint()\n",
    "#step_1.solution()"
   ]
  },
  {
   "cell_type": "markdown",
   "id": "5078ea4f",
   "metadata": {
    "papermill": {
     "duration": 0.008018,
     "end_time": "2023-05-06T18:16:04.852571",
     "exception": false,
     "start_time": "2023-05-06T18:16:04.844553",
     "status": "completed"
    },
    "tags": []
   },
   "source": [
    "## Step 2: Review the data\n",
    "\n",
    "Use a Python command to print the first five rows of the data."
   ]
  },
  {
   "cell_type": "code",
   "execution_count": 5,
   "id": "b58f2b6f",
   "metadata": {
    "execution": {
     "iopub.execute_input": "2023-05-06T18:16:04.871292Z",
     "iopub.status.busy": "2023-05-06T18:16:04.870915Z",
     "iopub.status.idle": "2023-05-06T18:16:04.897686Z",
     "shell.execute_reply": "2023-05-06T18:16:04.896607Z"
    },
    "papermill": {
     "duration": 0.038559,
     "end_time": "2023-05-06T18:16:04.899819",
     "exception": false,
     "start_time": "2023-05-06T18:16:04.861260",
     "status": "completed"
    },
    "tags": []
   },
   "outputs": [
    {
     "data": {
      "text/html": [
       "<div>\n",
       "<style scoped>\n",
       "    .dataframe tbody tr th:only-of-type {\n",
       "        vertical-align: middle;\n",
       "    }\n",
       "\n",
       "    .dataframe tbody tr th {\n",
       "        vertical-align: top;\n",
       "    }\n",
       "\n",
       "    .dataframe thead th {\n",
       "        text-align: right;\n",
       "    }\n",
       "</style>\n",
       "<table border=\"1\" class=\"dataframe\">\n",
       "  <thead>\n",
       "    <tr style=\"text-align: right;\">\n",
       "      <th></th>\n",
       "      <th>competitorname</th>\n",
       "      <th>chocolate</th>\n",
       "      <th>fruity</th>\n",
       "      <th>caramel</th>\n",
       "      <th>peanutyalmondy</th>\n",
       "      <th>nougat</th>\n",
       "      <th>crispedricewafer</th>\n",
       "      <th>hard</th>\n",
       "      <th>bar</th>\n",
       "      <th>pluribus</th>\n",
       "      <th>sugarpercent</th>\n",
       "      <th>pricepercent</th>\n",
       "      <th>winpercent</th>\n",
       "    </tr>\n",
       "    <tr>\n",
       "      <th>id</th>\n",
       "      <th></th>\n",
       "      <th></th>\n",
       "      <th></th>\n",
       "      <th></th>\n",
       "      <th></th>\n",
       "      <th></th>\n",
       "      <th></th>\n",
       "      <th></th>\n",
       "      <th></th>\n",
       "      <th></th>\n",
       "      <th></th>\n",
       "      <th></th>\n",
       "      <th></th>\n",
       "    </tr>\n",
       "  </thead>\n",
       "  <tbody>\n",
       "    <tr>\n",
       "      <th>0</th>\n",
       "      <td>100 Grand</td>\n",
       "      <td>Yes</td>\n",
       "      <td>No</td>\n",
       "      <td>Yes</td>\n",
       "      <td>No</td>\n",
       "      <td>No</td>\n",
       "      <td>Yes</td>\n",
       "      <td>No</td>\n",
       "      <td>Yes</td>\n",
       "      <td>No</td>\n",
       "      <td>0.732</td>\n",
       "      <td>0.860</td>\n",
       "      <td>66.971725</td>\n",
       "    </tr>\n",
       "    <tr>\n",
       "      <th>1</th>\n",
       "      <td>3 Musketeers</td>\n",
       "      <td>Yes</td>\n",
       "      <td>No</td>\n",
       "      <td>No</td>\n",
       "      <td>No</td>\n",
       "      <td>Yes</td>\n",
       "      <td>No</td>\n",
       "      <td>No</td>\n",
       "      <td>Yes</td>\n",
       "      <td>No</td>\n",
       "      <td>0.604</td>\n",
       "      <td>0.511</td>\n",
       "      <td>67.602936</td>\n",
       "    </tr>\n",
       "    <tr>\n",
       "      <th>2</th>\n",
       "      <td>Air Heads</td>\n",
       "      <td>No</td>\n",
       "      <td>Yes</td>\n",
       "      <td>No</td>\n",
       "      <td>No</td>\n",
       "      <td>No</td>\n",
       "      <td>No</td>\n",
       "      <td>No</td>\n",
       "      <td>No</td>\n",
       "      <td>No</td>\n",
       "      <td>0.906</td>\n",
       "      <td>0.511</td>\n",
       "      <td>52.341465</td>\n",
       "    </tr>\n",
       "    <tr>\n",
       "      <th>3</th>\n",
       "      <td>Almond Joy</td>\n",
       "      <td>Yes</td>\n",
       "      <td>No</td>\n",
       "      <td>No</td>\n",
       "      <td>Yes</td>\n",
       "      <td>No</td>\n",
       "      <td>No</td>\n",
       "      <td>No</td>\n",
       "      <td>Yes</td>\n",
       "      <td>No</td>\n",
       "      <td>0.465</td>\n",
       "      <td>0.767</td>\n",
       "      <td>50.347546</td>\n",
       "    </tr>\n",
       "    <tr>\n",
       "      <th>4</th>\n",
       "      <td>Baby Ruth</td>\n",
       "      <td>Yes</td>\n",
       "      <td>No</td>\n",
       "      <td>Yes</td>\n",
       "      <td>Yes</td>\n",
       "      <td>Yes</td>\n",
       "      <td>No</td>\n",
       "      <td>No</td>\n",
       "      <td>Yes</td>\n",
       "      <td>No</td>\n",
       "      <td>0.604</td>\n",
       "      <td>0.767</td>\n",
       "      <td>56.914547</td>\n",
       "    </tr>\n",
       "  </tbody>\n",
       "</table>\n",
       "</div>"
      ],
      "text/plain": [
       "   competitorname chocolate fruity caramel peanutyalmondy nougat  \\\n",
       "id                                                                 \n",
       "0       100 Grand       Yes     No     Yes             No     No   \n",
       "1    3 Musketeers       Yes     No      No             No    Yes   \n",
       "2       Air Heads        No    Yes      No             No     No   \n",
       "3      Almond Joy       Yes     No      No            Yes     No   \n",
       "4       Baby Ruth       Yes     No     Yes            Yes    Yes   \n",
       "\n",
       "   crispedricewafer hard  bar pluribus  sugarpercent  pricepercent  winpercent  \n",
       "id                                                                              \n",
       "0               Yes   No  Yes       No         0.732         0.860   66.971725  \n",
       "1                No   No  Yes       No         0.604         0.511   67.602936  \n",
       "2                No   No   No       No         0.906         0.511   52.341465  \n",
       "3                No   No  Yes       No         0.465         0.767   50.347546  \n",
       "4                No   No  Yes       No         0.604         0.767   56.914547  "
      ]
     },
     "execution_count": 5,
     "metadata": {},
     "output_type": "execute_result"
    }
   ],
   "source": [
    "# Print the first five rows of the data\n",
    "# Your code here\n",
    "candy_data.head()"
   ]
  },
  {
   "cell_type": "markdown",
   "id": "68e92b68",
   "metadata": {
    "papermill": {
     "duration": 0.008328,
     "end_time": "2023-05-06T18:16:04.917149",
     "exception": false,
     "start_time": "2023-05-06T18:16:04.908821",
     "status": "completed"
    },
    "tags": []
   },
   "source": [
    "The dataset contains 83 rows, where each corresponds to a different candy bar.  There are 13 columns:\n",
    "- `'competitorname'` contains the name of the candy bar. \n",
    "- the next **9** columns (from `'chocolate'` to `'pluribus'`) describe the candy.  For instance, rows with chocolate candies have `\"Yes\"` in the `'chocolate'` column (and candies without chocolate have `\"No\"` in the same column).\n",
    "- `'sugarpercent'` provides some indication of the amount of sugar, where higher values signify higher sugar content.\n",
    "- `'pricepercent'` shows the price per unit, relative to the other candies in the dataset.\n",
    "- `'winpercent'` is calculated from the survey results; higher values indicate that the candy was more popular with survey respondents.\n",
    "\n",
    "Use the first five rows of the data to answer the questions below."
   ]
  },
  {
   "cell_type": "code",
   "execution_count": 6,
   "id": "b985d087",
   "metadata": {
    "execution": {
     "iopub.execute_input": "2023-05-06T18:16:04.936204Z",
     "iopub.status.busy": "2023-05-06T18:16:04.935180Z",
     "iopub.status.idle": "2023-05-06T18:16:04.943847Z",
     "shell.execute_reply": "2023-05-06T18:16:04.943034Z"
    },
    "papermill": {
     "duration": 0.020149,
     "end_time": "2023-05-06T18:16:04.945713",
     "exception": false,
     "start_time": "2023-05-06T18:16:04.925564",
     "status": "completed"
    },
    "tags": []
   },
   "outputs": [
    {
     "data": {
      "application/javascript": [
       "parent.postMessage({\"jupyterEvent\": \"custom.exercise_interaction\", \"data\": {\"outcomeType\": 1, \"valueTowardsCompletion\": 0.3333333333333333, \"interactionType\": 1, \"questionType\": 1, \"questionId\": \"2_ReviewData\", \"learnToolsVersion\": \"0.3.4\", \"failureMessage\": \"\", \"exceptionClass\": \"\", \"trace\": \"\"}}, \"*\")"
      ],
      "text/plain": [
       "<IPython.core.display.Javascript object>"
      ]
     },
     "metadata": {},
     "output_type": "display_data"
    },
    {
     "data": {
      "text/markdown": [
       "<span style=\"color:#33cc33\">Correct</span>"
      ],
      "text/plain": [
       "Correct"
      ]
     },
     "metadata": {},
     "output_type": "display_data"
    }
   ],
   "source": [
    "# Fill in the line below: Which candy was more popular with survey respondents:\n",
    "# '3 Musketeers' or 'Almond Joy'?  (Please enclose your answer in single quotes.)\n",
    "more_popular = '3 Musketeers'\n",
    "\n",
    "# Fill in the line below: Which candy has higher sugar content: 'Air Heads'\n",
    "# or 'Baby Ruth'? (Please enclose your answer in single quotes.)\n",
    "more_sugar = 'Air Heads'\n",
    "\n",
    "# Check your answers\n",
    "step_2.check()"
   ]
  },
  {
   "cell_type": "code",
   "execution_count": 7,
   "id": "f0885c56",
   "metadata": {
    "execution": {
     "iopub.execute_input": "2023-05-06T18:16:04.964744Z",
     "iopub.status.busy": "2023-05-06T18:16:04.964042Z",
     "iopub.status.idle": "2023-05-06T18:16:04.971134Z",
     "shell.execute_reply": "2023-05-06T18:16:04.970413Z"
    },
    "papermill": {
     "duration": 0.018787,
     "end_time": "2023-05-06T18:16:04.973159",
     "exception": false,
     "start_time": "2023-05-06T18:16:04.954372",
     "status": "completed"
    },
    "tags": []
   },
   "outputs": [
    {
     "data": {
      "application/javascript": [
       "parent.postMessage({\"jupyterEvent\": \"custom.exercise_interaction\", \"data\": {\"interactionType\": 3, \"questionType\": 1, \"questionId\": \"2_ReviewData\", \"learnToolsVersion\": \"0.3.4\", \"valueTowardsCompletion\": 0.0, \"failureMessage\": \"\", \"exceptionClass\": \"\", \"trace\": \"\", \"outcomeType\": 4}}, \"*\")"
      ],
      "text/plain": [
       "<IPython.core.display.Javascript object>"
      ]
     },
     "metadata": {},
     "output_type": "display_data"
    },
    {
     "data": {
      "text/markdown": [
       "<span style=\"color:#33cc99\">Solution:</span> \n",
       "```python\n",
       "# Print the first five rows of the data\n",
       "candy_data.head()\n",
       "# Which candy was more popular with survey respondents:\n",
       "# '3 Musketeers' or 'Almond Joy'?\n",
       "more_popular = '3 Musketeers'\n",
       "# Which candy has higher sugar content: 'Air Heads'\n",
       "# or 'Baby Ruth'?\n",
       "more_sugar = 'Air Heads'\n",
       "\n",
       "```"
      ],
      "text/plain": [
       "Solution: \n",
       "```python\n",
       "# Print the first five rows of the data\n",
       "candy_data.head()\n",
       "# Which candy was more popular with survey respondents:\n",
       "# '3 Musketeers' or 'Almond Joy'?\n",
       "more_popular = '3 Musketeers'\n",
       "# Which candy has higher sugar content: 'Air Heads'\n",
       "# or 'Baby Ruth'?\n",
       "more_sugar = 'Air Heads'\n",
       "\n",
       "```"
      ]
     },
     "metadata": {},
     "output_type": "display_data"
    }
   ],
   "source": [
    "# Lines below will give you a hint or solution code\n",
    "#step_2.hint()\n",
    "step_2.solution()"
   ]
  },
  {
   "cell_type": "markdown",
   "id": "5b3c9807",
   "metadata": {
    "papermill": {
     "duration": 0.008612,
     "end_time": "2023-05-06T18:16:04.990775",
     "exception": false,
     "start_time": "2023-05-06T18:16:04.982163",
     "status": "completed"
    },
    "tags": []
   },
   "source": [
    "## Step 3: The role of sugar\n",
    "\n",
    "Do people tend to prefer candies with higher sugar content?  \n",
    "\n",
    "#### Part A\n",
    "\n",
    "Create a scatter plot that shows the relationship between `'sugarpercent'` (on the horizontal x-axis) and `'winpercent'` (on the vertical y-axis).  _Don't add a regression line just yet -- you'll do that in the next step!_"
   ]
  },
  {
   "cell_type": "code",
   "execution_count": 8,
   "id": "6e38ca1a",
   "metadata": {
    "execution": {
     "iopub.execute_input": "2023-05-06T18:16:05.010531Z",
     "iopub.status.busy": "2023-05-06T18:16:05.009864Z",
     "iopub.status.idle": "2023-05-06T18:16:05.292950Z",
     "shell.execute_reply": "2023-05-06T18:16:05.291883Z"
    },
    "papermill": {
     "duration": 0.295483,
     "end_time": "2023-05-06T18:16:05.295187",
     "exception": false,
     "start_time": "2023-05-06T18:16:04.999704",
     "status": "completed"
    },
    "tags": []
   },
   "outputs": [
    {
     "data": {
      "application/javascript": [
       "parent.postMessage({\"jupyterEvent\": \"custom.exercise_interaction\", \"data\": {\"outcomeType\": 1, \"valueTowardsCompletion\": 0.3333333333333333, \"interactionType\": 1, \"questionType\": 2, \"questionId\": \"3.1_PlotBlueScatter\", \"learnToolsVersion\": \"0.3.4\", \"failureMessage\": \"\", \"exceptionClass\": \"\", \"trace\": \"\"}}, \"*\")"
      ],
      "text/plain": [
       "<IPython.core.display.Javascript object>"
      ]
     },
     "metadata": {},
     "output_type": "display_data"
    },
    {
     "data": {
      "text/markdown": [
       "<span style=\"color:#33cc33\">Correct</span>"
      ],
      "text/plain": [
       "Correct"
      ]
     },
     "metadata": {},
     "output_type": "display_data"
    },
    {
     "data": {
      "image/png": "[encoded data removed]",
      "text/plain": [
       "<Figure size 640x480 with 1 Axes>"
      ]
     },
     "metadata": {},
     "output_type": "display_data"
    }
   ],
   "source": [
    "# Scatter plot showing the relationship between 'sugarpercent' and 'winpercent'\n",
    "# Your code here\n",
    "sns.scatterplot(x='sugarpercent',y='winpercent',data=candy_data)\n",
    "# Check your answer\n",
    "step_3.a.check()"
   ]
  },
  {
   "cell_type": "code",
   "execution_count": 9,
   "id": "bbc8066b",
   "metadata": {
    "execution": {
     "iopub.execute_input": "2023-05-06T18:16:05.316539Z",
     "iopub.status.busy": "2023-05-06T18:16:05.315733Z",
     "iopub.status.idle": "2023-05-06T18:16:05.319753Z",
     "shell.execute_reply": "2023-05-06T18:16:05.318879Z"
    },
    "papermill": {
     "duration": 0.017168,
     "end_time": "2023-05-06T18:16:05.321911",
     "exception": false,
     "start_time": "2023-05-06T18:16:05.304743",
     "status": "completed"
    },
    "tags": []
   },
   "outputs": [],
   "source": [
    "# Lines below will give you a hint or solution code\n",
    "#step_3.a.hint()\n",
    "#step_3.a.solution_plot()"
   ]
  },
  {
   "cell_type": "markdown",
   "id": "180697fb",
   "metadata": {
    "papermill": {
     "duration": 0.009222,
     "end_time": "2023-05-06T18:16:05.340912",
     "exception": false,
     "start_time": "2023-05-06T18:16:05.331690",
     "status": "completed"
    },
    "tags": []
   },
   "source": [
    "#### Part B\n",
    "\n",
    "Does the scatter plot show a **strong** correlation between the two variables?  If so, are candies with more sugar relatively more or less popular with the survey respondents?"
   ]
  },
  {
   "cell_type": "code",
   "execution_count": 10,
   "id": "58574e85",
   "metadata": {
    "execution": {
     "iopub.execute_input": "2023-05-06T18:16:05.361756Z",
     "iopub.status.busy": "2023-05-06T18:16:05.361078Z",
     "iopub.status.idle": "2023-05-06T18:16:05.364804Z",
     "shell.execute_reply": "2023-05-06T18:16:05.364101Z"
    },
    "papermill": {
     "duration": 0.016325,
     "end_time": "2023-05-06T18:16:05.366696",
     "exception": false,
     "start_time": "2023-05-06T18:16:05.350371",
     "status": "completed"
    },
    "tags": []
   },
   "outputs": [],
   "source": [
    "#step_3.b.hint()"
   ]
  },
  {
   "cell_type": "code",
   "execution_count": 11,
   "id": "feffdf45",
   "metadata": {
    "execution": {
     "iopub.execute_input": "2023-05-06T18:16:05.388101Z",
     "iopub.status.busy": "2023-05-06T18:16:05.387451Z",
     "iopub.status.idle": "2023-05-06T18:16:05.394766Z",
     "shell.execute_reply": "2023-05-06T18:16:05.393710Z"
    },
    "papermill": {
     "duration": 0.020297,
     "end_time": "2023-05-06T18:16:05.396849",
     "exception": false,
     "start_time": "2023-05-06T18:16:05.376552",
     "status": "completed"
    },
    "tags": []
   },
   "outputs": [
    {
     "data": {
      "application/javascript": [
       "parent.postMessage({\"jupyterEvent\": \"custom.exercise_interaction\", \"data\": {\"interactionType\": 3, \"questionType\": 4, \"questionId\": \"3.2_ThinkBlueScatter\", \"learnToolsVersion\": \"0.3.4\", \"valueTowardsCompletion\": 0.0, \"failureMessage\": \"\", \"exceptionClass\": \"\", \"trace\": \"\", \"outcomeType\": 4}}, \"*\")"
      ],
      "text/plain": [
       "<IPython.core.display.Javascript object>"
      ]
     },
     "metadata": {},
     "output_type": "display_data"
    },
    {
     "data": {
      "text/markdown": [
       "<span style=\"color:#33cc99\">Solution:</span> The scatter plot does not show a strong correlation between the two variables. Since there is no clear relationship between the two variables, this tells us that sugar content does not play a strong role in candy popularity."
      ],
      "text/plain": [
       "Solution: The scatter plot does not show a strong correlation between the two variables. Since there is no clear relationship between the two variables, this tells us that sugar content does not play a strong role in candy popularity."
      ]
     },
     "metadata": {},
     "output_type": "display_data"
    }
   ],
   "source": [
    "# Check your answer (Run this code cell to receive credit!)\n",
    "step_3.b.solution()"
   ]
  },
  {
   "cell_type": "markdown",
   "id": "cbaffc54",
   "metadata": {
    "papermill": {
     "duration": 0.009492,
     "end_time": "2023-05-06T18:16:05.416252",
     "exception": false,
     "start_time": "2023-05-06T18:16:05.406760",
     "status": "completed"
    },
    "tags": []
   },
   "source": [
    "## Step 4: Take a closer look\n",
    "\n",
    "#### Part A\n",
    "\n",
    "Create the same scatter plot you created in **Step 3**, but now with a regression line!"
   ]
  },
  {
   "cell_type": "code",
   "execution_count": 12,
   "id": "61a1e6c7",
   "metadata": {
    "execution": {
     "iopub.execute_input": "2023-05-06T18:16:05.437328Z",
     "iopub.status.busy": "2023-05-06T18:16:05.436941Z",
     "iopub.status.idle": "2023-05-06T18:16:05.811451Z",
     "shell.execute_reply": "2023-05-06T18:16:05.809925Z"
    },
    "papermill": {
     "duration": 0.390705,
     "end_time": "2023-05-06T18:16:05.816730",
     "exception": false,
     "start_time": "2023-05-06T18:16:05.426025",
     "status": "completed"
    },
    "tags": []
   },
   "outputs": [
    {
     "data": {
      "application/javascript": [
       "parent.postMessage({\"jupyterEvent\": \"custom.exercise_interaction\", \"data\": {\"outcomeType\": 1, \"valueTowardsCompletion\": 0.3333333333333333, \"interactionType\": 1, \"questionType\": 2, \"questionId\": \"4.1_PlotBlueReg\", \"learnToolsVersion\": \"0.3.4\", \"failureMessage\": \"\", \"exceptionClass\": \"\", \"trace\": \"\"}}, \"*\")"
      ],
      "text/plain": [
       "<IPython.core.display.Javascript object>"
      ]
     },
     "metadata": {},
     "output_type": "display_data"
    },
    {
     "data": {
      "text/markdown": [
       "<span style=\"color:#33cc33\">Correct</span>"
      ],
      "text/plain": [
       "Correct"
      ]
     },
     "metadata": {},
     "output_type": "display_data"
    },
    {
     "data": {
      "image/png": "[encoded data removed]",
      "text/plain": [
       "<Figure size 640x480 with 1 Axes>"
      ]
     },
     "metadata": {},
     "output_type": "display_data"
    }
   ],
   "source": [
    "# Scatter plot w/ regression line showing the relationship between 'sugarpercent' and 'winpercent'\n",
    "# Your code here\n",
    "sns.regplot(x='sugarpercent',y='winpercent',data=candy_data)\n",
    "\n",
    "# Check your answer\n",
    "step_4.a.check()"
   ]
  },
  {
   "cell_type": "code",
   "execution_count": 13,
   "id": "16c830b9",
   "metadata": {
    "execution": {
     "iopub.execute_input": "2023-05-06T18:16:05.853535Z",
     "iopub.status.busy": "2023-05-06T18:16:05.852723Z",
     "iopub.status.idle": "2023-05-06T18:16:05.859045Z",
     "shell.execute_reply": "2023-05-06T18:16:05.857659Z"
    },
    "papermill": {
     "duration": 0.027335,
     "end_time": "2023-05-06T18:16:05.861121",
     "exception": false,
     "start_time": "2023-05-06T18:16:05.833786",
     "status": "completed"
    },
    "tags": []
   },
   "outputs": [],
   "source": [
    "# Lines below will give you a hint or solution code\n",
    "#step_4.a.hint()\n",
    "#step_4.a.solution_plot()"
   ]
  },
  {
   "cell_type": "markdown",
   "id": "0bcd284a",
   "metadata": {
    "papermill": {
     "duration": 0.010277,
     "end_time": "2023-05-06T18:16:05.882451",
     "exception": false,
     "start_time": "2023-05-06T18:16:05.872174",
     "status": "completed"
    },
    "tags": []
   },
   "source": [
    "#### Part B\n",
    "\n",
    "According to the plot above, is there a **slight** correlation between `'winpercent'` and `'sugarpercent'`?  What does this tell you about the candy that people tend to prefer?"
   ]
  },
  {
   "cell_type": "markdown",
   "id": "4372a3d0",
   "metadata": {
    "papermill": {
     "duration": 0.010195,
     "end_time": "2023-05-06T18:16:05.903072",
     "exception": false,
     "start_time": "2023-05-06T18:16:05.892877",
     "status": "completed"
    },
    "tags": []
   },
   "source": [
    "small positive corelation"
   ]
  },
  {
   "cell_type": "code",
   "execution_count": 14,
   "id": "a169ff91",
   "metadata": {
    "execution": {
     "iopub.execute_input": "2023-05-06T18:16:05.925884Z",
     "iopub.status.busy": "2023-05-06T18:16:05.925502Z",
     "iopub.status.idle": "2023-05-06T18:16:05.929821Z",
     "shell.execute_reply": "2023-05-06T18:16:05.928880Z"
    },
    "papermill": {
     "duration": 0.018288,
     "end_time": "2023-05-06T18:16:05.931806",
     "exception": false,
     "start_time": "2023-05-06T18:16:05.913518",
     "status": "completed"
    },
    "tags": []
   },
   "outputs": [],
   "source": [
    "#step_4.b.hint()"
   ]
  },
  {
   "cell_type": "code",
   "execution_count": 15,
   "id": "e5e9f6de",
   "metadata": {
    "execution": {
     "iopub.execute_input": "2023-05-06T18:16:05.954253Z",
     "iopub.status.busy": "2023-05-06T18:16:05.953827Z",
     "iopub.status.idle": "2023-05-06T18:16:05.962209Z",
     "shell.execute_reply": "2023-05-06T18:16:05.961107Z"
    },
    "papermill": {
     "duration": 0.021836,
     "end_time": "2023-05-06T18:16:05.964147",
     "exception": false,
     "start_time": "2023-05-06T18:16:05.942311",
     "status": "completed"
    },
    "tags": []
   },
   "outputs": [
    {
     "data": {
      "application/javascript": [
       "parent.postMessage({\"jupyterEvent\": \"custom.exercise_interaction\", \"data\": {\"interactionType\": 3, \"questionType\": 4, \"questionId\": \"4.2_ThinkBlueReg\", \"learnToolsVersion\": \"0.3.4\", \"valueTowardsCompletion\": 0.0, \"failureMessage\": \"\", \"exceptionClass\": \"\", \"trace\": \"\", \"outcomeType\": 4}}, \"*\")"
      ],
      "text/plain": [
       "<IPython.core.display.Javascript object>"
      ]
     },
     "metadata": {},
     "output_type": "display_data"
    },
    {
     "data": {
      "text/markdown": [
       "<span style=\"color:#33cc99\">Solution:</span> Since the regression line has a slightly positive slope, this tells us that there is a slightly positive correlation between `'winpercent'` and `'sugarpercent'`. Thus, people have a slight preference for candies containing relatively more sugar."
      ],
      "text/plain": [
       "Solution: Since the regression line has a slightly positive slope, this tells us that there is a slightly positive correlation between `'winpercent'` and `'sugarpercent'`. Thus, people have a slight preference for candies containing relatively more sugar."
      ]
     },
     "metadata": {},
     "output_type": "display_data"
    }
   ],
   "source": [
    "# Check your answer (Run this code cell to receive credit!)\n",
    "step_4.b.solution()"
   ]
  },
  {
   "cell_type": "markdown",
   "id": "07c9ff48",
   "metadata": {
    "papermill": {
     "duration": 0.010688,
     "end_time": "2023-05-06T18:16:05.985500",
     "exception": false,
     "start_time": "2023-05-06T18:16:05.974812",
     "status": "completed"
    },
    "tags": []
   },
   "source": [
    "## Step 5: Chocolate!\n",
    "\n",
    "In the code cell below, create a scatter plot to show the relationship between `'pricepercent'` (on the horizontal x-axis) and `'winpercent'` (on the vertical y-axis). Use the `'chocolate'` column to color-code the points.  _Don't add any regression lines just yet -- you'll do that in the next step!_"
   ]
  },
  {
   "cell_type": "code",
   "execution_count": 16,
   "id": "5d3ae45b",
   "metadata": {
    "execution": {
     "iopub.execute_input": "2023-05-06T18:16:06.009251Z",
     "iopub.status.busy": "2023-05-06T18:16:06.008642Z",
     "iopub.status.idle": "2023-05-06T18:16:06.338644Z",
     "shell.execute_reply": "2023-05-06T18:16:06.337346Z"
    },
    "papermill": {
     "duration": 0.344653,
     "end_time": "2023-05-06T18:16:06.341209",
     "exception": false,
     "start_time": "2023-05-06T18:16:05.996556",
     "status": "completed"
    },
    "tags": []
   },
   "outputs": [
    {
     "data": {
      "application/javascript": [
       "parent.postMessage({\"jupyterEvent\": \"custom.exercise_interaction\", \"data\": {\"outcomeType\": 1, \"valueTowardsCompletion\": 0.3333333333333333, \"interactionType\": 1, \"questionType\": 2, \"questionId\": \"5_ColorScatter\", \"learnToolsVersion\": \"0.3.4\", \"failureMessage\": \"\", \"exceptionClass\": \"\", \"trace\": \"\"}}, \"*\")"
      ],
      "text/plain": [
       "<IPython.core.display.Javascript object>"
      ]
     },
     "metadata": {},
     "output_type": "display_data"
    },
    {
     "data": {
      "text/markdown": [
       "<span style=\"color:#33cc33\">Correct</span>"
      ],
      "text/plain": [
       "Correct"
      ]
     },
     "metadata": {},
     "output_type": "display_data"
    },
    {
     "data": {
      "image/png": "[encoded data removed]",
      "text/plain": [
       "<Figure size 640x480 with 1 Axes>"
      ]
     },
     "metadata": {},
     "output_type": "display_data"
    }
   ],
   "source": [
    "# Scatter plot showing the relationship between 'pricepercent', 'winpercent', and 'chocolate'\n",
    "# Your code here\n",
    "sns.scatterplot(x='sugarpercent',y='winpercent',data=candy_data,hue=\"chocolate\")\n",
    "# Check your answer\n",
    "step_5.check()"
   ]
  },
  {
   "cell_type": "code",
   "execution_count": 17,
   "id": "2f88c5b0",
   "metadata": {
    "execution": {
     "iopub.execute_input": "2023-05-06T18:16:06.368625Z",
     "iopub.status.busy": "2023-05-06T18:16:06.368229Z",
     "iopub.status.idle": "2023-05-06T18:16:06.373082Z",
     "shell.execute_reply": "2023-05-06T18:16:06.371761Z"
    },
    "papermill": {
     "duration": 0.021942,
     "end_time": "2023-05-06T18:16:06.375486",
     "exception": false,
     "start_time": "2023-05-06T18:16:06.353544",
     "status": "completed"
    },
    "tags": []
   },
   "outputs": [],
   "source": [
    "# Lines below will give you a hint or solution code\n",
    "#step_5.hint()\n",
    "#step_5.solution_plot()"
   ]
  },
  {
   "cell_type": "markdown",
   "id": "4cf8795f",
   "metadata": {
    "papermill": {
     "duration": 0.011337,
     "end_time": "2023-05-06T18:16:06.398590",
     "exception": false,
     "start_time": "2023-05-06T18:16:06.387253",
     "status": "completed"
    },
    "tags": []
   },
   "source": [
    "Can you see any interesting patterns in the scatter plot?  We'll investigate this plot further  by adding regression lines in the next step!\n",
    "\n",
    "## Step 6: Investigate chocolate\n",
    "\n",
    "#### Part A\n",
    "\n",
    "Create the same scatter plot you created in **Step 5**, but now with two regression lines, corresponding to (1) chocolate candies and (2) candies without chocolate."
   ]
  },
  {
   "cell_type": "code",
   "execution_count": 18,
   "id": "8a0e57ca",
   "metadata": {
    "execution": {
     "iopub.execute_input": "2023-05-06T18:16:06.424347Z",
     "iopub.status.busy": "2023-05-06T18:16:06.423990Z",
     "iopub.status.idle": "2023-05-06T18:16:07.132109Z",
     "shell.execute_reply": "2023-05-06T18:16:07.130934Z"
    },
    "papermill": {
     "duration": 0.723963,
     "end_time": "2023-05-06T18:16:07.134715",
     "exception": false,
     "start_time": "2023-05-06T18:16:06.410752",
     "status": "completed"
    },
    "tags": []
   },
   "outputs": [
    {
     "data": {
      "application/javascript": [
       "parent.postMessage({\"jupyterEvent\": \"custom.exercise_interaction\", \"data\": {\"outcomeType\": 1, \"valueTowardsCompletion\": 0.3333333333333333, \"interactionType\": 1, \"questionType\": 2, \"questionId\": \"6.1_PlotColorReg\", \"learnToolsVersion\": \"0.3.4\", \"failureMessage\": \"\", \"exceptionClass\": \"\", \"trace\": \"\"}}, \"*\")"
      ],
      "text/plain": [
       "<IPython.core.display.Javascript object>"
      ]
     },
     "metadata": {},
     "output_type": "display_data"
    },
    {
     "data": {
      "text/markdown": [
       "<span style=\"color:#33cc33\">Correct</span>"
      ],
      "text/plain": [
       "Correct"
      ]
     },
     "metadata": {},
     "output_type": "display_data"
    },
    {
     "data": {
      "image/png": "[encoded data removed]",
      "text/plain": [
       "<Figure size 578.611x500 with 1 Axes>"
      ]
     },
     "metadata": {},
     "output_type": "display_data"
    }
   ],
   "source": [
    "# Color-coded scatter plot w/ regression lines\n",
    "____ # Your code here\n",
    "sns.lmplot(x='sugarpercent',y='winpercent',data=candy_data,hue=\"chocolate\")\n",
    "\n",
    "# Check your answer\n",
    "step_6.a.check()"
   ]
  },
  {
   "cell_type": "code",
   "execution_count": 19,
   "id": "f2d0789f",
   "metadata": {
    "execution": {
     "iopub.execute_input": "2023-05-06T18:16:07.161906Z",
     "iopub.status.busy": "2023-05-06T18:16:07.161497Z",
     "iopub.status.idle": "2023-05-06T18:16:07.165733Z",
     "shell.execute_reply": "2023-05-06T18:16:07.164883Z"
    },
    "papermill": {
     "duration": 0.020005,
     "end_time": "2023-05-06T18:16:07.167685",
     "exception": false,
     "start_time": "2023-05-06T18:16:07.147680",
     "status": "completed"
    },
    "tags": []
   },
   "outputs": [],
   "source": [
    "# Lines below will give you a hint or solution code\n",
    "#step_6.a.hint()\n",
    "#step_6.a.solution_plot()"
   ]
  },
  {
   "cell_type": "markdown",
   "id": "055ec552",
   "metadata": {
    "papermill": {
     "duration": 0.01263,
     "end_time": "2023-05-06T18:16:07.193264",
     "exception": false,
     "start_time": "2023-05-06T18:16:07.180634",
     "status": "completed"
    },
    "tags": []
   },
   "source": [
    "#### Part B\n",
    "\n",
    "Using the regression lines, what conclusions can you draw about the effects of chocolate and price on candy popularity?"
   ]
  },
  {
   "cell_type": "code",
   "execution_count": 20,
   "id": "90de804c",
   "metadata": {
    "execution": {
     "iopub.execute_input": "2023-05-06T18:16:07.220910Z",
     "iopub.status.busy": "2023-05-06T18:16:07.220195Z",
     "iopub.status.idle": "2023-05-06T18:16:07.224240Z",
     "shell.execute_reply": "2023-05-06T18:16:07.223283Z"
    },
    "papermill": {
     "duration": 0.02031,
     "end_time": "2023-05-06T18:16:07.226254",
     "exception": false,
     "start_time": "2023-05-06T18:16:07.205944",
     "status": "completed"
    },
    "tags": []
   },
   "outputs": [],
   "source": [
    "#step_6.b.hint()"
   ]
  },
  {
   "cell_type": "code",
   "execution_count": 21,
   "id": "2664527d",
   "metadata": {
    "execution": {
     "iopub.execute_input": "2023-05-06T18:16:07.254014Z",
     "iopub.status.busy": "2023-05-06T18:16:07.253612Z",
     "iopub.status.idle": "2023-05-06T18:16:07.260918Z",
     "shell.execute_reply": "2023-05-06T18:16:07.260224Z"
    },
    "papermill": {
     "duration": 0.023385,
     "end_time": "2023-05-06T18:16:07.262680",
     "exception": false,
     "start_time": "2023-05-06T18:16:07.239295",
     "status": "completed"
    },
    "tags": []
   },
   "outputs": [
    {
     "data": {
      "application/javascript": [
       "parent.postMessage({\"jupyterEvent\": \"custom.exercise_interaction\", \"data\": {\"interactionType\": 3, \"questionType\": 4, \"questionId\": \"6.2_ThinkColorReg\", \"learnToolsVersion\": \"0.3.4\", \"valueTowardsCompletion\": 0.0, \"failureMessage\": \"\", \"exceptionClass\": \"\", \"trace\": \"\", \"outcomeType\": 4}}, \"*\")"
      ],
      "text/plain": [
       "<IPython.core.display.Javascript object>"
      ]
     },
     "metadata": {},
     "output_type": "display_data"
    },
    {
     "data": {
      "text/markdown": [
       "<span style=\"color:#33cc99\">Solution:</span> We'll begin with the regression line for chocolate candies. Since this line has a slightly positive slope, we can say that more expensive chocolate candies tend to be more popular (than relatively cheaper chocolate candies).  Likewise, since the regression line for candies without chocolate has a negative slope, we can say that if candies don't contain chocolate, they tend to be more popular when they are cheaper.  One important note, however, is that the dataset is quite small -- so we shouldn't invest too much trust in these patterns!  To inspire more confidence in the results, we should add more candies to the dataset."
      ],
      "text/plain": [
       "Solution: We'll begin with the regression line for chocolate candies. Since this line has a slightly positive slope, we can say that more expensive chocolate candies tend to be more popular (than relatively cheaper chocolate candies).  Likewise, since the regression line for candies without chocolate has a negative slope, we can say that if candies don't contain chocolate, they tend to be more popular when they are cheaper.  One important note, however, is that the dataset is quite small -- so we shouldn't invest too much trust in these patterns!  To inspire more confidence in the results, we should add more candies to the dataset."
      ]
     },
     "metadata": {},
     "output_type": "display_data"
    }
   ],
   "source": [
    "# Check your answer (Run this code cell to receive credit!)\n",
    "step_6.b.solution()"
   ]
  },
  {
   "cell_type": "markdown",
   "id": "d65b3c83",
   "metadata": {
    "papermill": {
     "duration": 0.012732,
     "end_time": "2023-05-06T18:16:07.288551",
     "exception": false,
     "start_time": "2023-05-06T18:16:07.275819",
     "status": "completed"
    },
    "tags": []
   },
   "source": [
    "## Step 7: Everybody loves chocolate.\n",
    "\n",
    "#### Part A\n",
    "\n",
    "Create a categorical scatter plot to highlight the relationship between `'chocolate'` and `'winpercent'`.  Put `'chocolate'` on the (horizontal) x-axis, and `'winpercent'` on the (vertical) y-axis."
   ]
  },
  {
   "cell_type": "code",
   "execution_count": 22,
   "id": "aa29adb0",
   "metadata": {
    "execution": {
     "iopub.execute_input": "2023-05-06T18:16:07.316425Z",
     "iopub.status.busy": "2023-05-06T18:16:07.315787Z",
     "iopub.status.idle": "2023-05-06T18:16:07.749295Z",
     "shell.execute_reply": "2023-05-06T18:16:07.747929Z"
    },
    "papermill": {
     "duration": 0.451533,
     "end_time": "2023-05-06T18:16:07.753049",
     "exception": false,
     "start_time": "2023-05-06T18:16:07.301516",
     "status": "completed"
    },
    "tags": []
   },
   "outputs": [
    {
     "data": {
      "application/javascript": [
       "parent.postMessage({\"jupyterEvent\": \"custom.exercise_interaction\", \"data\": {\"outcomeType\": 1, \"valueTowardsCompletion\": 0.3333333333333333, \"interactionType\": 1, \"questionType\": 2, \"questionId\": \"7.1_PlotSwarm\", \"learnToolsVersion\": \"0.3.4\", \"failureMessage\": \"\", \"exceptionClass\": \"\", \"trace\": \"\"}}, \"*\")"
      ],
      "text/plain": [
       "<IPython.core.display.Javascript object>"
      ]
     },
     "metadata": {},
     "output_type": "display_data"
    },
    {
     "data": {
      "text/markdown": [
       "<span style=\"color:#33cc33\">Correct</span>"
      ],
      "text/plain": [
       "Correct"
      ]
     },
     "metadata": {},
     "output_type": "display_data"
    },
    {
     "data": {
      "image/png": "[encoded data removed]",
      "text/plain": [
       "<Figure size 640x480 with 1 Axes>"
      ]
     },
     "metadata": {},
     "output_type": "display_data"
    }
   ],
   "source": [
    "# Scatter plot showing the relationship between 'chocolate' and 'winpercent'\n",
    "____ # Your code here\n",
    "sns.swarmplot(x='chocolate',y='winpercent',data=candy_data)\n",
    "\n",
    "# Check your answer\n",
    "step_7.a.check()"
   ]
  },
  {
   "cell_type": "code",
   "execution_count": 23,
   "id": "f183310c",
   "metadata": {
    "execution": {
     "iopub.execute_input": "2023-05-06T18:16:07.807324Z",
     "iopub.status.busy": "2023-05-06T18:16:07.806627Z",
     "iopub.status.idle": "2023-05-06T18:16:07.810465Z",
     "shell.execute_reply": "2023-05-06T18:16:07.809553Z"
    },
    "papermill": {
     "duration": 0.024772,
     "end_time": "2023-05-06T18:16:07.812576",
     "exception": false,
     "start_time": "2023-05-06T18:16:07.787804",
     "status": "completed"
    },
    "tags": []
   },
   "outputs": [],
   "source": [
    "# Lines below will give you a hint or solution code\n",
    "#step_7.a.hint()\n",
    "#step_7.a.solution_plot()"
   ]
  },
  {
   "cell_type": "markdown",
   "id": "b3a0325d",
   "metadata": {
    "papermill": {
     "duration": 0.013284,
     "end_time": "2023-05-06T18:16:07.839775",
     "exception": false,
     "start_time": "2023-05-06T18:16:07.826491",
     "status": "completed"
    },
    "tags": []
   },
   "source": [
    "#### Part B\n",
    "\n",
    "You decide to dedicate a section of your report to the fact that chocolate candies tend to be more popular than candies without chocolate.  Which plot is more appropriate to tell this story: the plot from **Step 6**, or the plot from **Step 7**?"
   ]
  },
  {
   "cell_type": "code",
   "execution_count": 24,
   "id": "6ecb2d18",
   "metadata": {
    "execution": {
     "iopub.execute_input": "2023-05-06T18:16:07.868888Z",
     "iopub.status.busy": "2023-05-06T18:16:07.868183Z",
     "iopub.status.idle": "2023-05-06T18:16:07.871746Z",
     "shell.execute_reply": "2023-05-06T18:16:07.871103Z"
    },
    "papermill": {
     "duration": 0.020497,
     "end_time": "2023-05-06T18:16:07.873815",
     "exception": false,
     "start_time": "2023-05-06T18:16:07.853318",
     "status": "completed"
    },
    "tags": []
   },
   "outputs": [],
   "source": [
    "#step_7.b.hint()"
   ]
  },
  {
   "cell_type": "code",
   "execution_count": 25,
   "id": "88c0a7b7",
   "metadata": {
    "execution": {
     "iopub.execute_input": "2023-05-06T18:16:07.903172Z",
     "iopub.status.busy": "2023-05-06T18:16:07.902505Z",
     "iopub.status.idle": "2023-05-06T18:16:07.909415Z",
     "shell.execute_reply": "2023-05-06T18:16:07.908707Z"
    },
    "papermill": {
     "duration": 0.023676,
     "end_time": "2023-05-06T18:16:07.911273",
     "exception": false,
     "start_time": "2023-05-06T18:16:07.887597",
     "status": "completed"
    },
    "tags": []
   },
   "outputs": [
    {
     "data": {
      "application/javascript": [
       "parent.postMessage({\"jupyterEvent\": \"custom.exercise_interaction\", \"data\": {\"interactionType\": 3, \"questionType\": 4, \"questionId\": \"7.2_ThinkSwarm\", \"learnToolsVersion\": \"0.3.4\", \"valueTowardsCompletion\": 0.0, \"failureMessage\": \"\", \"exceptionClass\": \"\", \"trace\": \"\", \"outcomeType\": 4}}, \"*\")"
      ],
      "text/plain": [
       "<IPython.core.display.Javascript object>"
      ]
     },
     "metadata": {},
     "output_type": "display_data"
    },
    {
     "data": {
      "text/markdown": [
       "<span style=\"color:#33cc99\">Solution:</span> In this case, the categorical scatter plot from **Step 7** is the more appropriate plot. While both plots tell the desired story, the plot from **Step 6** conveys far more information that could distract from the main point."
      ],
      "text/plain": [
       "Solution: In this case, the categorical scatter plot from **Step 7** is the more appropriate plot. While both plots tell the desired story, the plot from **Step 6** conveys far more information that could distract from the main point."
      ]
     },
     "metadata": {},
     "output_type": "display_data"
    }
   ],
   "source": [
    "# Check your answer (Run this code cell to receive credit!)\n",
    "step_7.b.solution()"
   ]
  },
  {
   "cell_type": "markdown",
   "id": "258b6d0b",
   "metadata": {
    "papermill": {
     "duration": 0.013752,
     "end_time": "2023-05-06T18:16:07.938956",
     "exception": false,
     "start_time": "2023-05-06T18:16:07.925204",
     "status": "completed"
    },
    "tags": []
   },
   "source": [
    "## Keep going\n",
    "\n",
    "Explore **[histograms and density plots](https://www.kaggle.com/alexisbcook/distributions)**."
   ]
  },
  {
   "cell_type": "markdown",
   "id": "d78de9ed",
   "metadata": {
    "papermill": {
     "duration": 0.013447,
     "end_time": "2023-05-06T18:16:07.966156",
     "exception": false,
     "start_time": "2023-05-06T18:16:07.952709",
     "status": "completed"
    },
    "tags": []
   },
   "source": [
    "---\n",
    "\n",
    "\n",
    "\n",
    "\n",
    "*Have questions or comments? Visit the [course discussion forum](https://www.kaggle.com/learn/data-visualization/discussion) to chat with other learners.*"
   ]
  }
 ],
 "metadata": {
  "kernelspec": {
   "display_name": "Python 3",
   "language": "python",
   "name": "python3"
  },
  "language_info": {
   "codemirror_mode": {
    "name": "ipython",
    "version": 3
   },
   "file_extension": ".py",
   "mimetype": "text/x-python",
   "name": "python",
   "nbconvert_exporter": "python",
   "pygments_lexer": "ipython3",
   "version": "3.10.10"
  },
  "papermill": {
   "default_parameters": {},
   "duration": 15.261772,
   "end_time": "2023-05-06T18:16:09.001132",
   "environment_variables": {},
   "exception": null,
   "input_path": "__notebook__.ipynb",
   "output_path": "__notebook__.ipynb",
   "parameters": {},
   "start_time": "2023-05-06T18:15:53.739360",
   "version": "2.4.0"
  }
 },
 "nbformat": 4,
 "nbformat_minor": 5
}
