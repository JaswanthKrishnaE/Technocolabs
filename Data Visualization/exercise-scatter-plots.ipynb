{
 "cells": [
  {
   "cell_type": "markdown",
   "id": "1f0fefe4",
   "metadata": {
    "papermill": {
     "duration": 0.008423,
     "end_time": "2023-05-06T18:16:58.644914",
     "exception": false,
     "start_time": "2023-05-06T18:16:58.636491",
     "status": "completed"
    },
    "tags": []
   },
   "source": [
    "**This notebook is an exercise in the [Data Visualization](https://www.kaggle.com/learn/data-visualization) course.  You can reference the tutorial at [this link](https://www.kaggle.com/alexisbcook/scatter-plots).**\n",
    "\n",
    "---\n"
   ]
  },
  {
   "cell_type": "markdown",
   "id": "d25730a1",
   "metadata": {
    "papermill": {
     "duration": 0.007654,
     "end_time": "2023-05-06T18:16:58.660738",
     "exception": false,
     "start_time": "2023-05-06T18:16:58.653084",
     "status": "completed"
    },
    "tags": []
   },
   "source": [
    "In this exercise, you will use your new knowledge to propose a solution to a real-world scenario.  To succeed, you will need to import data into Python, answer questions using the data, and generate **scatter plots** to understand patterns in the data.\n",
    "\n",
    "## Scenario\n",
    "\n",
    "You work for a major candy producer, and your goal is to write a report that your company can use to guide the design of its next product.  Soon after starting your research, you stumble across this [very interesting dataset](https://fivethirtyeight.com/features/the-ultimate-halloween-candy-power-ranking/) containing results from a fun survey to crowdsource favorite candies.\n",
    "\n",
    "## Setup\n",
    "\n",
    "Run the next cell to import and configure the Python libraries that you need to complete the exercise."
   ]
  },
  {
   "cell_type": "code",
   "execution_count": 1,
   "id": "fc45f530",
   "metadata": {
    "execution": {
     "iopub.execute_input": "2023-05-06T18:16:58.678755Z",
     "iopub.status.busy": "2023-05-06T18:16:58.678242Z",
     "iopub.status.idle": "2023-05-06T18:17:00.050819Z",
     "shell.execute_reply": "2023-05-06T18:17:00.049364Z"
    },
    "papermill": {
     "duration": 1.384521,
     "end_time": "2023-05-06T18:17:00.053353",
     "exception": false,
     "start_time": "2023-05-06T18:16:58.668832",
     "status": "completed"
    },
    "tags": []
   },
   "outputs": [
    {
     "name": "stderr",
     "output_type": "stream",
     "text": [
      "/opt/conda/lib/python3.10/site-packages/scipy/__init__.py:146: UserWarning: A NumPy version >=1.16.5 and <1.23.0 is required for this version of SciPy (detected version 1.23.5\n",
      "  warnings.warn(f\"A NumPy version >={np_minversion} and <{np_maxversion}\"\n"
     ]
    },
    {
     "name": "stdout",
     "output_type": "stream",
     "text": [
      "Setup Complete\n"
     ]
    }
   ],
   "source": [
    "import pandas as pd\n",
    "import numpy as np\n",
    "pd.plotting.register_matplotlib_converters()\n",
    "import matplotlib.pyplot as plt\n",
    "%matplotlib inline\n",
    "import seaborn as sns\n",
    "print(\"Setup Complete\")"
   ]
  },
  {
   "cell_type": "markdown",
   "id": "5f741628",
   "metadata": {
    "papermill": {
     "duration": 0.007899,
     "end_time": "2023-05-06T18:17:00.069635",
     "exception": false,
     "start_time": "2023-05-06T18:17:00.061736",
     "status": "completed"
    },
    "tags": []
   },
   "source": [
    "The questions below will give you feedback on your work. Run the following cell to set up our feedback system."
   ]
  },
  {
   "cell_type": "code",
   "execution_count": 2,
   "id": "25c80897",
   "metadata": {
    "execution": {
     "iopub.execute_input": "2023-05-06T18:17:00.087625Z",
     "iopub.status.busy": "2023-05-06T18:17:00.087207Z",
     "iopub.status.idle": "2023-05-06T18:17:00.167713Z",
     "shell.execute_reply": "2023-05-06T18:17:00.166464Z"
    },
    "papermill": {
     "duration": 0.092262,
     "end_time": "2023-05-06T18:17:00.170113",
     "exception": false,
     "start_time": "2023-05-06T18:17:00.077851",
     "status": "completed"
    },
    "tags": []
   },
   "outputs": [
    {
     "name": "stdout",
     "output_type": "stream",
     "text": [
      "Setup Complete\n"
     ]
    }
   ],
   "source": [
    "# Set up code checking\n",
    "import os\n",
    "if not os.path.exists(\"../input/candy.csv\"):\n",
    "    os.symlink(\"../input/data-for-datavis/candy.csv\", \"../input/candy.csv\") \n",
    "from learntools.core import binder\n",
    "binder.bind(globals())\n",
    "from learntools.data_viz_to_coder.ex4 import *\n",
    "print(\"Setup Complete\")\n"
   ]
  },
  {
   "cell_type": "markdown",
   "id": "e1ea2b6f",
   "metadata": {
    "papermill": {
     "duration": 0.007653,
     "end_time": "2023-05-06T18:17:00.186109",
     "exception": false,
     "start_time": "2023-05-06T18:17:00.178456",
     "status": "completed"
    },
    "tags": []
   },
   "source": [
    "## Step 1: Load the Data\n",
    "\n",
    "Read the candy data file into `candy_data`.  Use the `\"id\"` column to label the rows."
   ]
  },
  {
   "cell_type": "code",
   "execution_count": 3,
   "id": "3e0eb854",
   "metadata": {
    "execution": {
     "iopub.execute_input": "2023-05-06T18:17:00.204576Z",
     "iopub.status.busy": "2023-05-06T18:17:00.203847Z",
     "iopub.status.idle": "2023-05-06T18:17:00.220977Z",
     "shell.execute_reply": "2023-05-06T18:17:00.219775Z"
    },
    "papermill": {
     "duration": 0.028813,
     "end_time": "2023-05-06T18:17:00.223173",
     "exception": false,
     "start_time": "2023-05-06T18:17:00.194360",
     "status": "completed"
    },
    "tags": []
   },
   "outputs": [
    {
     "data": {
      "application/javascript": [
       "parent.postMessage({\"jupyterEvent\": \"custom.exercise_interaction\", \"data\": {\"outcomeType\": 1, \"valueTowardsCompletion\": 0.3333333333333333, \"interactionType\": 1, \"questionType\": 1, \"questionId\": \"1_LoadData\", \"learnToolsVersion\": \"0.3.4\", \"failureMessage\": \"\", \"exceptionClass\": \"\", \"trace\": \"\"}}, \"*\")"
      ],
      "text/plain": [
       "<IPython.core.display.Javascript object>"
      ]
     },
     "metadata": {},
     "output_type": "display_data"
    },
    {
     "data": {
      "text/markdown": [
       "<span style=\"color:#33cc33\">Correct</span>"
      ],
      "text/plain": [
       "Correct"
      ]
     },
     "metadata": {},
     "output_type": "display_data"
    }
   ],
   "source": [
    "# Path of the file to read\n",
    "candy_filepath = \"../input/candy.csv\"\n",
    "\n",
    "# Fill in the line below to read the file into a variable candy_data\n",
    "candy_data = pd.read_csv(candy_filepath,index_col='id')\n",
    "\n",
    "# Run the line below with no changes to check that you've loaded the data correctly\n",
    "step_1.check()"
   ]
  },
  {
   "cell_type": "code",
   "execution_count": 4,
   "id": "37e13cb0",
   "metadata": {
    "execution": {
     "iopub.execute_input": "2023-05-06T18:17:00.242619Z",
     "iopub.status.busy": "2023-05-06T18:17:00.241892Z",
     "iopub.status.idle": "2023-05-06T18:17:00.246034Z",
     "shell.execute_reply": "2023-05-06T18:17:00.244930Z"
    },
    "papermill": {
     "duration": 0.016645,
     "end_time": "2023-05-06T18:17:00.248571",
     "exception": false,
     "start_time": "2023-05-06T18:17:00.231926",
     "status": "completed"
    },
    "tags": []
   },
   "outputs": [],
   "source": [
    "# Lines below will give you a hint or solution code\n",
    "#step_1.hint()\n",
    "#step_1.solution()"
   ]
  },
  {
   "cell_type": "markdown",
   "id": "4b3dcb75",
   "metadata": {
    "papermill": {
     "duration": 0.008461,
     "end_time": "2023-05-06T18:17:00.265728",
     "exception": false,
     "start_time": "2023-05-06T18:17:00.257267",
     "status": "completed"
    },
    "tags": []
   },
   "source": [
    "## Step 2: Review the data\n",
    "\n",
    "Use a Python command to print the first five rows of the data."
   ]
  },
  {
   "cell_type": "code",
   "execution_count": 5,
   "id": "8b1b77d6",
   "metadata": {
    "execution": {
     "iopub.execute_input": "2023-05-06T18:17:00.284536Z",
     "iopub.status.busy": "2023-05-06T18:17:00.284093Z",
     "iopub.status.idle": "2023-05-06T18:17:00.313981Z",
     "shell.execute_reply": "2023-05-06T18:17:00.312755Z"
    },
    "papermill": {
     "duration": 0.042013,
     "end_time": "2023-05-06T18:17:00.316443",
     "exception": false,
     "start_time": "2023-05-06T18:17:00.274430",
     "status": "completed"
    },
    "tags": []
   },
   "outputs": [
    {
     "data": {
      "text/html": [
       "<div>\n",
       "<style scoped>\n",
       "    .dataframe tbody tr th:only-of-type {\n",
       "        vertical-align: middle;\n",
       "    }\n",
       "\n",
       "    .dataframe tbody tr th {\n",
       "        vertical-align: top;\n",
       "    }\n",
       "\n",
       "    .dataframe thead th {\n",
       "        text-align: right;\n",
       "    }\n",
       "</style>\n",
       "<table border=\"1\" class=\"dataframe\">\n",
       "  <thead>\n",
       "    <tr style=\"text-align: right;\">\n",
       "      <th></th>\n",
       "      <th>competitorname</th>\n",
       "      <th>chocolate</th>\n",
       "      <th>fruity</th>\n",
       "      <th>caramel</th>\n",
       "      <th>peanutyalmondy</th>\n",
       "      <th>nougat</th>\n",
       "      <th>crispedricewafer</th>\n",
       "      <th>hard</th>\n",
       "      <th>bar</th>\n",
       "      <th>pluribus</th>\n",
       "      <th>sugarpercent</th>\n",
       "      <th>pricepercent</th>\n",
       "      <th>winpercent</th>\n",
       "    </tr>\n",
       "    <tr>\n",
       "      <th>id</th>\n",
       "      <th></th>\n",
       "      <th></th>\n",
       "      <th></th>\n",
       "      <th></th>\n",
       "      <th></th>\n",
       "      <th></th>\n",
       "      <th></th>\n",
       "      <th></th>\n",
       "      <th></th>\n",
       "      <th></th>\n",
       "      <th></th>\n",
       "      <th></th>\n",
       "      <th></th>\n",
       "    </tr>\n",
       "  </thead>\n",
       "  <tbody>\n",
       "    <tr>\n",
       "      <th>0</th>\n",
       "      <td>100 Grand</td>\n",
       "      <td>Yes</td>\n",
       "      <td>No</td>\n",
       "      <td>Yes</td>\n",
       "      <td>No</td>\n",
       "      <td>No</td>\n",
       "      <td>Yes</td>\n",
       "      <td>No</td>\n",
       "      <td>Yes</td>\n",
       "      <td>No</td>\n",
       "      <td>0.732</td>\n",
       "      <td>0.860</td>\n",
       "      <td>66.971725</td>\n",
       "    </tr>\n",
       "    <tr>\n",
       "      <th>1</th>\n",
       "      <td>3 Musketeers</td>\n",
       "      <td>Yes</td>\n",
       "      <td>No</td>\n",
       "      <td>No</td>\n",
       "      <td>No</td>\n",
       "      <td>Yes</td>\n",
       "      <td>No</td>\n",
       "      <td>No</td>\n",
       "      <td>Yes</td>\n",
       "      <td>No</td>\n",
       "      <td>0.604</td>\n",
       "      <td>0.511</td>\n",
       "      <td>67.602936</td>\n",
       "    </tr>\n",
       "    <tr>\n",
       "      <th>2</th>\n",
       "      <td>Air Heads</td>\n",
       "      <td>No</td>\n",
       "      <td>Yes</td>\n",
       "      <td>No</td>\n",
       "      <td>No</td>\n",
       "      <td>No</td>\n",
       "      <td>No</td>\n",
       "      <td>No</td>\n",
       "      <td>No</td>\n",
       "      <td>No</td>\n",
       "      <td>0.906</td>\n",
       "      <td>0.511</td>\n",
       "      <td>52.341465</td>\n",
       "    </tr>\n",
       "    <tr>\n",
       "      <th>3</th>\n",
       "      <td>Almond Joy</td>\n",
       "      <td>Yes</td>\n",
       "      <td>No</td>\n",
       "      <td>No</td>\n",
       "      <td>Yes</td>\n",
       "      <td>No</td>\n",
       "      <td>No</td>\n",
       "      <td>No</td>\n",
       "      <td>Yes</td>\n",
       "      <td>No</td>\n",
       "      <td>0.465</td>\n",
       "      <td>0.767</td>\n",
       "      <td>50.347546</td>\n",
       "    </tr>\n",
       "    <tr>\n",
       "      <th>4</th>\n",
       "      <td>Baby Ruth</td>\n",
       "      <td>Yes</td>\n",
       "      <td>No</td>\n",
       "      <td>Yes</td>\n",
       "      <td>Yes</td>\n",
       "      <td>Yes</td>\n",
       "      <td>No</td>\n",
       "      <td>No</td>\n",
       "      <td>Yes</td>\n",
       "      <td>No</td>\n",
       "      <td>0.604</td>\n",
       "      <td>0.767</td>\n",
       "      <td>56.914547</td>\n",
       "    </tr>\n",
       "  </tbody>\n",
       "</table>\n",
       "</div>"
      ],
      "text/plain": [
       "   competitorname chocolate fruity caramel peanutyalmondy nougat  \\\n",
       "id                                                                 \n",
       "0       100 Grand       Yes     No     Yes             No     No   \n",
       "1    3 Musketeers       Yes     No      No             No    Yes   \n",
       "2       Air Heads        No    Yes      No             No     No   \n",
       "3      Almond Joy       Yes     No      No            Yes     No   \n",
       "4       Baby Ruth       Yes     No     Yes            Yes    Yes   \n",
       "\n",
       "   crispedricewafer hard  bar pluribus  sugarpercent  pricepercent  winpercent  \n",
       "id                                                                              \n",
       "0               Yes   No  Yes       No         0.732         0.860   66.971725  \n",
       "1                No   No  Yes       No         0.604         0.511   67.602936  \n",
       "2                No   No   No       No         0.906         0.511   52.341465  \n",
       "3                No   No  Yes       No         0.465         0.767   50.347546  \n",
       "4                No   No  Yes       No         0.604         0.767   56.914547  "
      ]
     },
     "execution_count": 5,
     "metadata": {},
     "output_type": "execute_result"
    }
   ],
   "source": [
    "# Print the first five rows of the data\n",
    "# Your code here\n",
    "candy_data.head()"
   ]
  },
  {
   "cell_type": "markdown",
   "id": "c1763cd0",
   "metadata": {
    "papermill": {
     "duration": 0.008692,
     "end_time": "2023-05-06T18:17:00.334646",
     "exception": false,
     "start_time": "2023-05-06T18:17:00.325954",
     "status": "completed"
    },
    "tags": []
   },
   "source": [
    "The dataset contains 83 rows, where each corresponds to a different candy bar.  There are 13 columns:\n",
    "- `'competitorname'` contains the name of the candy bar. \n",
    "- the next **9** columns (from `'chocolate'` to `'pluribus'`) describe the candy.  For instance, rows with chocolate candies have `\"Yes\"` in the `'chocolate'` column (and candies without chocolate have `\"No\"` in the same column).\n",
    "- `'sugarpercent'` provides some indication of the amount of sugar, where higher values signify higher sugar content.\n",
    "- `'pricepercent'` shows the price per unit, relative to the other candies in the dataset.\n",
    "- `'winpercent'` is calculated from the survey results; higher values indicate that the candy was more popular with survey respondents.\n",
    "\n",
    "Use the first five rows of the data to answer the questions below."
   ]
  },
  {
   "cell_type": "code",
   "execution_count": 6,
   "id": "778d5d71",
   "metadata": {
    "execution": {
     "iopub.execute_input": "2023-05-06T18:17:00.354550Z",
     "iopub.status.busy": "2023-05-06T18:17:00.353865Z",
     "iopub.status.idle": "2023-05-06T18:17:00.363287Z",
     "shell.execute_reply": "2023-05-06T18:17:00.362414Z"
    },
    "papermill": {
     "duration": 0.021754,
     "end_time": "2023-05-06T18:17:00.365606",
     "exception": false,
     "start_time": "2023-05-06T18:17:00.343852",
     "status": "completed"
    },
    "tags": []
   },
   "outputs": [
    {
     "data": {
      "application/javascript": [
       "parent.postMessage({\"jupyterEvent\": \"custom.exercise_interaction\", \"data\": {\"outcomeType\": 1, \"valueTowardsCompletion\": 0.3333333333333333, \"interactionType\": 1, \"questionType\": 1, \"questionId\": \"2_ReviewData\", \"learnToolsVersion\": \"0.3.4\", \"failureMessage\": \"\", \"exceptionClass\": \"\", \"trace\": \"\"}}, \"*\")"
      ],
      "text/plain": [
       "<IPython.core.display.Javascript object>"
      ]
     },
     "metadata": {},
     "output_type": "display_data"
    },
    {
     "data": {
      "text/markdown": [
       "<span style=\"color:#33cc33\">Correct</span>"
      ],
      "text/plain": [
       "Correct"
      ]
     },
     "metadata": {},
     "output_type": "display_data"
    }
   ],
   "source": [
    "# Fill in the line below: Which candy was more popular with survey respondents:\n",
    "# '3 Musketeers' or 'Almond Joy'?  (Please enclose your answer in single quotes.)\n",
    "more_popular = '3 Musketeers'\n",
    "\n",
    "# Fill in the line below: Which candy has higher sugar content: 'Air Heads'\n",
    "# or 'Baby Ruth'? (Please enclose your answer in single quotes.)\n",
    "more_sugar = 'Air Heads'\n",
    "\n",
    "# Check your answers\n",
    "step_2.check()"
   ]
  },
  {
   "cell_type": "code",
   "execution_count": 7,
   "id": "461c4580",
   "metadata": {
    "execution": {
     "iopub.execute_input": "2023-05-06T18:17:00.386256Z",
     "iopub.status.busy": "2023-05-06T18:17:00.385557Z",
     "iopub.status.idle": "2023-05-06T18:17:00.392847Z",
     "shell.execute_reply": "2023-05-06T18:17:00.392039Z"
    },
    "papermill": {
     "duration": 0.020075,
     "end_time": "2023-05-06T18:17:00.395023",
     "exception": false,
     "start_time": "2023-05-06T18:17:00.374948",
     "status": "completed"
    },
    "tags": []
   },
   "outputs": [
    {
     "data": {
      "application/javascript": [
       "parent.postMessage({\"jupyterEvent\": \"custom.exercise_interaction\", \"data\": {\"interactionType\": 3, \"questionType\": 1, \"questionId\": \"2_ReviewData\", \"learnToolsVersion\": \"0.3.4\", \"valueTowardsCompletion\": 0.0, \"failureMessage\": \"\", \"exceptionClass\": \"\", \"trace\": \"\", \"outcomeType\": 4}}, \"*\")"
      ],
      "text/plain": [
       "<IPython.core.display.Javascript object>"
      ]
     },
     "metadata": {},
     "output_type": "display_data"
    },
    {
     "data": {
      "text/markdown": [
       "<span style=\"color:#33cc99\">Solution:</span> \n",
       "```python\n",
       "# Print the first five rows of the data\n",
       "candy_data.head()\n",
       "# Which candy was more popular with survey respondents:\n",
       "# '3 Musketeers' or 'Almond Joy'?\n",
       "more_popular = '3 Musketeers'\n",
       "# Which candy has higher sugar content: 'Air Heads'\n",
       "# or 'Baby Ruth'?\n",
       "more_sugar = 'Air Heads'\n",
       "\n",
       "```"
      ],
      "text/plain": [
       "Solution: \n",
       "```python\n",
       "# Print the first five rows of the data\n",
       "candy_data.head()\n",
       "# Which candy was more popular with survey respondents:\n",
       "# '3 Musketeers' or 'Almond Joy'?\n",
       "more_popular = '3 Musketeers'\n",
       "# Which candy has higher sugar content: 'Air Heads'\n",
       "# or 'Baby Ruth'?\n",
       "more_sugar = 'Air Heads'\n",
       "\n",
       "```"
      ]
     },
     "metadata": {},
     "output_type": "display_data"
    }
   ],
   "source": [
    "# Lines below will give you a hint or solution code\n",
    "#step_2.hint()\n",
    "step_2.solution()"
   ]
  },
  {
   "cell_type": "markdown",
   "id": "aa553f03",
   "metadata": {
    "papermill": {
     "duration": 0.009512,
     "end_time": "2023-05-06T18:17:00.414059",
     "exception": false,
     "start_time": "2023-05-06T18:17:00.404547",
     "status": "completed"
    },
    "tags": []
   },
   "source": [
    "## Step 3: The role of sugar\n",
    "\n",
    "Do people tend to prefer candies with higher sugar content?  \n",
    "\n",
    "#### Part A\n",
    "\n",
    "Create a scatter plot that shows the relationship between `'sugarpercent'` (on the horizontal x-axis) and `'winpercent'` (on the vertical y-axis).  _Don't add a regression line just yet -- you'll do that in the next step!_"
   ]
  },
  {
   "cell_type": "code",
   "execution_count": 8,
   "id": "6472889e",
   "metadata": {
    "execution": {
     "iopub.execute_input": "2023-05-06T18:17:00.435313Z",
     "iopub.status.busy": "2023-05-06T18:17:00.434579Z",
     "iopub.status.idle": "2023-05-06T18:17:00.713569Z",
     "shell.execute_reply": "2023-05-06T18:17:00.712273Z"
    },
    "papermill": {
     "duration": 0.29254,
     "end_time": "2023-05-06T18:17:00.716103",
     "exception": false,
     "start_time": "2023-05-06T18:17:00.423563",
     "status": "completed"
    },
    "tags": []
   },
   "outputs": [
    {
     "data": {
      "application/javascript": [
       "parent.postMessage({\"jupyterEvent\": \"custom.exercise_interaction\", \"data\": {\"outcomeType\": 1, \"valueTowardsCompletion\": 0.3333333333333333, \"interactionType\": 1, \"questionType\": 2, \"questionId\": \"3.1_PlotBlueScatter\", \"learnToolsVersion\": \"0.3.4\", \"failureMessage\": \"\", \"exceptionClass\": \"\", \"trace\": \"\"}}, \"*\")"
      ],
      "text/plain": [
       "<IPython.core.display.Javascript object>"
      ]
     },
     "metadata": {},
     "output_type": "display_data"
    },
    {
     "data": {
      "text/markdown": [
       "<span style=\"color:#33cc33\">Correct</span>"
      ],
      "text/plain": [
       "Correct"
      ]
     },
     "metadata": {},
     "output_type": "display_data"
    },
    {
     "data": {
      "image/png": "[encoded data removed]",
      "text/plain": [
       "<Figure size 640x480 with 1 Axes>"
      ]
     },
     "metadata": {},
     "output_type": "display_data"
    }
   ],
   "source": [
    "# Scatter plot showing the relationship between 'sugarpercent' and 'winpercent'\n",
    "# Your code here\n",
    "sns.scatterplot(x='sugarpercent',y='winpercent',data=candy_data)\n",
    "# Check your answer\n",
    "step_3.a.check()"
   ]
  },
  {
   "cell_type": "code",
   "execution_count": 9,
   "id": "c3c0800b",
   "metadata": {
    "execution": {
     "iopub.execute_input": "2023-05-06T18:17:00.738404Z",
     "iopub.status.busy": "2023-05-06T18:17:00.737955Z",
     "iopub.status.idle": "2023-05-06T18:17:00.742893Z",
     "shell.execute_reply": "2023-05-06T18:17:00.741706Z"
    },
    "papermill": {
     "duration": 0.019279,
     "end_time": "2023-05-06T18:17:00.745377",
     "exception": false,
     "start_time": "2023-05-06T18:17:00.726098",
     "status": "completed"
    },
    "tags": []
   },
   "outputs": [],
   "source": [
    "# Lines below will give you a hint or solution code\n",
    "#step_3.a.hint()\n",
    "#step_3.a.solution_plot()"
   ]
  },
  {
   "cell_type": "markdown",
   "id": "0e603c8f",
   "metadata": {
    "papermill": {
     "duration": 0.00953,
     "end_time": "2023-05-06T18:17:00.765166",
     "exception": false,
     "start_time": "2023-05-06T18:17:00.755636",
     "status": "completed"
    },
    "tags": []
   },
   "source": [
    "#### Part B\n",
    "\n",
    "Does the scatter plot show a **strong** correlation between the two variables?  If so, are candies with more sugar relatively more or less popular with the survey respondents?"
   ]
  },
  {
   "cell_type": "code",
   "execution_count": 10,
   "id": "3d2554a9",
   "metadata": {
    "execution": {
     "iopub.execute_input": "2023-05-06T18:17:00.786462Z",
     "iopub.status.busy": "2023-05-06T18:17:00.786043Z",
     "iopub.status.idle": "2023-05-06T18:17:00.791433Z",
     "shell.execute_reply": "2023-05-06T18:17:00.790354Z"
    },
    "papermill": {
     "duration": 0.018468,
     "end_time": "2023-05-06T18:17:00.793491",
     "exception": false,
     "start_time": "2023-05-06T18:17:00.775023",
     "status": "completed"
    },
    "tags": []
   },
   "outputs": [],
   "source": [
    "#step_3.b.hint()"
   ]
  },
  {
   "cell_type": "code",
   "execution_count": 11,
   "id": "4cd02b02",
   "metadata": {
    "execution": {
     "iopub.execute_input": "2023-05-06T18:17:00.815091Z",
     "iopub.status.busy": "2023-05-06T18:17:00.814702Z",
     "iopub.status.idle": "2023-05-06T18:17:00.823593Z",
     "shell.execute_reply": "2023-05-06T18:17:00.822512Z"
    },
    "papermill": {
     "duration": 0.022299,
     "end_time": "2023-05-06T18:17:00.825791",
     "exception": false,
     "start_time": "2023-05-06T18:17:00.803492",
     "status": "completed"
    },
    "tags": []
   },
   "outputs": [
    {
     "data": {
      "application/javascript": [
       "parent.postMessage({\"jupyterEvent\": \"custom.exercise_interaction\", \"data\": {\"interactionType\": 3, \"questionType\": 4, \"questionId\": \"3.2_ThinkBlueScatter\", \"learnToolsVersion\": \"0.3.4\", \"valueTowardsCompletion\": 0.0, \"failureMessage\": \"\", \"exceptionClass\": \"\", \"trace\": \"\", \"outcomeType\": 4}}, \"*\")"
      ],
      "text/plain": [
       "<IPython.core.display.Javascript object>"
      ]
     },
     "metadata": {},
     "output_type": "display_data"
    },
    {
     "data": {
      "text/markdown": [
       "<span style=\"color:#33cc99\">Solution:</span> The scatter plot does not show a strong correlation between the two variables. Since there is no clear relationship between the two variables, this tells us that sugar content does not play a strong role in candy popularity."
      ],
      "text/plain": [
       "Solution: The scatter plot does not show a strong correlation between the two variables. Since there is no clear relationship between the two variables, this tells us that sugar content does not play a strong role in candy popularity."
      ]
     },
     "metadata": {},
     "output_type": "display_data"
    }
   ],
   "source": [
    "# Check your answer (Run this code cell to receive credit!)\n",
    "step_3.b.solution()"
   ]
  },
  {
   "cell_type": "markdown",
   "id": "038ba41f",
   "metadata": {
    "papermill": {
     "duration": 0.009953,
     "end_time": "2023-05-06T18:17:00.846607",
     "exception": false,
     "start_time": "2023-05-06T18:17:00.836654",
     "status": "completed"
    },
    "tags": []
   },
   "source": [
    "## Step 4: Take a closer look\n",
    "\n",
    "#### Part A\n",
    "\n",
    "Create the same scatter plot you created in **Step 3**, but now with a regression line!"
   ]
  },
  {
   "cell_type": "code",
   "execution_count": 12,
   "id": "695466f3",
   "metadata": {
    "execution": {
     "iopub.execute_input": "2023-05-06T18:17:00.869152Z",
     "iopub.status.busy": "2023-05-06T18:17:00.868751Z",
     "iopub.status.idle": "2023-05-06T18:17:01.207577Z",
     "shell.execute_reply": "2023-05-06T18:17:01.206503Z"
    },
    "papermill": {
     "duration": 0.352952,
     "end_time": "2023-05-06T18:17:01.209877",
     "exception": false,
     "start_time": "2023-05-06T18:17:00.856925",
     "status": "completed"
    },
    "tags": []
   },
   "outputs": [
    {
     "data": {
      "application/javascript": [
       "parent.postMessage({\"jupyterEvent\": \"custom.exercise_interaction\", \"data\": {\"outcomeType\": 1, \"valueTowardsCompletion\": 0.3333333333333333, \"interactionType\": 1, \"questionType\": 2, \"questionId\": \"4.1_PlotBlueReg\", \"learnToolsVersion\": \"0.3.4\", \"failureMessage\": \"\", \"exceptionClass\": \"\", \"trace\": \"\"}}, \"*\")"
      ],
      "text/plain": [
       "<IPython.core.display.Javascript object>"
      ]
     },
     "metadata": {},
     "output_type": "display_data"
    },
    {
     "data": {
      "text/markdown": [
       "<span style=\"color:#33cc33\">Correct</span>"
      ],
      "text/plain": [
       "Correct"
      ]
     },
     "metadata": {},
     "output_type": "display_data"
    },
    {
     "data": {
      "image/png": "[encoded data removed]",
      "text/plain": [
       "<Figure size 640x480 with 1 Axes>"
      ]
     },
     "metadata": {},
     "output_type": "display_data"
    }
   ],
   "source": [
    "# Scatter plot w/ regression line showing the relationship between 'sugarpercent' and 'winpercent'\n",
    "# Your code here\n",
    "sns.regplot(x='sugarpercent',y='winpercent',data=candy_data)\n",
    "\n",
    "# Check your answer\n",
    "step_4.a.check()"
   ]
  },
  {
   "cell_type": "code",
   "execution_count": 13,
   "id": "3c87fda9",
   "metadata": {
    "execution": {
     "iopub.execute_input": "2023-05-06T18:17:01.233884Z",
     "iopub.status.busy": "2023-05-06T18:17:01.232630Z",
     "iopub.status.idle": "2023-05-06T18:17:01.237576Z",
     "shell.execute_reply": "2023-05-06T18:17:01.236416Z"
    },
    "papermill": {
     "duration": 0.019269,
     "end_time": "2023-05-06T18:17:01.239891",
     "exception": false,
     "start_time": "2023-05-06T18:17:01.220622",
     "status": "completed"
    },
    "tags": []
   },
   "outputs": [],
   "source": [
    "# Lines below will give you a hint or solution code\n",
    "#step_4.a.hint()\n",
    "#step_4.a.solution_plot()"
   ]
  },
  {
   "cell_type": "markdown",
   "id": "453ed34a",
   "metadata": {
    "papermill": {
     "duration": 0.011061,
     "end_time": "2023-05-06T18:17:01.261909",
     "exception": false,
     "start_time": "2023-05-06T18:17:01.250848",
     "status": "completed"
    },
    "tags": []
   },
   "source": [
    "#### Part B\n",
    "\n",
    "According to the plot above, is there a **slight** correlation between `'winpercent'` and `'sugarpercent'`?  What does this tell you about the candy that people tend to prefer?"
   ]
  },
  {
   "cell_type": "markdown",
   "id": "ebe0b139",
   "metadata": {
    "papermill": {
     "duration": 0.010715,
     "end_time": "2023-05-06T18:17:01.283579",
     "exception": false,
     "start_time": "2023-05-06T18:17:01.272864",
     "status": "completed"
    },
    "tags": []
   },
   "source": [
    "small positive corelation"
   ]
  },
  {
   "cell_type": "code",
   "execution_count": 14,
   "id": "b4fbb840",
   "metadata": {
    "execution": {
     "iopub.execute_input": "2023-05-06T18:17:01.307143Z",
     "iopub.status.busy": "2023-05-06T18:17:01.306776Z",
     "iopub.status.idle": "2023-05-06T18:17:01.310929Z",
     "shell.execute_reply": "2023-05-06T18:17:01.309748Z"
    },
    "papermill": {
     "duration": 0.018561,
     "end_time": "2023-05-06T18:17:01.313057",
     "exception": false,
     "start_time": "2023-05-06T18:17:01.294496",
     "status": "completed"
    },
    "tags": []
   },
   "outputs": [],
   "source": [
    "#step_4.b.hint()"
   ]
  },
  {
   "cell_type": "code",
   "execution_count": 15,
   "id": "455574e7",
   "metadata": {
    "execution": {
     "iopub.execute_input": "2023-05-06T18:17:01.337090Z",
     "iopub.status.busy": "2023-05-06T18:17:01.336698Z",
     "iopub.status.idle": "2023-05-06T18:17:01.345453Z",
     "shell.execute_reply": "2023-05-06T18:17:01.344574Z"
    },
    "papermill": {
     "duration": 0.023526,
     "end_time": "2023-05-06T18:17:01.347746",
     "exception": false,
     "start_time": "2023-05-06T18:17:01.324220",
     "status": "completed"
    },
    "tags": []
   },
   "outputs": [
    {
     "data": {
      "application/javascript": [
       "parent.postMessage({\"jupyterEvent\": \"custom.exercise_interaction\", \"data\": {\"interactionType\": 3, \"questionType\": 4, \"questionId\": \"4.2_ThinkBlueReg\", \"learnToolsVersion\": \"0.3.4\", \"valueTowardsCompletion\": 0.0, \"failureMessage\": \"\", \"exceptionClass\": \"\", \"trace\": \"\", \"outcomeType\": 4}}, \"*\")"
      ],
      "text/plain": [
       "<IPython.core.display.Javascript object>"
      ]
     },
     "metadata": {},
     "output_type": "display_data"
    },
    {
     "data": {
      "text/markdown": [
       "<span style=\"color:#33cc99\">Solution:</span> Since the regression line has a slightly positive slope, this tells us that there is a slightly positive correlation between `'winpercent'` and `'sugarpercent'`. Thus, people have a slight preference for candies containing relatively more sugar."
      ],
      "text/plain": [
       "Solution: Since the regression line has a slightly positive slope, this tells us that there is a slightly positive correlation between `'winpercent'` and `'sugarpercent'`. Thus, people have a slight preference for candies containing relatively more sugar."
      ]
     },
     "metadata": {},
     "output_type": "display_data"
    }
   ],
   "source": [
    "# Check your answer (Run this code cell to receive credit!)\n",
    "step_4.b.solution()"
   ]
  },
  {
   "cell_type": "markdown",
   "id": "6a01e489",
   "metadata": {
    "papermill": {
     "duration": 0.010863,
     "end_time": "2023-05-06T18:17:01.369921",
     "exception": false,
     "start_time": "2023-05-06T18:17:01.359058",
     "status": "completed"
    },
    "tags": []
   },
   "source": [
    "## Step 5: Chocolate!\n",
    "\n",
    "In the code cell below, create a scatter plot to show the relationship between `'pricepercent'` (on the horizontal x-axis) and `'winpercent'` (on the vertical y-axis). Use the `'chocolate'` column to color-code the points.  _Don't add any regression lines just yet -- you'll do that in the next step!_"
   ]
  },
  {
   "cell_type": "code",
   "execution_count": 16,
   "id": "7f92229a",
   "metadata": {
    "execution": {
     "iopub.execute_input": "2023-05-06T18:17:01.394555Z",
     "iopub.status.busy": "2023-05-06T18:17:01.393919Z",
     "iopub.status.idle": "2023-05-06T18:17:01.719051Z",
     "shell.execute_reply": "2023-05-06T18:17:01.717863Z"
    },
    "papermill": {
     "duration": 0.340295,
     "end_time": "2023-05-06T18:17:01.721431",
     "exception": false,
     "start_time": "2023-05-06T18:17:01.381136",
     "status": "completed"
    },
    "tags": []
   },
   "outputs": [
    {
     "data": {
      "application/javascript": [
       "parent.postMessage({\"jupyterEvent\": \"custom.exercise_interaction\", \"data\": {\"outcomeType\": 1, \"valueTowardsCompletion\": 0.3333333333333333, \"interactionType\": 1, \"questionType\": 2, \"questionId\": \"5_ColorScatter\", \"learnToolsVersion\": \"0.3.4\", \"failureMessage\": \"\", \"exceptionClass\": \"\", \"trace\": \"\"}}, \"*\")"
      ],
      "text/plain": [
       "<IPython.core.display.Javascript object>"
      ]
     },
     "metadata": {},
     "output_type": "display_data"
    },
    {
     "data": {
      "text/markdown": [
       "<span style=\"color:#33cc33\">Correct</span>"
      ],
      "text/plain": [
       "Correct"
      ]
     },
     "metadata": {},
     "output_type": "display_data"
    },
    {
     "data": {
      "image/png": "[encoded data removed]",
      "text/plain": [
       "<Figure size 640x480 with 1 Axes>"
      ]
     },
     "metadata": {},
     "output_type": "display_data"
    }
   ],
   "source": [
    "# Scatter plot showing the relationship between 'pricepercent', 'winpercent', and 'chocolate'\n",
    "# Your code here\n",
    "sns.scatterplot(x='sugarpercent',y='winpercent',data=candy_data,hue=\"chocolate\")\n",
    "# Check your answer\n",
    "step_5.check()"
   ]
  },
  {
   "cell_type": "code",
   "execution_count": 17,
   "id": "cb0b60aa",
   "metadata": {
    "execution": {
     "iopub.execute_input": "2023-05-06T18:17:01.748359Z",
     "iopub.status.busy": "2023-05-06T18:17:01.747913Z",
     "iopub.status.idle": "2023-05-06T18:17:01.752444Z",
     "shell.execute_reply": "2023-05-06T18:17:01.751356Z"
    },
    "papermill": {
     "duration": 0.020886,
     "end_time": "2023-05-06T18:17:01.754752",
     "exception": false,
     "start_time": "2023-05-06T18:17:01.733866",
     "status": "completed"
    },
    "tags": []
   },
   "outputs": [],
   "source": [
    "# Lines below will give you a hint or solution code\n",
    "#step_5.hint()\n",
    "#step_5.solution_plot()"
   ]
  },
  {
   "cell_type": "markdown",
   "id": "ae4708ca",
   "metadata": {
    "papermill": {
     "duration": 0.012046,
     "end_time": "2023-05-06T18:17:01.778957",
     "exception": false,
     "start_time": "2023-05-06T18:17:01.766911",
     "status": "completed"
    },
    "tags": []
   },
   "source": [
    "Can you see any interesting patterns in the scatter plot?  We'll investigate this plot further  by adding regression lines in the next step!\n",
    "\n",
    "## Step 6: Investigate chocolate\n",
    "\n",
    "#### Part A\n",
    "\n",
    "Create the same scatter plot you created in **Step 5**, but now with two regression lines, corresponding to (1) chocolate candies and (2) candies without chocolate."
   ]
  },
  {
   "cell_type": "code",
   "execution_count": 18,
   "id": "2b675a84",
   "metadata": {
    "execution": {
     "iopub.execute_input": "2023-05-06T18:17:01.805051Z",
     "iopub.status.busy": "2023-05-06T18:17:01.804657Z",
     "iopub.status.idle": "2023-05-06T18:17:02.489645Z",
     "shell.execute_reply": "2023-05-06T18:17:02.488473Z"
    },
    "papermill": {
     "duration": 0.701002,
     "end_time": "2023-05-06T18:17:02.492155",
     "exception": false,
     "start_time": "2023-05-06T18:17:01.791153",
     "status": "completed"
    },
    "tags": []
   },
   "outputs": [
    {
     "data": {
      "application/javascript": [
       "parent.postMessage({\"jupyterEvent\": \"custom.exercise_interaction\", \"data\": {\"outcomeType\": 1, \"valueTowardsCompletion\": 0.3333333333333333, \"interactionType\": 1, \"questionType\": 2, \"questionId\": \"6.1_PlotColorReg\", \"learnToolsVersion\": \"0.3.4\", \"failureMessage\": \"\", \"exceptionClass\": \"\", \"trace\": \"\"}}, \"*\")"
      ],
      "text/plain": [
       "<IPython.core.display.Javascript object>"
      ]
     },
     "metadata": {},
     "output_type": "display_data"
    },
    {
     "data": {
      "text/markdown": [
       "<span style=\"color:#33cc33\">Correct</span>"
      ],
      "text/plain": [
       "Correct"
      ]
     },
     "metadata": {},
     "output_type": "display_data"
    },
    {
     "data": {
      "image/png": "[encoded data removed]",
      "text/plain": [
       "<Figure size 578.611x500 with 1 Axes>"
      ]
     },
     "metadata": {},
     "output_type": "display_data"
    }
   ],
   "source": [
    "# Color-coded scatter plot w/ regression lines\n",
    "____ # Your code here\n",
    "sns.lmplot(x='sugarpercent',y='winpercent',data=candy_data,hue=\"chocolate\")\n",
    "\n",
    "# Check your answer\n",
    "step_6.a.check()"
   ]
  },
  {
   "cell_type": "code",
   "execution_count": 19,
   "id": "2804ecee",
   "metadata": {
    "execution": {
     "iopub.execute_input": "2023-05-06T18:17:02.520835Z",
     "iopub.status.busy": "2023-05-06T18:17:02.520443Z",
     "iopub.status.idle": "2023-05-06T18:17:02.524674Z",
     "shell.execute_reply": "2023-05-06T18:17:02.523465Z"
    },
    "papermill": {
     "duration": 0.021387,
     "end_time": "2023-05-06T18:17:02.526987",
     "exception": false,
     "start_time": "2023-05-06T18:17:02.505600",
     "status": "completed"
    },
    "tags": []
   },
   "outputs": [],
   "source": [
    "# Lines below will give you a hint or solution code\n",
    "#step_6.a.hint()\n",
    "#step_6.a.solution_plot()"
   ]
  },
  {
   "cell_type": "markdown",
   "id": "8f2e8001",
   "metadata": {
    "papermill": {
     "duration": 0.012489,
     "end_time": "2023-05-06T18:17:02.552730",
     "exception": false,
     "start_time": "2023-05-06T18:17:02.540241",
     "status": "completed"
    },
    "tags": []
   },
   "source": [
    "#### Part B\n",
    "\n",
    "Using the regression lines, what conclusions can you draw about the effects of chocolate and price on candy popularity?"
   ]
  },
  {
   "cell_type": "code",
   "execution_count": 20,
   "id": "9d9101a3",
   "metadata": {
    "execution": {
     "iopub.execute_input": "2023-05-06T18:17:02.580423Z",
     "iopub.status.busy": "2023-05-06T18:17:02.579677Z",
     "iopub.status.idle": "2023-05-06T18:17:02.584171Z",
     "shell.execute_reply": "2023-05-06T18:17:02.583085Z"
    },
    "papermill": {
     "duration": 0.02097,
     "end_time": "2023-05-06T18:17:02.586453",
     "exception": false,
     "start_time": "2023-05-06T18:17:02.565483",
     "status": "completed"
    },
    "tags": []
   },
   "outputs": [],
   "source": [
    "#step_6.b.hint()"
   ]
  },
  {
   "cell_type": "code",
   "execution_count": 21,
   "id": "089e2654",
   "metadata": {
    "execution": {
     "iopub.execute_input": "2023-05-06T18:17:02.614505Z",
     "iopub.status.busy": "2023-05-06T18:17:02.614117Z",
     "iopub.status.idle": "2023-05-06T18:17:02.621939Z",
     "shell.execute_reply": "2023-05-06T18:17:02.620795Z"
    },
    "papermill": {
     "duration": 0.024456,
     "end_time": "2023-05-06T18:17:02.624003",
     "exception": false,
     "start_time": "2023-05-06T18:17:02.599547",
     "status": "completed"
    },
    "tags": []
   },
   "outputs": [
    {
     "data": {
      "application/javascript": [
       "parent.postMessage({\"jupyterEvent\": \"custom.exercise_interaction\", \"data\": {\"interactionType\": 3, \"questionType\": 4, \"questionId\": \"6.2_ThinkColorReg\", \"learnToolsVersion\": \"0.3.4\", \"valueTowardsCompletion\": 0.0, \"failureMessage\": \"\", \"exceptionClass\": \"\", \"trace\": \"\", \"outcomeType\": 4}}, \"*\")"
      ],
      "text/plain": [
       "<IPython.core.display.Javascript object>"
      ]
     },
     "metadata": {},
     "output_type": "display_data"
    },
    {
     "data": {
      "text/markdown": [
       "<span style=\"color:#33cc99\">Solution:</span> We'll begin with the regression line for chocolate candies. Since this line has a slightly positive slope, we can say that more expensive chocolate candies tend to be more popular (than relatively cheaper chocolate candies).  Likewise, since the regression line for candies without chocolate has a negative slope, we can say that if candies don't contain chocolate, they tend to be more popular when they are cheaper.  One important note, however, is that the dataset is quite small -- so we shouldn't invest too much trust in these patterns!  To inspire more confidence in the results, we should add more candies to the dataset."
      ],
      "text/plain": [
       "Solution: We'll begin with the regression line for chocolate candies. Since this line has a slightly positive slope, we can say that more expensive chocolate candies tend to be more popular (than relatively cheaper chocolate candies).  Likewise, since the regression line for candies without chocolate has a negative slope, we can say that if candies don't contain chocolate, they tend to be more popular when they are cheaper.  One important note, however, is that the dataset is quite small -- so we shouldn't invest too much trust in these patterns!  To inspire more confidence in the results, we should add more candies to the dataset."
      ]
     },
     "metadata": {},
     "output_type": "display_data"
    }
   ],
   "source": [
    "# Check your answer (Run this code cell to receive credit!)\n",
    "step_6.b.solution()"
   ]
  },
  {
   "cell_type": "markdown",
   "id": "a3fa4038",
   "metadata": {
    "papermill": {
     "duration": 0.012829,
     "end_time": "2023-05-06T18:17:02.649792",
     "exception": false,
     "start_time": "2023-05-06T18:17:02.636963",
     "status": "completed"
    },
    "tags": []
   },
   "source": [
    "## Step 7: Everybody loves chocolate.\n",
    "\n",
    "#### Part A\n",
    "\n",
    "Create a categorical scatter plot to highlight the relationship between `'chocolate'` and `'winpercent'`.  Put `'chocolate'` on the (horizontal) x-axis, and `'winpercent'` on the (vertical) y-axis."
   ]
  },
  {
   "cell_type": "code",
   "execution_count": 22,
   "id": "f7403f1a",
   "metadata": {
    "execution": {
     "iopub.execute_input": "2023-05-06T18:17:02.677531Z",
     "iopub.status.busy": "2023-05-06T18:17:02.677133Z",
     "iopub.status.idle": "2023-05-06T18:17:03.047745Z",
     "shell.execute_reply": "2023-05-06T18:17:03.046401Z"
    },
    "papermill": {
     "duration": 0.3882,
     "end_time": "2023-05-06T18:17:03.050811",
     "exception": false,
     "start_time": "2023-05-06T18:17:02.662611",
     "status": "completed"
    },
    "tags": []
   },
   "outputs": [
    {
     "data": {
      "application/javascript": [
       "parent.postMessage({\"jupyterEvent\": \"custom.exercise_interaction\", \"data\": {\"outcomeType\": 1, \"valueTowardsCompletion\": 0.3333333333333333, \"interactionType\": 1, \"questionType\": 2, \"questionId\": \"7.1_PlotSwarm\", \"learnToolsVersion\": \"0.3.4\", \"failureMessage\": \"\", \"exceptionClass\": \"\", \"trace\": \"\"}}, \"*\")"
      ],
      "text/plain": [
       "<IPython.core.display.Javascript object>"
      ]
     },
     "metadata": {},
     "output_type": "display_data"
    },
    {
     "data": {
      "text/markdown": [
       "<span style=\"color:#33cc33\">Correct</span>"
      ],
      "text/plain": [
       "Correct"
      ]
     },
     "metadata": {},
     "output_type": "display_data"
    },
    {
     "data": {
      "image/png": "[encoded data removed]",
      "text/plain": [
       "<Figure size 640x480 with 1 Axes>"
      ]
     },
     "metadata": {},
     "output_type": "display_data"
    }
   ],
   "source": [
    "# Scatter plot showing the relationship between 'chocolate' and 'winpercent'\n",
    "____ # Your code here\n",
    "sns.swarmplot(x='chocolate',y='winpercent',data=candy_data)\n",
    "\n",
    "# Check your answer\n",
    "step_7.a.check()"
   ]
  },
  {
   "cell_type": "code",
   "execution_count": 23,
   "id": "cc211e3c",
   "metadata": {
    "execution": {
     "iopub.execute_input": "2023-05-06T18:17:03.099155Z",
     "iopub.status.busy": "2023-05-06T18:17:03.098153Z",
     "iopub.status.idle": "2023-05-06T18:17:03.103463Z",
     "shell.execute_reply": "2023-05-06T18:17:03.102392Z"
    },
    "papermill": {
     "duration": 0.032422,
     "end_time": "2023-05-06T18:17:03.105697",
     "exception": false,
     "start_time": "2023-05-06T18:17:03.073275",
     "status": "completed"
    },
    "tags": []
   },
   "outputs": [],
   "source": [
    "# Lines below will give you a hint or solution code\n",
    "#step_7.a.hint()\n",
    "#step_7.a.solution_plot()"
   ]
  },
  {
   "cell_type": "markdown",
   "id": "53974b18",
   "metadata": {
    "papermill": {
     "duration": 0.013537,
     "end_time": "2023-05-06T18:17:03.133320",
     "exception": false,
     "start_time": "2023-05-06T18:17:03.119783",
     "status": "completed"
    },
    "tags": []
   },
   "source": [
    "#### Part B\n",
    "\n",
    "You decide to dedicate a section of your report to the fact that chocolate candies tend to be more popular than candies without chocolate.  Which plot is more appropriate to tell this story: the plot from **Step 6**, or the plot from **Step 7**?"
   ]
  },
  {
   "cell_type": "code",
   "execution_count": 24,
   "id": "e31a0091",
   "metadata": {
    "execution": {
     "iopub.execute_input": "2023-05-06T18:17:03.162870Z",
     "iopub.status.busy": "2023-05-06T18:17:03.162488Z",
     "iopub.status.idle": "2023-05-06T18:17:03.166577Z",
     "shell.execute_reply": "2023-05-06T18:17:03.165741Z"
    },
    "papermill": {
     "duration": 0.021402,
     "end_time": "2023-05-06T18:17:03.168672",
     "exception": false,
     "start_time": "2023-05-06T18:17:03.147270",
     "status": "completed"
    },
    "tags": []
   },
   "outputs": [],
   "source": [
    "#step_7.b.hint()"
   ]
  },
  {
   "cell_type": "code",
   "execution_count": 25,
   "id": "438263a3",
   "metadata": {
    "execution": {
     "iopub.execute_input": "2023-05-06T18:17:03.198991Z",
     "iopub.status.busy": "2023-05-06T18:17:03.198225Z",
     "iopub.status.idle": "2023-05-06T18:17:03.205329Z",
     "shell.execute_reply": "2023-05-06T18:17:03.204483Z"
    },
    "papermill": {
     "duration": 0.024825,
     "end_time": "2023-05-06T18:17:03.207396",
     "exception": false,
     "start_time": "2023-05-06T18:17:03.182571",
     "status": "completed"
    },
    "tags": []
   },
   "outputs": [
    {
     "data": {
      "application/javascript": [
       "parent.postMessage({\"jupyterEvent\": \"custom.exercise_interaction\", \"data\": {\"interactionType\": 3, \"questionType\": 4, \"questionId\": \"7.2_ThinkSwarm\", \"learnToolsVersion\": \"0.3.4\", \"valueTowardsCompletion\": 0.0, \"failureMessage\": \"\", \"exceptionClass\": \"\", \"trace\": \"\", \"outcomeType\": 4}}, \"*\")"
      ],
      "text/plain": [
       "<IPython.core.display.Javascript object>"
      ]
     },
     "metadata": {},
     "output_type": "display_data"
    },
    {
     "data": {
      "text/markdown": [
       "<span style=\"color:#33cc99\">Solution:</span> In this case, the categorical scatter plot from **Step 7** is the more appropriate plot. While both plots tell the desired story, the plot from **Step 6** conveys far more information that could distract from the main point."
      ],
      "text/plain": [
       "Solution: In this case, the categorical scatter plot from **Step 7** is the more appropriate plot. While both plots tell the desired story, the plot from **Step 6** conveys far more information that could distract from the main point."
      ]
     },
     "metadata": {},
     "output_type": "display_data"
    }
   ],
   "source": [
    "# Check your answer (Run this code cell to receive credit!)\n",
    "step_7.b.solution()"
   ]
  },
  {
   "cell_type": "markdown",
   "id": "4e5b9757",
   "metadata": {
    "papermill": {
     "duration": 0.014235,
     "end_time": "2023-05-06T18:17:03.236426",
     "exception": false,
     "start_time": "2023-05-06T18:17:03.222191",
     "status": "completed"
    },
    "tags": []
   },
   "source": [
    "## Keep going\n",
    "\n",
    "Explore **[histograms and density plots](https://www.kaggle.com/alexisbcook/distributions)**."
   ]
  },
  {
   "cell_type": "markdown",
   "id": "d9b0ca40",
   "metadata": {
    "papermill": {
     "duration": 0.013869,
     "end_time": "2023-05-06T18:17:03.264477",
     "exception": false,
     "start_time": "2023-05-06T18:17:03.250608",
     "status": "completed"
    },
    "tags": []
   },
   "source": [
    "---\n",
    "\n",
    "\n",
    "\n",
    "\n",
    "*Have questions or comments? Visit the [course discussion forum](https://www.kaggle.com/learn/data-visualization/discussion) to chat with other learners.*"
   ]
  }
 ],
 "metadata": {
  "kernelspec": {
   "display_name": "Python 3",
   "language": "python",
   "name": "python3"
  },
  "language_info": {
   "codemirror_mode": {
    "name": "ipython",
    "version": 3
   },
   "file_extension": ".py",
   "mimetype": "text/x-python",
   "name": "python",
   "nbconvert_exporter": "python",
   "pygments_lexer": "ipython3",
   "version": "3.10.10"
  },
  "papermill": {
   "default_parameters": {},
   "duration": 16.203811,
   "end_time": "2023-05-06T18:17:04.301581",
   "environment_variables": {},
   "exception": null,
   "input_path": "__notebook__.ipynb",
   "output_path": "__notebook__.ipynb",
   "parameters": {},
   "start_time": "2023-05-06T18:16:48.097770",
   "version": "2.4.0"
  }
 },
 "nbformat": 4,
 "nbformat_minor": 5
}
