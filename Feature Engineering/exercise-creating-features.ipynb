{
 "cells": [
  {
   "cell_type": "markdown",
   "id": "b81f419c",
   "metadata": {
    "papermill": {
     "duration": 0.009538,
     "end_time": "2023-05-12T07:02:29.979166",
     "exception": false,
     "start_time": "2023-05-12T07:02:29.969628",
     "status": "completed"
    },
    "tags": []
   },
   "source": [
    "**This notebook is an exercise in the [Feature Engineering](https://www.kaggle.com/learn/feature-engineering) course.  You can reference the tutorial at [this link](https://www.kaggle.com/ryanholbrook/creating-features).**\n",
    "\n",
    "---\n"
   ]
  },
  {
   "cell_type": "markdown",
   "id": "6ae30b92",
   "metadata": {
    "papermill": {
     "duration": 0.008043,
     "end_time": "2023-05-12T07:02:29.996065",
     "exception": false,
     "start_time": "2023-05-12T07:02:29.988022",
     "status": "completed"
    },
    "tags": []
   },
   "source": [
    "# Introduction #\n",
    "\n",
    "In this exercise you'll start developing the features you identified in Exercise 2 as having the most potential. As you work through this exercise, you might take a moment to look at the data documentation again and consider whether the features we're creating make sense from a real-world perspective, and whether there are any useful combinations that stand out to you.\n",
    "\n",
    "Run this cell to set everything up!"
   ]
  },
  {
   "cell_type": "code",
   "execution_count": 1,
   "id": "32c8bb90",
   "metadata": {
    "execution": {
     "iopub.execute_input": "2023-05-12T07:02:30.015621Z",
     "iopub.status.busy": "2023-05-12T07:02:30.014590Z",
     "iopub.status.idle": "2023-05-12T07:02:31.740869Z",
     "shell.execute_reply": "2023-05-12T07:02:31.739835Z"
    },
    "papermill": {
     "duration": 1.739268,
     "end_time": "2023-05-12T07:02:31.743780",
     "exception": false,
     "start_time": "2023-05-12T07:02:30.004512",
     "status": "completed"
    },
    "tags": []
   },
   "outputs": [
    {
     "name": "stderr",
     "output_type": "stream",
     "text": [
      "/opt/conda/lib/python3.10/site-packages/scipy/__init__.py:146: UserWarning: A NumPy version >=1.16.5 and <1.23.0 is required for this version of SciPy (detected version 1.23.5\n",
      "  warnings.warn(f\"A NumPy version >={np_minversion} and <{np_maxversion}\"\n"
     ]
    }
   ],
   "source": [
    "# Setup feedback system\n",
    "from learntools.core import binder\n",
    "binder.bind(globals())\n",
    "from learntools.feature_engineering_new.ex3 import *\n",
    "\n",
    "import numpy as np\n",
    "import pandas as pd\n",
    "from sklearn.model_selection import cross_val_score\n",
    "from xgboost import XGBRegressor\n",
    "\n",
    "\n",
    "def score_dataset(X, y, model=XGBRegressor()):\n",
    "    # Label encoding for categoricals\n",
    "    for colname in X.select_dtypes([\"category\", \"object\"]):\n",
    "        X[colname], _ = X[colname].factorize()\n",
    "    # Metric for Housing competition is RMSLE (Root Mean Squared Log Error)\n",
    "    score = cross_val_score(\n",
    "        model, X, y, cv=5, scoring=\"neg_mean_squared_log_error\",\n",
    "    )\n",
    "    score = -1 * score.mean()\n",
    "    score = np.sqrt(score)\n",
    "    return score\n",
    "\n",
    "\n",
    "# Prepare data\n",
    "df = pd.read_csv(\"../input/fe-course-data/ames.csv\")\n",
    "X = df.copy()\n",
    "y = X.pop(\"SalePrice\")"
   ]
  },
  {
   "cell_type": "code",
   "execution_count": 2,
   "id": "b550731c",
   "metadata": {
    "execution": {
     "iopub.execute_input": "2023-05-12T07:02:31.765572Z",
     "iopub.status.busy": "2023-05-12T07:02:31.764791Z",
     "iopub.status.idle": "2023-05-12T07:02:31.816109Z",
     "shell.execute_reply": "2023-05-12T07:02:31.814341Z"
    },
    "papermill": {
     "duration": 0.066323,
     "end_time": "2023-05-12T07:02:31.819382",
     "exception": false,
     "start_time": "2023-05-12T07:02:31.753059",
     "status": "completed"
    },
    "tags": []
   },
   "outputs": [
    {
     "data": {
      "text/html": [
       "<div>\n",
       "<style scoped>\n",
       "    .dataframe tbody tr th:only-of-type {\n",
       "        vertical-align: middle;\n",
       "    }\n",
       "\n",
       "    .dataframe tbody tr th {\n",
       "        vertical-align: top;\n",
       "    }\n",
       "\n",
       "    .dataframe thead th {\n",
       "        text-align: right;\n",
       "    }\n",
       "</style>\n",
       "<table border=\"1\" class=\"dataframe\">\n",
       "  <thead>\n",
       "    <tr style=\"text-align: right;\">\n",
       "      <th></th>\n",
       "      <th>MSSubClass</th>\n",
       "      <th>MSZoning</th>\n",
       "      <th>LotFrontage</th>\n",
       "      <th>LotArea</th>\n",
       "      <th>Street</th>\n",
       "      <th>Alley</th>\n",
       "      <th>LotShape</th>\n",
       "      <th>LandContour</th>\n",
       "      <th>Utilities</th>\n",
       "      <th>LotConfig</th>\n",
       "      <th>...</th>\n",
       "      <th>PoolArea</th>\n",
       "      <th>PoolQC</th>\n",
       "      <th>Fence</th>\n",
       "      <th>MiscFeature</th>\n",
       "      <th>MiscVal</th>\n",
       "      <th>MoSold</th>\n",
       "      <th>YearSold</th>\n",
       "      <th>SaleType</th>\n",
       "      <th>SaleCondition</th>\n",
       "      <th>SalePrice</th>\n",
       "    </tr>\n",
       "  </thead>\n",
       "  <tbody>\n",
       "    <tr>\n",
       "      <th>0</th>\n",
       "      <td>One_Story_1946_and_Newer_All_Styles</td>\n",
       "      <td>Residential_Low_Density</td>\n",
       "      <td>141.0</td>\n",
       "      <td>31770.0</td>\n",
       "      <td>Pave</td>\n",
       "      <td>No_Alley_Access</td>\n",
       "      <td>Slightly_Irregular</td>\n",
       "      <td>Lvl</td>\n",
       "      <td>AllPub</td>\n",
       "      <td>Corner</td>\n",
       "      <td>...</td>\n",
       "      <td>0.0</td>\n",
       "      <td>No_Pool</td>\n",
       "      <td>No_Fence</td>\n",
       "      <td>None</td>\n",
       "      <td>0.0</td>\n",
       "      <td>5</td>\n",
       "      <td>2010</td>\n",
       "      <td>WD</td>\n",
       "      <td>Normal</td>\n",
       "      <td>215000</td>\n",
       "    </tr>\n",
       "    <tr>\n",
       "      <th>1</th>\n",
       "      <td>One_Story_1946_and_Newer_All_Styles</td>\n",
       "      <td>Residential_High_Density</td>\n",
       "      <td>80.0</td>\n",
       "      <td>11622.0</td>\n",
       "      <td>Pave</td>\n",
       "      <td>No_Alley_Access</td>\n",
       "      <td>Regular</td>\n",
       "      <td>Lvl</td>\n",
       "      <td>AllPub</td>\n",
       "      <td>Inside</td>\n",
       "      <td>...</td>\n",
       "      <td>0.0</td>\n",
       "      <td>No_Pool</td>\n",
       "      <td>Minimum_Privacy</td>\n",
       "      <td>None</td>\n",
       "      <td>0.0</td>\n",
       "      <td>6</td>\n",
       "      <td>2010</td>\n",
       "      <td>WD</td>\n",
       "      <td>Normal</td>\n",
       "      <td>105000</td>\n",
       "    </tr>\n",
       "    <tr>\n",
       "      <th>2</th>\n",
       "      <td>One_Story_1946_and_Newer_All_Styles</td>\n",
       "      <td>Residential_Low_Density</td>\n",
       "      <td>81.0</td>\n",
       "      <td>14267.0</td>\n",
       "      <td>Pave</td>\n",
       "      <td>No_Alley_Access</td>\n",
       "      <td>Slightly_Irregular</td>\n",
       "      <td>Lvl</td>\n",
       "      <td>AllPub</td>\n",
       "      <td>Corner</td>\n",
       "      <td>...</td>\n",
       "      <td>0.0</td>\n",
       "      <td>No_Pool</td>\n",
       "      <td>No_Fence</td>\n",
       "      <td>Gar2</td>\n",
       "      <td>12500.0</td>\n",
       "      <td>6</td>\n",
       "      <td>2010</td>\n",
       "      <td>WD</td>\n",
       "      <td>Normal</td>\n",
       "      <td>172000</td>\n",
       "    </tr>\n",
       "    <tr>\n",
       "      <th>3</th>\n",
       "      <td>One_Story_1946_and_Newer_All_Styles</td>\n",
       "      <td>Residential_Low_Density</td>\n",
       "      <td>93.0</td>\n",
       "      <td>11160.0</td>\n",
       "      <td>Pave</td>\n",
       "      <td>No_Alley_Access</td>\n",
       "      <td>Regular</td>\n",
       "      <td>Lvl</td>\n",
       "      <td>AllPub</td>\n",
       "      <td>Corner</td>\n",
       "      <td>...</td>\n",
       "      <td>0.0</td>\n",
       "      <td>No_Pool</td>\n",
       "      <td>No_Fence</td>\n",
       "      <td>None</td>\n",
       "      <td>0.0</td>\n",
       "      <td>4</td>\n",
       "      <td>2010</td>\n",
       "      <td>WD</td>\n",
       "      <td>Normal</td>\n",
       "      <td>244000</td>\n",
       "    </tr>\n",
       "    <tr>\n",
       "      <th>4</th>\n",
       "      <td>Two_Story_1946_and_Newer</td>\n",
       "      <td>Residential_Low_Density</td>\n",
       "      <td>74.0</td>\n",
       "      <td>13830.0</td>\n",
       "      <td>Pave</td>\n",
       "      <td>No_Alley_Access</td>\n",
       "      <td>Slightly_Irregular</td>\n",
       "      <td>Lvl</td>\n",
       "      <td>AllPub</td>\n",
       "      <td>Inside</td>\n",
       "      <td>...</td>\n",
       "      <td>0.0</td>\n",
       "      <td>No_Pool</td>\n",
       "      <td>Minimum_Privacy</td>\n",
       "      <td>None</td>\n",
       "      <td>0.0</td>\n",
       "      <td>3</td>\n",
       "      <td>2010</td>\n",
       "      <td>WD</td>\n",
       "      <td>Normal</td>\n",
       "      <td>189900</td>\n",
       "    </tr>\n",
       "  </tbody>\n",
       "</table>\n",
       "<p>5 rows × 79 columns</p>\n",
       "</div>"
      ],
      "text/plain": [
       "                            MSSubClass                  MSZoning  LotFrontage  \\\n",
       "0  One_Story_1946_and_Newer_All_Styles   Residential_Low_Density        141.0   \n",
       "1  One_Story_1946_and_Newer_All_Styles  Residential_High_Density         80.0   \n",
       "2  One_Story_1946_and_Newer_All_Styles   Residential_Low_Density         81.0   \n",
       "3  One_Story_1946_and_Newer_All_Styles   Residential_Low_Density         93.0   \n",
       "4             Two_Story_1946_and_Newer   Residential_Low_Density         74.0   \n",
       "\n",
       "   LotArea Street            Alley            LotShape LandContour Utilities  \\\n",
       "0  31770.0   Pave  No_Alley_Access  Slightly_Irregular         Lvl    AllPub   \n",
       "1  11622.0   Pave  No_Alley_Access             Regular         Lvl    AllPub   \n",
       "2  14267.0   Pave  No_Alley_Access  Slightly_Irregular         Lvl    AllPub   \n",
       "3  11160.0   Pave  No_Alley_Access             Regular         Lvl    AllPub   \n",
       "4  13830.0   Pave  No_Alley_Access  Slightly_Irregular         Lvl    AllPub   \n",
       "\n",
       "  LotConfig  ... PoolArea   PoolQC            Fence MiscFeature  MiscVal  \\\n",
       "0    Corner  ...      0.0  No_Pool         No_Fence        None      0.0   \n",
       "1    Inside  ...      0.0  No_Pool  Minimum_Privacy        None      0.0   \n",
       "2    Corner  ...      0.0  No_Pool         No_Fence        Gar2  12500.0   \n",
       "3    Corner  ...      0.0  No_Pool         No_Fence        None      0.0   \n",
       "4    Inside  ...      0.0  No_Pool  Minimum_Privacy        None      0.0   \n",
       "\n",
       "  MoSold YearSold SaleType  SaleCondition  SalePrice  \n",
       "0      5     2010      WD          Normal     215000  \n",
       "1      6     2010      WD          Normal     105000  \n",
       "2      6     2010      WD          Normal     172000  \n",
       "3      4     2010      WD          Normal     244000  \n",
       "4      3     2010      WD          Normal     189900  \n",
       "\n",
       "[5 rows x 79 columns]"
      ]
     },
     "execution_count": 2,
     "metadata": {},
     "output_type": "execute_result"
    }
   ],
   "source": [
    "df.head()"
   ]
  },
  {
   "cell_type": "markdown",
   "id": "a49b4acc",
   "metadata": {
    "papermill": {
     "duration": 0.009712,
     "end_time": "2023-05-12T07:02:31.839021",
     "exception": false,
     "start_time": "2023-05-12T07:02:31.829309",
     "status": "completed"
    },
    "tags": []
   },
   "source": [
    "-------------------------------------------------------------------------------\n",
    "\n",
    "Let's start with a few mathematical combinations. We'll focus on features describing areas -- having the same units (square-feet) makes it easy to combine them in sensible ways. Since we're using XGBoost (a tree-based model), we'll focus on ratios and sums.\n",
    "\n",
    "# 1) Create Mathematical Transforms\n",
    "\n",
    "Create the following features:\n",
    "\n",
    "- `LivLotRatio`: the ratio of `GrLivArea` to `LotArea`\n",
    "- `Spaciousness`: the sum of `FirstFlrSF` and `SecondFlrSF` divided by `TotRmsAbvGrd`\n",
    "- `TotalOutsideSF`: the sum of `WoodDeckSF`, `OpenPorchSF`, `EnclosedPorch`, `Threeseasonporch`, and `ScreenPorch`"
   ]
  },
  {
   "cell_type": "code",
   "execution_count": 3,
   "id": "a37c16c9",
   "metadata": {
    "execution": {
     "iopub.execute_input": "2023-05-12T07:02:31.860181Z",
     "iopub.status.busy": "2023-05-12T07:02:31.859647Z",
     "iopub.status.idle": "2023-05-12T07:02:31.885501Z",
     "shell.execute_reply": "2023-05-12T07:02:31.884183Z"
    },
    "lines_to_next_cell": 0,
    "papermill": {
     "duration": 0.040079,
     "end_time": "2023-05-12T07:02:31.888183",
     "exception": false,
     "start_time": "2023-05-12T07:02:31.848104",
     "status": "completed"
    },
    "tags": []
   },
   "outputs": [
    {
     "data": {
      "application/javascript": [
       "parent.postMessage({\"jupyterEvent\": \"custom.exercise_interaction\", \"data\": {\"outcomeType\": 1, \"valueTowardsCompletion\": 0.2, \"interactionType\": 1, \"questionType\": 2, \"questionId\": \"1_Q1\", \"learnToolsVersion\": \"0.3.4\", \"failureMessage\": \"\", \"exceptionClass\": \"\", \"trace\": \"\"}}, \"*\")"
      ],
      "text/plain": [
       "<IPython.core.display.Javascript object>"
      ]
     },
     "metadata": {},
     "output_type": "display_data"
    },
    {
     "data": {
      "text/markdown": [
       "<span style=\"color:#33cc33\">Correct</span>"
      ],
      "text/plain": [
       "Correct"
      ]
     },
     "metadata": {},
     "output_type": "display_data"
    }
   ],
   "source": [
    "# YOUR CODE HERE\n",
    "X_1 = pd.DataFrame()  # dataframe to hold new features\n",
    "\n",
    "X_1[\"LivLotRatio\"] = df['GrLivArea']/df['LotArea']\n",
    "X_1[\"Spaciousness\"] = (df['FirstFlrSF']+df['SecondFlrSF']) /df['TotRmsAbvGrd'] \n",
    "X_1[\"TotalOutsideSF\"] = df['WoodDeckSF']+df['OpenPorchSF'] + df['EnclosedPorch']+df['ScreenPorch'] + df.Threeseasonporch\n",
    "\n",
    "\n",
    "# Check your answer\n",
    "q_1.check()"
   ]
  },
  {
   "cell_type": "code",
   "execution_count": 4,
   "id": "ec85c26a",
   "metadata": {
    "execution": {
     "iopub.execute_input": "2023-05-12T07:02:31.910533Z",
     "iopub.status.busy": "2023-05-12T07:02:31.910005Z",
     "iopub.status.idle": "2023-05-12T07:02:31.920900Z",
     "shell.execute_reply": "2023-05-12T07:02:31.919656Z"
    },
    "lines_to_next_cell": 0,
    "papermill": {
     "duration": 0.025088,
     "end_time": "2023-05-12T07:02:31.923814",
     "exception": false,
     "start_time": "2023-05-12T07:02:31.898726",
     "status": "completed"
    },
    "tags": []
   },
   "outputs": [
    {
     "data": {
      "application/javascript": [
       "parent.postMessage({\"jupyterEvent\": \"custom.exercise_interaction\", \"data\": {\"interactionType\": 3, \"questionType\": 2, \"questionId\": \"1_Q1\", \"learnToolsVersion\": \"0.3.4\", \"valueTowardsCompletion\": 0.0, \"failureMessage\": \"\", \"exceptionClass\": \"\", \"trace\": \"\", \"outcomeType\": 4}}, \"*\")"
      ],
      "text/plain": [
       "<IPython.core.display.Javascript object>"
      ]
     },
     "metadata": {},
     "output_type": "display_data"
    },
    {
     "data": {
      "text/markdown": [
       "<span style=\"color:#33cc99\">Solution:</span> \n",
       "```python\n",
       "\n",
       "X_1[\"LivLotRatio\"] = df.GrLivArea / df.LotArea\n",
       "X_1[\"Spaciousness\"] = (df.FirstFlrSF + df.SecondFlrSF) / df.TotRmsAbvGrd\n",
       "X_1[\"TotalOutsideSF\"] = df.WoodDeckSF + df.OpenPorchSF + df.EnclosedPorch + df.Threeseasonporch + df.ScreenPorch\n",
       "\n",
       "```"
      ],
      "text/plain": [
       "Solution: \n",
       "```python\n",
       "\n",
       "X_1[\"LivLotRatio\"] = df.GrLivArea / df.LotArea\n",
       "X_1[\"Spaciousness\"] = (df.FirstFlrSF + df.SecondFlrSF) / df.TotRmsAbvGrd\n",
       "X_1[\"TotalOutsideSF\"] = df.WoodDeckSF + df.OpenPorchSF + df.EnclosedPorch + df.Threeseasonporch + df.ScreenPorch\n",
       "\n",
       "```"
      ]
     },
     "metadata": {},
     "output_type": "display_data"
    }
   ],
   "source": [
    "# Lines below will give you a hint or solution code\n",
    "#q_1.hint()\n",
    "q_1.solution()"
   ]
  },
  {
   "cell_type": "markdown",
   "id": "80e4b4b3",
   "metadata": {
    "papermill": {
     "duration": 0.009228,
     "end_time": "2023-05-12T07:02:31.943054",
     "exception": false,
     "start_time": "2023-05-12T07:02:31.933826",
     "status": "completed"
    },
    "tags": []
   },
   "source": [
    "-------------------------------------------------------------------------------\n",
    "\n",
    "If you've discovered an interaction effect between a numeric feature and a categorical feature, you might want to model it explicitly using a one-hot encoding, like so:\n",
    "\n",
    "```\n",
    "# One-hot encode Categorical feature, adding a column prefix \"Cat\"\n",
    "X_new = pd.get_dummies(df.Categorical, prefix=\"Cat\")\n",
    "\n",
    "# Multiply row-by-row\n",
    "X_new = X_new.mul(df.Continuous, axis=0)\n",
    "\n",
    "# Join the new features to the feature set\n",
    "X = X.join(X_new)\n",
    "```\n",
    "\n",
    "# 2) Interaction with a Categorical\n",
    "\n",
    "We discovered an interaction between `BldgType` and `GrLivArea` in Exercise 2. Now create their interaction features."
   ]
  },
  {
   "cell_type": "code",
   "execution_count": 5,
   "id": "0ce436dc",
   "metadata": {
    "execution": {
     "iopub.execute_input": "2023-05-12T07:02:31.964372Z",
     "iopub.status.busy": "2023-05-12T07:02:31.963559Z",
     "iopub.status.idle": "2023-05-12T07:02:31.980584Z",
     "shell.execute_reply": "2023-05-12T07:02:31.979419Z"
    },
    "lines_to_next_cell": 0,
    "papermill": {
     "duration": 0.030549,
     "end_time": "2023-05-12T07:02:31.983211",
     "exception": false,
     "start_time": "2023-05-12T07:02:31.952662",
     "status": "completed"
    },
    "tags": []
   },
   "outputs": [
    {
     "data": {
      "application/javascript": [
       "parent.postMessage({\"jupyterEvent\": \"custom.exercise_interaction\", \"data\": {\"outcomeType\": 1, \"valueTowardsCompletion\": 0.2, \"interactionType\": 1, \"questionType\": 2, \"questionId\": \"2_Q2\", \"learnToolsVersion\": \"0.3.4\", \"failureMessage\": \"\", \"exceptionClass\": \"\", \"trace\": \"\"}}, \"*\")"
      ],
      "text/plain": [
       "<IPython.core.display.Javascript object>"
      ]
     },
     "metadata": {},
     "output_type": "display_data"
    },
    {
     "data": {
      "text/markdown": [
       "<span style=\"color:#33cc33\">Correct</span>"
      ],
      "text/plain": [
       "Correct"
      ]
     },
     "metadata": {},
     "output_type": "display_data"
    }
   ],
   "source": [
    "# YOUR CODE HERE\n",
    "# One-hot encode BldgType. Use `prefix=\"Bldg\"` in `get_dummies`\n",
    "X_2 = pd.get_dummies(df.BldgType, prefix=\"Bldg\")\n",
    "# Multiply\n",
    "X_2 = X_2.mul(df.GrLivArea, axis=0)\n",
    "\n",
    "# Check your answer\n",
    "q_2.check()"
   ]
  },
  {
   "cell_type": "code",
   "execution_count": 6,
   "id": "c0a88c78",
   "metadata": {
    "execution": {
     "iopub.execute_input": "2023-05-12T07:02:32.005327Z",
     "iopub.status.busy": "2023-05-12T07:02:32.004850Z",
     "iopub.status.idle": "2023-05-12T07:02:32.010520Z",
     "shell.execute_reply": "2023-05-12T07:02:32.008722Z"
    },
    "lines_to_next_cell": 0,
    "papermill": {
     "duration": 0.020136,
     "end_time": "2023-05-12T07:02:32.013288",
     "exception": false,
     "start_time": "2023-05-12T07:02:31.993152",
     "status": "completed"
    },
    "tags": []
   },
   "outputs": [],
   "source": [
    "# Lines below will give you a hint or solution code\n",
    "#q_2.hint()\n",
    "# q_2.solution()"
   ]
  },
  {
   "cell_type": "markdown",
   "id": "56d27eed",
   "metadata": {
    "lines_to_next_cell": 0,
    "papermill": {
     "duration": 0.009357,
     "end_time": "2023-05-12T07:02:32.032552",
     "exception": false,
     "start_time": "2023-05-12T07:02:32.023195",
     "status": "completed"
    },
    "tags": []
   },
   "source": [
    "# 3) Count Feature\n",
    "\n",
    "Let's try creating a feature that describes how many kinds of outdoor areas a dwelling has. Create a feature `PorchTypes` that counts how many of the following are greater than 0.0:\n",
    "\n",
    "```\n",
    "WoodDeckSF\n",
    "OpenPorchSF\n",
    "EnclosedPorch\n",
    "Threeseasonporch\n",
    "ScreenPorch\n",
    "```"
   ]
  },
  {
   "cell_type": "code",
   "execution_count": 7,
   "id": "8c4e1a6b",
   "metadata": {
    "execution": {
     "iopub.execute_input": "2023-05-12T07:02:32.056106Z",
     "iopub.status.busy": "2023-05-12T07:02:32.055606Z",
     "iopub.status.idle": "2023-05-12T07:02:32.079973Z",
     "shell.execute_reply": "2023-05-12T07:02:32.078838Z"
    },
    "lines_to_next_cell": 0,
    "papermill": {
     "duration": 0.039969,
     "end_time": "2023-05-12T07:02:32.082509",
     "exception": false,
     "start_time": "2023-05-12T07:02:32.042540",
     "status": "completed"
    },
    "tags": []
   },
   "outputs": [
    {
     "name": "stdout",
     "output_type": "stream",
     "text": [
      "      PorchTypes\n",
      "0              2\n",
      "1              2\n",
      "2              2\n",
      "3              0\n",
      "4              2\n",
      "...          ...\n",
      "2925           1\n",
      "2926           1\n",
      "2927           2\n",
      "2928           2\n",
      "2929           2\n",
      "\n",
      "[2930 rows x 1 columns]\n"
     ]
    },
    {
     "data": {
      "application/javascript": [
       "parent.postMessage({\"jupyterEvent\": \"custom.exercise_interaction\", \"data\": {\"outcomeType\": 1, \"valueTowardsCompletion\": 0.2, \"interactionType\": 1, \"questionType\": 2, \"questionId\": \"3_Q3\", \"learnToolsVersion\": \"0.3.4\", \"failureMessage\": \"\", \"exceptionClass\": \"\", \"trace\": \"\"}}, \"*\")"
      ],
      "text/plain": [
       "<IPython.core.display.Javascript object>"
      ]
     },
     "metadata": {},
     "output_type": "display_data"
    },
    {
     "data": {
      "text/markdown": [
       "<span style=\"color:#33cc33\">Correct</span>"
      ],
      "text/plain": [
       "Correct"
      ]
     },
     "metadata": {},
     "output_type": "display_data"
    }
   ],
   "source": [
    "X_3 = pd.DataFrame()\n",
    "\n",
    "# YOUR CODE HERE\n",
    "X_3[\"PorchTypes\"] = df[['WoodDeckSF','OpenPorchSF','EnclosedPorch','Threeseasonporch','ScreenPorch']].gt(0).sum(axis=1)\n",
    "print(X_3)\n",
    "\n",
    "# Check your answer\n",
    "q_3.check()"
   ]
  },
  {
   "cell_type": "code",
   "execution_count": 8,
   "id": "63969fe2",
   "metadata": {
    "execution": {
     "iopub.execute_input": "2023-05-12T07:02:32.106417Z",
     "iopub.status.busy": "2023-05-12T07:02:32.106017Z",
     "iopub.status.idle": "2023-05-12T07:02:32.110267Z",
     "shell.execute_reply": "2023-05-12T07:02:32.109285Z"
    },
    "lines_to_next_cell": 0,
    "papermill": {
     "duration": 0.019339,
     "end_time": "2023-05-12T07:02:32.112559",
     "exception": false,
     "start_time": "2023-05-12T07:02:32.093220",
     "status": "completed"
    },
    "tags": []
   },
   "outputs": [],
   "source": [
    "# Lines below will give you a hint or solution code\n",
    "#q_3.hint()\n",
    "# q_3.solution()"
   ]
  },
  {
   "cell_type": "markdown",
   "id": "70e321b0",
   "metadata": {
    "papermill": {
     "duration": 0.009848,
     "end_time": "2023-05-12T07:02:32.132833",
     "exception": false,
     "start_time": "2023-05-12T07:02:32.122985",
     "status": "completed"
    },
    "tags": []
   },
   "source": [
    "# 4) Break Down a Categorical Feature\n",
    "\n",
    "`MSSubClass` describes the type of a dwelling:"
   ]
  },
  {
   "cell_type": "code",
   "execution_count": 9,
   "id": "235635b9",
   "metadata": {
    "execution": {
     "iopub.execute_input": "2023-05-12T07:02:32.155708Z",
     "iopub.status.busy": "2023-05-12T07:02:32.154812Z",
     "iopub.status.idle": "2023-05-12T07:02:32.163800Z",
     "shell.execute_reply": "2023-05-12T07:02:32.162598Z"
    },
    "papermill": {
     "duration": 0.02348,
     "end_time": "2023-05-12T07:02:32.166410",
     "exception": false,
     "start_time": "2023-05-12T07:02:32.142930",
     "status": "completed"
    },
    "tags": []
   },
   "outputs": [
    {
     "data": {
      "text/plain": [
       "array(['One_Story_1946_and_Newer_All_Styles', 'Two_Story_1946_and_Newer',\n",
       "       'One_Story_PUD_1946_and_Newer',\n",
       "       'One_and_Half_Story_Finished_All_Ages', 'Split_Foyer',\n",
       "       'Two_Story_PUD_1946_and_Newer', 'Split_or_Multilevel',\n",
       "       'One_Story_1945_and_Older', 'Duplex_All_Styles_and_Ages',\n",
       "       'Two_Family_conversion_All_Styles_and_Ages',\n",
       "       'One_and_Half_Story_Unfinished_All_Ages',\n",
       "       'Two_Story_1945_and_Older', 'Two_and_Half_Story_All_Ages',\n",
       "       'One_Story_with_Finished_Attic_All_Ages',\n",
       "       'PUD_Multilevel_Split_Level_Foyer',\n",
       "       'One_and_Half_Story_PUD_All_Ages'], dtype=object)"
      ]
     },
     "execution_count": 9,
     "metadata": {},
     "output_type": "execute_result"
    }
   ],
   "source": [
    "df.MSSubClass.unique()"
   ]
  },
  {
   "cell_type": "markdown",
   "id": "1b2dd572",
   "metadata": {
    "papermill": {
     "duration": 0.010027,
     "end_time": "2023-05-12T07:02:32.187056",
     "exception": false,
     "start_time": "2023-05-12T07:02:32.177029",
     "status": "completed"
    },
    "tags": []
   },
   "source": [
    "You can see that there is a more general categorization described (roughly) by the first word of each category. Create a feature containing only these first words by splitting `MSSubClass` at the first underscore `_`. (Hint: In the `split` method use an argument `n=1`.)"
   ]
  },
  {
   "cell_type": "code",
   "execution_count": 10,
   "id": "cf294dcb",
   "metadata": {
    "execution": {
     "iopub.execute_input": "2023-05-12T07:02:32.209301Z",
     "iopub.status.busy": "2023-05-12T07:02:32.208861Z",
     "iopub.status.idle": "2023-05-12T07:02:32.226888Z",
     "shell.execute_reply": "2023-05-12T07:02:32.225604Z"
    },
    "papermill": {
     "duration": 0.032271,
     "end_time": "2023-05-12T07:02:32.229530",
     "exception": false,
     "start_time": "2023-05-12T07:02:32.197259",
     "status": "completed"
    },
    "tags": []
   },
   "outputs": [
    {
     "data": {
      "text/plain": [
       "0         One\n",
       "1         One\n",
       "2         One\n",
       "3         One\n",
       "4         Two\n",
       "        ...  \n",
       "2925    Split\n",
       "2926      One\n",
       "2927    Split\n",
       "2928      One\n",
       "2929      Two\n",
       "Name: 0, Length: 2930, dtype: object"
      ]
     },
     "execution_count": 10,
     "metadata": {},
     "output_type": "execute_result"
    }
   ],
   "source": [
    "df.MSSubClass.str.split('_',n=1,expand=True)[0]"
   ]
  },
  {
   "cell_type": "code",
   "execution_count": 11,
   "id": "c5af4fdb",
   "metadata": {
    "execution": {
     "iopub.execute_input": "2023-05-12T07:02:32.253951Z",
     "iopub.status.busy": "2023-05-12T07:02:32.253220Z",
     "iopub.status.idle": "2023-05-12T07:02:32.283998Z",
     "shell.execute_reply": "2023-05-12T07:02:32.282778Z"
    },
    "lines_to_next_cell": 0,
    "papermill": {
     "duration": 0.045361,
     "end_time": "2023-05-12T07:02:32.286334",
     "exception": false,
     "start_time": "2023-05-12T07:02:32.240973",
     "status": "completed"
    },
    "tags": []
   },
   "outputs": [
    {
     "data": {
      "application/javascript": [
       "parent.postMessage({\"jupyterEvent\": \"custom.exercise_interaction\", \"data\": {\"outcomeType\": 1, \"valueTowardsCompletion\": 0.2, \"interactionType\": 1, \"questionType\": 2, \"questionId\": \"4_Q4\", \"learnToolsVersion\": \"0.3.4\", \"failureMessage\": \"\", \"exceptionClass\": \"\", \"trace\": \"\"}}, \"*\")"
      ],
      "text/plain": [
       "<IPython.core.display.Javascript object>"
      ]
     },
     "metadata": {},
     "output_type": "display_data"
    },
    {
     "data": {
      "text/markdown": [
       "<span style=\"color:#33cc33\">Correct</span>"
      ],
      "text/plain": [
       "Correct"
      ]
     },
     "metadata": {},
     "output_type": "display_data"
    }
   ],
   "source": [
    "X_4 = pd.DataFrame()\n",
    "\n",
    "# YOUR CODE HERE\n",
    "X_4[\"MSClass\"] =df.MSSubClass.str.split('_',n=1,expand=True)[0]\n",
    "\n",
    "# Check your answer\n",
    "q_4.check()"
   ]
  },
  {
   "cell_type": "code",
   "execution_count": 12,
   "id": "fde0b1c2",
   "metadata": {
    "execution": {
     "iopub.execute_input": "2023-05-12T07:02:32.310275Z",
     "iopub.status.busy": "2023-05-12T07:02:32.309824Z",
     "iopub.status.idle": "2023-05-12T07:02:32.315387Z",
     "shell.execute_reply": "2023-05-12T07:02:32.314191Z"
    },
    "lines_to_next_cell": 0,
    "papermill": {
     "duration": 0.020739,
     "end_time": "2023-05-12T07:02:32.318089",
     "exception": false,
     "start_time": "2023-05-12T07:02:32.297350",
     "status": "completed"
    },
    "tags": []
   },
   "outputs": [],
   "source": [
    "# Lines below will give you a hint or solution code\n",
    "#q_4.hint()\n",
    "# q_4.solution()"
   ]
  },
  {
   "cell_type": "markdown",
   "id": "f08e41d1",
   "metadata": {
    "papermill": {
     "duration": 0.011754,
     "end_time": "2023-05-12T07:02:32.341261",
     "exception": false,
     "start_time": "2023-05-12T07:02:32.329507",
     "status": "completed"
    },
    "tags": []
   },
   "source": [
    "# 5) Use a Grouped Transform\n",
    "\n",
    "The value of a home often depends on how it compares to typical homes in its neighborhood. Create a feature `MedNhbdArea` that describes the *median* of `GrLivArea` grouped on `Neighborhood`."
   ]
  },
  {
   "cell_type": "code",
   "execution_count": 13,
   "id": "9eaf0c51",
   "metadata": {
    "execution": {
     "iopub.execute_input": "2023-05-12T07:02:32.367782Z",
     "iopub.status.busy": "2023-05-12T07:02:32.367331Z",
     "iopub.status.idle": "2023-05-12T07:02:32.388017Z",
     "shell.execute_reply": "2023-05-12T07:02:32.386715Z"
    },
    "papermill": {
     "duration": 0.037322,
     "end_time": "2023-05-12T07:02:32.390959",
     "exception": false,
     "start_time": "2023-05-12T07:02:32.353637",
     "status": "completed"
    },
    "tags": []
   },
   "outputs": [
    {
     "data": {
      "text/html": [
       "<div>\n",
       "<style scoped>\n",
       "    .dataframe tbody tr th:only-of-type {\n",
       "        vertical-align: middle;\n",
       "    }\n",
       "\n",
       "    .dataframe tbody tr th {\n",
       "        vertical-align: top;\n",
       "    }\n",
       "\n",
       "    .dataframe thead th {\n",
       "        text-align: right;\n",
       "    }\n",
       "</style>\n",
       "<table border=\"1\" class=\"dataframe\">\n",
       "  <thead>\n",
       "    <tr style=\"text-align: right;\">\n",
       "      <th></th>\n",
       "      <th>GrLivArea</th>\n",
       "    </tr>\n",
       "  </thead>\n",
       "  <tbody>\n",
       "    <tr>\n",
       "      <th>0</th>\n",
       "      <td>1200.0</td>\n",
       "    </tr>\n",
       "    <tr>\n",
       "      <th>1</th>\n",
       "      <td>1200.0</td>\n",
       "    </tr>\n",
       "    <tr>\n",
       "      <th>2</th>\n",
       "      <td>1200.0</td>\n",
       "    </tr>\n",
       "    <tr>\n",
       "      <th>3</th>\n",
       "      <td>1200.0</td>\n",
       "    </tr>\n",
       "    <tr>\n",
       "      <th>4</th>\n",
       "      <td>1560.0</td>\n",
       "    </tr>\n",
       "    <tr>\n",
       "      <th>...</th>\n",
       "      <td>...</td>\n",
       "    </tr>\n",
       "    <tr>\n",
       "      <th>2925</th>\n",
       "      <td>1282.0</td>\n",
       "    </tr>\n",
       "    <tr>\n",
       "      <th>2926</th>\n",
       "      <td>1282.0</td>\n",
       "    </tr>\n",
       "    <tr>\n",
       "      <th>2927</th>\n",
       "      <td>1282.0</td>\n",
       "    </tr>\n",
       "    <tr>\n",
       "      <th>2928</th>\n",
       "      <td>1282.0</td>\n",
       "    </tr>\n",
       "    <tr>\n",
       "      <th>2929</th>\n",
       "      <td>1282.0</td>\n",
       "    </tr>\n",
       "  </tbody>\n",
       "</table>\n",
       "<p>2930 rows × 1 columns</p>\n",
       "</div>"
      ],
      "text/plain": [
       "      GrLivArea\n",
       "0        1200.0\n",
       "1        1200.0\n",
       "2        1200.0\n",
       "3        1200.0\n",
       "4        1560.0\n",
       "...         ...\n",
       "2925     1282.0\n",
       "2926     1282.0\n",
       "2927     1282.0\n",
       "2928     1282.0\n",
       "2929     1282.0\n",
       "\n",
       "[2930 rows x 1 columns]"
      ]
     },
     "execution_count": 13,
     "metadata": {},
     "output_type": "execute_result"
    }
   ],
   "source": [
    "df.groupby('Neighborhood')[['GrLivArea']].transform('median')"
   ]
  },
  {
   "cell_type": "code",
   "execution_count": 14,
   "id": "dea7da02",
   "metadata": {
    "execution": {
     "iopub.execute_input": "2023-05-12T07:02:32.417226Z",
     "iopub.status.busy": "2023-05-12T07:02:32.416482Z",
     "iopub.status.idle": "2023-05-12T07:02:32.436249Z",
     "shell.execute_reply": "2023-05-12T07:02:32.435014Z"
    },
    "lines_to_next_cell": 0,
    "papermill": {
     "duration": 0.035301,
     "end_time": "2023-05-12T07:02:32.438605",
     "exception": false,
     "start_time": "2023-05-12T07:02:32.403304",
     "status": "completed"
    },
    "tags": []
   },
   "outputs": [
    {
     "data": {
      "application/javascript": [
       "parent.postMessage({\"jupyterEvent\": \"custom.exercise_interaction\", \"data\": {\"outcomeType\": 1, \"valueTowardsCompletion\": 0.2, \"interactionType\": 1, \"questionType\": 2, \"questionId\": \"5_Q5\", \"learnToolsVersion\": \"0.3.4\", \"failureMessage\": \"\", \"exceptionClass\": \"\", \"trace\": \"\"}}, \"*\")"
      ],
      "text/plain": [
       "<IPython.core.display.Javascript object>"
      ]
     },
     "metadata": {},
     "output_type": "display_data"
    },
    {
     "data": {
      "text/markdown": [
       "<span style=\"color:#33cc33\">Correct</span>"
      ],
      "text/plain": [
       "Correct"
      ]
     },
     "metadata": {},
     "output_type": "display_data"
    }
   ],
   "source": [
    "X_5 = pd.DataFrame()\n",
    "\n",
    "# YOUR CODE HERE\n",
    "X_5[\"MedNhbdArea\"] = df.groupby('Neighborhood')[['GrLivArea']].transform('median')\n",
    "\n",
    "# Check your answer\n",
    "q_5.check()"
   ]
  },
  {
   "cell_type": "code",
   "execution_count": 15,
   "id": "cbdbe226",
   "metadata": {
    "execution": {
     "iopub.execute_input": "2023-05-12T07:02:32.467864Z",
     "iopub.status.busy": "2023-05-12T07:02:32.467217Z",
     "iopub.status.idle": "2023-05-12T07:02:32.471332Z",
     "shell.execute_reply": "2023-05-12T07:02:32.470456Z"
    },
    "lines_to_next_cell": 0,
    "papermill": {
     "duration": 0.022845,
     "end_time": "2023-05-12T07:02:32.473950",
     "exception": false,
     "start_time": "2023-05-12T07:02:32.451105",
     "status": "completed"
    },
    "tags": []
   },
   "outputs": [],
   "source": [
    "# Lines below will give you a hint or solution code\n",
    "#q_5.hint()\n",
    "# q_5.solution()"
   ]
  },
  {
   "cell_type": "markdown",
   "id": "7152fcaf",
   "metadata": {
    "papermill": {
     "duration": 0.01114,
     "end_time": "2023-05-12T07:02:32.496960",
     "exception": false,
     "start_time": "2023-05-12T07:02:32.485820",
     "status": "completed"
    },
    "tags": []
   },
   "source": [
    "Now you've made your first new feature set! If you like, you can run the cell below to score the model with all of your new features added:"
   ]
  },
  {
   "cell_type": "code",
   "execution_count": 16,
   "id": "be8a5f18",
   "metadata": {
    "execution": {
     "iopub.execute_input": "2023-05-12T07:02:32.522133Z",
     "iopub.status.busy": "2023-05-12T07:02:32.521393Z",
     "iopub.status.idle": "2023-05-12T07:02:36.838096Z",
     "shell.execute_reply": "2023-05-12T07:02:36.837117Z"
    },
    "papermill": {
     "duration": 4.33262,
     "end_time": "2023-05-12T07:02:36.840922",
     "exception": false,
     "start_time": "2023-05-12T07:02:32.508302",
     "status": "completed"
    },
    "tags": []
   },
   "outputs": [
    {
     "name": "stdout",
     "output_type": "stream",
     "text": [
      "                               MSSubClass                  MSZoning  \\\n",
      "0     One_Story_1946_and_Newer_All_Styles   Residential_Low_Density   \n",
      "1     One_Story_1946_and_Newer_All_Styles  Residential_High_Density   \n",
      "2     One_Story_1946_and_Newer_All_Styles   Residential_Low_Density   \n",
      "3     One_Story_1946_and_Newer_All_Styles   Residential_Low_Density   \n",
      "4                Two_Story_1946_and_Newer   Residential_Low_Density   \n",
      "...                                   ...                       ...   \n",
      "2925                  Split_or_Multilevel   Residential_Low_Density   \n",
      "2926  One_Story_1946_and_Newer_All_Styles   Residential_Low_Density   \n",
      "2927                          Split_Foyer   Residential_Low_Density   \n",
      "2928  One_Story_1946_and_Newer_All_Styles   Residential_Low_Density   \n",
      "2929             Two_Story_1946_and_Newer   Residential_Low_Density   \n",
      "\n",
      "      LotFrontage  LotArea Street            Alley            LotShape  \\\n",
      "0           141.0  31770.0   Pave  No_Alley_Access  Slightly_Irregular   \n",
      "1            80.0  11622.0   Pave  No_Alley_Access             Regular   \n",
      "2            81.0  14267.0   Pave  No_Alley_Access  Slightly_Irregular   \n",
      "3            93.0  11160.0   Pave  No_Alley_Access             Regular   \n",
      "4            74.0  13830.0   Pave  No_Alley_Access  Slightly_Irregular   \n",
      "...           ...      ...    ...              ...                 ...   \n",
      "2925         37.0   7937.0   Pave  No_Alley_Access  Slightly_Irregular   \n",
      "2926          0.0   8885.0   Pave  No_Alley_Access  Slightly_Irregular   \n",
      "2927         62.0  10441.0   Pave  No_Alley_Access             Regular   \n",
      "2928         77.0  10010.0   Pave  No_Alley_Access             Regular   \n",
      "2929         74.0   9627.0   Pave  No_Alley_Access             Regular   \n",
      "\n",
      "     LandContour Utilities LotConfig  ... Spaciousness TotalOutsideSF  \\\n",
      "0            Lvl    AllPub    Corner  ...   236.571429          272.0   \n",
      "1            Lvl    AllPub    Inside  ...   179.200000          260.0   \n",
      "2            Lvl    AllPub    Corner  ...   221.500000          429.0   \n",
      "3            Lvl    AllPub    Corner  ...   263.750000            0.0   \n",
      "4            Lvl    AllPub    Inside  ...   271.500000          246.0   \n",
      "...          ...       ...       ...  ...          ...            ...   \n",
      "2925         Lvl    AllPub   CulDSac  ...   167.166667          120.0   \n",
      "2926         Low    AllPub    Inside  ...   180.400000          164.0   \n",
      "2927         Lvl    AllPub    Inside  ...   161.666667          112.0   \n",
      "2928         Lvl    AllPub    Inside  ...   231.500000          278.0   \n",
      "2929         Lvl    AllPub    Inside  ...   222.222222          238.0   \n",
      "\n",
      "     Bldg_Duplex Bldg_OneFam Bldg_Twnhs Bldg_TwnhsE Bldg_TwoFmCon PorchTypes  \\\n",
      "0            0.0      1656.0        0.0         0.0           0.0          2   \n",
      "1            0.0       896.0        0.0         0.0           0.0          2   \n",
      "2            0.0      1329.0        0.0         0.0           0.0          2   \n",
      "3            0.0      2110.0        0.0         0.0           0.0          0   \n",
      "4            0.0      1629.0        0.0         0.0           0.0          2   \n",
      "...          ...         ...        ...         ...           ...        ...   \n",
      "2925         0.0      1003.0        0.0         0.0           0.0          1   \n",
      "2926         0.0       902.0        0.0         0.0           0.0          1   \n",
      "2927         0.0       970.0        0.0         0.0           0.0          2   \n",
      "2928         0.0      1389.0        0.0         0.0           0.0          2   \n",
      "2929         0.0      2000.0        0.0         0.0           0.0          2   \n",
      "\n",
      "      MSClass  MedNhbdArea  \n",
      "0         One       1200.0  \n",
      "1         One       1200.0  \n",
      "2         One       1200.0  \n",
      "3         One       1200.0  \n",
      "4         Two       1560.0  \n",
      "...       ...          ...  \n",
      "2925    Split       1282.0  \n",
      "2926      One       1282.0  \n",
      "2927    Split       1282.0  \n",
      "2928      One       1282.0  \n",
      "2929      Two       1282.0  \n",
      "\n",
      "[2930 rows x 89 columns]\n"
     ]
    },
    {
     "data": {
      "text/plain": [
       "0.13865658070461215"
      ]
     },
     "execution_count": 16,
     "metadata": {},
     "output_type": "execute_result"
    }
   ],
   "source": [
    "X_new = X.join([X_1, X_2, X_3, X_4, X_5])\n",
    "print(X_new)\n",
    "score_dataset(X_new, y)"
   ]
  },
  {
   "cell_type": "markdown",
   "id": "9e0f2f2e",
   "metadata": {
    "papermill": {
     "duration": 0.011522,
     "end_time": "2023-05-12T07:02:36.865145",
     "exception": false,
     "start_time": "2023-05-12T07:02:36.853623",
     "status": "completed"
    },
    "tags": []
   },
   "source": [
    "# Keep Going #\n",
    "\n",
    "[**Untangle spatial relationships**](https://www.kaggle.com/ryanholbrook/clustering-with-k-means) by adding cluster labels to your dataset."
   ]
  },
  {
   "cell_type": "markdown",
   "id": "ad496d15",
   "metadata": {
    "papermill": {
     "duration": 0.011397,
     "end_time": "2023-05-12T07:02:36.888501",
     "exception": false,
     "start_time": "2023-05-12T07:02:36.877104",
     "status": "completed"
    },
    "tags": []
   },
   "source": [
    "---\n",
    "\n",
    "\n",
    "\n",
    "\n",
    "*Have questions or comments? Visit the [course discussion forum](https://www.kaggle.com/learn/feature-engineering/discussion) to chat with other learners.*"
   ]
  }
 ],
 "metadata": {
  "kernelspec": {
   "display_name": "Python 3",
   "language": "python",
   "name": "python3"
  },
  "language_info": {
   "codemirror_mode": {
    "name": "ipython",
    "version": 3
   },
   "file_extension": ".py",
   "mimetype": "text/x-python",
   "name": "python",
   "nbconvert_exporter": "python",
   "pygments_lexer": "ipython3",
   "version": "3.10.10"
  },
  "papermill": {
   "default_parameters": {},
   "duration": 21.417042,
   "end_time": "2023-05-12T07:02:37.925503",
   "environment_variables": {},
   "exception": null,
   "input_path": "__notebook__.ipynb",
   "output_path": "__notebook__.ipynb",
   "parameters": {},
   "start_time": "2023-05-12T07:02:16.508461",
   "version": "2.4.0"
  }
 },
 "nbformat": 4,
 "nbformat_minor": 5
}
