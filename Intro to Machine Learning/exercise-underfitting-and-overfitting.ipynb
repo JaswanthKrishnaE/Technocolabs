{
 "cells": [
  {
   "cell_type": "markdown",
   "id": "24012380",
   "metadata": {
    "papermill": {
     "duration": 0.004084,
     "end_time": "2023-05-09T11:25:09.912948",
     "exception": false,
     "start_time": "2023-05-09T11:25:09.908864",
     "status": "completed"
    },
    "tags": []
   },
   "source": [
    "**This notebook is an exercise in the [Introduction to Machine Learning](https://www.kaggle.com/learn/intro-to-machine-learning) course.  You can reference the tutorial at [this link](https://www.kaggle.com/dansbecker/underfitting-and-overfitting).**\n",
    "\n",
    "---\n"
   ]
  },
  {
   "cell_type": "markdown",
   "id": "b0186754",
   "metadata": {
    "papermill": {
     "duration": 0.003174,
     "end_time": "2023-05-09T11:25:09.919907",
     "exception": false,
     "start_time": "2023-05-09T11:25:09.916733",
     "status": "completed"
    },
    "tags": []
   },
   "source": [
    "## Recap\n",
    "You've built your first model, and now it's time to optimize the size of the tree to make better predictions. Run this cell to set up your coding environment where the previous step left off."
   ]
  },
  {
   "cell_type": "code",
   "execution_count": 1,
   "id": "10f79cc8",
   "metadata": {
    "execution": {
     "iopub.execute_input": "2023-05-09T11:25:09.929900Z",
     "iopub.status.busy": "2023-05-09T11:25:09.928491Z",
     "iopub.status.idle": "2023-05-09T11:25:11.776250Z",
     "shell.execute_reply": "2023-05-09T11:25:11.774919Z"
    },
    "papermill": {
     "duration": 1.856006,
     "end_time": "2023-05-09T11:25:11.779427",
     "exception": false,
     "start_time": "2023-05-09T11:25:09.923421",
     "status": "completed"
    },
    "tags": []
   },
   "outputs": [
    {
     "name": "stderr",
     "output_type": "stream",
     "text": [
      "/opt/conda/lib/python3.10/site-packages/scipy/__init__.py:146: UserWarning: A NumPy version >=1.16.5 and <1.23.0 is required for this version of SciPy (detected version 1.23.5\n",
      "  warnings.warn(f\"A NumPy version >={np_minversion} and <{np_maxversion}\"\n"
     ]
    },
    {
     "name": "stdout",
     "output_type": "stream",
     "text": [
      "Validation MAE: 29,653\n",
      "\n",
      "Setup complete\n"
     ]
    }
   ],
   "source": [
    "# Code you have previously used to load data\n",
    "import pandas as pd\n",
    "from sklearn.metrics import mean_absolute_error\n",
    "from sklearn.model_selection import train_test_split\n",
    "from sklearn.tree import DecisionTreeRegressor\n",
    "\n",
    "\n",
    "# Path of the file to read\n",
    "iowa_file_path = '../input/home-data-for-ml-course/train.csv'\n",
    "\n",
    "home_data = pd.read_csv(iowa_file_path)\n",
    "# Create target object and call it y\n",
    "y = home_data.SalePrice\n",
    "# Create X\n",
    "features = ['LotArea', 'YearBuilt', '1stFlrSF', '2ndFlrSF', 'FullBath', 'BedroomAbvGr', 'TotRmsAbvGrd']\n",
    "X = home_data[features]\n",
    "\n",
    "# Split into validation and training data\n",
    "train_X, val_X, train_y, val_y = train_test_split(X, y, random_state=1)\n",
    "\n",
    "# Specify Model\n",
    "iowa_model = DecisionTreeRegressor(random_state=1)\n",
    "# Fit Model\n",
    "iowa_model.fit(train_X, train_y)\n",
    "\n",
    "# Make validation predictions and calculate mean absolute error\n",
    "val_predictions = iowa_model.predict(val_X)\n",
    "val_mae = mean_absolute_error(val_predictions, val_y)\n",
    "print(\"Validation MAE: {:,.0f}\".format(val_mae))\n",
    "\n",
    "# Set up code checking\n",
    "from learntools.core import binder\n",
    "binder.bind(globals())\n",
    "from learntools.machine_learning.ex5 import *\n",
    "print(\"\\nSetup complete\")"
   ]
  },
  {
   "cell_type": "markdown",
   "id": "bc49c268",
   "metadata": {
    "papermill": {
     "duration": 0.003792,
     "end_time": "2023-05-09T11:25:11.787546",
     "exception": false,
     "start_time": "2023-05-09T11:25:11.783754",
     "status": "completed"
    },
    "tags": []
   },
   "source": [
    "# Exercises\n",
    "You could write the function `get_mae` yourself. For now, we'll supply it. This is the same function you read about in the previous lesson. Just run the cell below."
   ]
  },
  {
   "cell_type": "code",
   "execution_count": 2,
   "id": "7b58f612",
   "metadata": {
    "execution": {
     "iopub.execute_input": "2023-05-09T11:25:11.797368Z",
     "iopub.status.busy": "2023-05-09T11:25:11.796911Z",
     "iopub.status.idle": "2023-05-09T11:25:11.803952Z",
     "shell.execute_reply": "2023-05-09T11:25:11.802566Z"
    },
    "papermill": {
     "duration": 0.014887,
     "end_time": "2023-05-09T11:25:11.806434",
     "exception": false,
     "start_time": "2023-05-09T11:25:11.791547",
     "status": "completed"
    },
    "tags": []
   },
   "outputs": [],
   "source": [
    "def get_mae(max_leaf_nodes, train_X, val_X, train_y, val_y):\n",
    "    model = DecisionTreeRegressor(max_leaf_nodes=max_leaf_nodes, random_state=0)\n",
    "    model.fit(train_X, train_y)\n",
    "    preds_val = model.predict(val_X)\n",
    "    mae = mean_absolute_error(val_y, preds_val)\n",
    "    return(mae)"
   ]
  },
  {
   "cell_type": "markdown",
   "id": "140c4d40",
   "metadata": {
    "papermill": {
     "duration": 0.003715,
     "end_time": "2023-05-09T11:25:11.814245",
     "exception": false,
     "start_time": "2023-05-09T11:25:11.810530",
     "status": "completed"
    },
    "tags": []
   },
   "source": [
    "## Step 1: Compare Different Tree Sizes\n",
    "Write a loop that tries the following values for *max_leaf_nodes* from a set of possible values.\n",
    "\n",
    "Call the *get_mae* function on each value of max_leaf_nodes. Store the output in some way that allows you to select the value of `max_leaf_nodes` that gives the most accurate model on your data."
   ]
  },
  {
   "cell_type": "code",
   "execution_count": 3,
   "id": "03f9ec2d",
   "metadata": {
    "execution": {
     "iopub.execute_input": "2023-05-09T11:25:11.823796Z",
     "iopub.status.busy": "2023-05-09T11:25:11.823393Z",
     "iopub.status.idle": "2023-05-09T11:25:11.876093Z",
     "shell.execute_reply": "2023-05-09T11:25:11.874720Z"
    },
    "papermill": {
     "duration": 0.060592,
     "end_time": "2023-05-09T11:25:11.878547",
     "exception": false,
     "start_time": "2023-05-09T11:25:11.817955",
     "status": "completed"
    },
    "tags": []
   },
   "outputs": [
    {
     "data": {
      "application/javascript": [
       "parent.postMessage({\"jupyterEvent\": \"custom.exercise_interaction\", \"data\": {\"outcomeType\": 1, \"valueTowardsCompletion\": 0.5, \"interactionType\": 1, \"questionType\": 1, \"questionId\": \"1_BestTreeSize\", \"learnToolsVersion\": \"0.3.4\", \"failureMessage\": \"\", \"exceptionClass\": \"\", \"trace\": \"\"}}, \"*\")"
      ],
      "text/plain": [
       "<IPython.core.display.Javascript object>"
      ]
     },
     "metadata": {},
     "output_type": "display_data"
    },
    {
     "data": {
      "text/markdown": [
       "<span style=\"color:#33cc33\">Correct</span>"
      ],
      "text/plain": [
       "Correct"
      ]
     },
     "metadata": {},
     "output_type": "display_data"
    }
   ],
   "source": [
    "candidate_max_leaf_nodes = [5, 25, 50, 100, 250, 500]\n",
    "# Write loop to find the ideal tree size from candidate_max_leaf_nodes\n",
    "def get_mae(max_leaf_nodes, train_X, val_X, train_y, val_y):\n",
    "    model = DecisionTreeRegressor(max_leaf_nodes=max_leaf_nodes, random_state=0)\n",
    "    model.fit(train_X, train_y)\n",
    "    preds_val = model.predict(val_X)\n",
    "    mae = mean_absolute_error(val_y, preds_val)\n",
    "    return(mae)\n",
    "\n",
    "scores = {leaf_size: get_mae(leaf_size, train_X, val_X, train_y, val_y) for leaf_size in candidate_max_leaf_nodes}\n",
    "\n",
    "\n",
    "# Store the best value of max_leaf_nodes (it will be either 5, 25, 50, 100, 250 or 500)\n",
    "best_tree_size = min(scores, key=scores.get)\n",
    "\n",
    "# Check your answer\n",
    "step_1.check()"
   ]
  },
  {
   "cell_type": "code",
   "execution_count": 4,
   "id": "2a7f3749",
   "metadata": {
    "execution": {
     "iopub.execute_input": "2023-05-09T11:25:11.888777Z",
     "iopub.status.busy": "2023-05-09T11:25:11.888371Z",
     "iopub.status.idle": "2023-05-09T11:25:11.893456Z",
     "shell.execute_reply": "2023-05-09T11:25:11.892304Z"
    },
    "papermill": {
     "duration": 0.012793,
     "end_time": "2023-05-09T11:25:11.895566",
     "exception": false,
     "start_time": "2023-05-09T11:25:11.882773",
     "status": "completed"
    },
    "tags": []
   },
   "outputs": [],
   "source": [
    "# The lines below will show you a hint or the solution.\n",
    "# step_1.hint() \n",
    "# step_1.solution()"
   ]
  },
  {
   "cell_type": "markdown",
   "id": "9fe07b5e",
   "metadata": {
    "papermill": {
     "duration": 0.003813,
     "end_time": "2023-05-09T11:25:11.903736",
     "exception": false,
     "start_time": "2023-05-09T11:25:11.899923",
     "status": "completed"
    },
    "tags": []
   },
   "source": [
    "## Step 2: Fit Model Using All Data\n",
    "You know the best tree size. If you were going to deploy this model in practice, you would make it even more accurate by using all of the data and keeping that tree size.  That is, you don't need to hold out the validation data now that you've made all your modeling decisions."
   ]
  },
  {
   "cell_type": "code",
   "execution_count": 5,
   "id": "69dccd33",
   "metadata": {
    "execution": {
     "iopub.execute_input": "2023-05-09T11:25:11.913824Z",
     "iopub.status.busy": "2023-05-09T11:25:11.913004Z",
     "iopub.status.idle": "2023-05-09T11:25:11.931561Z",
     "shell.execute_reply": "2023-05-09T11:25:11.930196Z"
    },
    "papermill": {
     "duration": 0.026441,
     "end_time": "2023-05-09T11:25:11.934117",
     "exception": false,
     "start_time": "2023-05-09T11:25:11.907676",
     "status": "completed"
    },
    "tags": []
   },
   "outputs": [
    {
     "data": {
      "application/javascript": [
       "parent.postMessage({\"jupyterEvent\": \"custom.exercise_interaction\", \"data\": {\"outcomeType\": 1, \"valueTowardsCompletion\": 0.5, \"interactionType\": 1, \"questionType\": 2, \"questionId\": \"2_FitModelWithAllData\", \"learnToolsVersion\": \"0.3.4\", \"failureMessage\": \"\", \"exceptionClass\": \"\", \"trace\": \"\"}}, \"*\")"
      ],
      "text/plain": [
       "<IPython.core.display.Javascript object>"
      ]
     },
     "metadata": {},
     "output_type": "display_data"
    },
    {
     "data": {
      "text/markdown": [
       "<span style=\"color:#33cc33\">Correct</span>"
      ],
      "text/plain": [
       "Correct"
      ]
     },
     "metadata": {},
     "output_type": "display_data"
    }
   ],
   "source": [
    "# Fill in argument to make optimal size and uncomment\n",
    "final_model = DecisionTreeRegressor(max_leaf_nodes=best_tree_size, random_state=1)\n",
    "\n",
    "# fit the final model and uncomment the next two lines\n",
    "final_model.fit(X, y)\n",
    "# Check your answer\n",
    "step_2.check()"
   ]
  },
  {
   "cell_type": "code",
   "execution_count": 6,
   "id": "947a4f40",
   "metadata": {
    "execution": {
     "iopub.execute_input": "2023-05-09T11:25:11.944952Z",
     "iopub.status.busy": "2023-05-09T11:25:11.944572Z",
     "iopub.status.idle": "2023-05-09T11:25:11.954441Z",
     "shell.execute_reply": "2023-05-09T11:25:11.953336Z"
    },
    "papermill": {
     "duration": 0.018146,
     "end_time": "2023-05-09T11:25:11.956827",
     "exception": false,
     "start_time": "2023-05-09T11:25:11.938681",
     "status": "completed"
    },
    "tags": []
   },
   "outputs": [
    {
     "data": {
      "application/javascript": [
       "parent.postMessage({\"jupyterEvent\": \"custom.exercise_interaction\", \"data\": {\"interactionType\": 3, \"questionType\": 2, \"questionId\": \"2_FitModelWithAllData\", \"learnToolsVersion\": \"0.3.4\", \"valueTowardsCompletion\": 0.0, \"failureMessage\": \"\", \"exceptionClass\": \"\", \"trace\": \"\", \"outcomeType\": 4}}, \"*\")"
      ],
      "text/plain": [
       "<IPython.core.display.Javascript object>"
      ]
     },
     "metadata": {},
     "output_type": "display_data"
    },
    {
     "data": {
      "text/markdown": [
       "<span style=\"color:#33cc99\">Solution:</span> \n",
       "```python\n",
       "# Fit the model with best_tree_size. Fill in argument to make optimal size\n",
       "final_model = DecisionTreeRegressor(max_leaf_nodes=best_tree_size, random_state=1)\n",
       "\n",
       "# fit the final model\n",
       "final_model.fit(X, y)\n",
       "```"
      ],
      "text/plain": [
       "Solution: \n",
       "```python\n",
       "# Fit the model with best_tree_size. Fill in argument to make optimal size\n",
       "final_model = DecisionTreeRegressor(max_leaf_nodes=best_tree_size, random_state=1)\n",
       "\n",
       "# fit the final model\n",
       "final_model.fit(X, y)\n",
       "```"
      ]
     },
     "metadata": {},
     "output_type": "display_data"
    }
   ],
   "source": [
    "# step_2.hint()\n",
    "step_2.solution()"
   ]
  },
  {
   "cell_type": "code",
   "execution_count": 7,
   "id": "c8111175",
   "metadata": {
    "execution": {
     "iopub.execute_input": "2023-05-09T11:25:11.968195Z",
     "iopub.status.busy": "2023-05-09T11:25:11.967822Z",
     "iopub.status.idle": "2023-05-09T11:25:12.013190Z",
     "shell.execute_reply": "2023-05-09T11:25:12.011800Z"
    },
    "papermill": {
     "duration": 0.053795,
     "end_time": "2023-05-09T11:25:12.015522",
     "exception": false,
     "start_time": "2023-05-09T11:25:11.961727",
     "status": "completed"
    },
    "tags": []
   },
   "outputs": [
    {
     "name": "stdout",
     "output_type": "stream",
     "text": [
      "[35044.51299744237, 29016.41319191076, 27405.930473214907, 27282.50803885739, 27893.822225701646, 29454.18598068598]\n"
     ]
    }
   ],
   "source": [
    "print([get_mae(leaf_size, train_X, val_X, train_y, val_y) for leaf_size in  candidate_max_leaf_nodes])"
   ]
  },
  {
   "cell_type": "markdown",
   "id": "e19b5fef",
   "metadata": {
    "papermill": {
     "duration": 0.004294,
     "end_time": "2023-05-09T11:25:12.024842",
     "exception": false,
     "start_time": "2023-05-09T11:25:12.020548",
     "status": "completed"
    },
    "tags": []
   },
   "source": [
    "You've tuned this model and improved your results. But we are still using Decision Tree models, which are not very sophisticated by modern machine learning standards. In the next step you will learn to use Random Forests to improve your models even more.\n",
    "\n",
    "# Keep Going\n",
    "\n",
    "You are ready for **[Random Forests](https://www.kaggle.com/dansbecker/random-forests).**\n"
   ]
  },
  {
   "cell_type": "markdown",
   "id": "d6fb1b8f",
   "metadata": {
    "papermill": {
     "duration": 0.004125,
     "end_time": "2023-05-09T11:25:12.033465",
     "exception": false,
     "start_time": "2023-05-09T11:25:12.029340",
     "status": "completed"
    },
    "tags": []
   },
   "source": [
    "---\n",
    "\n",
    "\n",
    "\n",
    "\n",
    "*Have questions or comments? Visit the [course discussion forum](https://www.kaggle.com/learn/intro-to-machine-learning/discussion) to chat with other learners.*"
   ]
  }
 ],
 "metadata": {
  "kernelspec": {
   "display_name": "Python 3",
   "language": "python",
   "name": "python3"
  },
  "language_info": {
   "codemirror_mode": {
    "name": "ipython",
    "version": 3
   },
   "file_extension": ".py",
   "mimetype": "text/x-python",
   "name": "python",
   "nbconvert_exporter": "python",
   "pygments_lexer": "ipython3",
   "version": "3.10.10"
  },
  "papermill": {
   "default_parameters": {},
   "duration": 14.81493,
   "end_time": "2023-05-09T11:25:13.265314",
   "environment_variables": {},
   "exception": null,
   "input_path": "__notebook__.ipynb",
   "output_path": "__notebook__.ipynb",
   "parameters": {},
   "start_time": "2023-05-09T11:24:58.450384",
   "version": "2.4.0"
  }
 },
 "nbformat": 4,
 "nbformat_minor": 5
}
