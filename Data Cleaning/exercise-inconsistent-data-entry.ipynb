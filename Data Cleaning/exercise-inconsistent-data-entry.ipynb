{
 "cells": [
  {
   "cell_type": "markdown",
   "id": "dde495c1",
   "metadata": {
    "papermill": {
     "duration": 0.005374,
     "end_time": "2023-05-05T09:41:58.439781",
     "exception": false,
     "start_time": "2023-05-05T09:41:58.434407",
     "status": "completed"
    },
    "tags": []
   },
   "source": [
    "**This notebook is an exercise in the [Data Cleaning](https://www.kaggle.com/learn/data-cleaning) course.  You can reference the tutorial at [this link](https://www.kaggle.com/alexisbcook/inconsistent-data-entry).**\n",
    "\n",
    "---\n"
   ]
  },
  {
   "cell_type": "markdown",
   "id": "22b9cf75",
   "metadata": {
    "papermill": {
     "duration": 0.004463,
     "end_time": "2023-05-05T09:41:58.449175",
     "exception": false,
     "start_time": "2023-05-05T09:41:58.444712",
     "status": "completed"
    },
    "tags": []
   },
   "source": [
    "In this exercise, you'll apply what you learned in the **Inconsistent data entry** tutorial.\n",
    "\n",
    "# Setup\n",
    "\n",
    "The questions below will give you feedback on your work. Run the following cell to set up the feedback system."
   ]
  },
  {
   "cell_type": "code",
   "execution_count": 1,
   "id": "fbff0d24",
   "metadata": {
    "execution": {
     "iopub.execute_input": "2023-05-05T09:41:58.460476Z",
     "iopub.status.busy": "2023-05-05T09:41:58.459843Z",
     "iopub.status.idle": "2023-05-05T09:41:58.614054Z",
     "shell.execute_reply": "2023-05-05T09:41:58.612976Z"
    },
    "papermill": {
     "duration": 0.162518,
     "end_time": "2023-05-05T09:41:58.616344",
     "exception": false,
     "start_time": "2023-05-05T09:41:58.453826",
     "status": "completed"
    },
    "tags": []
   },
   "outputs": [
    {
     "name": "stdout",
     "output_type": "stream",
     "text": [
      "Setup Complete\n"
     ]
    }
   ],
   "source": [
    "from learntools.core import binder\n",
    "binder.bind(globals())\n",
    "from learntools.data_cleaning.ex5 import *\n",
    "print(\"Setup Complete\")"
   ]
  },
  {
   "cell_type": "markdown",
   "id": "f215486c",
   "metadata": {
    "papermill": {
     "duration": 0.004768,
     "end_time": "2023-05-05T09:41:58.626270",
     "exception": false,
     "start_time": "2023-05-05T09:41:58.621502",
     "status": "completed"
    },
    "tags": []
   },
   "source": [
    "# Get our environment set up\n",
    "\n",
    "The first thing we'll need to do is load in the libraries and dataset we'll be using.  We use the same dataset from the tutorial."
   ]
  },
  {
   "cell_type": "code",
   "execution_count": 2,
   "id": "f4cb817f",
   "metadata": {
    "execution": {
     "iopub.execute_input": "2023-05-05T09:41:58.637268Z",
     "iopub.status.busy": "2023-05-05T09:41:58.636883Z",
     "iopub.status.idle": "2023-05-05T09:41:58.652454Z",
     "shell.execute_reply": "2023-05-05T09:41:58.651384Z"
    },
    "papermill": {
     "duration": 0.023812,
     "end_time": "2023-05-05T09:41:58.654856",
     "exception": false,
     "start_time": "2023-05-05T09:41:58.631044",
     "status": "completed"
    },
    "tags": []
   },
   "outputs": [],
   "source": [
    "# modules we'll use\n",
    "import pandas as pd\n",
    "import numpy as np\n",
    "\n",
    "# helpful modules\n",
    "import fuzzywuzzy\n",
    "from fuzzywuzzy import process\n",
    "import charset_normalizer\n",
    "\n",
    "# read in all our data\n",
    "professors = pd.read_csv(\"../input/pakistan-intellectual-capital/pakistan_intellectual_capital.csv\")\n",
    "\n",
    "# set seed for reproducibility\n",
    "np.random.seed(0)"
   ]
  },
  {
   "cell_type": "markdown",
   "id": "82c411a1",
   "metadata": {
    "papermill": {
     "duration": 0.004487,
     "end_time": "2023-05-05T09:41:58.664659",
     "exception": false,
     "start_time": "2023-05-05T09:41:58.660172",
     "status": "completed"
    },
    "tags": []
   },
   "source": [
    "Next, we'll redo all of the work that we did in the tutorial."
   ]
  },
  {
   "cell_type": "code",
   "execution_count": 3,
   "id": "112b003b",
   "metadata": {
    "execution": {
     "iopub.execute_input": "2023-05-05T09:41:58.675707Z",
     "iopub.status.busy": "2023-05-05T09:41:58.675363Z",
     "iopub.status.idle": "2023-05-05T09:41:58.703477Z",
     "shell.execute_reply": "2023-05-05T09:41:58.702438Z"
    },
    "papermill": {
     "duration": 0.036154,
     "end_time": "2023-05-05T09:41:58.705664",
     "exception": false,
     "start_time": "2023-05-05T09:41:58.669510",
     "status": "completed"
    },
    "tags": []
   },
   "outputs": [
    {
     "data": {
      "text/html": [
       "<div>\n",
       "<style scoped>\n",
       "    .dataframe tbody tr th:only-of-type {\n",
       "        vertical-align: middle;\n",
       "    }\n",
       "\n",
       "    .dataframe tbody tr th {\n",
       "        vertical-align: top;\n",
       "    }\n",
       "\n",
       "    .dataframe thead th {\n",
       "        text-align: right;\n",
       "    }\n",
       "</style>\n",
       "<table border=\"1\" class=\"dataframe\">\n",
       "  <thead>\n",
       "    <tr style=\"text-align: right;\">\n",
       "      <th></th>\n",
       "      <th>Unnamed: 0</th>\n",
       "      <th>S#</th>\n",
       "      <th>Teacher Name</th>\n",
       "      <th>University Currently Teaching</th>\n",
       "      <th>Department</th>\n",
       "      <th>Province University Located</th>\n",
       "      <th>Designation</th>\n",
       "      <th>Terminal Degree</th>\n",
       "      <th>Graduated from</th>\n",
       "      <th>Country</th>\n",
       "      <th>Year</th>\n",
       "      <th>Area of Specialization/Research Interests</th>\n",
       "      <th>Other Information</th>\n",
       "    </tr>\n",
       "  </thead>\n",
       "  <tbody>\n",
       "    <tr>\n",
       "      <th>0</th>\n",
       "      <td>2</td>\n",
       "      <td>3</td>\n",
       "      <td>Dr. Abdul Basit</td>\n",
       "      <td>University of Balochistan</td>\n",
       "      <td>Computer Science &amp; IT</td>\n",
       "      <td>Balochistan</td>\n",
       "      <td>Assistant Professor</td>\n",
       "      <td>PhD</td>\n",
       "      <td>Asian Institute of Technology</td>\n",
       "      <td>Thailand</td>\n",
       "      <td>NaN</td>\n",
       "      <td>Software Engineering &amp; DBMS</td>\n",
       "      <td>NaN</td>\n",
       "    </tr>\n",
       "    <tr>\n",
       "      <th>1</th>\n",
       "      <td>4</td>\n",
       "      <td>5</td>\n",
       "      <td>Dr. Waheed Noor</td>\n",
       "      <td>University of Balochistan</td>\n",
       "      <td>Computer Science &amp; IT</td>\n",
       "      <td>Balochistan</td>\n",
       "      <td>Assistant Professor</td>\n",
       "      <td>PhD</td>\n",
       "      <td>Asian Institute of Technology</td>\n",
       "      <td>Thailand</td>\n",
       "      <td>NaN</td>\n",
       "      <td>DBMS</td>\n",
       "      <td>NaN</td>\n",
       "    </tr>\n",
       "    <tr>\n",
       "      <th>2</th>\n",
       "      <td>5</td>\n",
       "      <td>6</td>\n",
       "      <td>Dr. Junaid Baber</td>\n",
       "      <td>University of Balochistan</td>\n",
       "      <td>Computer Science &amp; IT</td>\n",
       "      <td>Balochistan</td>\n",
       "      <td>Assistant Professor</td>\n",
       "      <td>PhD</td>\n",
       "      <td>Asian Institute of Technology</td>\n",
       "      <td>Thailand</td>\n",
       "      <td>NaN</td>\n",
       "      <td>Information processing, Multimedia mining</td>\n",
       "      <td>NaN</td>\n",
       "    </tr>\n",
       "    <tr>\n",
       "      <th>3</th>\n",
       "      <td>6</td>\n",
       "      <td>7</td>\n",
       "      <td>Dr. Maheen Bakhtyar</td>\n",
       "      <td>University of Balochistan</td>\n",
       "      <td>Computer Science &amp; IT</td>\n",
       "      <td>Balochistan</td>\n",
       "      <td>Assistant Professor</td>\n",
       "      <td>PhD</td>\n",
       "      <td>Asian Institute of Technology</td>\n",
       "      <td>Thailand</td>\n",
       "      <td>NaN</td>\n",
       "      <td>NLP, Information Retrieval, Question Answering...</td>\n",
       "      <td>NaN</td>\n",
       "    </tr>\n",
       "    <tr>\n",
       "      <th>4</th>\n",
       "      <td>24</td>\n",
       "      <td>25</td>\n",
       "      <td>Samina Azim</td>\n",
       "      <td>Sardar Bahadur Khan Women's University</td>\n",
       "      <td>Computer Science</td>\n",
       "      <td>Balochistan</td>\n",
       "      <td>Lecturer</td>\n",
       "      <td>BS</td>\n",
       "      <td>Balochistan University of Information Technolo...</td>\n",
       "      <td>Pakistan</td>\n",
       "      <td>2005.0</td>\n",
       "      <td>VLSI Electronics DLD Database</td>\n",
       "      <td>NaN</td>\n",
       "    </tr>\n",
       "  </tbody>\n",
       "</table>\n",
       "</div>"
      ],
      "text/plain": [
       "   Unnamed: 0  S#         Teacher Name  \\\n",
       "0           2   3      Dr. Abdul Basit   \n",
       "1           4   5      Dr. Waheed Noor   \n",
       "2           5   6     Dr. Junaid Baber   \n",
       "3           6   7  Dr. Maheen Bakhtyar   \n",
       "4          24  25          Samina Azim   \n",
       "\n",
       "            University Currently Teaching             Department  \\\n",
       "0               University of Balochistan  Computer Science & IT   \n",
       "1               University of Balochistan  Computer Science & IT   \n",
       "2               University of Balochistan  Computer Science & IT   \n",
       "3               University of Balochistan  Computer Science & IT   \n",
       "4  Sardar Bahadur Khan Women's University       Computer Science   \n",
       "\n",
       "  Province University Located          Designation Terminal Degree  \\\n",
       "0                 Balochistan  Assistant Professor             PhD   \n",
       "1                 Balochistan  Assistant Professor             PhD   \n",
       "2                 Balochistan  Assistant Professor             PhD   \n",
       "3                 Balochistan  Assistant Professor             PhD   \n",
       "4                 Balochistan             Lecturer              BS   \n",
       "\n",
       "                                      Graduated from   Country    Year  \\\n",
       "0                      Asian Institute of Technology  Thailand     NaN   \n",
       "1                      Asian Institute of Technology  Thailand     NaN   \n",
       "2                      Asian Institute of Technology  Thailand     NaN   \n",
       "3                      Asian Institute of Technology  Thailand     NaN   \n",
       "4  Balochistan University of Information Technolo...  Pakistan  2005.0   \n",
       "\n",
       "           Area of Specialization/Research Interests Other Information  \n",
       "0                        Software Engineering & DBMS               NaN  \n",
       "1                                               DBMS               NaN  \n",
       "2          Information processing, Multimedia mining               NaN  \n",
       "3  NLP, Information Retrieval, Question Answering...               NaN  \n",
       "4                      VLSI Electronics DLD Database               NaN  "
      ]
     },
     "execution_count": 3,
     "metadata": {},
     "output_type": "execute_result"
    }
   ],
   "source": [
    "professors.head()"
   ]
  },
  {
   "cell_type": "code",
   "execution_count": 4,
   "id": "53f15e5e",
   "metadata": {
    "execution": {
     "iopub.execute_input": "2023-05-05T09:41:58.718168Z",
     "iopub.status.busy": "2023-05-05T09:41:58.717807Z",
     "iopub.status.idle": "2023-05-05T09:41:58.730410Z",
     "shell.execute_reply": "2023-05-05T09:41:58.729301Z"
    },
    "papermill": {
     "duration": 0.021133,
     "end_time": "2023-05-05T09:41:58.732363",
     "exception": false,
     "start_time": "2023-05-05T09:41:58.711230",
     "status": "completed"
    },
    "tags": []
   },
   "outputs": [
    {
     "name": "stdout",
     "output_type": "stream",
     "text": [
      "All done!\n"
     ]
    }
   ],
   "source": [
    "# convert to lower case\n",
    "professors['Country'] = professors['Country'].str.lower()\n",
    "# remove trailing white spaces\n",
    "professors['Country'] = professors['Country'].str.strip()\n",
    "\n",
    "# get the top 10 closest matches to \"south korea\"\n",
    "countries = professors['Country'].unique()\n",
    "matches = fuzzywuzzy.process.extract(\"south korea\", countries, limit=10, scorer=fuzzywuzzy.fuzz.token_sort_ratio)\n",
    "\n",
    "def replace_matches_in_column(df, column, string_to_match, min_ratio = 47):\n",
    "    # get a list of unique strings\n",
    "    strings = df[column].unique()\n",
    "    \n",
    "    # get the top 10 closest matches to our input string\n",
    "    matches = fuzzywuzzy.process.extract(string_to_match, strings, \n",
    "                                         limit=10, scorer=fuzzywuzzy.fuzz.token_sort_ratio)\n",
    "\n",
    "    # only get matches with a ratio > 90\n",
    "    close_matches = [matches[0] for matches in matches if matches[1] >= min_ratio]\n",
    "\n",
    "    # get the rows of all the close matches in our dataframe\n",
    "    rows_with_matches = df[column].isin(close_matches)\n",
    "\n",
    "    # replace all rows with close matches with the input matches \n",
    "    df.loc[rows_with_matches, column] = string_to_match\n",
    "    \n",
    "    # let us know the function's done\n",
    "    print(\"All done!\")\n",
    "    \n",
    "replace_matches_in_column(df=professors, column='Country', string_to_match=\"south korea\")\n",
    "countries = professors['Country'].unique()"
   ]
  },
  {
   "cell_type": "markdown",
   "id": "159de7e1",
   "metadata": {
    "papermill": {
     "duration": 0.00511,
     "end_time": "2023-05-05T09:41:58.742851",
     "exception": false,
     "start_time": "2023-05-05T09:41:58.737741",
     "status": "completed"
    },
    "tags": []
   },
   "source": [
    "# 1) Examine another column\n",
    "\n",
    "Write code below to take a look at all the unique values in the \"Graduated from\" column."
   ]
  },
  {
   "cell_type": "code",
   "execution_count": 5,
   "id": "37fc4a0c",
   "metadata": {
    "execution": {
     "iopub.execute_input": "2023-05-05T09:41:58.755157Z",
     "iopub.status.busy": "2023-05-05T09:41:58.754534Z",
     "iopub.status.idle": "2023-05-05T09:41:58.760999Z",
     "shell.execute_reply": "2023-05-05T09:41:58.760214Z"
    },
    "papermill": {
     "duration": 0.016204,
     "end_time": "2023-05-05T09:41:58.764251",
     "exception": false,
     "start_time": "2023-05-05T09:41:58.748047",
     "status": "completed"
    },
    "tags": []
   },
   "outputs": [
    {
     "name": "stdout",
     "output_type": "stream",
     "text": [
      "['Asian Institute of Technology'\n",
      " 'Balochistan University of Information Technology, Engineering and Management Sciences'\n",
      " 'University of Balochistan' \"Sardar Bahadur Khan Women's University\"\n",
      " 'SRH Hochschule Heidelberg'\n",
      " 'Institute of Business Administration,Karachi' 'DUET,Karachi'\n",
      " 'University of Turbat' 'University of Vienna' 'Monash University'\n",
      " 'University of Stirling' 'Chinese Academy of Sciences'\n",
      " 'University of Innsbruck' 'Vienna University of Technology'\n",
      " 'University of Paris-Est' 'The University of Cambridge'\n",
      " 'Harbin Institute of Technology' 'University of Nice, Sophia Antipolis'\n",
      " 'The University of York' 'Galilée - Université Paris 13'\n",
      " 'University of Bedfordshire' 'North Dakota State University'\n",
      " 'Kyungpook National University' 'The University of Manchester'\n",
      " 'National University of Sciences and Technology'\n",
      " 'FAST– National University of Computer and Emerging Sciences'\n",
      " 'Capital University of Science & Technology' 'Gomal University'\n",
      " 'University of Malaya' 'KTH Royal Institute of Technology'\n",
      " 'University of Technology' 'COMSATS Institute of Information Technology'\n",
      " 'Government College University' 'Mohammad Ali Jinnah University'\n",
      " 'Shaheed Zulfikar Ali Bhutto Institute of Science and Technology'\n",
      " 'Blekinge Institute of Technology' 'University of Grenoble'\n",
      " 'Politecnico di Torino' '\\xa0University of Missouri, KC'\n",
      " 'University of Bonn' 'University of Paris' 'The University of Leeds'\n",
      " '\\xa0University of Windsor'\n",
      " '\\xa0National University of Sciences and Technology-NIIT'\n",
      " 'University of Trento' 'Stockholm University'\n",
      " 'University of New South Wales, Sydney' 'Kingston University London'\n",
      " 'Griffith University' 'University of Salford' 'Loughborough University'\n",
      " 'International Islamic University,Islamabad'\n",
      " 'University of Central Missouri' 'Riphah International University'\n",
      " 'University of BedfordShire' 'University of Illinois'\n",
      " 'University Of Oslo' 'Nancy 2 University' 'University of Limerick'\n",
      " 'Ghulam Ishaq Khan Institute of Science and Technology'\n",
      " 'University Of Waterloo' 'University of Stuttgart'\n",
      " 'Liverpool John Moores University' 'University Of Caen'\n",
      " 'Paris Tech University of Eurecom' 'University Of Salford'\n",
      " 'Lahore University of Management Sciences'\n",
      " 'Dresden University Of Technology, Dresden\\xa0'\n",
      " 'COMSATS Institute of Information Technology,Vehari'\n",
      " 'COMSATS Institute of Information Technology,Wah Cantt' 'TU Berlin'\n",
      " 'FAST– National University of Computer and Emerging Sciences,Islamabad'\n",
      " 'Tsinghua University' 'The University of Auckland' 'IQRA University'\n",
      " 'Universiti Teknologi PETRONAS'\n",
      " 'COMSATS Institute of Information Technology,Islamabad'\n",
      " 'Razak School of Engineering and Advanced Technology, Universiti Teknologi Malaysia (UTM)'\n",
      " 'National University of Modern Languages'\n",
      " 'University of Engineering and Technology'\n",
      " 'University Institute of Information Technology'\n",
      " 'University of Arid Agriculture' 'Quaid-i-Azam University'\n",
      " 'Queen Mary University of London'\n",
      " 'Pakistan Institute of Engineering and Applied Sciences'\n",
      " 'Pohang University of Science and Technology' 'Uppsala University'\n",
      " 'Kyung Hee University' 'University of Liverpool'\n",
      " 'University of Sunderland' 'Mid Sweden University'\n",
      " 'Bahria University,Islamabad' 'Chosun University' 'University of Sussex'\n",
      " 'Paris Descartes University' 'University of Leicester'\n",
      " 'University of Porto' 'University of Manchester'\n",
      " 'Université Henri Poincaré, Nancy 1,' 'Bahria University'\n",
      " 'Centre for Advanced Studies in Engineering'\n",
      " 'Norwegian University of Science and Technology (NTNU),'\n",
      " 'The Islamia University of Bahawalpur ' 'Universiti Technologi'\n",
      " 'California State University' 'University of Genova'\n",
      " 'University of Engineering and Technology,Taxila'\n",
      " 'University of\\xa0Liverpool John Moores University' 'Guildford'\n",
      " 'University of Bradford' 'Graz University of Technology'\n",
      " 'Huazhong University of Science and Technology (HUST), Wuhan'\n",
      " 'University of Konstanz'\n",
      " 'National University of Modern Languages,Islamabad'\n",
      " 'FAST– National University of Computer and Emerging Sciences,Lahore'\n",
      " 'Gwangju Institute of Science and Technology' 'University of Birmingham'\n",
      " 'Manchester University' 'Beijing Institute of Technology'\n",
      " 'University of Paisley'\n",
      " 'Univ of Porto/Univ of Aveiro Portugal/Uni of Minho'\n",
      " 'University of Peshawar' 'Universität Salzburg'\n",
      " 'Colorado State University' 'University of Virginia'\n",
      " 'University of Orleans' 'Zhejiang University' 'University of Leeds'\n",
      " 'Foundation University' 'Barani Institute of Information Technology'\n",
      " 'Abasyn University' 'Pir Mehr Ali Shah Arid Agriculture University'\n",
      " 'Preston' 'University of Bergen' 'Universtiy of Lahore'\n",
      " 'HITEC University,Taxila' 'Allama Iqbal Open University'\n",
      " 'University of Wales,Aberystwyth' '\\xa0University of Bonn'\n",
      " '\\xa0Hongik University'\n",
      " 'Skolkovo Institute of Science and Technology,\\xa0'\n",
      " 'Agricultural University Peshawar' 'National Textile University'\n",
      " 'FAST– National University of Computer and Emerging Sciences,Chiniot-Faisalabad'\n",
      " 'FAST– National University of Computer and Emerging Sciences,Peshawar'\n",
      " '\\xa0Boston University' 'Brunel University'\n",
      " 'George Washington University' 'University of the Punjab'\n",
      " '\\xa0University of Bedfordshire' 'University Of Southern California'\n",
      " 'Beihang University' 'Institute of Business Administration'\n",
      " 'Abdus Salam School of Mathematical Sciences,GC University'\n",
      " 'Linköping University'\n",
      " 'National College of Business Administration and Economics'\n",
      " 'Åbo Akademi University,' 'University of Central Punjab'\n",
      " 'University of Ulm' 'University of Agriculture'\n",
      " 'University of Notre Dame Indiana\\xa0'\n",
      " 'Punjab University College of Information Technology'\n",
      " 'Ilmenau University of Technology' ' Iowa State University'\n",
      " ' University of Innsbruck' 'Vrije University, Amsterdam'\n",
      " ' Columbia University' 'University of Freiburg'\n",
      " ' Delft University of Technology'\n",
      " ' University of Texas at Arlington (UTA)' ' University of Turin'\n",
      " ' University of Central Florida' 'Saarland University'\n",
      " 'University of Central Florida' 'Oxford Brookes University'\n",
      " 'Information Technology University (ITU)' 'University of Canterbury'\n",
      " 'University of Patras' 'Middle East Technical University'\n",
      " 'University of Bristol' 'University of Southern California'\n",
      " 'Northeastern University,Boston' 'Purdue University'\n",
      " 'University of Plymouth' 'University of South Australia'\n",
      " 'Stanford University' 'Chalmers University of Technology'\n",
      " 'Massachusetts Institute of Technology' 'Sapienza University of Rome'\n",
      " 'Eindhoven University of Technology (TU/e)'\n",
      " 'United Nations University International Institute for Software Technology (UNU-IIST)'\n",
      " 'Georgetown University,DC' 'RWTH Aachen University' 'Columbia University'\n",
      " 'Rutgers State University of New Jersey, NJ' 'University of Florida'\n",
      " 'Technical University of Braunschweig'\n",
      " 'Carnegie Mellon University, Pittsburgh' 'The Ohio State University'\n",
      " 'National University of Singapore' 'University of British Columbia'\n",
      " 'University of Pittsburgh' 'The State University of New Jersey'\n",
      " 'The University of Texas at Austin'\n",
      " 'Imperial College, University of London' 'University of Colorado\\xa0'\n",
      " 'University of Bath' 'Tilburg University'\n",
      " 'Pompeu Fabra University Barcelona'\n",
      " 'University of Management and Technology'\n",
      " 'COMSATS Institute of Information Technology,Lahore'\n",
      " 'University of Agriculture, Faisalabad\\xa0'\n",
      " 'University of Engineering & Technology'\n",
      " 'University of Agriculture, Faisalabad'\n",
      " 'Fatima Jinnah Women University, Rawalpindi'\n",
      " 'Kohat University of Science & Technology, Kohat'\n",
      " 'Virtual University of Pakistan' 'Bahauddin Zakariya University'\n",
      " 'University of the Punjab,Gujranwala'\n",
      " 'Lahore College for Women University' 'Superior University, Lahore'\n",
      " 'Shaheed Zulfikar Ali Bhutto Institute of Science and Technology,Islamabad'\n",
      " 'University of South Florida' 'Politecnico di Milano'\n",
      " 'Abdul Wali Khan University, Mardan' 'University of Lahore'\n",
      " 'Minhaj University Lahore' 'Lahore Leads University'\n",
      " 'Middlesex University' 'Beijing Institute of Technology Beijing'\n",
      " 'Beaconhouse National University' 'Hamdard University' 'University Paris'\n",
      " 'Sindh University' 'NED University of Engineering And Technology'\n",
      " 'Staffordshire University' 'DePaul University, Chicago'\n",
      " 'University of Kent' 'Mehran University of Engineering & Technology'\n",
      " 'Quaid-e-Awam University of Engineering, Science & Technology'\n",
      " 'Shah Abdul Latif University, Khairpur' 'Sindh Agriculture University'\n",
      " 'Swansea' 'University of Shanghai for Science and Technology'\n",
      " 'Griffith University,Nathan Campus' 'University of Essex'\n",
      " 'Xiamen university' 'Wayne State University'\n",
      " 'The Queens University of Belfast' 'Sungkyunkwan University'\n",
      " 'Nanyang Tech University' \"Universite d'Evry Val d'Essonne\"\n",
      " 'Sir Syed University of Engineering and Technology'\n",
      " 'New York Institute of Technology' 'Fedral Urdu University'\n",
      " 'ISRA University' 'University of Karachi' 'South Asian University'\n",
      " 'Capital University of Science and Technology'\n",
      " 'University of Manchester Institute of Science and Technology'\n",
      " 'The University of Birmingham'\n",
      " 'Max Planck Institute for Computer Science' 'George Mason University'\n",
      " 'University of Southampton' 'Temple University' 'University of Bayreuth'\n",
      " 'Muroran Institute of Technology,Hokkaido' 'University of Bologna'\n",
      " 'International Islamic University'\n",
      " 'PAF-Karachi Institute of Economics and Technology'\n",
      " 'Institute of Business Administration,Sukkur' 'Myongji University'\n",
      " 'State University of New York System' 'SSindh Agriculture University'\n",
      " 'London University' 'Universiti Putra Malaysia Putra'\n",
      " 'University of Rome Tor Vergata' 'University of Mississippi\\xa0'\n",
      " 'University of Wales' 'University of Northampton'\n",
      " 'University of Abertay Dundee'\n",
      " 'Biztek Institute Of Business & Technology,Karachi'\n",
      " 'University of Surrey' 'Jinnah University for Women'\n",
      " '\\xa0Nanyang Technological University' 'Tokyo Institute of Technology'\n",
      " 'NCSU' 'Usman Institute of Technology' 'Hanyang University, Ansan' 'BUKC'\n",
      " 'Universtiy of Karachi' 'Pace University, New York' 'INSA de Lyon, Rhone'\n",
      " 'University of Dundee' 'Illinois Institute of Technology'\n",
      " 'City University of Science and Technology'\n",
      " 'Usman Institute of Technology (Hamdard University)'\n",
      " 'University of Malaga' 'Manchester Metropolitan University'\n",
      " 'Kyushu University,Fukuoka'\n",
      " 'King Abdullah University of Science and Technology'\n",
      " 'INRIA Saclay Ile-de-France' 'Université de la Rochelle'\n",
      " 'University of South Brittany' 'Aston University, Birmingham'\n",
      " 'University of Agriculture Faisalabad' 'Hamburg University of Technology'\n",
      " 'Government College University, Faisalabad' 'JKU' 'University of Oviedo'\n",
      " 'Beijing University of Posts & Telecommunications'\n",
      " 'Government College University,Faisalabad' 'Nottingham Trent University'\n",
      " 'University of Glasgow' 'Coventry University'\n",
      " 'Riphah International University,Faisalabad'\n",
      " 'Australian National University, Caneberra'\n",
      " 'Swedish University of Agricultural Sciences, Uppsala'\n",
      " 'University of Gujrat' 'IQRA University,Islamabad' 'Jonkoping University'\n",
      " 'Colorado Technical University' 'Cranfield University'\n",
      " 'Technical University of Graz' 'University of York'\n",
      " 'Brock University Canada' 'University of Westminster'\n",
      " 'University of Saarland' 'The University of Queensland'\n",
      " 'University of Rochester' 'Islamia College University '\n",
      " 'IBMS KP Agricultural University Peshawar' 'University of Kuala Lumpur'\n",
      " 'University of Regina' 'TU Wien' 'Swinburne University Of Technology'\n",
      " 'Institute Of Managment Sciences, Peshawar'\n",
      " 'Universiti Tun Hussein Onn Malaysia'\n",
      " 'Institute of Management Sciences, Peshawar' 'University of Huddersfield'\n",
      " 'University of Engineering and Technology,Peshawar'\n",
      " 'IQRA University,Karachi' 'John Moorse University, Liverpool'\n",
      " 'CECOS University of Information Technology and Emerging Sciences,Peshawar'\n",
      " 'University of the West Scotland' 'Concordia University,Montreal' 'JNU'\n",
      " 'Grenoble' 'Florida Atlantic University' 'Seoul National University']\n"
     ]
    }
   ],
   "source": [
    "# TODO: Your code here\n",
    "print(professors['Graduated from'].unique())"
   ]
  },
  {
   "cell_type": "markdown",
   "id": "e655012d",
   "metadata": {
    "papermill": {
     "duration": 0.005414,
     "end_time": "2023-05-05T09:41:58.775688",
     "exception": false,
     "start_time": "2023-05-05T09:41:58.770274",
     "status": "completed"
    },
    "tags": []
   },
   "source": [
    "Do you notice any inconsistencies in the data?  Can any of the inconsistencies in the data be fixed by removing white spaces at the beginning and end of cells?\n",
    "\n",
    "Once you have answered these questions, run the code cell below to get credit for your work."
   ]
  },
  {
   "cell_type": "code",
   "execution_count": 6,
   "id": "f0f7fa1b",
   "metadata": {
    "execution": {
     "iopub.execute_input": "2023-05-05T09:41:58.788753Z",
     "iopub.status.busy": "2023-05-05T09:41:58.788385Z",
     "iopub.status.idle": "2023-05-05T09:41:58.796021Z",
     "shell.execute_reply": "2023-05-05T09:41:58.795075Z"
    },
    "papermill": {
     "duration": 0.016741,
     "end_time": "2023-05-05T09:41:58.798094",
     "exception": false,
     "start_time": "2023-05-05T09:41:58.781353",
     "status": "completed"
    },
    "tags": []
   },
   "outputs": [
    {
     "data": {
      "application/javascript": [
       "parent.postMessage({\"jupyterEvent\": \"custom.exercise_interaction\", \"data\": {\"outcomeType\": 1, \"valueTowardsCompletion\": 0.3333333333333333, \"interactionType\": 1, \"questionType\": 4, \"questionId\": \"1_ExamineProvince\", \"learnToolsVersion\": \"0.3.4\", \"failureMessage\": \"\", \"exceptionClass\": \"\", \"trace\": \"\"}}, \"*\")"
      ],
      "text/plain": [
       "<IPython.core.display.Javascript object>"
      ]
     },
     "metadata": {},
     "output_type": "display_data"
    },
    {
     "data": {
      "text/markdown": [
       "<span style=\"color:#33cc33\">Correct:</span> \n",
       "\n",
       "There are inconsistencies that can be fixed by removing white spaces at the beginning and end of cells.  For instance, \"University of Central Florida\" and \" University of Central Florida\" both appear in the column."
      ],
      "text/plain": [
       "Correct: \n",
       "\n",
       "There are inconsistencies that can be fixed by removing white spaces at the beginning and end of cells.  For instance, \"University of Central Florida\" and \" University of Central Florida\" both appear in the column."
      ]
     },
     "metadata": {},
     "output_type": "display_data"
    }
   ],
   "source": [
    "# Check your answer (Run this code cell to receive credit!)\n",
    "q1.check()"
   ]
  },
  {
   "cell_type": "code",
   "execution_count": 7,
   "id": "43aff5bd",
   "metadata": {
    "execution": {
     "iopub.execute_input": "2023-05-05T09:41:58.811858Z",
     "iopub.status.busy": "2023-05-05T09:41:58.811508Z",
     "iopub.status.idle": "2023-05-05T09:41:58.815370Z",
     "shell.execute_reply": "2023-05-05T09:41:58.814384Z"
    },
    "papermill": {
     "duration": 0.013203,
     "end_time": "2023-05-05T09:41:58.817474",
     "exception": false,
     "start_time": "2023-05-05T09:41:58.804271",
     "status": "completed"
    },
    "tags": []
   },
   "outputs": [],
   "source": [
    "# Line below will give you a hint\n",
    "#q1.hint()"
   ]
  },
  {
   "cell_type": "markdown",
   "id": "4eb2fee6",
   "metadata": {
    "papermill": {
     "duration": 0.005928,
     "end_time": "2023-05-05T09:41:58.829762",
     "exception": false,
     "start_time": "2023-05-05T09:41:58.823834",
     "status": "completed"
    },
    "tags": []
   },
   "source": [
    "# 2) Do some text pre-processing\n",
    "\n",
    "Convert every entry in the \"Graduated from\" column in the `professors` DataFrame to remove white spaces at the beginning and end of cells."
   ]
  },
  {
   "cell_type": "code",
   "execution_count": 8,
   "id": "022142a5",
   "metadata": {
    "execution": {
     "iopub.execute_input": "2023-05-05T09:41:58.843732Z",
     "iopub.status.busy": "2023-05-05T09:41:58.842722Z",
     "iopub.status.idle": "2023-05-05T09:41:58.858823Z",
     "shell.execute_reply": "2023-05-05T09:41:58.857891Z"
    },
    "papermill": {
     "duration": 0.025154,
     "end_time": "2023-05-05T09:41:58.860812",
     "exception": false,
     "start_time": "2023-05-05T09:41:58.835658",
     "status": "completed"
    },
    "tags": []
   },
   "outputs": [
    {
     "data": {
      "application/javascript": [
       "parent.postMessage({\"jupyterEvent\": \"custom.exercise_interaction\", \"data\": {\"outcomeType\": 1, \"valueTowardsCompletion\": 0.3333333333333333, \"interactionType\": 1, \"questionType\": 1, \"questionId\": \"2_TextProcessing\", \"learnToolsVersion\": \"0.3.4\", \"failureMessage\": \"\", \"exceptionClass\": \"\", \"trace\": \"\"}}, \"*\")"
      ],
      "text/plain": [
       "<IPython.core.display.Javascript object>"
      ]
     },
     "metadata": {},
     "output_type": "display_data"
    },
    {
     "data": {
      "text/markdown": [
       "<span style=\"color:#33cc33\">Correct</span>"
      ],
      "text/plain": [
       "Correct"
      ]
     },
     "metadata": {},
     "output_type": "display_data"
    }
   ],
   "source": [
    "# TODO: Your code here\n",
    "professors['Graduated from'] = professors['Graduated from'].str.strip()\n",
    "\n",
    "# Check your answer\n",
    "q2.check()"
   ]
  },
  {
   "cell_type": "code",
   "execution_count": 9,
   "id": "957c6a61",
   "metadata": {
    "execution": {
     "iopub.execute_input": "2023-05-05T09:41:58.874766Z",
     "iopub.status.busy": "2023-05-05T09:41:58.874397Z",
     "iopub.status.idle": "2023-05-05T09:41:58.878789Z",
     "shell.execute_reply": "2023-05-05T09:41:58.877905Z"
    },
    "papermill": {
     "duration": 0.014062,
     "end_time": "2023-05-05T09:41:58.881191",
     "exception": false,
     "start_time": "2023-05-05T09:41:58.867129",
     "status": "completed"
    },
    "tags": []
   },
   "outputs": [],
   "source": [
    "# Lines below will give you a hint or solution code\n",
    "# q2.hint()\n",
    "# q2.solution()"
   ]
  },
  {
   "cell_type": "markdown",
   "id": "ec96a132",
   "metadata": {
    "papermill": {
     "duration": 0.005918,
     "end_time": "2023-05-05T09:41:58.893645",
     "exception": false,
     "start_time": "2023-05-05T09:41:58.887727",
     "status": "completed"
    },
    "tags": []
   },
   "source": [
    "# 3) Continue working with countries\n",
    "\n",
    "In the tutorial, we focused on cleaning up inconsistencies in the \"Country\" column.  Run the code cell below to view the list of unique values that we ended with."
   ]
  },
  {
   "cell_type": "code",
   "execution_count": 10,
   "id": "23ba6ef7",
   "metadata": {
    "execution": {
     "iopub.execute_input": "2023-05-05T09:41:58.907655Z",
     "iopub.status.busy": "2023-05-05T09:41:58.907316Z",
     "iopub.status.idle": "2023-05-05T09:41:58.913544Z",
     "shell.execute_reply": "2023-05-05T09:41:58.912816Z"
    },
    "papermill": {
     "duration": 0.015697,
     "end_time": "2023-05-05T09:41:58.915500",
     "exception": false,
     "start_time": "2023-05-05T09:41:58.899803",
     "status": "completed"
    },
    "tags": []
   },
   "outputs": [
    {
     "data": {
      "text/plain": [
       "array(['australia', 'austria', 'canada', 'china', 'finland', 'france',\n",
       "       'germany', 'greece', 'hongkong', 'ireland', 'italy', 'japan',\n",
       "       'macau', 'malaysia', 'mauritius', 'netherland', 'new zealand',\n",
       "       'norway', 'pakistan', 'portugal', 'russian federation',\n",
       "       'saudi arabia', 'scotland', 'singapore', 'south korea', 'spain',\n",
       "       'sweden', 'thailand', 'turkey', 'uk', 'urbana', 'usa', 'usofa'],\n",
       "      dtype=object)"
      ]
     },
     "execution_count": 10,
     "metadata": {},
     "output_type": "execute_result"
    }
   ],
   "source": [
    "# get all the unique values in the 'City' column\n",
    "countries = professors['Country'].unique()\n",
    "\n",
    "# sort them alphabetically and then take a closer look\n",
    "countries.sort()\n",
    "countries"
   ]
  },
  {
   "cell_type": "markdown",
   "id": "9bd2ff9a",
   "metadata": {
    "papermill": {
     "duration": 0.006176,
     "end_time": "2023-05-05T09:41:58.927978",
     "exception": false,
     "start_time": "2023-05-05T09:41:58.921802",
     "status": "completed"
    },
    "tags": []
   },
   "source": [
    "Take another look at the \"Country\" column and see if there's any more data cleaning we need to do.\n",
    "\n",
    "It looks like 'usa' and 'usofa' should be the same country.  Correct the \"Country\" column in the dataframe to replace 'usofa' with 'usa'.\n",
    "\n",
    "**Use the most recent version of the DataFrame (with the whitespaces at the beginning and end of cells removed) from question 2.**"
   ]
  },
  {
   "cell_type": "code",
   "execution_count": 11,
   "id": "7cc00b02",
   "metadata": {
    "execution": {
     "iopub.execute_input": "2023-05-05T09:41:58.942227Z",
     "iopub.status.busy": "2023-05-05T09:41:58.941877Z",
     "iopub.status.idle": "2023-05-05T09:41:58.954096Z",
     "shell.execute_reply": "2023-05-05T09:41:58.953072Z"
    },
    "papermill": {
     "duration": 0.022014,
     "end_time": "2023-05-05T09:41:58.956219",
     "exception": false,
     "start_time": "2023-05-05T09:41:58.934205",
     "status": "completed"
    },
    "tags": []
   },
   "outputs": [
    {
     "name": "stdout",
     "output_type": "stream",
     "text": [
      "All done!\n"
     ]
    },
    {
     "data": {
      "application/javascript": [
       "parent.postMessage({\"jupyterEvent\": \"custom.exercise_interaction\", \"data\": {\"outcomeType\": 1, \"valueTowardsCompletion\": 0.3333333333333333, \"interactionType\": 1, \"questionType\": 1, \"questionId\": \"3_WorkingWithCities\", \"learnToolsVersion\": \"0.3.4\", \"failureMessage\": \"\", \"exceptionClass\": \"\", \"trace\": \"\"}}, \"*\")"
      ],
      "text/plain": [
       "<IPython.core.display.Javascript object>"
      ]
     },
     "metadata": {},
     "output_type": "display_data"
    },
    {
     "data": {
      "text/markdown": [
       "<span style=\"color:#33cc33\">Correct</span>"
      ],
      "text/plain": [
       "Correct"
      ]
     },
     "metadata": {},
     "output_type": "display_data"
    }
   ],
   "source": [
    "# TODO: Your code here!\n",
    "matches = fuzzywuzzy.process.extract(\"usa\", countries, limit=10, scorer=fuzzywuzzy.fuzz.token_sort_ratio)\n",
    "# print(matches)\n",
    "replace_matches_in_column(df=professors, column='Country', string_to_match=\"usa\", min_ratio=74)\n",
    "\n",
    "# Check your answer\n",
    "q3.check()"
   ]
  },
  {
   "cell_type": "code",
   "execution_count": 12,
   "id": "b5204782",
   "metadata": {
    "execution": {
     "iopub.execute_input": "2023-05-05T09:41:58.970697Z",
     "iopub.status.busy": "2023-05-05T09:41:58.970378Z",
     "iopub.status.idle": "2023-05-05T09:41:58.980438Z",
     "shell.execute_reply": "2023-05-05T09:41:58.979471Z"
    },
    "papermill": {
     "duration": 0.019547,
     "end_time": "2023-05-05T09:41:58.982332",
     "exception": false,
     "start_time": "2023-05-05T09:41:58.962785",
     "status": "completed"
    },
    "tags": []
   },
   "outputs": [
    {
     "data": {
      "application/javascript": [
       "parent.postMessage({\"jupyterEvent\": \"custom.exercise_interaction\", \"data\": {\"interactionType\": 2, \"questionType\": 1, \"questionId\": \"3_WorkingWithCities\", \"learnToolsVersion\": \"0.3.4\", \"valueTowardsCompletion\": 0.0, \"failureMessage\": \"\", \"exceptionClass\": \"\", \"trace\": \"\", \"outcomeType\": 4}}, \"*\")"
      ],
      "text/plain": [
       "<IPython.core.display.Javascript object>"
      ]
     },
     "metadata": {},
     "output_type": "display_data"
    },
    {
     "data": {
      "text/markdown": [
       "<span style=\"color:#3366cc\">Hint:</span> Use the `replace_matches_in_column()` function defined above."
      ],
      "text/plain": [
       "Hint: Use the `replace_matches_in_column()` function defined above."
      ]
     },
     "metadata": {},
     "output_type": "display_data"
    },
    {
     "data": {
      "application/javascript": [
       "parent.postMessage({\"jupyterEvent\": \"custom.exercise_interaction\", \"data\": {\"interactionType\": 3, \"questionType\": 1, \"questionId\": \"3_WorkingWithCities\", \"learnToolsVersion\": \"0.3.4\", \"valueTowardsCompletion\": 0.0, \"failureMessage\": \"\", \"exceptionClass\": \"\", \"trace\": \"\", \"outcomeType\": 4}}, \"*\")"
      ],
      "text/plain": [
       "<IPython.core.display.Javascript object>"
      ]
     },
     "metadata": {},
     "output_type": "display_data"
    },
    {
     "data": {
      "text/markdown": [
       "<span style=\"color:#33cc99\">Solution:</span> \n",
       "```python\n",
       "matches = fuzzywuzzy.process.extract(\"usa\", countries, limit=10, scorer=fuzzywuzzy.fuzz.token_sort_ratio)\n",
       "replace_matches_in_column(df=professors, column='Country', string_to_match=\"usa\", min_ratio=70)\n",
       "\n",
       "```"
      ],
      "text/plain": [
       "Solution: \n",
       "```python\n",
       "matches = fuzzywuzzy.process.extract(\"usa\", countries, limit=10, scorer=fuzzywuzzy.fuzz.token_sort_ratio)\n",
       "replace_matches_in_column(df=professors, column='Country', string_to_match=\"usa\", min_ratio=70)\n",
       "\n",
       "```"
      ]
     },
     "metadata": {},
     "output_type": "display_data"
    }
   ],
   "source": [
    "# Lines below will give you a hint or solution code\n",
    "q3.hint()\n",
    "q3.solution()"
   ]
  },
  {
   "cell_type": "markdown",
   "id": "8c383acd",
   "metadata": {
    "papermill": {
     "duration": 0.006693,
     "end_time": "2023-05-05T09:41:58.996573",
     "exception": false,
     "start_time": "2023-05-05T09:41:58.989880",
     "status": "completed"
    },
    "tags": []
   },
   "source": [
    "# Congratulations!\n",
    "\n",
    "Congratulations for completing the **Data Cleaning** course on Kaggle Learn!\n",
    "\n",
    "To practice your new skills, you're encouraged to download and investigate some of [Kaggle's Datasets](https://www.kaggle.com/datasets)."
   ]
  },
  {
   "cell_type": "markdown",
   "id": "622b2631",
   "metadata": {
    "papermill": {
     "duration": 0.00669,
     "end_time": "2023-05-05T09:41:59.010117",
     "exception": false,
     "start_time": "2023-05-05T09:41:59.003427",
     "status": "completed"
    },
    "tags": []
   },
   "source": [
    "---\n",
    "\n",
    "\n",
    "\n",
    "\n",
    "*Have questions or comments? Visit the [course discussion forum](https://www.kaggle.com/learn/data-cleaning/discussion) to chat with other learners.*"
   ]
  }
 ],
 "metadata": {
  "kernelspec": {
   "display_name": "Python 3",
   "language": "python",
   "name": "python3"
  },
  "language_info": {
   "codemirror_mode": {
    "name": "ipython",
    "version": 3
   },
   "file_extension": ".py",
   "mimetype": "text/x-python",
   "name": "python",
   "nbconvert_exporter": "python",
   "pygments_lexer": "ipython3",
   "version": "3.10.10"
  },
  "papermill": {
   "default_parameters": {},
   "duration": 10.822812,
   "end_time": "2023-05-05T09:41:59.736504",
   "environment_variables": {},
   "exception": null,
   "input_path": "__notebook__.ipynb",
   "output_path": "__notebook__.ipynb",
   "parameters": {},
   "start_time": "2023-05-05T09:41:48.913692",
   "version": "2.4.0"
  }
 },
 "nbformat": 4,
 "nbformat_minor": 5
}
