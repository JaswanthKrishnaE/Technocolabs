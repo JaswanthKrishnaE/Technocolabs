{
 "cells": [
  {
   "cell_type": "markdown",
   "id": "9159f19a",
   "metadata": {
    "papermill": {
     "duration": 0.006084,
     "end_time": "2023-05-05T06:19:18.231386",
     "exception": false,
     "start_time": "2023-05-05T06:19:18.225302",
     "status": "completed"
    },
    "tags": []
   },
   "source": [
    "**This notebook is an exercise in the [Data Cleaning](https://www.kaggle.com/learn/data-cleaning) course.  You can reference the tutorial at [this link](https://www.kaggle.com/alexisbcook/scaling-and-normalization).**\n",
    "\n",
    "---\n"
   ]
  },
  {
   "cell_type": "markdown",
   "id": "a2f53ff7",
   "metadata": {
    "papermill": {
     "duration": 0.005181,
     "end_time": "2023-05-05T06:19:18.242338",
     "exception": false,
     "start_time": "2023-05-05T06:19:18.237157",
     "status": "completed"
    },
    "tags": []
   },
   "source": [
    "In this exercise, you'll apply what you learned in the **Scaling and normalization** tutorial.\n",
    "\n",
    "# Setup\n",
    "\n",
    "The questions below will give you feedback on your work. Run the following cell to set up the feedback system."
   ]
  },
  {
   "cell_type": "code",
   "execution_count": 1,
   "id": "d9fab1a2",
   "metadata": {
    "execution": {
     "iopub.execute_input": "2023-05-05T06:19:18.256028Z",
     "iopub.status.busy": "2023-05-05T06:19:18.254729Z",
     "iopub.status.idle": "2023-05-05T06:19:22.286176Z",
     "shell.execute_reply": "2023-05-05T06:19:22.284011Z"
    },
    "papermill": {
     "duration": 4.04119,
     "end_time": "2023-05-05T06:19:22.289201",
     "exception": false,
     "start_time": "2023-05-05T06:19:18.248011",
     "status": "completed"
    },
    "tags": []
   },
   "outputs": [
    {
     "name": "stderr",
     "output_type": "stream",
     "text": [
      "/opt/conda/lib/python3.10/site-packages/scipy/__init__.py:146: UserWarning: A NumPy version >=1.16.5 and <1.23.0 is required for this version of SciPy (detected version 1.23.5\n",
      "  warnings.warn(f\"A NumPy version >={np_minversion} and <{np_maxversion}\"\n"
     ]
    },
    {
     "name": "stdout",
     "output_type": "stream",
     "text": [
      "Setup Complete\n"
     ]
    }
   ],
   "source": [
    "from learntools.core import binder\n",
    "binder.bind(globals())\n",
    "from learntools.data_cleaning.ex2 import *\n",
    "print(\"Setup Complete\")"
   ]
  },
  {
   "cell_type": "markdown",
   "id": "34a74064",
   "metadata": {
    "papermill": {
     "duration": 0.005327,
     "end_time": "2023-05-05T06:19:22.300391",
     "exception": false,
     "start_time": "2023-05-05T06:19:22.295064",
     "status": "completed"
    },
    "tags": []
   },
   "source": [
    "# Get our environment set up\n",
    "\n",
    "To practice scaling and normalization, we're going to use a [dataset of Kickstarter campaigns](https://www.kaggle.com/kemical/kickstarter-projects). (Kickstarter is a website where people can ask people to invest in various projects and concept products.)\n",
    "\n",
    "The next code cell loads in the libraries and dataset we'll be using. "
   ]
  },
  {
   "cell_type": "code",
   "execution_count": 2,
   "id": "bc19cc62",
   "metadata": {
    "execution": {
     "iopub.execute_input": "2023-05-05T06:19:22.313739Z",
     "iopub.status.busy": "2023-05-05T06:19:22.313065Z",
     "iopub.status.idle": "2023-05-05T06:19:24.016074Z",
     "shell.execute_reply": "2023-05-05T06:19:24.015095Z"
    },
    "papermill": {
     "duration": 1.71272,
     "end_time": "2023-05-05T06:19:24.018695",
     "exception": false,
     "start_time": "2023-05-05T06:19:22.305975",
     "status": "completed"
    },
    "tags": []
   },
   "outputs": [],
   "source": [
    "# modules we'll use\n",
    "import pandas as pd\n",
    "import numpy as np\n",
    "\n",
    "# for Box-Cox Transformation\n",
    "from scipy import stats\n",
    "\n",
    "# for min_max scaling\n",
    "from mlxtend.preprocessing import minmax_scaling\n",
    "\n",
    "# plotting modules\n",
    "import seaborn as sns\n",
    "import matplotlib.pyplot as plt\n",
    "\n",
    "# read in all our data\n",
    "kickstarters_2017 = pd.read_csv(\"../input/kickstarter-projects/ks-projects-201801.csv\")\n",
    "\n",
    "# set seed for reproducibility\n",
    "np.random.seed(0)"
   ]
  },
  {
   "cell_type": "markdown",
   "id": "0e9d3cf9",
   "metadata": {
    "papermill": {
     "duration": 0.005497,
     "end_time": "2023-05-05T06:19:24.030044",
     "exception": false,
     "start_time": "2023-05-05T06:19:24.024547",
     "status": "completed"
    },
    "tags": []
   },
   "source": [
    "Let's start by scaling the goals of each campaign, which is how much money they were asking for.  After scaling, all values lie between 0 and 1."
   ]
  },
  {
   "cell_type": "code",
   "execution_count": 3,
   "id": "e55fbada",
   "metadata": {
    "execution": {
     "iopub.execute_input": "2023-05-05T06:19:24.042935Z",
     "iopub.status.busy": "2023-05-05T06:19:24.042037Z",
     "iopub.status.idle": "2023-05-05T06:19:24.074504Z",
     "shell.execute_reply": "2023-05-05T06:19:24.073436Z"
    },
    "papermill": {
     "duration": 0.041351,
     "end_time": "2023-05-05T06:19:24.076805",
     "exception": false,
     "start_time": "2023-05-05T06:19:24.035454",
     "status": "completed"
    },
    "tags": []
   },
   "outputs": [
    {
     "data": {
      "text/html": [
       "<div>\n",
       "<style scoped>\n",
       "    .dataframe tbody tr th:only-of-type {\n",
       "        vertical-align: middle;\n",
       "    }\n",
       "\n",
       "    .dataframe tbody tr th {\n",
       "        vertical-align: top;\n",
       "    }\n",
       "\n",
       "    .dataframe thead th {\n",
       "        text-align: right;\n",
       "    }\n",
       "</style>\n",
       "<table border=\"1\" class=\"dataframe\">\n",
       "  <thead>\n",
       "    <tr style=\"text-align: right;\">\n",
       "      <th></th>\n",
       "      <th>ID</th>\n",
       "      <th>name</th>\n",
       "      <th>category</th>\n",
       "      <th>main_category</th>\n",
       "      <th>currency</th>\n",
       "      <th>deadline</th>\n",
       "      <th>goal</th>\n",
       "      <th>launched</th>\n",
       "      <th>pledged</th>\n",
       "      <th>state</th>\n",
       "      <th>backers</th>\n",
       "      <th>country</th>\n",
       "      <th>usd pledged</th>\n",
       "      <th>usd_pledged_real</th>\n",
       "      <th>usd_goal_real</th>\n",
       "    </tr>\n",
       "  </thead>\n",
       "  <tbody>\n",
       "    <tr>\n",
       "      <th>0</th>\n",
       "      <td>1000002330</td>\n",
       "      <td>The Songs of Adelaide &amp; Abullah</td>\n",
       "      <td>Poetry</td>\n",
       "      <td>Publishing</td>\n",
       "      <td>GBP</td>\n",
       "      <td>2015-10-09</td>\n",
       "      <td>1000.0</td>\n",
       "      <td>2015-08-11 12:12:28</td>\n",
       "      <td>0.0</td>\n",
       "      <td>failed</td>\n",
       "      <td>0</td>\n",
       "      <td>GB</td>\n",
       "      <td>0.0</td>\n",
       "      <td>0.0</td>\n",
       "      <td>1533.95</td>\n",
       "    </tr>\n",
       "    <tr>\n",
       "      <th>1</th>\n",
       "      <td>1000003930</td>\n",
       "      <td>Greeting From Earth: ZGAC Arts Capsule For ET</td>\n",
       "      <td>Narrative Film</td>\n",
       "      <td>Film &amp; Video</td>\n",
       "      <td>USD</td>\n",
       "      <td>2017-11-01</td>\n",
       "      <td>30000.0</td>\n",
       "      <td>2017-09-02 04:43:57</td>\n",
       "      <td>2421.0</td>\n",
       "      <td>failed</td>\n",
       "      <td>15</td>\n",
       "      <td>US</td>\n",
       "      <td>100.0</td>\n",
       "      <td>2421.0</td>\n",
       "      <td>30000.00</td>\n",
       "    </tr>\n",
       "    <tr>\n",
       "      <th>2</th>\n",
       "      <td>1000004038</td>\n",
       "      <td>Where is Hank?</td>\n",
       "      <td>Narrative Film</td>\n",
       "      <td>Film &amp; Video</td>\n",
       "      <td>USD</td>\n",
       "      <td>2013-02-26</td>\n",
       "      <td>45000.0</td>\n",
       "      <td>2013-01-12 00:20:50</td>\n",
       "      <td>220.0</td>\n",
       "      <td>failed</td>\n",
       "      <td>3</td>\n",
       "      <td>US</td>\n",
       "      <td>220.0</td>\n",
       "      <td>220.0</td>\n",
       "      <td>45000.00</td>\n",
       "    </tr>\n",
       "    <tr>\n",
       "      <th>3</th>\n",
       "      <td>1000007540</td>\n",
       "      <td>ToshiCapital Rekordz Needs Help to Complete Album</td>\n",
       "      <td>Music</td>\n",
       "      <td>Music</td>\n",
       "      <td>USD</td>\n",
       "      <td>2012-04-16</td>\n",
       "      <td>5000.0</td>\n",
       "      <td>2012-03-17 03:24:11</td>\n",
       "      <td>1.0</td>\n",
       "      <td>failed</td>\n",
       "      <td>1</td>\n",
       "      <td>US</td>\n",
       "      <td>1.0</td>\n",
       "      <td>1.0</td>\n",
       "      <td>5000.00</td>\n",
       "    </tr>\n",
       "    <tr>\n",
       "      <th>4</th>\n",
       "      <td>1000011046</td>\n",
       "      <td>Community Film Project: The Art of Neighborhoo...</td>\n",
       "      <td>Film &amp; Video</td>\n",
       "      <td>Film &amp; Video</td>\n",
       "      <td>USD</td>\n",
       "      <td>2015-08-29</td>\n",
       "      <td>19500.0</td>\n",
       "      <td>2015-07-04 08:35:03</td>\n",
       "      <td>1283.0</td>\n",
       "      <td>canceled</td>\n",
       "      <td>14</td>\n",
       "      <td>US</td>\n",
       "      <td>1283.0</td>\n",
       "      <td>1283.0</td>\n",
       "      <td>19500.00</td>\n",
       "    </tr>\n",
       "  </tbody>\n",
       "</table>\n",
       "</div>"
      ],
      "text/plain": [
       "           ID                                               name  \\\n",
       "0  1000002330                    The Songs of Adelaide & Abullah   \n",
       "1  1000003930      Greeting From Earth: ZGAC Arts Capsule For ET   \n",
       "2  1000004038                                     Where is Hank?   \n",
       "3  1000007540  ToshiCapital Rekordz Needs Help to Complete Album   \n",
       "4  1000011046  Community Film Project: The Art of Neighborhoo...   \n",
       "\n",
       "         category main_category currency    deadline     goal  \\\n",
       "0          Poetry    Publishing      GBP  2015-10-09   1000.0   \n",
       "1  Narrative Film  Film & Video      USD  2017-11-01  30000.0   \n",
       "2  Narrative Film  Film & Video      USD  2013-02-26  45000.0   \n",
       "3           Music         Music      USD  2012-04-16   5000.0   \n",
       "4    Film & Video  Film & Video      USD  2015-08-29  19500.0   \n",
       "\n",
       "              launched  pledged     state  backers country  usd pledged  \\\n",
       "0  2015-08-11 12:12:28      0.0    failed        0      GB          0.0   \n",
       "1  2017-09-02 04:43:57   2421.0    failed       15      US        100.0   \n",
       "2  2013-01-12 00:20:50    220.0    failed        3      US        220.0   \n",
       "3  2012-03-17 03:24:11      1.0    failed        1      US          1.0   \n",
       "4  2015-07-04 08:35:03   1283.0  canceled       14      US       1283.0   \n",
       "\n",
       "   usd_pledged_real  usd_goal_real  \n",
       "0               0.0        1533.95  \n",
       "1            2421.0       30000.00  \n",
       "2             220.0       45000.00  \n",
       "3               1.0        5000.00  \n",
       "4            1283.0       19500.00  "
      ]
     },
     "execution_count": 3,
     "metadata": {},
     "output_type": "execute_result"
    }
   ],
   "source": [
    "kickstarters_2017.head()"
   ]
  },
  {
   "cell_type": "code",
   "execution_count": 4,
   "id": "b339dffa",
   "metadata": {
    "execution": {
     "iopub.execute_input": "2023-05-05T06:19:24.090631Z",
     "iopub.status.busy": "2023-05-05T06:19:24.090205Z",
     "iopub.status.idle": "2023-05-05T06:19:24.122831Z",
     "shell.execute_reply": "2023-05-05T06:19:24.121775Z"
    },
    "papermill": {
     "duration": 0.042343,
     "end_time": "2023-05-05T06:19:24.125125",
     "exception": false,
     "start_time": "2023-05-05T06:19:24.082782",
     "status": "completed"
    },
    "tags": []
   },
   "outputs": [
    {
     "name": "stdout",
     "output_type": "stream",
     "text": [
      "Original data\n",
      "Preview:\n",
      "    usd_goal_real\n",
      "0        1533.95\n",
      "1       30000.00\n",
      "2       45000.00\n",
      "3        5000.00\n",
      "4       19500.00\n",
      "Minimum value: 0.01 \n",
      "Maximum value: 166361390.71\n",
      "______________________________\n",
      "\n",
      "Scaled data\n",
      "Preview:\n",
      "    usd_goal_real\n",
      "0       0.000009\n",
      "1       0.000180\n",
      "2       0.000270\n",
      "3       0.000030\n",
      "4       0.000117\n",
      "Minimum value: 0.0 \n",
      "Maximum value: 1.0\n"
     ]
    }
   ],
   "source": [
    "# select the usd_goal_real column\n",
    "original_data = pd.DataFrame(kickstarters_2017.usd_goal_real)\n",
    "\n",
    "# scale the goals from 0 to 1\n",
    "scaled_data = minmax_scaling(original_data, columns=['usd_goal_real'])\n",
    "\n",
    "print('Original data\\nPreview:\\n', original_data.head())\n",
    "print('Minimum value:', float(original_data.min()),\n",
    "      '\\nMaximum value:', float(original_data.max()))\n",
    "print('_'*30)\n",
    "\n",
    "print('\\nScaled data\\nPreview:\\n', scaled_data.head())\n",
    "print('Minimum value:', float(scaled_data.min()),\n",
    "      '\\nMaximum value:', float(scaled_data.max()))"
   ]
  },
  {
   "cell_type": "markdown",
   "id": "a5f022a0",
   "metadata": {
    "papermill": {
     "duration": 0.005708,
     "end_time": "2023-05-05T06:19:24.136698",
     "exception": false,
     "start_time": "2023-05-05T06:19:24.130990",
     "status": "completed"
    },
    "tags": []
   },
   "source": [
    "# 1) Practice scaling\n",
    "\n",
    "We just scaled the \"usd_goal_real\" column. What about the \"goal\" column?\n",
    "\n",
    "Begin by running the code cell below to create a DataFrame `original_goal_data` containing the \"goal\" column."
   ]
  },
  {
   "cell_type": "code",
   "execution_count": 5,
   "id": "cc501650",
   "metadata": {
    "execution": {
     "iopub.execute_input": "2023-05-05T06:19:24.150377Z",
     "iopub.status.busy": "2023-05-05T06:19:24.149978Z",
     "iopub.status.idle": "2023-05-05T06:19:24.162675Z",
     "shell.execute_reply": "2023-05-05T06:19:24.161623Z"
    },
    "papermill": {
     "duration": 0.022173,
     "end_time": "2023-05-05T06:19:24.164889",
     "exception": false,
     "start_time": "2023-05-05T06:19:24.142716",
     "status": "completed"
    },
    "tags": []
   },
   "outputs": [
    {
     "data": {
      "text/html": [
       "<div>\n",
       "<style scoped>\n",
       "    .dataframe tbody tr th:only-of-type {\n",
       "        vertical-align: middle;\n",
       "    }\n",
       "\n",
       "    .dataframe tbody tr th {\n",
       "        vertical-align: top;\n",
       "    }\n",
       "\n",
       "    .dataframe thead th {\n",
       "        text-align: right;\n",
       "    }\n",
       "</style>\n",
       "<table border=\"1\" class=\"dataframe\">\n",
       "  <thead>\n",
       "    <tr style=\"text-align: right;\">\n",
       "      <th></th>\n",
       "      <th>goal</th>\n",
       "    </tr>\n",
       "  </thead>\n",
       "  <tbody>\n",
       "    <tr>\n",
       "      <th>0</th>\n",
       "      <td>1000.0</td>\n",
       "    </tr>\n",
       "    <tr>\n",
       "      <th>1</th>\n",
       "      <td>30000.0</td>\n",
       "    </tr>\n",
       "    <tr>\n",
       "      <th>2</th>\n",
       "      <td>45000.0</td>\n",
       "    </tr>\n",
       "    <tr>\n",
       "      <th>3</th>\n",
       "      <td>5000.0</td>\n",
       "    </tr>\n",
       "    <tr>\n",
       "      <th>4</th>\n",
       "      <td>19500.0</td>\n",
       "    </tr>\n",
       "    <tr>\n",
       "      <th>...</th>\n",
       "      <td>...</td>\n",
       "    </tr>\n",
       "    <tr>\n",
       "      <th>378656</th>\n",
       "      <td>50000.0</td>\n",
       "    </tr>\n",
       "    <tr>\n",
       "      <th>378657</th>\n",
       "      <td>1500.0</td>\n",
       "    </tr>\n",
       "    <tr>\n",
       "      <th>378658</th>\n",
       "      <td>15000.0</td>\n",
       "    </tr>\n",
       "    <tr>\n",
       "      <th>378659</th>\n",
       "      <td>15000.0</td>\n",
       "    </tr>\n",
       "    <tr>\n",
       "      <th>378660</th>\n",
       "      <td>2000.0</td>\n",
       "    </tr>\n",
       "  </tbody>\n",
       "</table>\n",
       "<p>378661 rows × 1 columns</p>\n",
       "</div>"
      ],
      "text/plain": [
       "           goal\n",
       "0        1000.0\n",
       "1       30000.0\n",
       "2       45000.0\n",
       "3        5000.0\n",
       "4       19500.0\n",
       "...         ...\n",
       "378656  50000.0\n",
       "378657   1500.0\n",
       "378658  15000.0\n",
       "378659  15000.0\n",
       "378660   2000.0\n",
       "\n",
       "[378661 rows x 1 columns]"
      ]
     },
     "execution_count": 5,
     "metadata": {},
     "output_type": "execute_result"
    }
   ],
   "source": [
    "# select the usd_goal_real column\n",
    "original_goal_data = pd.DataFrame(kickstarters_2017.goal)\n",
    "original_goal_data"
   ]
  },
  {
   "cell_type": "markdown",
   "id": "d94b810c",
   "metadata": {
    "papermill": {
     "duration": 0.005978,
     "end_time": "2023-05-05T06:19:24.177161",
     "exception": false,
     "start_time": "2023-05-05T06:19:24.171183",
     "status": "completed"
    },
    "tags": []
   },
   "source": [
    "Use `original_goal_data` to create a new DataFrame `scaled_goal_data` with values scaled between 0 and 1. You must use the `minmax_scaling()` function."
   ]
  },
  {
   "cell_type": "code",
   "execution_count": 6,
   "id": "0ce16834",
   "metadata": {
    "execution": {
     "iopub.execute_input": "2023-05-05T06:19:24.190848Z",
     "iopub.status.busy": "2023-05-05T06:19:24.190431Z",
     "iopub.status.idle": "2023-05-05T06:19:24.215446Z",
     "shell.execute_reply": "2023-05-05T06:19:24.214272Z"
    },
    "papermill": {
     "duration": 0.034424,
     "end_time": "2023-05-05T06:19:24.217488",
     "exception": false,
     "start_time": "2023-05-05T06:19:24.183064",
     "status": "completed"
    },
    "tags": []
   },
   "outputs": [
    {
     "data": {
      "application/javascript": [
       "parent.postMessage({\"jupyterEvent\": \"custom.exercise_interaction\", \"data\": {\"outcomeType\": 1, \"valueTowardsCompletion\": 0.3333333333333333, \"interactionType\": 1, \"questionType\": 1, \"questionId\": \"1_TryScaling\", \"learnToolsVersion\": \"0.3.4\", \"failureMessage\": \"\", \"exceptionClass\": \"\", \"trace\": \"\"}}, \"*\")"
      ],
      "text/plain": [
       "<IPython.core.display.Javascript object>"
      ]
     },
     "metadata": {},
     "output_type": "display_data"
    },
    {
     "data": {
      "text/markdown": [
       "<span style=\"color:#33cc33\">Correct</span>"
      ],
      "text/plain": [
       "Correct"
      ]
     },
     "metadata": {},
     "output_type": "display_data"
    }
   ],
   "source": [
    "# TODO: Your code here\n",
    "scaled_goal_data = minmax_scaling(original_goal_data, columns=['goal'])\n",
    "\n",
    "# Check your answer\n",
    "q1.check()"
   ]
  },
  {
   "cell_type": "code",
   "execution_count": 7,
   "id": "d3ef312f",
   "metadata": {
    "execution": {
     "iopub.execute_input": "2023-05-05T06:19:24.231848Z",
     "iopub.status.busy": "2023-05-05T06:19:24.231431Z",
     "iopub.status.idle": "2023-05-05T06:19:24.235859Z",
     "shell.execute_reply": "2023-05-05T06:19:24.234761Z"
    },
    "papermill": {
     "duration": 0.014293,
     "end_time": "2023-05-05T06:19:24.238010",
     "exception": false,
     "start_time": "2023-05-05T06:19:24.223717",
     "status": "completed"
    },
    "tags": []
   },
   "outputs": [],
   "source": [
    "# Lines below will give you a hint or solution code\n",
    "#q1.hint()\n",
    "#q1.solution()"
   ]
  },
  {
   "cell_type": "markdown",
   "id": "34af017b",
   "metadata": {
    "papermill": {
     "duration": 0.006311,
     "end_time": "2023-05-05T06:19:24.250828",
     "exception": false,
     "start_time": "2023-05-05T06:19:24.244517",
     "status": "completed"
    },
    "tags": []
   },
   "source": [
    "# 2) Practice normalization\n",
    "\n",
    "Now you'll practice normalization. We begin by normalizing the amount of money pledged to each campaign."
   ]
  },
  {
   "cell_type": "code",
   "execution_count": 8,
   "id": "4fa5acfa",
   "metadata": {
    "execution": {
     "iopub.execute_input": "2023-05-05T06:19:24.265778Z",
     "iopub.status.busy": "2023-05-05T06:19:24.265119Z",
     "iopub.status.idle": "2023-05-05T06:19:24.496629Z",
     "shell.execute_reply": "2023-05-05T06:19:24.495647Z"
    },
    "papermill": {
     "duration": 0.241544,
     "end_time": "2023-05-05T06:19:24.498832",
     "exception": false,
     "start_time": "2023-05-05T06:19:24.257288",
     "status": "completed"
    },
    "tags": []
   },
   "outputs": [
    {
     "name": "stdout",
     "output_type": "stream",
     "text": [
      "Original data\n",
      "Preview:\n",
      " 1     2421.0\n",
      "2      220.0\n",
      "3        1.0\n",
      "4     1283.0\n",
      "5    52375.0\n",
      "Name: usd_pledged_real, dtype: float64\n",
      "Minimum value: 0.45 \n",
      "Maximum value: 20338986.27\n",
      "______________________________\n",
      "\n",
      "Normalized data\n",
      "Preview:\n",
      " 1    10.165142\n",
      "2     6.468598\n",
      "3     0.000000\n",
      "4     9.129277\n",
      "5    15.836853\n",
      "Name: usd_pledged_real, dtype: float64\n",
      "Minimum value: -0.7779954122762203 \n",
      "Maximum value: 30.69054020451361\n"
     ]
    }
   ],
   "source": [
    "# get the index of all positive pledges (Box-Cox only takes positive values)\n",
    "index_of_positive_pledges = kickstarters_2017.usd_pledged_real > 0\n",
    "\n",
    "# get only positive pledges (using their indexes)\n",
    "positive_pledges = kickstarters_2017.usd_pledged_real.loc[index_of_positive_pledges]\n",
    "\n",
    "# normalize the pledges (w/ Box-Cox)\n",
    "normalized_pledges = pd.Series(stats.boxcox(positive_pledges)[0], \n",
    "                               name='usd_pledged_real', index=positive_pledges.index)\n",
    "\n",
    "print('Original data\\nPreview:\\n', positive_pledges.head())\n",
    "print('Minimum value:', float(positive_pledges.min()),\n",
    "      '\\nMaximum value:', float(positive_pledges.max()))\n",
    "print('_'*30)\n",
    "\n",
    "print('\\nNormalized data\\nPreview:\\n', normalized_pledges.head())\n",
    "print('Minimum value:', float(normalized_pledges.min()),\n",
    "      '\\nMaximum value:', float(normalized_pledges.max()))"
   ]
  },
  {
   "cell_type": "markdown",
   "id": "4b334e11",
   "metadata": {
    "papermill": {
     "duration": 0.006474,
     "end_time": "2023-05-05T06:19:24.511759",
     "exception": false,
     "start_time": "2023-05-05T06:19:24.505285",
     "status": "completed"
    },
    "tags": []
   },
   "source": [
    "The values have changed significantly with normalization!\n",
    "\n",
    "In the next code cell, you'll take a look at the distribution of the normalized data, where it should now resemble a normal distribution."
   ]
  },
  {
   "cell_type": "code",
   "execution_count": 9,
   "id": "981c6141",
   "metadata": {
    "execution": {
     "iopub.execute_input": "2023-05-05T06:19:24.528231Z",
     "iopub.status.busy": "2023-05-05T06:19:24.527851Z",
     "iopub.status.idle": "2023-05-05T06:19:26.652883Z",
     "shell.execute_reply": "2023-05-05T06:19:26.651681Z"
    },
    "papermill": {
     "duration": 2.136348,
     "end_time": "2023-05-05T06:19:26.655399",
     "exception": false,
     "start_time": "2023-05-05T06:19:24.519051",
     "status": "completed"
    },
    "tags": []
   },
   "outputs": [
    {
     "data": {
      "image/png": "[encoded data removed]",
      "text/plain": [
       "<Figure size 640x480 with 1 Axes>"
      ]
     },
     "metadata": {},
     "output_type": "display_data"
    }
   ],
   "source": [
    "# plot normalized data\n",
    "ax = sns.histplot(normalized_pledges, kde=True)\n",
    "ax.set_title(\"Normalized data\")\n",
    "plt.show()"
   ]
  },
  {
   "cell_type": "markdown",
   "id": "3d937b3b",
   "metadata": {
    "papermill": {
     "duration": 0.006956,
     "end_time": "2023-05-05T06:19:26.669726",
     "exception": false,
     "start_time": "2023-05-05T06:19:26.662770",
     "status": "completed"
    },
    "tags": []
   },
   "source": [
    "We used the \"usd_pledged_real\" column. Follow the same process to normalize the \"pledged\" column. "
   ]
  },
  {
   "cell_type": "code",
   "execution_count": 10,
   "id": "3d081644",
   "metadata": {
    "execution": {
     "iopub.execute_input": "2023-05-05T06:19:26.686546Z",
     "iopub.status.busy": "2023-05-05T06:19:26.685658Z",
     "iopub.status.idle": "2023-05-05T06:19:26.695299Z",
     "shell.execute_reply": "2023-05-05T06:19:26.694323Z"
    },
    "papermill": {
     "duration": 0.020815,
     "end_time": "2023-05-05T06:19:26.697720",
     "exception": false,
     "start_time": "2023-05-05T06:19:26.676905",
     "status": "completed"
    },
    "tags": []
   },
   "outputs": [],
   "source": [
    "pos_pledged = kickstarters_2017.usd_pledged_real[kickstarters_2017.usd_pledged_real > 0]"
   ]
  },
  {
   "cell_type": "code",
   "execution_count": 11,
   "id": "94cc80bd",
   "metadata": {
    "execution": {
     "iopub.execute_input": "2023-05-05T06:19:26.714393Z",
     "iopub.status.busy": "2023-05-05T06:19:26.713673Z",
     "iopub.status.idle": "2023-05-05T06:19:26.933615Z",
     "shell.execute_reply": "2023-05-05T06:19:26.932632Z"
    },
    "papermill": {
     "duration": 0.231318,
     "end_time": "2023-05-05T06:19:26.936279",
     "exception": false,
     "start_time": "2023-05-05T06:19:26.704961",
     "status": "completed"
    },
    "tags": []
   },
   "outputs": [],
   "source": [
    "# TODO: Your code here!\n",
    "normalizeed = stats.boxcox(pos_pledged)"
   ]
  },
  {
   "cell_type": "markdown",
   "id": "a74ed077",
   "metadata": {
    "papermill": {
     "duration": 0.007303,
     "end_time": "2023-05-05T06:19:26.951183",
     "exception": false,
     "start_time": "2023-05-05T06:19:26.943880",
     "status": "completed"
    },
    "tags": []
   },
   "source": [
    "How does the normalized \"usd_pledged_real\" column look different from when we normalized the \"pledged\" column?  Or, do they look mostly the same?\n",
    "\n",
    "Once you have an answer, run the code cell below."
   ]
  },
  {
   "cell_type": "code",
   "execution_count": 12,
   "id": "44560092",
   "metadata": {
    "execution": {
     "iopub.execute_input": "2023-05-05T06:19:26.967258Z",
     "iopub.status.busy": "2023-05-05T06:19:26.966878Z",
     "iopub.status.idle": "2023-05-05T06:19:29.623819Z",
     "shell.execute_reply": "2023-05-05T06:19:29.622373Z"
    },
    "papermill": {
     "duration": 2.668216,
     "end_time": "2023-05-05T06:19:29.626593",
     "exception": false,
     "start_time": "2023-05-05T06:19:26.958377",
     "status": "completed"
    },
    "tags": []
   },
   "outputs": [
    {
     "data": {
      "image/png": "[encoded data removed]",
      "text/plain": [
       "<Figure size 640x480 with 1 Axes>"
      ]
     },
     "metadata": {},
     "output_type": "display_data"
    }
   ],
   "source": [
    "ax = sns.histplot(normalizeed, kde=True)\n",
    "ax.set_title(\"Normalized data\")\n",
    "plt.show()"
   ]
  },
  {
   "cell_type": "code",
   "execution_count": 13,
   "id": "0c87331d",
   "metadata": {
    "execution": {
     "iopub.execute_input": "2023-05-05T06:19:29.646513Z",
     "iopub.status.busy": "2023-05-05T06:19:29.645677Z",
     "iopub.status.idle": "2023-05-05T06:19:29.654484Z",
     "shell.execute_reply": "2023-05-05T06:19:29.653331Z"
    },
    "papermill": {
     "duration": 0.023303,
     "end_time": "2023-05-05T06:19:29.657833",
     "exception": false,
     "start_time": "2023-05-05T06:19:29.634530",
     "status": "completed"
    },
    "tags": []
   },
   "outputs": [
    {
     "data": {
      "application/javascript": [
       "parent.postMessage({\"jupyterEvent\": \"custom.exercise_interaction\", \"data\": {\"outcomeType\": 1, \"valueTowardsCompletion\": 0.3333333333333333, \"interactionType\": 1, \"questionType\": 4, \"questionId\": \"2_TryNormalization\", \"learnToolsVersion\": \"0.3.4\", \"failureMessage\": \"\", \"exceptionClass\": \"\", \"trace\": \"\"}}, \"*\")"
      ],
      "text/plain": [
       "<IPython.core.display.Javascript object>"
      ]
     },
     "metadata": {},
     "output_type": "display_data"
    },
    {
     "data": {
      "text/markdown": [
       "<span style=\"color:#33cc33\">Correct:</span> \n",
       "\n",
       "The distributions in the normalized data look mostly the same."
      ],
      "text/plain": [
       "Correct: \n",
       "\n",
       "The distributions in the normalized data look mostly the same."
      ]
     },
     "metadata": {},
     "output_type": "display_data"
    }
   ],
   "source": [
    "# Check your answer (Run this code cell to receive credit!)\n",
    "q2.check()"
   ]
  },
  {
   "cell_type": "code",
   "execution_count": 14,
   "id": "50e166c9",
   "metadata": {
    "execution": {
     "iopub.execute_input": "2023-05-05T06:19:29.676305Z",
     "iopub.status.busy": "2023-05-05T06:19:29.675472Z",
     "iopub.status.idle": "2023-05-05T06:19:29.680416Z",
     "shell.execute_reply": "2023-05-05T06:19:29.679606Z"
    },
    "papermill": {
     "duration": 0.016863,
     "end_time": "2023-05-05T06:19:29.682811",
     "exception": false,
     "start_time": "2023-05-05T06:19:29.665948",
     "status": "completed"
    },
    "tags": []
   },
   "outputs": [],
   "source": [
    "# Line below will give you a hint\n",
    "#q2.hint()"
   ]
  },
  {
   "cell_type": "markdown",
   "id": "3a24e607",
   "metadata": {
    "papermill": {
     "duration": 0.008237,
     "end_time": "2023-05-05T06:19:29.699124",
     "exception": false,
     "start_time": "2023-05-05T06:19:29.690887",
     "status": "completed"
    },
    "tags": []
   },
   "source": [
    "# (Optional) More practice\n",
    "\n",
    "Try finding a new dataset and pretend you're preparing to perform a [regression analysis](https://www.kaggle.com/rtatman/the-5-day-regression-challenge). \n",
    "\n",
    "[These datasets are a good start!](https://www.kaggle.com/rtatman/datasets-for-regression-analysis)\n",
    "\n",
    "Pick three or four variables and decide if you need to normalize or scale any of them and, if you think you should, practice applying the correct technique.\n",
    "\n",
    "# Keep going\n",
    "\n",
    "In the next lesson, learn how to [**parse dates**](https://www.kaggle.com/alexisbcook/parsing-dates) in a dataset."
   ]
  },
  {
   "cell_type": "markdown",
   "id": "35642ff6",
   "metadata": {
    "papermill": {
     "duration": 0.00781,
     "end_time": "2023-05-05T06:19:29.715057",
     "exception": false,
     "start_time": "2023-05-05T06:19:29.707247",
     "status": "completed"
    },
    "tags": []
   },
   "source": [
    "---\n",
    "\n",
    "\n",
    "\n",
    "\n",
    "*Have questions or comments? Visit the [course discussion forum](https://www.kaggle.com/learn/data-cleaning/discussion) to chat with other learners.*"
   ]
  }
 ],
 "metadata": {
  "kernelspec": {
   "display_name": "Python 3",
   "language": "python",
   "name": "python3"
  },
  "language_info": {
   "codemirror_mode": {
    "name": "ipython",
    "version": 3
   },
   "file_extension": ".py",
   "mimetype": "text/x-python",
   "name": "python",
   "nbconvert_exporter": "python",
   "pygments_lexer": "ipython3",
   "version": "3.10.10"
  },
  "papermill": {
   "default_parameters": {},
   "duration": 23.126107,
   "end_time": "2023-05-05T06:19:30.846797",
   "environment_variables": {},
   "exception": null,
   "input_path": "__notebook__.ipynb",
   "output_path": "__notebook__.ipynb",
   "parameters": {},
   "start_time": "2023-05-05T06:19:07.720690",
   "version": "2.4.0"
  }
 },
 "nbformat": 4,
 "nbformat_minor": 5
}
