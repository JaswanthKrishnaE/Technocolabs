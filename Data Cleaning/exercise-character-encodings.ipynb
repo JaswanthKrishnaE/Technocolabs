{
 "cells": [
  {
   "cell_type": "markdown",
   "id": "a82bba38",
   "metadata": {
    "papermill": {
     "duration": 0.005037,
     "end_time": "2023-05-05T09:22:24.057998",
     "exception": false,
     "start_time": "2023-05-05T09:22:24.052961",
     "status": "completed"
    },
    "tags": []
   },
   "source": [
    "**This notebook is an exercise in the [Data Cleaning](https://www.kaggle.com/learn/data-cleaning) course.  You can reference the tutorial at [this link](https://www.kaggle.com/alexisbcook/character-encodings).**\n",
    "\n",
    "---\n"
   ]
  },
  {
   "cell_type": "markdown",
   "id": "307942d9",
   "metadata": {
    "papermill": {
     "duration": 0.004038,
     "end_time": "2023-05-05T09:22:24.066642",
     "exception": false,
     "start_time": "2023-05-05T09:22:24.062604",
     "status": "completed"
    },
    "tags": []
   },
   "source": [
    "In this exercise, you'll apply what you learned in the **Character encodings** tutorial.\n",
    "\n",
    "# Setup\n",
    "\n",
    "The questions below will give you feedback on your work. Run the following cell to set up the feedback system."
   ]
  },
  {
   "cell_type": "code",
   "execution_count": 1,
   "id": "00e59013",
   "metadata": {
    "execution": {
     "iopub.execute_input": "2023-05-05T09:22:24.077009Z",
     "iopub.status.busy": "2023-05-05T09:22:24.076591Z",
     "iopub.status.idle": "2023-05-05T09:22:24.165106Z",
     "shell.execute_reply": "2023-05-05T09:22:24.164115Z"
    },
    "papermill": {
     "duration": 0.096283,
     "end_time": "2023-05-05T09:22:24.167257",
     "exception": false,
     "start_time": "2023-05-05T09:22:24.070974",
     "status": "completed"
    },
    "tags": []
   },
   "outputs": [
    {
     "name": "stdout",
     "output_type": "stream",
     "text": [
      "Setup Complete\n"
     ]
    }
   ],
   "source": [
    "from learntools.core import binder\n",
    "binder.bind(globals())\n",
    "from learntools.data_cleaning.ex4 import *\n",
    "print(\"Setup Complete\")"
   ]
  },
  {
   "cell_type": "markdown",
   "id": "1848e2fa",
   "metadata": {
    "papermill": {
     "duration": 0.004187,
     "end_time": "2023-05-05T09:22:24.176194",
     "exception": false,
     "start_time": "2023-05-05T09:22:24.172007",
     "status": "completed"
    },
    "tags": []
   },
   "source": [
    "# Get our environment set up\n",
    "\n",
    "The first thing we'll need to do is load in the libraries we'll be using."
   ]
  },
  {
   "cell_type": "code",
   "execution_count": 2,
   "id": "1b032024",
   "metadata": {
    "execution": {
     "iopub.execute_input": "2023-05-05T09:22:24.187279Z",
     "iopub.status.busy": "2023-05-05T09:22:24.186538Z",
     "iopub.status.idle": "2023-05-05T09:22:24.191001Z",
     "shell.execute_reply": "2023-05-05T09:22:24.190184Z"
    },
    "papermill": {
     "duration": 0.012243,
     "end_time": "2023-05-05T09:22:24.192952",
     "exception": false,
     "start_time": "2023-05-05T09:22:24.180709",
     "status": "completed"
    },
    "tags": []
   },
   "outputs": [],
   "source": [
    "# modules we'll use\n",
    "import pandas as pd\n",
    "import numpy as np\n",
    "\n",
    "# helpful character encoding module\n",
    "import charset_normalizer\n",
    "\n",
    "# set seed for reproducibility\n",
    "np.random.seed(0)"
   ]
  },
  {
   "cell_type": "markdown",
   "id": "ae6b85f4",
   "metadata": {
    "papermill": {
     "duration": 0.004278,
     "end_time": "2023-05-05T09:22:24.202110",
     "exception": false,
     "start_time": "2023-05-05T09:22:24.197832",
     "status": "completed"
    },
    "tags": []
   },
   "source": [
    "# 1) What are encodings?\n",
    "\n",
    "You're working with a dataset composed of bytes.  Run the code cell below to print a sample entry."
   ]
  },
  {
   "cell_type": "code",
   "execution_count": 3,
   "id": "0b255ce8",
   "metadata": {
    "execution": {
     "iopub.execute_input": "2023-05-05T09:22:24.213496Z",
     "iopub.status.busy": "2023-05-05T09:22:24.212757Z",
     "iopub.status.idle": "2023-05-05T09:22:24.218250Z",
     "shell.execute_reply": "2023-05-05T09:22:24.217250Z"
    },
    "papermill": {
     "duration": 0.013777,
     "end_time": "2023-05-05T09:22:24.220345",
     "exception": false,
     "start_time": "2023-05-05T09:22:24.206568",
     "status": "completed"
    },
    "tags": []
   },
   "outputs": [
    {
     "name": "stdout",
     "output_type": "stream",
     "text": [
      "b'\\xa7A\\xa6n'\n",
      "data type: <class 'bytes'>\n"
     ]
    }
   ],
   "source": [
    "sample_entry = b'\\xa7A\\xa6n'\n",
    "print(sample_entry)\n",
    "print('data type:', type(sample_entry))"
   ]
  },
  {
   "cell_type": "markdown",
   "id": "7f3a4c23",
   "metadata": {
    "papermill": {
     "duration": 0.004212,
     "end_time": "2023-05-05T09:22:24.229191",
     "exception": false,
     "start_time": "2023-05-05T09:22:24.224979",
     "status": "completed"
    },
    "tags": []
   },
   "source": [
    "You notice that it doesn't use the standard UTF-8 encoding. \n",
    "\n",
    "Use the next code cell to create a variable `new_entry` that changes the encoding from `\"big5-tw\"` to `\"utf-8\"`.  `new_entry` should have the bytes datatype."
   ]
  },
  {
   "cell_type": "code",
   "execution_count": 4,
   "id": "a373eb0f",
   "metadata": {
    "execution": {
     "iopub.execute_input": "2023-05-05T09:22:24.240189Z",
     "iopub.status.busy": "2023-05-05T09:22:24.239471Z",
     "iopub.status.idle": "2023-05-05T09:22:24.248115Z",
     "shell.execute_reply": "2023-05-05T09:22:24.247339Z"
    },
    "papermill": {
     "duration": 0.016359,
     "end_time": "2023-05-05T09:22:24.249964",
     "exception": false,
     "start_time": "2023-05-05T09:22:24.233605",
     "status": "completed"
    },
    "tags": []
   },
   "outputs": [
    {
     "data": {
      "application/javascript": [
       "parent.postMessage({\"jupyterEvent\": \"custom.exercise_interaction\", \"data\": {\"outcomeType\": 1, \"valueTowardsCompletion\": 0.3333333333333333, \"interactionType\": 1, \"questionType\": 1, \"questionId\": \"1_EncodingsIntro\", \"learnToolsVersion\": \"0.3.4\", \"failureMessage\": \"\", \"exceptionClass\": \"\", \"trace\": \"\"}}, \"*\")"
      ],
      "text/plain": [
       "<IPython.core.display.Javascript object>"
      ]
     },
     "metadata": {},
     "output_type": "display_data"
    },
    {
     "data": {
      "text/markdown": [
       "<span style=\"color:#33cc33\">Correct</span>"
      ],
      "text/plain": [
       "Correct"
      ]
     },
     "metadata": {},
     "output_type": "display_data"
    }
   ],
   "source": [
    "after = sample_entry.decode(\"big5-tw\")\n",
    "new_entry = after.encode(\"utf-8\" , errors ='replace')\n",
    "\n",
    "# Check your answer\n",
    "q1.check()"
   ]
  },
  {
   "cell_type": "code",
   "execution_count": 5,
   "id": "1d2c50c9",
   "metadata": {
    "execution": {
     "iopub.execute_input": "2023-05-05T09:22:24.261431Z",
     "iopub.status.busy": "2023-05-05T09:22:24.260712Z",
     "iopub.status.idle": "2023-05-05T09:22:24.264532Z",
     "shell.execute_reply": "2023-05-05T09:22:24.263833Z"
    },
    "papermill": {
     "duration": 0.011852,
     "end_time": "2023-05-05T09:22:24.266517",
     "exception": false,
     "start_time": "2023-05-05T09:22:24.254665",
     "status": "completed"
    },
    "tags": []
   },
   "outputs": [],
   "source": [
    "# Lines below will give you a hint or solution code\n",
    "# q1.hint()\n",
    "# q1.solution()"
   ]
  },
  {
   "cell_type": "markdown",
   "id": "928c43bb",
   "metadata": {
    "papermill": {
     "duration": 0.004717,
     "end_time": "2023-05-05T09:22:24.276403",
     "exception": false,
     "start_time": "2023-05-05T09:22:24.271686",
     "status": "completed"
    },
    "tags": []
   },
   "source": [
    "# 2) Reading in files with encoding problems\n",
    "\n",
    "Use the code cell below to read in this file at path `\"../input/fatal-police-shootings-in-the-us/PoliceKillingsUS.csv\"`.  \n",
    "\n",
    "Figure out what the correct encoding should be and read in the file to a DataFrame `police_killings`."
   ]
  },
  {
   "cell_type": "code",
   "execution_count": 6,
   "id": "1c69af02",
   "metadata": {
    "execution": {
     "iopub.execute_input": "2023-05-05T09:22:24.287724Z",
     "iopub.status.busy": "2023-05-05T09:22:24.287331Z",
     "iopub.status.idle": "2023-05-05T09:22:24.315743Z",
     "shell.execute_reply": "2023-05-05T09:22:24.314590Z"
    },
    "papermill": {
     "duration": 0.036578,
     "end_time": "2023-05-05T09:22:24.317776",
     "exception": false,
     "start_time": "2023-05-05T09:22:24.281198",
     "status": "completed"
    },
    "tags": []
   },
   "outputs": [
    {
     "data": {
      "application/javascript": [
       "parent.postMessage({\"jupyterEvent\": \"custom.exercise_interaction\", \"data\": {\"outcomeType\": 1, \"valueTowardsCompletion\": 0.3333333333333333, \"interactionType\": 1, \"questionType\": 1, \"questionId\": \"2_ReadIn\", \"learnToolsVersion\": \"0.3.4\", \"failureMessage\": \"\", \"exceptionClass\": \"\", \"trace\": \"\"}}, \"*\")"
      ],
      "text/plain": [
       "<IPython.core.display.Javascript object>"
      ]
     },
     "metadata": {},
     "output_type": "display_data"
    },
    {
     "data": {
      "text/markdown": [
       "<span style=\"color:#33cc33\">Correct</span>"
      ],
      "text/plain": [
       "Correct"
      ]
     },
     "metadata": {},
     "output_type": "display_data"
    }
   ],
   "source": [
    "# TODO: Load in the DataFrame correctly.\n",
    "police_killings = pd.read_csv(\"../input/fatal-police-shootings-in-the-us/PoliceKillingsUS.csv\", encoding = \"Windows-1252\")\n",
    "\n",
    "# Check your answer\n",
    "q2.check()"
   ]
  },
  {
   "cell_type": "markdown",
   "id": "2a622a5f",
   "metadata": {
    "papermill": {
     "duration": 0.004929,
     "end_time": "2023-05-05T09:22:24.327764",
     "exception": false,
     "start_time": "2023-05-05T09:22:24.322835",
     "status": "completed"
    },
    "tags": []
   },
   "source": [
    "Feel free to use any additional code cells for supplemental work.  To get credit for finishing this question, you'll need to run `q2.check()` and get a result of **Correct**."
   ]
  },
  {
   "cell_type": "code",
   "execution_count": 7,
   "id": "197fc528",
   "metadata": {
    "execution": {
     "iopub.execute_input": "2023-05-05T09:22:24.339485Z",
     "iopub.status.busy": "2023-05-05T09:22:24.339078Z",
     "iopub.status.idle": "2023-05-05T09:22:24.344180Z",
     "shell.execute_reply": "2023-05-05T09:22:24.343101Z"
    },
    "papermill": {
     "duration": 0.013659,
     "end_time": "2023-05-05T09:22:24.346410",
     "exception": false,
     "start_time": "2023-05-05T09:22:24.332751",
     "status": "completed"
    },
    "tags": []
   },
   "outputs": [],
   "source": [
    "# (Optional) Use this code cell for any additional work."
   ]
  },
  {
   "cell_type": "code",
   "execution_count": 8,
   "id": "71d128eb",
   "metadata": {
    "execution": {
     "iopub.execute_input": "2023-05-05T09:22:24.358591Z",
     "iopub.status.busy": "2023-05-05T09:22:24.357919Z",
     "iopub.status.idle": "2023-05-05T09:22:24.361588Z",
     "shell.execute_reply": "2023-05-05T09:22:24.360841Z"
    },
    "papermill": {
     "duration": 0.012412,
     "end_time": "2023-05-05T09:22:24.363907",
     "exception": false,
     "start_time": "2023-05-05T09:22:24.351495",
     "status": "completed"
    },
    "tags": []
   },
   "outputs": [],
   "source": [
    "# Lines below will give you a hint or solution code\n",
    "#q2.hint()\n",
    "#q2.solution()"
   ]
  },
  {
   "cell_type": "markdown",
   "id": "e687b4e6",
   "metadata": {
    "papermill": {
     "duration": 0.004979,
     "end_time": "2023-05-05T09:22:24.374032",
     "exception": false,
     "start_time": "2023-05-05T09:22:24.369053",
     "status": "completed"
    },
    "tags": []
   },
   "source": [
    "# 3) Saving your files with UTF-8 encoding\n",
    "\n",
    "Save a version of the police killings dataset to CSV with UTF-8 encoding.  Your answer will be marked correct after saving this file.  \n",
    "\n",
    "Note: When using the `to_csv()` method, supply only the name of the file (e.g., `\"my_file.csv\"`).  This saves the file at the filepath `\"/kaggle/working/my_file.csv\"`."
   ]
  },
  {
   "cell_type": "code",
   "execution_count": 9,
   "id": "f621c702",
   "metadata": {
    "execution": {
     "iopub.execute_input": "2023-05-05T09:22:24.386613Z",
     "iopub.status.busy": "2023-05-05T09:22:24.386247Z",
     "iopub.status.idle": "2023-05-05T09:22:24.427772Z",
     "shell.execute_reply": "2023-05-05T09:22:24.426891Z"
    },
    "papermill": {
     "duration": 0.050216,
     "end_time": "2023-05-05T09:22:24.429644",
     "exception": false,
     "start_time": "2023-05-05T09:22:24.379428",
     "status": "completed"
    },
    "tags": []
   },
   "outputs": [
    {
     "data": {
      "application/javascript": [
       "parent.postMessage({\"jupyterEvent\": \"custom.exercise_interaction\", \"data\": {\"outcomeType\": 1, \"valueTowardsCompletion\": 0.3333333333333333, \"interactionType\": 1, \"questionType\": 2, \"questionId\": \"3_SaveCSV\", \"learnToolsVersion\": \"0.3.4\", \"failureMessage\": \"\", \"exceptionClass\": \"\", \"trace\": \"\"}}, \"*\")"
      ],
      "text/plain": [
       "<IPython.core.display.Javascript object>"
      ]
     },
     "metadata": {},
     "output_type": "display_data"
    },
    {
     "data": {
      "text/markdown": [
       "<span style=\"color:#33cc33\">Correct</span>"
      ],
      "text/plain": [
       "Correct"
      ]
     },
     "metadata": {},
     "output_type": "display_data"
    }
   ],
   "source": [
    "# TODO: Save the police killings dataset to CSV\n",
    "police_killings.to_csv(\"my_file.csv\")\n",
    "\n",
    "# Check your answer\n",
    "q3.check()"
   ]
  },
  {
   "cell_type": "code",
   "execution_count": 10,
   "id": "6e437aa6",
   "metadata": {
    "execution": {
     "iopub.execute_input": "2023-05-05T09:22:24.442650Z",
     "iopub.status.busy": "2023-05-05T09:22:24.441636Z",
     "iopub.status.idle": "2023-05-05T09:22:24.448690Z",
     "shell.execute_reply": "2023-05-05T09:22:24.448010Z"
    },
    "papermill": {
     "duration": 0.015659,
     "end_time": "2023-05-05T09:22:24.450597",
     "exception": false,
     "start_time": "2023-05-05T09:22:24.434938",
     "status": "completed"
    },
    "tags": []
   },
   "outputs": [
    {
     "data": {
      "application/javascript": [
       "parent.postMessage({\"jupyterEvent\": \"custom.exercise_interaction\", \"data\": {\"interactionType\": 3, \"questionType\": 2, \"questionId\": \"3_SaveCSV\", \"learnToolsVersion\": \"0.3.4\", \"valueTowardsCompletion\": 0.0, \"failureMessage\": \"\", \"exceptionClass\": \"\", \"trace\": \"\", \"outcomeType\": 4}}, \"*\")"
      ],
      "text/plain": [
       "<IPython.core.display.Javascript object>"
      ]
     },
     "metadata": {},
     "output_type": "display_data"
    },
    {
     "data": {
      "text/markdown": [
       "<span style=\"color:#33cc99\">Solution:</span> \n",
       "```python\n",
       "\n",
       "police_killings.to_csv(\"my_file.csv\")\n",
       "\n",
       "```"
      ],
      "text/plain": [
       "Solution: \n",
       "```python\n",
       "\n",
       "police_killings.to_csv(\"my_file.csv\")\n",
       "\n",
       "```"
      ]
     },
     "metadata": {},
     "output_type": "display_data"
    }
   ],
   "source": [
    "# Lines below will give you a hint or solution code\n",
    "#q3.hint()\n",
    "q3.solution()"
   ]
  },
  {
   "cell_type": "markdown",
   "id": "10e27206",
   "metadata": {
    "papermill": {
     "duration": 0.005263,
     "end_time": "2023-05-05T09:22:24.461623",
     "exception": false,
     "start_time": "2023-05-05T09:22:24.456360",
     "status": "completed"
    },
    "tags": []
   },
   "source": [
    "# (Optional) More practice\n",
    "\n",
    "Check out [this dataset of files in different character encodings](https://www.kaggle.com/rtatman/character-encoding-examples). Can you read in all the files with their original encodings and them save them out as UTF-8 files?\n",
    "\n",
    "If you have a file that's in UTF-8 but has just a couple of weird-looking characters in it, you can try out the [ftfy module](https://ftfy.readthedocs.io/en/latest/#) and see if it helps. \n",
    "\n",
    "# Keep going\n",
    "\n",
    "In the final lesson, learn how to [**clean up inconsistent text entries**](https://www.kaggle.com/alexisbcook/inconsistent-data-entry) in your dataset."
   ]
  },
  {
   "cell_type": "markdown",
   "id": "f6d7f01d",
   "metadata": {
    "papermill": {
     "duration": 0.005157,
     "end_time": "2023-05-05T09:22:24.472234",
     "exception": false,
     "start_time": "2023-05-05T09:22:24.467077",
     "status": "completed"
    },
    "tags": []
   },
   "source": [
    "---\n",
    "\n",
    "\n",
    "\n",
    "\n",
    "*Have questions or comments? Visit the [course discussion forum](https://www.kaggle.com/learn/data-cleaning/discussion) to chat with other learners.*"
   ]
  }
 ],
 "metadata": {
  "kernelspec": {
   "display_name": "Python 3",
   "language": "python",
   "name": "python3"
  },
  "language_info": {
   "codemirror_mode": {
    "name": "ipython",
    "version": 3
   },
   "file_extension": ".py",
   "mimetype": "text/x-python",
   "name": "python",
   "nbconvert_exporter": "python",
   "pygments_lexer": "ipython3",
   "version": "3.10.10"
  },
  "papermill": {
   "default_parameters": {},
   "duration": 13.082915,
   "end_time": "2023-05-05T09:22:25.300357",
   "environment_variables": {},
   "exception": null,
   "input_path": "__notebook__.ipynb",
   "output_path": "__notebook__.ipynb",
   "parameters": {},
   "start_time": "2023-05-05T09:22:12.217442",
   "version": "2.4.0"
  }
 },
 "nbformat": 4,
 "nbformat_minor": 5
}
