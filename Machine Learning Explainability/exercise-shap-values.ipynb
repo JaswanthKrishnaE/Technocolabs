{
 "cells": [
  {
   "cell_type": "markdown",
   "id": "a9dec0e0",
   "metadata": {
    "papermill": {
     "duration": 0.009496,
     "end_time": "2023-05-11T10:01:55.498918",
     "exception": false,
     "start_time": "2023-05-11T10:01:55.489422",
     "status": "completed"
    },
    "tags": []
   },
   "source": [
    "**This notebook is an exercise in the [Machine Learning Explainability](https://www.kaggle.com/learn/machine-learning-explainability) course.  You can reference the tutorial at [this link](https://www.kaggle.com/dansbecker/shap-values).**\n",
    "\n",
    "---\n"
   ]
  },
  {
   "cell_type": "markdown",
   "id": "80049e6e",
   "metadata": {
    "papermill": {
     "duration": 0.008993,
     "end_time": "2023-05-11T10:01:55.517219",
     "exception": false,
     "start_time": "2023-05-11T10:01:55.508226",
     "status": "completed"
    },
    "tags": []
   },
   "source": [
    "## Set Up\n",
    "\n",
    "At this point, you have enough tools to put together compelling solutions to real-world problems. You will ned to pick the right techniques for each part of the following data science scenario. Along the way, you'll use SHAP values along with your other insights tools.\n",
    "\n",
    "**The questions below give you feedback on your work by using some checking code. Run the following cell to set up our feedback system.**"
   ]
  },
  {
   "cell_type": "code",
   "execution_count": 1,
   "id": "7e99f357",
   "metadata": {
    "execution": {
     "iopub.execute_input": "2023-05-11T10:01:55.537358Z",
     "iopub.status.busy": "2023-05-11T10:01:55.536692Z",
     "iopub.status.idle": "2023-05-11T10:02:20.143394Z",
     "shell.execute_reply": "2023-05-11T10:02:20.141763Z"
    },
    "papermill": {
     "duration": 24.620021,
     "end_time": "2023-05-11T10:02:20.146273",
     "exception": false,
     "start_time": "2023-05-11T10:01:55.526252",
     "status": "completed"
    },
    "tags": []
   },
   "outputs": [
    {
     "name": "stdout",
     "output_type": "stream",
     "text": [
      "Collecting git+https://github.com/Kaggle/learntools.git\r\n",
      "  Cloning https://github.com/Kaggle/learntools.git to /tmp/pip-req-build-vwj1lm9u\r\n",
      "  Running command git clone --filter=blob:none --quiet https://github.com/Kaggle/learntools.git /tmp/pip-req-build-vwj1lm9u\r\n",
      "  Resolved https://github.com/Kaggle/learntools.git to commit ab3f19a77b8a92c7337c9fd15d84602e7320a077\r\n",
      "  Preparing metadata (setup.py) ... \u001b[?25l-\b \b\\\b \bdone\r\n",
      "\u001b[?25hBuilding wheels for collected packages: learntools\r\n",
      "  Building wheel for learntools (setup.py) ... \u001b[?25l-\b \b\\\b \b|\b \b/\b \bdone\r\n",
      "\u001b[?25h  Created wheel for learntools: filename=learntools-0.3.4-py3-none-any.whl size=268981 sha256=a04873e17b9d49a275ac0c1a96e274ad579196f1e97c02037c2f42ede1ed46c6\r\n",
      "  Stored in directory: /tmp/pip-ephem-wheel-cache-w_7t6fi6/wheels/2f/6c/3c/aa9f50cfb5a862157cb4c7a5b34881828cf45404698255dced\r\n",
      "Successfully built learntools\r\n",
      "Installing collected packages: learntools\r\n",
      "Successfully installed learntools-0.3.4\r\n",
      "\u001b[33mWARNING: Running pip as the 'root' user can result in broken permissions and conflicting behaviour with the system package manager. It is recommended to use a virtual environment instead: https://pip.pypa.io/warnings/venv\u001b[0m\u001b[33m\r\n",
      "\u001b[0mSetup Complete\n"
     ]
    }
   ],
   "source": [
    "# Get most recent checking code\n",
    "!pip install -U -t /kaggle/working/ git+https://github.com/Kaggle/learntools.git\n",
    "from learntools.ml_explainability.ex4 import *\n",
    "print(\"Setup Complete\")"
   ]
  },
  {
   "cell_type": "markdown",
   "id": "721811f3",
   "metadata": {
    "papermill": {
     "duration": 0.009863,
     "end_time": "2023-05-11T10:02:20.166747",
     "exception": false,
     "start_time": "2023-05-11T10:02:20.156884",
     "status": "completed"
    },
    "tags": []
   },
   "source": [
    "## The Scenario\n",
    "A hospital has struggled with \"readmissions,\" where they release a patient before the patient has recovered enough, and the patient returns with health complications. \n",
    "\n",
    "The hospital wants your help identifying patients at highest risk of being readmitted. Doctors (rather than your model) will make the final decision about when to release each patient; but they hope your model will highlight issues the doctors should consider when releasing a patient.\n",
    "\n",
    "The hospital has given you relevant patient medical information.  Here is a list of columns in the data:\n"
   ]
  },
  {
   "cell_type": "code",
   "execution_count": 2,
   "id": "3d4c1308",
   "metadata": {
    "execution": {
     "iopub.execute_input": "2023-05-11T10:02:20.189630Z",
     "iopub.status.busy": "2023-05-11T10:02:20.189012Z",
     "iopub.status.idle": "2023-05-11T10:02:20.589669Z",
     "shell.execute_reply": "2023-05-11T10:02:20.588717Z"
    },
    "papermill": {
     "duration": 0.415243,
     "end_time": "2023-05-11T10:02:20.592210",
     "exception": false,
     "start_time": "2023-05-11T10:02:20.176967",
     "status": "completed"
    },
    "tags": []
   },
   "outputs": [
    {
     "data": {
      "text/plain": [
       "Index(['time_in_hospital', 'num_lab_procedures', 'num_procedures',\n",
       "       'num_medications', 'number_outpatient', 'number_emergency',\n",
       "       'number_inpatient', 'number_diagnoses', 'race_Caucasian',\n",
       "       'race_AfricanAmerican', 'gender_Female', 'age_[70-80)', 'age_[60-70)',\n",
       "       'age_[50-60)', 'age_[80-90)', 'age_[40-50)', 'payer_code_?',\n",
       "       'payer_code_MC', 'payer_code_HM', 'payer_code_SP', 'payer_code_BC',\n",
       "       'medical_specialty_?', 'medical_specialty_InternalMedicine',\n",
       "       'medical_specialty_Emergency/Trauma',\n",
       "       'medical_specialty_Family/GeneralPractice',\n",
       "       'medical_specialty_Cardiology', 'diag_1_428', 'diag_1_414',\n",
       "       'diag_1_786', 'diag_2_276', 'diag_2_428', 'diag_2_250', 'diag_2_427',\n",
       "       'diag_3_250', 'diag_3_401', 'diag_3_276', 'diag_3_428',\n",
       "       'max_glu_serum_None', 'A1Cresult_None', 'metformin_No',\n",
       "       'repaglinide_No', 'nateglinide_No', 'chlorpropamide_No',\n",
       "       'glimepiride_No', 'acetohexamide_No', 'glipizide_No', 'glyburide_No',\n",
       "       'tolbutamide_No', 'pioglitazone_No', 'rosiglitazone_No', 'acarbose_No',\n",
       "       'miglitol_No', 'troglitazone_No', 'tolazamide_No', 'examide_No',\n",
       "       'citoglipton_No', 'insulin_No', 'glyburide-metformin_No',\n",
       "       'glipizide-metformin_No', 'glimepiride-pioglitazone_No',\n",
       "       'metformin-rosiglitazone_No', 'metformin-pioglitazone_No', 'change_No',\n",
       "       'diabetesMed_Yes', 'readmitted'],\n",
       "      dtype='object')"
      ]
     },
     "execution_count": 2,
     "metadata": {},
     "output_type": "execute_result"
    }
   ],
   "source": [
    "import pandas as pd\n",
    "data = pd.read_csv('../input/hospital-readmissions/train.csv')\n",
    "data.columns"
   ]
  },
  {
   "cell_type": "markdown",
   "id": "3b44677d",
   "metadata": {
    "papermill": {
     "duration": 0.011641,
     "end_time": "2023-05-11T10:02:20.615613",
     "exception": false,
     "start_time": "2023-05-11T10:02:20.603972",
     "status": "completed"
    },
    "tags": []
   },
   "source": [
    "Here are some quick hints at interpreting the field names:\n",
    "\n",
    "- Your prediction target is `readmitted`\n",
    "- Columns with the word `diag` indicate the diagnostic code of the illness or illnesses the patient was admitted with. For example, `diag_1_428` means the doctor said their first illness diagnosis is number \"428\".  What illness does 428 correspond to? You could look it up in a codebook, but without more medical background it wouldn't mean anything to you anyway.\n",
    "- A column names like `glimepiride_No` mean the patient did not have the medicine `glimepiride`. If this feature had a value of False, then the patient did take the drug `glimepiride`\n",
    "- Features whose names begin with `medical_specialty` describe the specialty of the doctor seeing the patient. The values in these fields are all `True` or `False`.\n"
   ]
  },
  {
   "cell_type": "markdown",
   "id": "d003c5e3",
   "metadata": {
    "papermill": {
     "duration": 0.011237,
     "end_time": "2023-05-11T10:02:20.637646",
     "exception": false,
     "start_time": "2023-05-11T10:02:20.626409",
     "status": "completed"
    },
    "tags": []
   },
   "source": [
    "## Your Code Library\n",
    "As you write code to work through this scenario, these code snippets from previous tutorials may be useful. You'll still need to modify them, but we've copied them here to save you from having to look them up.\n",
    "\n",
    "**Calculate and show permutation importance:**\n",
    "```\n",
    "import eli5\n",
    "from eli5.sklearn import PermutationImportance\n",
    "\n",
    "perm = PermutationImportance(my_model, random_state=1).fit(val_X, val_y)\n",
    "eli5.show_weights(perm, feature_names = val_X.columns.tolist())\n",
    "```\n",
    "\n",
    "**Calculate and show partial dependence plot:**\n",
    "```\n",
    "from matplotlib import pyplot as plt\n",
    "from sklearn.inspection import PartialDependenceDisplay\n",
    "\n",
    "feature_name = 'Goal Scored'\n",
    "PartialDependenceDisplay.from_estimator(my_model, val_X, [feature_name])\n",
    "plt.show()\n",
    "```\n",
    "\n",
    "**Calculate and show Shap Values for One Prediction:**\n",
    "```\n",
    "import shap  # package used to calculate Shap values\n",
    "\n",
    "data_for_prediction = val_X.iloc[0,:]  # use 1 row of data here. Could use multiple rows if desired\n",
    "\n",
    "# Create object that can calculate shap values\n",
    "explainer = shap.TreeExplainer(my_model)\n",
    "shap_values = explainer.shap_values(data_for_prediction)\n",
    "shap.initjs()\n",
    "shap.force_plot(explainer.expected_value[0], shap_values[0], data_for_prediction)\n",
    "```\n",
    "\n",
    "## Step 1\n",
    "You have built a simple model, but the doctors say they don't know how to evaluate a model, and they'd like you to show them some evidence the model is doing something in line with their medical intuition. Create any graphics or tables that will show them a quick overview of what the model is doing?\n",
    "\n",
    "They are very busy. So they want you to condense your model overview into just 1 or 2 graphics, rather than a long string of graphics.\n",
    "\n",
    "We'll start after the point where you've built a basic model. Just run the following cell to build the model called `my_model`."
   ]
  },
  {
   "cell_type": "code",
   "execution_count": 3,
   "id": "d4e47245",
   "metadata": {
    "execution": {
     "iopub.execute_input": "2023-05-11T10:02:20.661159Z",
     "iopub.status.busy": "2023-05-11T10:02:20.660714Z",
     "iopub.status.idle": "2023-05-11T10:02:24.090794Z",
     "shell.execute_reply": "2023-05-11T10:02:24.089618Z"
    },
    "papermill": {
     "duration": 3.44511,
     "end_time": "2023-05-11T10:02:24.093778",
     "exception": false,
     "start_time": "2023-05-11T10:02:20.648668",
     "status": "completed"
    },
    "tags": []
   },
   "outputs": [
    {
     "name": "stderr",
     "output_type": "stream",
     "text": [
      "/opt/conda/lib/python3.10/site-packages/scipy/__init__.py:146: UserWarning: A NumPy version >=1.16.5 and <1.23.0 is required for this version of SciPy (detected version 1.23.5\n",
      "  warnings.warn(f\"A NumPy version >={np_minversion} and <{np_maxversion}\"\n"
     ]
    }
   ],
   "source": [
    "import pandas as pd\n",
    "from sklearn.ensemble import RandomForestClassifier\n",
    "from sklearn.model_selection import train_test_split\n",
    "\n",
    "data = pd.read_csv('../input/hospital-readmissions/train.csv')\n",
    "\n",
    "y = data.readmitted\n",
    "\n",
    "base_features = [c for c in data.columns if c != \"readmitted\"]\n",
    "\n",
    "X = data[base_features]\n",
    "\n",
    "train_X, val_X, train_y, val_y = train_test_split(X, y, random_state=1)\n",
    "my_model = RandomForestClassifier(n_estimators=30, random_state=1).fit(train_X, train_y)"
   ]
  },
  {
   "cell_type": "markdown",
   "id": "dc6cb97a",
   "metadata": {
    "papermill": {
     "duration": 0.010495,
     "end_time": "2023-05-11T10:02:24.116018",
     "exception": false,
     "start_time": "2023-05-11T10:02:24.105523",
     "status": "completed"
    },
    "tags": []
   },
   "source": [
    "Now use the following cell to create the materials for the doctors."
   ]
  },
  {
   "cell_type": "code",
   "execution_count": 4,
   "id": "c5d6d0b5",
   "metadata": {
    "execution": {
     "iopub.execute_input": "2023-05-11T10:02:24.140042Z",
     "iopub.status.busy": "2023-05-11T10:02:24.139627Z",
     "iopub.status.idle": "2023-05-11T10:02:57.057885Z",
     "shell.execute_reply": "2023-05-11T10:02:57.056632Z"
    },
    "papermill": {
     "duration": 32.944697,
     "end_time": "2023-05-11T10:02:57.071428",
     "exception": false,
     "start_time": "2023-05-11T10:02:24.126731",
     "status": "completed"
    },
    "tags": []
   },
   "outputs": [
    {
     "data": {
      "text/html": [
       "\n",
       "    <style>\n",
       "    table.eli5-weights tr:hover {\n",
       "        filter: brightness(85%);\n",
       "    }\n",
       "</style>\n",
       "\n",
       "\n",
       "\n",
       "    \n",
       "\n",
       "    \n",
       "\n",
       "    \n",
       "\n",
       "    \n",
       "\n",
       "    \n",
       "\n",
       "    \n",
       "\n",
       "\n",
       "    \n",
       "\n",
       "    \n",
       "\n",
       "    \n",
       "\n",
       "    \n",
       "\n",
       "    \n",
       "\n",
       "    \n",
       "\n",
       "\n",
       "    \n",
       "\n",
       "    \n",
       "\n",
       "    \n",
       "\n",
       "    \n",
       "\n",
       "    \n",
       "        <table class=\"eli5-weights eli5-feature-importances\" style=\"border-collapse: collapse; border: none; margin-top: 0em; table-layout: auto;\">\n",
       "    <thead>\n",
       "    <tr style=\"border: none;\">\n",
       "        <th style=\"padding: 0 1em 0 0.5em; text-align: right; border: none;\">Weight</th>\n",
       "        <th style=\"padding: 0 0.5em 0 0.5em; text-align: left; border: none;\">Feature</th>\n",
       "    </tr>\n",
       "    </thead>\n",
       "    <tbody>\n",
       "    \n",
       "        <tr style=\"background-color: hsl(120, 100.00%, 80.00%); border: none;\">\n",
       "            <td style=\"padding: 0 1em 0 0.5em; text-align: right; border: none;\">\n",
       "                0.0451\n",
       "                \n",
       "                    &plusmn; 0.0068\n",
       "                \n",
       "            </td>\n",
       "            <td style=\"padding: 0 0.5em 0 0.5em; text-align: left; border: none;\">\n",
       "                number_inpatient\n",
       "            </td>\n",
       "        </tr>\n",
       "    \n",
       "        <tr style=\"background-color: hsl(120, 100.00%, 93.66%); border: none;\">\n",
       "            <td style=\"padding: 0 1em 0 0.5em; text-align: right; border: none;\">\n",
       "                0.0087\n",
       "                \n",
       "                    &plusmn; 0.0046\n",
       "                \n",
       "            </td>\n",
       "            <td style=\"padding: 0 0.5em 0 0.5em; text-align: left; border: none;\">\n",
       "                number_emergency\n",
       "            </td>\n",
       "        </tr>\n",
       "    \n",
       "        <tr style=\"background-color: hsl(120, 100.00%, 95.01%); border: none;\">\n",
       "            <td style=\"padding: 0 1em 0 0.5em; text-align: right; border: none;\">\n",
       "                0.0062\n",
       "                \n",
       "                    &plusmn; 0.0053\n",
       "                \n",
       "            </td>\n",
       "            <td style=\"padding: 0 0.5em 0 0.5em; text-align: left; border: none;\">\n",
       "                number_outpatient\n",
       "            </td>\n",
       "        </tr>\n",
       "    \n",
       "        <tr style=\"background-color: hsl(120, 100.00%, 96.82%); border: none;\">\n",
       "            <td style=\"padding: 0 1em 0 0.5em; text-align: right; border: none;\">\n",
       "                0.0033\n",
       "                \n",
       "                    &plusmn; 0.0016\n",
       "                \n",
       "            </td>\n",
       "            <td style=\"padding: 0 0.5em 0 0.5em; text-align: left; border: none;\">\n",
       "                payer_code_MC\n",
       "            </td>\n",
       "        </tr>\n",
       "    \n",
       "        <tr style=\"background-color: hsl(120, 100.00%, 97.70%); border: none;\">\n",
       "            <td style=\"padding: 0 1em 0 0.5em; text-align: right; border: none;\">\n",
       "                0.0020\n",
       "                \n",
       "                    &plusmn; 0.0016\n",
       "                \n",
       "            </td>\n",
       "            <td style=\"padding: 0 0.5em 0 0.5em; text-align: left; border: none;\">\n",
       "                diag_3_401\n",
       "            </td>\n",
       "        </tr>\n",
       "    \n",
       "        <tr style=\"background-color: hsl(120, 100.00%, 98.09%); border: none;\">\n",
       "            <td style=\"padding: 0 1em 0 0.5em; text-align: right; border: none;\">\n",
       "                0.0016\n",
       "                \n",
       "                    &plusmn; 0.0031\n",
       "                \n",
       "            </td>\n",
       "            <td style=\"padding: 0 0.5em 0 0.5em; text-align: left; border: none;\">\n",
       "                medical_specialty_Emergency/Trauma\n",
       "            </td>\n",
       "        </tr>\n",
       "    \n",
       "        <tr style=\"background-color: hsl(120, 100.00%, 98.21%); border: none;\">\n",
       "            <td style=\"padding: 0 1em 0 0.5em; text-align: right; border: none;\">\n",
       "                0.0014\n",
       "                \n",
       "                    &plusmn; 0.0024\n",
       "                \n",
       "            </td>\n",
       "            <td style=\"padding: 0 0.5em 0 0.5em; text-align: left; border: none;\">\n",
       "                A1Cresult_None\n",
       "            </td>\n",
       "        </tr>\n",
       "    \n",
       "        <tr style=\"background-color: hsl(120, 100.00%, 98.23%); border: none;\">\n",
       "            <td style=\"padding: 0 1em 0 0.5em; text-align: right; border: none;\">\n",
       "                0.0014\n",
       "                \n",
       "                    &plusmn; 0.0021\n",
       "                \n",
       "            </td>\n",
       "            <td style=\"padding: 0 0.5em 0 0.5em; text-align: left; border: none;\">\n",
       "                medical_specialty_Family/GeneralPractice\n",
       "            </td>\n",
       "        </tr>\n",
       "    \n",
       "        <tr style=\"background-color: hsl(120, 100.00%, 98.35%); border: none;\">\n",
       "            <td style=\"padding: 0 1em 0 0.5em; text-align: right; border: none;\">\n",
       "                0.0013\n",
       "                \n",
       "                    &plusmn; 0.0010\n",
       "                \n",
       "            </td>\n",
       "            <td style=\"padding: 0 0.5em 0 0.5em; text-align: left; border: none;\">\n",
       "                diag_2_427\n",
       "            </td>\n",
       "        </tr>\n",
       "    \n",
       "        <tr style=\"background-color: hsl(120, 100.00%, 98.35%); border: none;\">\n",
       "            <td style=\"padding: 0 1em 0 0.5em; text-align: right; border: none;\">\n",
       "                0.0013\n",
       "                \n",
       "                    &plusmn; 0.0011\n",
       "                \n",
       "            </td>\n",
       "            <td style=\"padding: 0 0.5em 0 0.5em; text-align: left; border: none;\">\n",
       "                diag_2_276\n",
       "            </td>\n",
       "        </tr>\n",
       "    \n",
       "        <tr style=\"background-color: hsl(120, 100.00%, 98.56%); border: none;\">\n",
       "            <td style=\"padding: 0 1em 0 0.5em; text-align: right; border: none;\">\n",
       "                0.0011\n",
       "                \n",
       "                    &plusmn; 0.0022\n",
       "                \n",
       "            </td>\n",
       "            <td style=\"padding: 0 0.5em 0 0.5em; text-align: left; border: none;\">\n",
       "                age_[50-60)\n",
       "            </td>\n",
       "        </tr>\n",
       "    \n",
       "        <tr style=\"background-color: hsl(120, 100.00%, 98.62%); border: none;\">\n",
       "            <td style=\"padding: 0 1em 0 0.5em; text-align: right; border: none;\">\n",
       "                0.0010\n",
       "                \n",
       "                    &plusmn; 0.0022\n",
       "                \n",
       "            </td>\n",
       "            <td style=\"padding: 0 0.5em 0 0.5em; text-align: left; border: none;\">\n",
       "                age_[80-90)\n",
       "            </td>\n",
       "        </tr>\n",
       "    \n",
       "        <tr style=\"background-color: hsl(120, 100.00%, 98.88%); border: none;\">\n",
       "            <td style=\"padding: 0 1em 0 0.5em; text-align: right; border: none;\">\n",
       "                0.0007\n",
       "                \n",
       "                    &plusmn; 0.0006\n",
       "                \n",
       "            </td>\n",
       "            <td style=\"padding: 0 0.5em 0 0.5em; text-align: left; border: none;\">\n",
       "                repaglinide_No\n",
       "            </td>\n",
       "        </tr>\n",
       "    \n",
       "        <tr style=\"background-color: hsl(120, 100.00%, 99.02%); border: none;\">\n",
       "            <td style=\"padding: 0 1em 0 0.5em; text-align: right; border: none;\">\n",
       "                0.0006\n",
       "                \n",
       "                    &plusmn; 0.0010\n",
       "                \n",
       "            </td>\n",
       "            <td style=\"padding: 0 0.5em 0 0.5em; text-align: left; border: none;\">\n",
       "                diag_1_428\n",
       "            </td>\n",
       "        </tr>\n",
       "    \n",
       "        <tr style=\"background-color: hsl(120, 100.00%, 99.05%); border: none;\">\n",
       "            <td style=\"padding: 0 1em 0 0.5em; text-align: right; border: none;\">\n",
       "                0.0006\n",
       "                \n",
       "                    &plusmn; 0.0022\n",
       "                \n",
       "            </td>\n",
       "            <td style=\"padding: 0 0.5em 0 0.5em; text-align: left; border: none;\">\n",
       "                payer_code_SP\n",
       "            </td>\n",
       "        </tr>\n",
       "    \n",
       "        <tr style=\"background-color: hsl(120, 100.00%, 99.17%); border: none;\">\n",
       "            <td style=\"padding: 0 1em 0 0.5em; text-align: right; border: none;\">\n",
       "                0.0005\n",
       "                \n",
       "                    &plusmn; 0.0030\n",
       "                \n",
       "            </td>\n",
       "            <td style=\"padding: 0 0.5em 0 0.5em; text-align: left; border: none;\">\n",
       "                insulin_No\n",
       "            </td>\n",
       "        </tr>\n",
       "    \n",
       "        <tr style=\"background-color: hsl(120, 100.00%, 99.25%); border: none;\">\n",
       "            <td style=\"padding: 0 1em 0 0.5em; text-align: right; border: none;\">\n",
       "                0.0004\n",
       "                \n",
       "                    &plusmn; 0.0028\n",
       "                \n",
       "            </td>\n",
       "            <td style=\"padding: 0 0.5em 0 0.5em; text-align: left; border: none;\">\n",
       "                diabetesMed_Yes\n",
       "            </td>\n",
       "        </tr>\n",
       "    \n",
       "        <tr style=\"background-color: hsl(120, 100.00%, 99.33%); border: none;\">\n",
       "            <td style=\"padding: 0 1em 0 0.5em; text-align: right; border: none;\">\n",
       "                0.0004\n",
       "                \n",
       "                    &plusmn; 0.0021\n",
       "                \n",
       "            </td>\n",
       "            <td style=\"padding: 0 0.5em 0 0.5em; text-align: left; border: none;\">\n",
       "                diag_3_250\n",
       "            </td>\n",
       "        </tr>\n",
       "    \n",
       "        <tr style=\"background-color: hsl(120, 100.00%, 99.37%); border: none;\">\n",
       "            <td style=\"padding: 0 1em 0 0.5em; text-align: right; border: none;\">\n",
       "                0.0003\n",
       "                \n",
       "                    &plusmn; 0.0018\n",
       "                \n",
       "            </td>\n",
       "            <td style=\"padding: 0 0.5em 0 0.5em; text-align: left; border: none;\">\n",
       "                diag_2_250\n",
       "            </td>\n",
       "        </tr>\n",
       "    \n",
       "        <tr style=\"background-color: hsl(120, 100.00%, 99.46%); border: none;\">\n",
       "            <td style=\"padding: 0 1em 0 0.5em; text-align: right; border: none;\">\n",
       "                0.0003\n",
       "                \n",
       "                    &plusmn; 0.0015\n",
       "                \n",
       "            </td>\n",
       "            <td style=\"padding: 0 0.5em 0 0.5em; text-align: left; border: none;\">\n",
       "                glipizide_No\n",
       "            </td>\n",
       "        </tr>\n",
       "    \n",
       "    \n",
       "        \n",
       "            <tr style=\"background-color: hsl(120, 100.00%, 99.46%); border: none;\">\n",
       "                <td colspan=\"2\" style=\"padding: 0 0.5em 0 0.5em; text-align: center; border: none; white-space: nowrap;\">\n",
       "                    <i>&hellip; 44 more &hellip;</i>\n",
       "                </td>\n",
       "            </tr>\n",
       "        \n",
       "    \n",
       "    </tbody>\n",
       "</table>\n",
       "    \n",
       "\n",
       "    \n",
       "\n",
       "\n",
       "    \n",
       "\n",
       "    \n",
       "\n",
       "    \n",
       "\n",
       "    \n",
       "\n",
       "    \n",
       "\n",
       "    \n",
       "\n",
       "\n",
       "\n"
      ],
      "text/plain": [
       "<IPython.core.display.HTML object>"
      ]
     },
     "execution_count": 4,
     "metadata": {},
     "output_type": "execute_result"
    }
   ],
   "source": [
    "# Your code here\n",
    "import eli5\n",
    "from eli5.sklearn import PermutationImportance\n",
    "\n",
    "perm = PermutationImportance(my_model, random_state=1).fit(val_X, val_y)\n",
    "eli5.show_weights(perm, feature_names = val_X.columns.tolist())"
   ]
  },
  {
   "cell_type": "markdown",
   "id": "a1ffe872",
   "metadata": {
    "papermill": {
     "duration": 0.010874,
     "end_time": "2023-05-11T10:02:57.093451",
     "exception": false,
     "start_time": "2023-05-11T10:02:57.082577",
     "status": "completed"
    },
    "tags": []
   },
   "source": [
    "For our idea of what to show, run the cell below.  "
   ]
  },
  {
   "cell_type": "code",
   "execution_count": 5,
   "id": "37de4df5",
   "metadata": {
    "execution": {
     "iopub.execute_input": "2023-05-11T10:02:57.118860Z",
     "iopub.status.busy": "2023-05-11T10:02:57.117906Z",
     "iopub.status.idle": "2023-05-11T10:02:57.122477Z",
     "shell.execute_reply": "2023-05-11T10:02:57.121513Z"
    },
    "papermill": {
     "duration": 0.019682,
     "end_time": "2023-05-11T10:02:57.124839",
     "exception": false,
     "start_time": "2023-05-11T10:02:57.105157",
     "status": "completed"
    },
    "tags": []
   },
   "outputs": [],
   "source": [
    "# Run this code cell to receive credit!\n",
    "# q_1.solution()"
   ]
  },
  {
   "cell_type": "markdown",
   "id": "09ab175b",
   "metadata": {
    "papermill": {
     "duration": 0.01126,
     "end_time": "2023-05-11T10:02:57.148170",
     "exception": false,
     "start_time": "2023-05-11T10:02:57.136910",
     "status": "completed"
    },
    "tags": []
   },
   "source": [
    "If you'd like to discuss your approach or see what others have done, we have a discussion forum [here](https://www.kaggle.com/learn-forum/66267#latest-390149).\n",
    "\n"
   ]
  },
  {
   "cell_type": "markdown",
   "id": "d4a05896",
   "metadata": {
    "papermill": {
     "duration": 0.010752,
     "end_time": "2023-05-11T10:02:57.170056",
     "exception": false,
     "start_time": "2023-05-11T10:02:57.159304",
     "status": "completed"
    },
    "tags": []
   },
   "source": [
    "## Step 2\n",
    "\n",
    "It appears `number_inpatient` is a really important feature. The doctors would like to know more about that. Create a graph for them that shows how `num_inpatient` affects the model's predictions."
   ]
  },
  {
   "cell_type": "code",
   "execution_count": 6,
   "id": "0371656e",
   "metadata": {
    "execution": {
     "iopub.execute_input": "2023-05-11T10:02:57.194516Z",
     "iopub.status.busy": "2023-05-11T10:02:57.193488Z",
     "iopub.status.idle": "2023-05-11T10:02:58.227485Z",
     "shell.execute_reply": "2023-05-11T10:02:58.226255Z"
    },
    "papermill": {
     "duration": 1.048932,
     "end_time": "2023-05-11T10:02:58.230119",
     "exception": false,
     "start_time": "2023-05-11T10:02:57.181187",
     "status": "completed"
    },
    "tags": []
   },
   "outputs": [
    {
     "data": {
      "image/png": "[encoded data removed]",
      "text/plain": [
       "<Figure size 640x480 with 2 Axes>"
      ]
     },
     "metadata": {},
     "output_type": "display_data"
    }
   ],
   "source": [
    "# Your Code Here\n",
    "from matplotlib import pyplot as plt\n",
    "from sklearn.inspection import PartialDependenceDisplay\n",
    "\n",
    "feature_name = 'number_inpatient'\n",
    "PartialDependenceDisplay.from_estimator(my_model, val_X, [feature_name])\n",
    "plt.show()"
   ]
  },
  {
   "cell_type": "markdown",
   "id": "f14051da",
   "metadata": {
    "papermill": {
     "duration": 0.011413,
     "end_time": "2023-05-11T10:02:58.254685",
     "exception": false,
     "start_time": "2023-05-11T10:02:58.243272",
     "status": "completed"
    },
    "tags": []
   },
   "source": [
    "For our solution, run the line below."
   ]
  },
  {
   "cell_type": "code",
   "execution_count": 7,
   "id": "96d17c0a",
   "metadata": {
    "execution": {
     "iopub.execute_input": "2023-05-11T10:02:58.281076Z",
     "iopub.status.busy": "2023-05-11T10:02:58.280287Z",
     "iopub.status.idle": "2023-05-11T10:02:58.287924Z",
     "shell.execute_reply": "2023-05-11T10:02:58.287129Z"
    },
    "papermill": {
     "duration": 0.023819,
     "end_time": "2023-05-11T10:02:58.290179",
     "exception": false,
     "start_time": "2023-05-11T10:02:58.266360",
     "status": "completed"
    },
    "tags": []
   },
   "outputs": [
    {
     "data": {
      "application/javascript": [
       "parent.postMessage({\"jupyterEvent\": \"custom.exercise_interaction\", \"data\": {\"interactionType\": 3, \"questionType\": 4, \"questionId\": \"2_EffectNumInpatient\", \"learnToolsVersion\": \"0.3.4\", \"valueTowardsCompletion\": 0.0, \"failureMessage\": \"\", \"exceptionClass\": \"\", \"trace\": \"\", \"outcomeType\": 4}}, \"*\")"
      ],
      "text/plain": [
       "<IPython.core.display.Javascript object>"
      ]
     },
     "metadata": {},
     "output_type": "display_data"
    },
    {
     "data": {
      "text/markdown": [
       "<span style=\"color:#33cc99\">Solution:</span> \n",
       "```python\n",
       "\n",
       "# PDP for number_inpatient feature\n",
       "\n",
       "from matplotlib import pyplot as plt\n",
       "from sklearn.inspection import PartialDependenceDisplay\n",
       "\n",
       "feature_name = 'number_inpatient'\n",
       "PartialDependenceDisplay.from_estimator(my_model, val_X, [feature_name])\n",
       "plt.show()\n",
       "\n",
       "```"
      ],
      "text/plain": [
       "Solution: \n",
       "```python\n",
       "\n",
       "# PDP for number_inpatient feature\n",
       "\n",
       "from matplotlib import pyplot as plt\n",
       "from sklearn.inspection import PartialDependenceDisplay\n",
       "\n",
       "feature_name = 'number_inpatient'\n",
       "PartialDependenceDisplay.from_estimator(my_model, val_X, [feature_name])\n",
       "plt.show()\n",
       "\n",
       "```"
      ]
     },
     "metadata": {},
     "output_type": "display_data"
    }
   ],
   "source": [
    "# Check your answer (Run this code cell to receive credit!)\n",
    "q_2.solution()"
   ]
  },
  {
   "cell_type": "markdown",
   "id": "700f2074",
   "metadata": {
    "papermill": {
     "duration": 0.011807,
     "end_time": "2023-05-11T10:02:58.314019",
     "exception": false,
     "start_time": "2023-05-11T10:02:58.302212",
     "status": "completed"
    },
    "tags": []
   },
   "source": [
    "## Step 3\n",
    "\n",
    "The doctors think it's a good sign that increasing the number of inpatient procedures leads to increased predictions.  But they can't tell from this plot whether that change in the plot is big or small. They'd like you to create something similar for `time_in_hospital` to see how that compares."
   ]
  },
  {
   "cell_type": "code",
   "execution_count": 8,
   "id": "b3363fae",
   "metadata": {
    "execution": {
     "iopub.execute_input": "2023-05-11T10:02:58.340797Z",
     "iopub.status.busy": "2023-05-11T10:02:58.340365Z",
     "iopub.status.idle": "2023-05-11T10:02:59.529582Z",
     "shell.execute_reply": "2023-05-11T10:02:59.528354Z"
    },
    "papermill": {
     "duration": 1.206183,
     "end_time": "2023-05-11T10:02:59.532333",
     "exception": false,
     "start_time": "2023-05-11T10:02:58.326150",
     "status": "completed"
    },
    "tags": []
   },
   "outputs": [
    {
     "data": {
      "image/png": "[encoded data removed]",
      "text/plain": [
       "<Figure size 640x480 with 2 Axes>"
      ]
     },
     "metadata": {},
     "output_type": "display_data"
    }
   ],
   "source": [
    "# Your Code Here\n",
    "from matplotlib import pyplot as plt\n",
    "from sklearn.inspection import PartialDependenceDisplay\n",
    "\n",
    "feature_name = 'time_in_hospital'\n",
    "PartialDependenceDisplay.from_estimator(my_model, val_X, [feature_name])\n",
    "plt.show()"
   ]
  },
  {
   "cell_type": "markdown",
   "id": "69474f8b",
   "metadata": {
    "papermill": {
     "duration": 0.012248,
     "end_time": "2023-05-11T10:02:59.557164",
     "exception": false,
     "start_time": "2023-05-11T10:02:59.544916",
     "status": "completed"
    },
    "tags": []
   },
   "source": [
    "Uncomment the relevant line below to see one solution."
   ]
  },
  {
   "cell_type": "code",
   "execution_count": 9,
   "id": "ee0355ce",
   "metadata": {
    "execution": {
     "iopub.execute_input": "2023-05-11T10:02:59.584704Z",
     "iopub.status.busy": "2023-05-11T10:02:59.584242Z",
     "iopub.status.idle": "2023-05-11T10:02:59.593233Z",
     "shell.execute_reply": "2023-05-11T10:02:59.592060Z"
    },
    "papermill": {
     "duration": 0.025746,
     "end_time": "2023-05-11T10:02:59.595649",
     "exception": false,
     "start_time": "2023-05-11T10:02:59.569903",
     "status": "completed"
    },
    "tags": []
   },
   "outputs": [
    {
     "data": {
      "application/javascript": [
       "parent.postMessage({\"jupyterEvent\": \"custom.exercise_interaction\", \"data\": {\"interactionType\": 3, \"questionType\": 4, \"questionId\": \"3_EffectTimeInHospital\", \"learnToolsVersion\": \"0.3.4\", \"valueTowardsCompletion\": 0.0, \"failureMessage\": \"\", \"exceptionClass\": \"\", \"trace\": \"\", \"outcomeType\": 4}}, \"*\")"
      ],
      "text/plain": [
       "<IPython.core.display.Javascript object>"
      ]
     },
     "metadata": {},
     "output_type": "display_data"
    },
    {
     "data": {
      "text/markdown": [
       "<span style=\"color:#33cc99\">Solution:</span> \n",
       "The results are very different. Specifically time in hospital has a much smaller effect. Code below:\n",
       "\n",
       "    from matplotlib import pyplot as plt\n",
       "    from sklearn.inspection import PartialDependenceDisplay\n",
       "\n",
       "    feature_name = 'time_in_hospital'\n",
       "    PartialDependenceDisplay.from_estimator(my_model, val_X, [feature_name])\n",
       "    plt.show()\n"
      ],
      "text/plain": [
       "Solution: \n",
       "The results are very different. Specifically time in hospital has a much smaller effect. Code below:\n",
       "\n",
       "    from matplotlib import pyplot as plt\n",
       "    from sklearn.inspection import PartialDependenceDisplay\n",
       "\n",
       "    feature_name = 'time_in_hospital'\n",
       "    PartialDependenceDisplay.from_estimator(my_model, val_X, [feature_name])\n",
       "    plt.show()"
      ]
     },
     "metadata": {},
     "output_type": "display_data"
    }
   ],
   "source": [
    "# Check your answer (Run this code cell to receive credit!)\n",
    "q_3.solution()"
   ]
  },
  {
   "cell_type": "markdown",
   "id": "13d511c1",
   "metadata": {
    "papermill": {
     "duration": 0.012878,
     "end_time": "2023-05-11T10:02:59.621585",
     "exception": false,
     "start_time": "2023-05-11T10:02:59.608707",
     "status": "completed"
    },
    "tags": []
   },
   "source": [
    "## Step 4\n",
    "\n",
    "Woah!  It seems like `time_in_hospital` doesn't matter at all.  The difference between the lowest value on the partial dependence plot and the highest value is about 5%.\n",
    "\n",
    "If that is what your model concluded, the doctors will believe it. But it seems so low. Could  the data be wrong, or is your model doing something more complex than they expect?  \n",
    "\n",
    "They'd like you to show them the raw readmission rate for each value of `time_in_hospital` to see how it compares to the partial dependence plot.\n",
    "\n",
    "- Make that plot. \n",
    "- Are the results similar or different?"
   ]
  },
  {
   "cell_type": "code",
   "execution_count": 10,
   "id": "4a693d02",
   "metadata": {
    "execution": {
     "iopub.execute_input": "2023-05-11T10:02:59.649578Z",
     "iopub.status.busy": "2023-05-11T10:02:59.648763Z",
     "iopub.status.idle": "2023-05-11T10:02:59.977831Z",
     "shell.execute_reply": "2023-05-11T10:02:59.976642Z"
    },
    "papermill": {
     "duration": 0.345988,
     "end_time": "2023-05-11T10:02:59.980595",
     "exception": false,
     "start_time": "2023-05-11T10:02:59.634607",
     "status": "completed"
    },
    "tags": []
   },
   "outputs": [
    {
     "data": {
      "image/png": "[encoded data removed]",
      "text/plain": [
       "<Figure size 640x480 with 1 Axes>"
      ]
     },
     "metadata": {},
     "output_type": "display_data"
    }
   ],
   "source": [
    "# Your Code Here\n",
    "all_train = pd.concat([train_X, train_y], axis=1)\n",
    "\n",
    "all_train.groupby(['time_in_hospital']).mean().readmitted.plot()\n",
    "plt.show()"
   ]
  },
  {
   "cell_type": "markdown",
   "id": "a3fb8139",
   "metadata": {
    "papermill": {
     "duration": 0.0131,
     "end_time": "2023-05-11T10:03:00.007247",
     "exception": false,
     "start_time": "2023-05-11T10:02:59.994147",
     "status": "completed"
    },
    "tags": []
   },
   "source": [
    "For a hint, uncomment the line below."
   ]
  },
  {
   "cell_type": "code",
   "execution_count": 11,
   "id": "98e2fa4e",
   "metadata": {
    "execution": {
     "iopub.execute_input": "2023-05-11T10:03:00.036678Z",
     "iopub.status.busy": "2023-05-11T10:03:00.035542Z",
     "iopub.status.idle": "2023-05-11T10:03:00.040736Z",
     "shell.execute_reply": "2023-05-11T10:03:00.039949Z"
    },
    "papermill": {
     "duration": 0.022206,
     "end_time": "2023-05-11T10:03:00.042898",
     "exception": false,
     "start_time": "2023-05-11T10:03:00.020692",
     "status": "completed"
    },
    "tags": []
   },
   "outputs": [],
   "source": [
    "# q_4.hint()"
   ]
  },
  {
   "cell_type": "code",
   "execution_count": 12,
   "id": "e4097098",
   "metadata": {
    "execution": {
     "iopub.execute_input": "2023-05-11T10:03:00.073198Z",
     "iopub.status.busy": "2023-05-11T10:03:00.072419Z",
     "iopub.status.idle": "2023-05-11T10:03:00.080668Z",
     "shell.execute_reply": "2023-05-11T10:03:00.079876Z"
    },
    "papermill": {
     "duration": 0.025636,
     "end_time": "2023-05-11T10:03:00.082871",
     "exception": false,
     "start_time": "2023-05-11T10:03:00.057235",
     "status": "completed"
    },
    "tags": []
   },
   "outputs": [
    {
     "data": {
      "application/javascript": [
       "parent.postMessage({\"jupyterEvent\": \"custom.exercise_interaction\", \"data\": {\"interactionType\": 3, \"questionType\": 4, \"questionId\": \"4_RawActualsInsteadOfPDP\", \"learnToolsVersion\": \"0.3.4\", \"valueTowardsCompletion\": 0.0, \"failureMessage\": \"\", \"exceptionClass\": \"\", \"trace\": \"\", \"outcomeType\": 4}}, \"*\")"
      ],
      "text/plain": [
       "<IPython.core.display.Javascript object>"
      ]
     },
     "metadata": {},
     "output_type": "display_data"
    },
    {
     "data": {
      "text/markdown": [
       "<span style=\"color:#33cc99\">Solution:</span> \n",
       "```python\n",
       "\n",
       "# A simple pandas groupby showing the average readmission rate for each time_in_hospital.\n",
       "\n",
       "# Do concat to keep validation data separate, rather than using all original data\n",
       "all_train = pd.concat([train_X, train_y], axis=1)\n",
       "\n",
       "all_train.groupby(['time_in_hospital']).mean().readmitted.plot()\n",
       "plt.show()\n",
       "\n",
       "```"
      ],
      "text/plain": [
       "Solution: \n",
       "```python\n",
       "\n",
       "# A simple pandas groupby showing the average readmission rate for each time_in_hospital.\n",
       "\n",
       "# Do concat to keep validation data separate, rather than using all original data\n",
       "all_train = pd.concat([train_X, train_y], axis=1)\n",
       "\n",
       "all_train.groupby(['time_in_hospital']).mean().readmitted.plot()\n",
       "plt.show()\n",
       "\n",
       "```"
      ]
     },
     "metadata": {},
     "output_type": "display_data"
    }
   ],
   "source": [
    "# Check your answer (Run this code cell to receive credit!)\n",
    "q_4.solution()"
   ]
  },
  {
   "cell_type": "markdown",
   "id": "44e122ae",
   "metadata": {
    "papermill": {
     "duration": 0.013353,
     "end_time": "2023-05-11T10:03:00.110251",
     "exception": false,
     "start_time": "2023-05-11T10:03:00.096898",
     "status": "completed"
    },
    "tags": []
   },
   "source": [
    "## Step 5\n",
    "Now the doctors are convinced you have the right data, and the model overview looked reasonable.  It's time to turn this into a finished product they can use. Specifically, the hospital wants you to create a function `patient_risk_factors` that does the following\n",
    "- Takes a single row with patient data (of the same format you as your raw data)\n",
    "- Creates a visualization showing what features of that patient increased their risk of readmission, what features decreased it, and how much those features mattered.\n",
    "\n",
    "It's not important to show every feature with every miniscule impact on the readmission risk.  It's fine to focus on only the most important features for that patient."
   ]
  },
  {
   "cell_type": "code",
   "execution_count": 13,
   "id": "75b4ed77",
   "metadata": {
    "execution": {
     "iopub.execute_input": "2023-05-11T10:03:00.140050Z",
     "iopub.status.busy": "2023-05-11T10:03:00.139351Z",
     "iopub.status.idle": "2023-05-11T10:03:06.735947Z",
     "shell.execute_reply": "2023-05-11T10:03:06.734794Z"
    },
    "papermill": {
     "duration": 6.614553,
     "end_time": "2023-05-11T10:03:06.738698",
     "exception": false,
     "start_time": "2023-05-11T10:03:00.124145",
     "status": "completed"
    },
    "tags": []
   },
   "outputs": [],
   "source": [
    "# Your Code Here\n",
    "import shap  # package used to calculate Shap values\n",
    "\n",
    "sample_data_for_prediction = val_X.iloc[0].astype(float)  # to test function\n",
    "\n",
    "def patient_risk_factors(model, patient_data):\n",
    "    # Create object that can calculate shap values\n",
    "    explainer = shap.TreeExplainer(model)\n",
    "    shap_values = explainer.shap_values(patient_data)\n",
    "    shap.initjs()\n",
    "    return shap.force_plot(explainer.expected_value[1], shap_values[1], patient_data)"
   ]
  },
  {
   "cell_type": "markdown",
   "id": "dae4324c",
   "metadata": {
    "papermill": {
     "duration": 0.013485,
     "end_time": "2023-05-11T10:03:06.766187",
     "exception": false,
     "start_time": "2023-05-11T10:03:06.752702",
     "status": "completed"
    },
    "tags": []
   },
   "source": [
    "For a hint, uncomment the line below."
   ]
  },
  {
   "cell_type": "code",
   "execution_count": 14,
   "id": "9f98469d",
   "metadata": {
    "execution": {
     "iopub.execute_input": "2023-05-11T10:03:06.796443Z",
     "iopub.status.busy": "2023-05-11T10:03:06.795473Z",
     "iopub.status.idle": "2023-05-11T10:03:06.801373Z",
     "shell.execute_reply": "2023-05-11T10:03:06.799844Z"
    },
    "papermill": {
     "duration": 0.023393,
     "end_time": "2023-05-11T10:03:06.803879",
     "exception": false,
     "start_time": "2023-05-11T10:03:06.780486",
     "status": "completed"
    },
    "tags": []
   },
   "outputs": [],
   "source": [
    "# q_5.hint()"
   ]
  },
  {
   "cell_type": "code",
   "execution_count": 15,
   "id": "befbf490",
   "metadata": {
    "execution": {
     "iopub.execute_input": "2023-05-11T10:03:06.834141Z",
     "iopub.status.busy": "2023-05-11T10:03:06.833741Z",
     "iopub.status.idle": "2023-05-11T10:03:06.841828Z",
     "shell.execute_reply": "2023-05-11T10:03:06.841036Z"
    },
    "papermill": {
     "duration": 0.025696,
     "end_time": "2023-05-11T10:03:06.843996",
     "exception": false,
     "start_time": "2023-05-11T10:03:06.818300",
     "status": "completed"
    },
    "tags": []
   },
   "outputs": [
    {
     "data": {
      "application/javascript": [
       "parent.postMessage({\"jupyterEvent\": \"custom.exercise_interaction\", \"data\": {\"interactionType\": 3, \"questionType\": 4, \"questionId\": \"5_UseShap\", \"learnToolsVersion\": \"0.3.4\", \"valueTowardsCompletion\": 0.0, \"failureMessage\": \"\", \"exceptionClass\": \"\", \"trace\": \"\", \"outcomeType\": 4}}, \"*\")"
      ],
      "text/plain": [
       "<IPython.core.display.Javascript object>"
      ]
     },
     "metadata": {},
     "output_type": "display_data"
    },
    {
     "data": {
      "text/markdown": [
       "<span style=\"color:#33cc99\">Solution:</span> \n",
       "```python\n",
       "\n",
       "# Use SHAP values to show the effect of each feature of a given patient\n",
       "\n",
       "import shap  # package used to calculate Shap values\n",
       "\n",
       "sample_data_for_prediction = val_X.iloc[0].astype(float)  # to test function\n",
       "\n",
       "def patient_risk_factors(model, patient_data):\n",
       "    # Create object that can calculate shap values\n",
       "    explainer = shap.TreeExplainer(model)\n",
       "    shap_values = explainer.shap_values(patient_data)\n",
       "    shap.initjs()\n",
       "    return shap.force_plot(explainer.expected_value[1], shap_values[1], patient_data)\n",
       "\n",
       "\n",
       "```"
      ],
      "text/plain": [
       "Solution: \n",
       "```python\n",
       "\n",
       "# Use SHAP values to show the effect of each feature of a given patient\n",
       "\n",
       "import shap  # package used to calculate Shap values\n",
       "\n",
       "sample_data_for_prediction = val_X.iloc[0].astype(float)  # to test function\n",
       "\n",
       "def patient_risk_factors(model, patient_data):\n",
       "    # Create object that can calculate shap values\n",
       "    explainer = shap.TreeExplainer(model)\n",
       "    shap_values = explainer.shap_values(patient_data)\n",
       "    shap.initjs()\n",
       "    return shap.force_plot(explainer.expected_value[1], shap_values[1], patient_data)\n",
       "\n",
       "\n",
       "```"
      ]
     },
     "metadata": {},
     "output_type": "display_data"
    }
   ],
   "source": [
    "# Check your answer (Run this code cell to receive credit!)\n",
    "q_5.solution()"
   ]
  },
  {
   "cell_type": "markdown",
   "id": "3d4f7247",
   "metadata": {
    "papermill": {
     "duration": 0.014429,
     "end_time": "2023-05-11T10:03:06.873093",
     "exception": false,
     "start_time": "2023-05-11T10:03:06.858664",
     "status": "completed"
    },
    "tags": []
   },
   "source": [
    "## Keep Going\n",
    "You have some powerful tools to get insights about both models and individual predictions. Next you will look at **[aggregations of SHAP values](https://www.kaggle.com/dansbecker/advanced-uses-of-shap-values)** to link the model-level and prediction-level insights.\n"
   ]
  },
  {
   "cell_type": "markdown",
   "id": "6a737acf",
   "metadata": {
    "papermill": {
     "duration": 0.013834,
     "end_time": "2023-05-11T10:03:06.901342",
     "exception": false,
     "start_time": "2023-05-11T10:03:06.887508",
     "status": "completed"
    },
    "tags": []
   },
   "source": [
    "---\n",
    "\n",
    "\n",
    "\n",
    "\n",
    "*Have questions or comments? Visit the [course discussion forum](https://www.kaggle.com/learn/machine-learning-explainability/discussion) to chat with other learners.*"
   ]
  }
 ],
 "metadata": {
  "kernelspec": {
   "display_name": "Python 3",
   "language": "python",
   "name": "python3"
  },
  "language_info": {
   "codemirror_mode": {
    "name": "ipython",
    "version": 3
   },
   "file_extension": ".py",
   "mimetype": "text/x-python",
   "name": "python",
   "nbconvert_exporter": "python",
   "pygments_lexer": "ipython3",
   "version": "3.10.10"
  },
  "papermill": {
   "default_parameters": {},
   "duration": 87.818378,
   "end_time": "2023-05-11T10:03:10.286079",
   "environment_variables": {},
   "exception": null,
   "input_path": "__notebook__.ipynb",
   "output_path": "__notebook__.ipynb",
   "parameters": {},
   "start_time": "2023-05-11T10:01:42.467701",
   "version": "2.4.0"
  }
 },
 "nbformat": 4,
 "nbformat_minor": 5
}
