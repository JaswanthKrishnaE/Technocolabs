{
 "cells": [
  {
   "cell_type": "markdown",
   "id": "2b0b7d17",
   "metadata": {
    "papermill": {
     "duration": 0.008869,
     "end_time": "2023-05-09T15:04:05.001176",
     "exception": false,
     "start_time": "2023-05-09T15:04:04.992307",
     "status": "completed"
    },
    "tags": []
   },
   "source": [
    "**This notebook is an exercise in the [Intermediate Machine Learning](https://www.kaggle.com/learn/intermediate-machine-learning) course.  You can reference the tutorial at [this link](https://www.kaggle.com/alexisbcook/missing-values).**\n",
    "\n",
    "---\n"
   ]
  },
  {
   "cell_type": "markdown",
   "id": "dcb59e67",
   "metadata": {
    "papermill": {
     "duration": 0.008053,
     "end_time": "2023-05-09T15:04:05.017539",
     "exception": false,
     "start_time": "2023-05-09T15:04:05.009486",
     "status": "completed"
    },
    "tags": []
   },
   "source": [
    "Now it's your turn to test your new knowledge of **missing values** handling. You'll probably find it makes a big difference.\n",
    "\n",
    "# Setup\n",
    "\n",
    "The questions will give you feedback on your work. Run the following cell to set up the feedback system."
   ]
  },
  {
   "cell_type": "code",
   "execution_count": 1,
   "id": "0b5f555c",
   "metadata": {
    "execution": {
     "iopub.execute_input": "2023-05-09T15:04:05.036573Z",
     "iopub.status.busy": "2023-05-09T15:04:05.035855Z",
     "iopub.status.idle": "2023-05-09T15:04:05.091903Z",
     "shell.execute_reply": "2023-05-09T15:04:05.090186Z"
    },
    "papermill": {
     "duration": 0.068613,
     "end_time": "2023-05-09T15:04:05.094459",
     "exception": false,
     "start_time": "2023-05-09T15:04:05.025846",
     "status": "completed"
    },
    "tags": []
   },
   "outputs": [
    {
     "name": "stdout",
     "output_type": "stream",
     "text": [
      "Setup Complete\n"
     ]
    }
   ],
   "source": [
    "# Set up code checking\n",
    "import os\n",
    "if not os.path.exists(\"../input/train.csv\"):\n",
    "    os.symlink(\"../input/home-data-for-ml-course/train.csv\", \"../input/train.csv\")  \n",
    "    os.symlink(\"../input/home-data-for-ml-course/test.csv\", \"../input/test.csv\") \n",
    "from learntools.core import binder\n",
    "binder.bind(globals())\n",
    "from learntools.ml_intermediate.ex2 import *\n",
    "print(\"Setup Complete\")"
   ]
  },
  {
   "cell_type": "markdown",
   "id": "94aa6c5c",
   "metadata": {
    "papermill": {
     "duration": 0.007922,
     "end_time": "2023-05-09T15:04:05.110903",
     "exception": false,
     "start_time": "2023-05-09T15:04:05.102981",
     "status": "completed"
    },
    "tags": []
   },
   "source": [
    "In this exercise, you will work with data from the [Housing Prices Competition for Kaggle Learn Users](https://www.kaggle.com/c/home-data-for-ml-course). \n",
    "\n",
    "![Ames Housing dataset image](https://storage.googleapis.com/kaggle-media/learn/images/lTJVG4e.png)\n",
    "\n",
    "Run the next code cell without changes to load the training and validation sets in `X_train`, `X_valid`, `y_train`, and `y_valid`.  The test set is loaded in `X_test`."
   ]
  },
  {
   "cell_type": "code",
   "execution_count": 2,
   "id": "b672fcf5",
   "metadata": {
    "execution": {
     "iopub.execute_input": "2023-05-09T15:04:05.130445Z",
     "iopub.status.busy": "2023-05-09T15:04:05.130005Z",
     "iopub.status.idle": "2023-05-09T15:04:06.578856Z",
     "shell.execute_reply": "2023-05-09T15:04:06.577530Z"
    },
    "papermill": {
     "duration": 1.462246,
     "end_time": "2023-05-09T15:04:06.581451",
     "exception": false,
     "start_time": "2023-05-09T15:04:05.119205",
     "status": "completed"
    },
    "tags": []
   },
   "outputs": [
    {
     "name": "stderr",
     "output_type": "stream",
     "text": [
      "/opt/conda/lib/python3.10/site-packages/scipy/__init__.py:146: UserWarning: A NumPy version >=1.16.5 and <1.23.0 is required for this version of SciPy (detected version 1.23.5\n",
      "  warnings.warn(f\"A NumPy version >={np_minversion} and <{np_maxversion}\"\n"
     ]
    }
   ],
   "source": [
    "import pandas as pd\n",
    "from sklearn.model_selection import train_test_split\n",
    "\n",
    "# Read the data\n",
    "X_full = pd.read_csv('../input/train.csv', index_col='Id')\n",
    "X_test_full = pd.read_csv('../input/test.csv', index_col='Id')\n",
    "\n",
    "# Remove rows with missing target, separate target from predictors\n",
    "X_full.dropna(axis=0, subset=['SalePrice'], inplace=True)\n",
    "y = X_full.SalePrice\n",
    "X_full.drop(['SalePrice'], axis=1, inplace=True)\n",
    "\n",
    "# To keep things simple, we'll use only numerical predictors\n",
    "X = X_full.select_dtypes(exclude=['object'])\n",
    "X_test = X_test_full.select_dtypes(exclude=['object'])\n",
    "\n",
    "# Break off validation set from training data\n",
    "X_train, X_valid, y_train, y_valid = train_test_split(X, y, train_size=0.8, test_size=0.2,\n",
    "                                                      random_state=0)"
   ]
  },
  {
   "cell_type": "markdown",
   "id": "65c62395",
   "metadata": {
    "papermill": {
     "duration": 0.008001,
     "end_time": "2023-05-09T15:04:06.598173",
     "exception": false,
     "start_time": "2023-05-09T15:04:06.590172",
     "status": "completed"
    },
    "tags": []
   },
   "source": [
    "Use the next code cell to print the first five rows of the data."
   ]
  },
  {
   "cell_type": "code",
   "execution_count": 3,
   "id": "67e3c2da",
   "metadata": {
    "execution": {
     "iopub.execute_input": "2023-05-09T15:04:06.617622Z",
     "iopub.status.busy": "2023-05-09T15:04:06.616279Z",
     "iopub.status.idle": "2023-05-09T15:04:06.651403Z",
     "shell.execute_reply": "2023-05-09T15:04:06.650196Z"
    },
    "papermill": {
     "duration": 0.047804,
     "end_time": "2023-05-09T15:04:06.654279",
     "exception": false,
     "start_time": "2023-05-09T15:04:06.606475",
     "status": "completed"
    },
    "tags": []
   },
   "outputs": [
    {
     "data": {
      "text/html": [
       "<div>\n",
       "<style scoped>\n",
       "    .dataframe tbody tr th:only-of-type {\n",
       "        vertical-align: middle;\n",
       "    }\n",
       "\n",
       "    .dataframe tbody tr th {\n",
       "        vertical-align: top;\n",
       "    }\n",
       "\n",
       "    .dataframe thead th {\n",
       "        text-align: right;\n",
       "    }\n",
       "</style>\n",
       "<table border=\"1\" class=\"dataframe\">\n",
       "  <thead>\n",
       "    <tr style=\"text-align: right;\">\n",
       "      <th></th>\n",
       "      <th>MSSubClass</th>\n",
       "      <th>LotFrontage</th>\n",
       "      <th>LotArea</th>\n",
       "      <th>OverallQual</th>\n",
       "      <th>OverallCond</th>\n",
       "      <th>YearBuilt</th>\n",
       "      <th>YearRemodAdd</th>\n",
       "      <th>MasVnrArea</th>\n",
       "      <th>BsmtFinSF1</th>\n",
       "      <th>BsmtFinSF2</th>\n",
       "      <th>...</th>\n",
       "      <th>GarageArea</th>\n",
       "      <th>WoodDeckSF</th>\n",
       "      <th>OpenPorchSF</th>\n",
       "      <th>EnclosedPorch</th>\n",
       "      <th>3SsnPorch</th>\n",
       "      <th>ScreenPorch</th>\n",
       "      <th>PoolArea</th>\n",
       "      <th>MiscVal</th>\n",
       "      <th>MoSold</th>\n",
       "      <th>YrSold</th>\n",
       "    </tr>\n",
       "    <tr>\n",
       "      <th>Id</th>\n",
       "      <th></th>\n",
       "      <th></th>\n",
       "      <th></th>\n",
       "      <th></th>\n",
       "      <th></th>\n",
       "      <th></th>\n",
       "      <th></th>\n",
       "      <th></th>\n",
       "      <th></th>\n",
       "      <th></th>\n",
       "      <th></th>\n",
       "      <th></th>\n",
       "      <th></th>\n",
       "      <th></th>\n",
       "      <th></th>\n",
       "      <th></th>\n",
       "      <th></th>\n",
       "      <th></th>\n",
       "      <th></th>\n",
       "      <th></th>\n",
       "      <th></th>\n",
       "    </tr>\n",
       "  </thead>\n",
       "  <tbody>\n",
       "    <tr>\n",
       "      <th>619</th>\n",
       "      <td>20</td>\n",
       "      <td>90.0</td>\n",
       "      <td>11694</td>\n",
       "      <td>9</td>\n",
       "      <td>5</td>\n",
       "      <td>2007</td>\n",
       "      <td>2007</td>\n",
       "      <td>452.0</td>\n",
       "      <td>48</td>\n",
       "      <td>0</td>\n",
       "      <td>...</td>\n",
       "      <td>774</td>\n",
       "      <td>0</td>\n",
       "      <td>108</td>\n",
       "      <td>0</td>\n",
       "      <td>0</td>\n",
       "      <td>260</td>\n",
       "      <td>0</td>\n",
       "      <td>0</td>\n",
       "      <td>7</td>\n",
       "      <td>2007</td>\n",
       "    </tr>\n",
       "    <tr>\n",
       "      <th>871</th>\n",
       "      <td>20</td>\n",
       "      <td>60.0</td>\n",
       "      <td>6600</td>\n",
       "      <td>5</td>\n",
       "      <td>5</td>\n",
       "      <td>1962</td>\n",
       "      <td>1962</td>\n",
       "      <td>0.0</td>\n",
       "      <td>0</td>\n",
       "      <td>0</td>\n",
       "      <td>...</td>\n",
       "      <td>308</td>\n",
       "      <td>0</td>\n",
       "      <td>0</td>\n",
       "      <td>0</td>\n",
       "      <td>0</td>\n",
       "      <td>0</td>\n",
       "      <td>0</td>\n",
       "      <td>0</td>\n",
       "      <td>8</td>\n",
       "      <td>2009</td>\n",
       "    </tr>\n",
       "    <tr>\n",
       "      <th>93</th>\n",
       "      <td>30</td>\n",
       "      <td>80.0</td>\n",
       "      <td>13360</td>\n",
       "      <td>5</td>\n",
       "      <td>7</td>\n",
       "      <td>1921</td>\n",
       "      <td>2006</td>\n",
       "      <td>0.0</td>\n",
       "      <td>713</td>\n",
       "      <td>0</td>\n",
       "      <td>...</td>\n",
       "      <td>432</td>\n",
       "      <td>0</td>\n",
       "      <td>0</td>\n",
       "      <td>44</td>\n",
       "      <td>0</td>\n",
       "      <td>0</td>\n",
       "      <td>0</td>\n",
       "      <td>0</td>\n",
       "      <td>8</td>\n",
       "      <td>2009</td>\n",
       "    </tr>\n",
       "    <tr>\n",
       "      <th>818</th>\n",
       "      <td>20</td>\n",
       "      <td>NaN</td>\n",
       "      <td>13265</td>\n",
       "      <td>8</td>\n",
       "      <td>5</td>\n",
       "      <td>2002</td>\n",
       "      <td>2002</td>\n",
       "      <td>148.0</td>\n",
       "      <td>1218</td>\n",
       "      <td>0</td>\n",
       "      <td>...</td>\n",
       "      <td>857</td>\n",
       "      <td>150</td>\n",
       "      <td>59</td>\n",
       "      <td>0</td>\n",
       "      <td>0</td>\n",
       "      <td>0</td>\n",
       "      <td>0</td>\n",
       "      <td>0</td>\n",
       "      <td>7</td>\n",
       "      <td>2008</td>\n",
       "    </tr>\n",
       "    <tr>\n",
       "      <th>303</th>\n",
       "      <td>20</td>\n",
       "      <td>118.0</td>\n",
       "      <td>13704</td>\n",
       "      <td>7</td>\n",
       "      <td>5</td>\n",
       "      <td>2001</td>\n",
       "      <td>2002</td>\n",
       "      <td>150.0</td>\n",
       "      <td>0</td>\n",
       "      <td>0</td>\n",
       "      <td>...</td>\n",
       "      <td>843</td>\n",
       "      <td>468</td>\n",
       "      <td>81</td>\n",
       "      <td>0</td>\n",
       "      <td>0</td>\n",
       "      <td>0</td>\n",
       "      <td>0</td>\n",
       "      <td>0</td>\n",
       "      <td>1</td>\n",
       "      <td>2006</td>\n",
       "    </tr>\n",
       "  </tbody>\n",
       "</table>\n",
       "<p>5 rows × 36 columns</p>\n",
       "</div>"
      ],
      "text/plain": [
       "     MSSubClass  LotFrontage  LotArea  OverallQual  OverallCond  YearBuilt  \\\n",
       "Id                                                                           \n",
       "619          20         90.0    11694            9            5       2007   \n",
       "871          20         60.0     6600            5            5       1962   \n",
       "93           30         80.0    13360            5            7       1921   \n",
       "818          20          NaN    13265            8            5       2002   \n",
       "303          20        118.0    13704            7            5       2001   \n",
       "\n",
       "     YearRemodAdd  MasVnrArea  BsmtFinSF1  BsmtFinSF2  ...  GarageArea  \\\n",
       "Id                                                     ...               \n",
       "619          2007       452.0          48           0  ...         774   \n",
       "871          1962         0.0           0           0  ...         308   \n",
       "93           2006         0.0         713           0  ...         432   \n",
       "818          2002       148.0        1218           0  ...         857   \n",
       "303          2002       150.0           0           0  ...         843   \n",
       "\n",
       "     WoodDeckSF  OpenPorchSF  EnclosedPorch  3SsnPorch  ScreenPorch  PoolArea  \\\n",
       "Id                                                                              \n",
       "619           0          108              0          0          260         0   \n",
       "871           0            0              0          0            0         0   \n",
       "93            0            0             44          0            0         0   \n",
       "818         150           59              0          0            0         0   \n",
       "303         468           81              0          0            0         0   \n",
       "\n",
       "     MiscVal  MoSold  YrSold  \n",
       "Id                            \n",
       "619        0       7    2007  \n",
       "871        0       8    2009  \n",
       "93         0       8    2009  \n",
       "818        0       7    2008  \n",
       "303        0       1    2006  \n",
       "\n",
       "[5 rows x 36 columns]"
      ]
     },
     "execution_count": 3,
     "metadata": {},
     "output_type": "execute_result"
    }
   ],
   "source": [
    "X_train.head()"
   ]
  },
  {
   "cell_type": "markdown",
   "id": "b67a3278",
   "metadata": {
    "papermill": {
     "duration": 0.008491,
     "end_time": "2023-05-09T15:04:06.671417",
     "exception": false,
     "start_time": "2023-05-09T15:04:06.662926",
     "status": "completed"
    },
    "tags": []
   },
   "source": [
    "You can already see a few missing values in the first several rows.  In the next step, you'll obtain a more comprehensive understanding of the missing values in the dataset.\n",
    "\n",
    "# Step 1: Preliminary investigation\n",
    "\n",
    "Run the code cell below without changes."
   ]
  },
  {
   "cell_type": "code",
   "execution_count": 4,
   "id": "0b642107",
   "metadata": {
    "execution": {
     "iopub.execute_input": "2023-05-09T15:04:06.692552Z",
     "iopub.status.busy": "2023-05-09T15:04:06.691101Z",
     "iopub.status.idle": "2023-05-09T15:04:06.700634Z",
     "shell.execute_reply": "2023-05-09T15:04:06.699242Z"
    },
    "papermill": {
     "duration": 0.022026,
     "end_time": "2023-05-09T15:04:06.702732",
     "exception": false,
     "start_time": "2023-05-09T15:04:06.680706",
     "status": "completed"
    },
    "tags": []
   },
   "outputs": [
    {
     "name": "stdout",
     "output_type": "stream",
     "text": [
      "(1168, 36)\n",
      "276\n"
     ]
    }
   ],
   "source": [
    "# Shape of training data (num_rows, num_columns)\n",
    "print(X_train.shape)\n",
    "\n",
    "# Number of missing values in each column of training data\n",
    "missing_val_count_by_column = (X_train.isnull().sum())\n",
    "print(missing_val_count_by_column[missing_val_count_by_column > 0].sum())"
   ]
  },
  {
   "cell_type": "markdown",
   "id": "a63d9116",
   "metadata": {
    "papermill": {
     "duration": 0.008355,
     "end_time": "2023-05-09T15:04:06.719849",
     "exception": false,
     "start_time": "2023-05-09T15:04:06.711494",
     "status": "completed"
    },
    "tags": []
   },
   "source": [
    "### Part A\n",
    "\n",
    "Use the above output to answer the questions below."
   ]
  },
  {
   "cell_type": "code",
   "execution_count": 5,
   "id": "97c41c14",
   "metadata": {
    "execution": {
     "iopub.execute_input": "2023-05-09T15:04:06.740215Z",
     "iopub.status.busy": "2023-05-09T15:04:06.738815Z",
     "iopub.status.idle": "2023-05-09T15:04:06.752032Z",
     "shell.execute_reply": "2023-05-09T15:04:06.751099Z"
    },
    "papermill": {
     "duration": 0.025215,
     "end_time": "2023-05-09T15:04:06.753982",
     "exception": false,
     "start_time": "2023-05-09T15:04:06.728767",
     "status": "completed"
    },
    "tags": []
   },
   "outputs": [
    {
     "name": "stdout",
     "output_type": "stream",
     "text": [
      "1168\n"
     ]
    },
    {
     "data": {
      "application/javascript": [
       "parent.postMessage({\"jupyterEvent\": \"custom.exercise_interaction\", \"data\": {\"outcomeType\": 1, \"valueTowardsCompletion\": 1.0, \"interactionType\": 1, \"questionType\": 1, \"questionId\": \"1.1_InvestigateEquality\", \"learnToolsVersion\": \"0.3.4\", \"failureMessage\": \"\", \"exceptionClass\": \"\", \"trace\": \"\"}}, \"*\")"
      ],
      "text/plain": [
       "<IPython.core.display.Javascript object>"
      ]
     },
     "metadata": {},
     "output_type": "display_data"
    },
    {
     "data": {
      "text/markdown": [
       "<span style=\"color:#33cc33\">Correct</span>"
      ],
      "text/plain": [
       "Correct"
      ]
     },
     "metadata": {},
     "output_type": "display_data"
    }
   ],
   "source": [
    "# Fill in the line below: How many rows are in the training data?\n",
    "num_rows = X_train.shape[0]\n",
    "print(num_rows)\n",
    "# Fill in the line below: How many columns in the training data\n",
    "# have missing values?\n",
    "num_cols_with_missing = missing_val_count_by_column[missing_val_count_by_column > 0].count()\n",
    "\n",
    "# Fill in the line below: How many missing entries are contained in \n",
    "# all of the training data?\n",
    "tot_missing = missing_val_count_by_column[missing_val_count_by_column > 0].sum()\n",
    "\n",
    "# Check your answers\n",
    "step_1.a.check()"
   ]
  },
  {
   "cell_type": "code",
   "execution_count": 6,
   "id": "f20ae959",
   "metadata": {
    "execution": {
     "iopub.execute_input": "2023-05-09T15:04:06.774397Z",
     "iopub.status.busy": "2023-05-09T15:04:06.773358Z",
     "iopub.status.idle": "2023-05-09T15:04:06.778596Z",
     "shell.execute_reply": "2023-05-09T15:04:06.777875Z"
    },
    "papermill": {
     "duration": 0.017702,
     "end_time": "2023-05-09T15:04:06.780616",
     "exception": false,
     "start_time": "2023-05-09T15:04:06.762914",
     "status": "completed"
    },
    "tags": []
   },
   "outputs": [],
   "source": [
    "# Lines below will give you a hint or solution code\n",
    "#step_1.a.hint()\n",
    "# step_1.a.solution()"
   ]
  },
  {
   "cell_type": "markdown",
   "id": "6ceaa0de",
   "metadata": {
    "papermill": {
     "duration": 0.009566,
     "end_time": "2023-05-09T15:04:06.799498",
     "exception": false,
     "start_time": "2023-05-09T15:04:06.789932",
     "status": "completed"
    },
    "tags": []
   },
   "source": [
    "### Part B\n",
    "Considering your answers above, what do you think is likely the best approach to dealing with the missing values?"
   ]
  },
  {
   "cell_type": "code",
   "execution_count": 7,
   "id": "723f6e94",
   "metadata": {
    "execution": {
     "iopub.execute_input": "2023-05-09T15:04:06.819982Z",
     "iopub.status.busy": "2023-05-09T15:04:06.819363Z",
     "iopub.status.idle": "2023-05-09T15:04:06.827566Z",
     "shell.execute_reply": "2023-05-09T15:04:06.826534Z"
    },
    "papermill": {
     "duration": 0.021132,
     "end_time": "2023-05-09T15:04:06.829808",
     "exception": false,
     "start_time": "2023-05-09T15:04:06.808676",
     "status": "completed"
    },
    "tags": []
   },
   "outputs": [
    {
     "data": {
      "application/javascript": [
       "parent.postMessage({\"jupyterEvent\": \"custom.exercise_interaction\", \"data\": {\"outcomeType\": 1, \"valueTowardsCompletion\": 1.0, \"interactionType\": 1, \"questionType\": 4, \"questionId\": \"1.2_InvestigateThought\", \"learnToolsVersion\": \"0.3.4\", \"failureMessage\": \"\", \"exceptionClass\": \"\", \"trace\": \"\"}}, \"*\")"
      ],
      "text/plain": [
       "<IPython.core.display.Javascript object>"
      ]
     },
     "metadata": {},
     "output_type": "display_data"
    },
    {
     "data": {
      "text/markdown": [
       "<span style=\"color:#33cc33\">Correct:</span> \n",
       "\n",
       "Since there are relatively few missing entries in the data (the column with the greatest percentage of missing values is missing less than 20% of its entries), we can expect that dropping columns is unlikely to yield good results.  This is because we'd be throwing away a lot of valuable data, and so imputation will likely perform better."
      ],
      "text/plain": [
       "Correct: \n",
       "\n",
       "Since there are relatively few missing entries in the data (the column with the greatest percentage of missing values is missing less than 20% of its entries), we can expect that dropping columns is unlikely to yield good results.  This is because we'd be throwing away a lot of valuable data, and so imputation will likely perform better."
      ]
     },
     "metadata": {},
     "output_type": "display_data"
    }
   ],
   "source": [
    "# Check your answer (Run this code cell to receive credit!)\n",
    "step_1.b.check()"
   ]
  },
  {
   "cell_type": "code",
   "execution_count": 8,
   "id": "4602ca87",
   "metadata": {
    "execution": {
     "iopub.execute_input": "2023-05-09T15:04:06.850472Z",
     "iopub.status.busy": "2023-05-09T15:04:06.850063Z",
     "iopub.status.idle": "2023-05-09T15:04:06.855229Z",
     "shell.execute_reply": "2023-05-09T15:04:06.853856Z"
    },
    "papermill": {
     "duration": 0.018178,
     "end_time": "2023-05-09T15:04:06.857586",
     "exception": false,
     "start_time": "2023-05-09T15:04:06.839408",
     "status": "completed"
    },
    "tags": []
   },
   "outputs": [],
   "source": [
    "#step_1.b.hint()"
   ]
  },
  {
   "cell_type": "markdown",
   "id": "ed4baee7",
   "metadata": {
    "papermill": {
     "duration": 0.009031,
     "end_time": "2023-05-09T15:04:06.876124",
     "exception": false,
     "start_time": "2023-05-09T15:04:06.867093",
     "status": "completed"
    },
    "tags": []
   },
   "source": [
    "To compare different approaches to dealing with missing values, you'll use the same `score_dataset()` function from the tutorial.  This function reports the [mean absolute error](https://en.wikipedia.org/wiki/Mean_absolute_error) (MAE) from a random forest model."
   ]
  },
  {
   "cell_type": "code",
   "execution_count": 9,
   "id": "e9bff8aa",
   "metadata": {
    "execution": {
     "iopub.execute_input": "2023-05-09T15:04:06.896990Z",
     "iopub.status.busy": "2023-05-09T15:04:06.896170Z",
     "iopub.status.idle": "2023-05-09T15:04:07.306500Z",
     "shell.execute_reply": "2023-05-09T15:04:07.305389Z"
    },
    "papermill": {
     "duration": 0.424236,
     "end_time": "2023-05-09T15:04:07.309604",
     "exception": false,
     "start_time": "2023-05-09T15:04:06.885368",
     "status": "completed"
    },
    "tags": []
   },
   "outputs": [],
   "source": [
    "from sklearn.ensemble import RandomForestRegressor\n",
    "from sklearn.metrics import mean_absolute_error\n",
    "\n",
    "# Function for comparing different approaches\n",
    "def score_dataset(X_train, X_valid, y_train, y_valid):\n",
    "    model = RandomForestRegressor(n_estimators=100, random_state=0)\n",
    "    model.fit(X_train, y_train)\n",
    "    preds = model.predict(X_valid)\n",
    "    return mean_absolute_error(y_valid, preds)"
   ]
  },
  {
   "cell_type": "markdown",
   "id": "e4951c57",
   "metadata": {
    "papermill": {
     "duration": 0.009399,
     "end_time": "2023-05-09T15:04:07.328790",
     "exception": false,
     "start_time": "2023-05-09T15:04:07.319391",
     "status": "completed"
    },
    "tags": []
   },
   "source": [
    "# Step 2: Drop columns with missing values\n",
    "\n",
    "In this step, you'll preprocess the data in `X_train` and `X_valid` to remove columns with missing values.  Set the preprocessed DataFrames to `reduced_X_train` and `reduced_X_valid`, respectively.  "
   ]
  },
  {
   "cell_type": "code",
   "execution_count": 10,
   "id": "cd58ca80",
   "metadata": {
    "execution": {
     "iopub.execute_input": "2023-05-09T15:04:07.351033Z",
     "iopub.status.busy": "2023-05-09T15:04:07.349914Z",
     "iopub.status.idle": "2023-05-09T15:04:07.373852Z",
     "shell.execute_reply": "2023-05-09T15:04:07.373086Z"
    },
    "papermill": {
     "duration": 0.036883,
     "end_time": "2023-05-09T15:04:07.375975",
     "exception": false,
     "start_time": "2023-05-09T15:04:07.339092",
     "status": "completed"
    },
    "tags": []
   },
   "outputs": [
    {
     "data": {
      "application/javascript": [
       "parent.postMessage({\"jupyterEvent\": \"custom.exercise_interaction\", \"data\": {\"outcomeType\": 1, \"valueTowardsCompletion\": 1.0, \"interactionType\": 1, \"questionType\": 2, \"questionId\": \"2_DropMissing\", \"learnToolsVersion\": \"0.3.4\", \"failureMessage\": \"\", \"exceptionClass\": \"\", \"trace\": \"\"}}, \"*\")"
      ],
      "text/plain": [
       "<IPython.core.display.Javascript object>"
      ]
     },
     "metadata": {},
     "output_type": "display_data"
    },
    {
     "data": {
      "text/markdown": [
       "<span style=\"color:#33cc33\">Correct</span>"
      ],
      "text/plain": [
       "Correct"
      ]
     },
     "metadata": {},
     "output_type": "display_data"
    }
   ],
   "source": [
    "# Fill in the line below: get names of columns with missing values\n",
    "____ # Your code here\n",
    "\n",
    "# Fill in the lines below: drop columns in training and validation data\n",
    "reduced_X_train = X_train.dropna(axis='columns')\n",
    "reduced_X_valid = X_valid.dropna(axis='columns')\n",
    "\n",
    "# Check your answers\n",
    "step_2.check()"
   ]
  },
  {
   "cell_type": "code",
   "execution_count": 11,
   "id": "47779969",
   "metadata": {
    "execution": {
     "iopub.execute_input": "2023-05-09T15:04:07.399103Z",
     "iopub.status.busy": "2023-05-09T15:04:07.398339Z",
     "iopub.status.idle": "2023-05-09T15:04:07.406396Z",
     "shell.execute_reply": "2023-05-09T15:04:07.405344Z"
    },
    "papermill": {
     "duration": 0.022313,
     "end_time": "2023-05-09T15:04:07.408489",
     "exception": false,
     "start_time": "2023-05-09T15:04:07.386176",
     "status": "completed"
    },
    "tags": []
   },
   "outputs": [
    {
     "data": {
      "application/javascript": [
       "parent.postMessage({\"jupyterEvent\": \"custom.exercise_interaction\", \"data\": {\"interactionType\": 3, \"questionType\": 2, \"questionId\": \"2_DropMissing\", \"learnToolsVersion\": \"0.3.4\", \"valueTowardsCompletion\": 0.0, \"failureMessage\": \"\", \"exceptionClass\": \"\", \"trace\": \"\", \"outcomeType\": 4}}, \"*\")"
      ],
      "text/plain": [
       "<IPython.core.display.Javascript object>"
      ]
     },
     "metadata": {},
     "output_type": "display_data"
    },
    {
     "data": {
      "text/markdown": [
       "<span style=\"color:#33cc99\">Solution:</span> \n",
       "```python\n",
       "# Get names of columns with missing values\n",
       "cols_with_missing = [col for col in X_train.columns\n",
       "                     if X_train[col].isnull().any()]\n",
       "\n",
       "# Drop columns in training and validation data\n",
       "reduced_X_train = X_train.drop(cols_with_missing, axis=1)\n",
       "reduced_X_valid = X_valid.drop(cols_with_missing, axis=1)\n",
       "\n",
       "```"
      ],
      "text/plain": [
       "Solution: \n",
       "```python\n",
       "# Get names of columns with missing values\n",
       "cols_with_missing = [col for col in X_train.columns\n",
       "                     if X_train[col].isnull().any()]\n",
       "\n",
       "# Drop columns in training and validation data\n",
       "reduced_X_train = X_train.drop(cols_with_missing, axis=1)\n",
       "reduced_X_valid = X_valid.drop(cols_with_missing, axis=1)\n",
       "\n",
       "```"
      ]
     },
     "metadata": {},
     "output_type": "display_data"
    }
   ],
   "source": [
    "# Lines below will give you a hint or solution code\n",
    "#step_2.hint()\n",
    "step_2.solution()"
   ]
  },
  {
   "cell_type": "markdown",
   "id": "798cbe2b",
   "metadata": {
    "papermill": {
     "duration": 0.00954,
     "end_time": "2023-05-09T15:04:07.427885",
     "exception": false,
     "start_time": "2023-05-09T15:04:07.418345",
     "status": "completed"
    },
    "tags": []
   },
   "source": [
    "Run the next code cell without changes to obtain the MAE for this approach."
   ]
  },
  {
   "cell_type": "code",
   "execution_count": 12,
   "id": "050b7b50",
   "metadata": {
    "execution": {
     "iopub.execute_input": "2023-05-09T15:04:07.450326Z",
     "iopub.status.busy": "2023-05-09T15:04:07.449888Z",
     "iopub.status.idle": "2023-05-09T15:04:08.743050Z",
     "shell.execute_reply": "2023-05-09T15:04:08.741920Z"
    },
    "papermill": {
     "duration": 1.307226,
     "end_time": "2023-05-09T15:04:08.745120",
     "exception": false,
     "start_time": "2023-05-09T15:04:07.437894",
     "status": "completed"
    },
    "tags": []
   },
   "outputs": [
    {
     "name": "stdout",
     "output_type": "stream",
     "text": [
      "MAE (Drop columns with missing values):\n",
      "17837.82570776256\n"
     ]
    }
   ],
   "source": [
    "print(\"MAE (Drop columns with missing values):\")\n",
    "print(score_dataset(reduced_X_train, reduced_X_valid, y_train, y_valid))"
   ]
  },
  {
   "cell_type": "markdown",
   "id": "3da3b343",
   "metadata": {
    "papermill": {
     "duration": 0.0095,
     "end_time": "2023-05-09T15:04:08.764710",
     "exception": false,
     "start_time": "2023-05-09T15:04:08.755210",
     "status": "completed"
    },
    "tags": []
   },
   "source": [
    "# Step 3: Imputation\n",
    "\n",
    "### Part A\n",
    "\n",
    "Use the next code cell to impute missing values with the mean value along each column.  Set the preprocessed DataFrames to `imputed_X_train` and `imputed_X_valid`.  Make sure that the column names match those in `X_train` and `X_valid`."
   ]
  },
  {
   "cell_type": "code",
   "execution_count": 13,
   "id": "f46eadf5",
   "metadata": {
    "execution": {
     "iopub.execute_input": "2023-05-09T15:04:08.787782Z",
     "iopub.status.busy": "2023-05-09T15:04:08.787051Z",
     "iopub.status.idle": "2023-05-09T15:04:08.827545Z",
     "shell.execute_reply": "2023-05-09T15:04:08.826363Z"
    },
    "papermill": {
     "duration": 0.055353,
     "end_time": "2023-05-09T15:04:08.830136",
     "exception": false,
     "start_time": "2023-05-09T15:04:08.774783",
     "status": "completed"
    },
    "tags": []
   },
   "outputs": [
    {
     "data": {
      "application/javascript": [
       "parent.postMessage({\"jupyterEvent\": \"custom.exercise_interaction\", \"data\": {\"outcomeType\": 1, \"valueTowardsCompletion\": 1.0, \"interactionType\": 1, \"questionType\": 2, \"questionId\": \"3.1_ImputeCode\", \"learnToolsVersion\": \"0.3.4\", \"failureMessage\": \"\", \"exceptionClass\": \"\", \"trace\": \"\"}}, \"*\")"
      ],
      "text/plain": [
       "<IPython.core.display.Javascript object>"
      ]
     },
     "metadata": {},
     "output_type": "display_data"
    },
    {
     "data": {
      "text/markdown": [
       "<span style=\"color:#33cc33\">Correct</span>"
      ],
      "text/plain": [
       "Correct"
      ]
     },
     "metadata": {},
     "output_type": "display_data"
    }
   ],
   "source": [
    "from sklearn.impute import SimpleImputer\n",
    "\n",
    "# Fill in the lines below: imputation\n",
    "my_imputer = SimpleImputer()\n",
    "imputed_X_train = pd.DataFrame(my_imputer.fit_transform(X_train))\n",
    "imputed_X_valid = pd.DataFrame(my_imputer.transform(X_valid))\n",
    "\n",
    "# Fill in the lines below: imputation removed column names; put them back\n",
    "imputed_X_train.columns = X_train.columns\n",
    "imputed_X_valid.columns = X_train.columns\n",
    "\n",
    "# Check your answers\n",
    "step_3.a.check()"
   ]
  },
  {
   "cell_type": "code",
   "execution_count": 14,
   "id": "ba24266f",
   "metadata": {
    "execution": {
     "iopub.execute_input": "2023-05-09T15:04:08.852754Z",
     "iopub.status.busy": "2023-05-09T15:04:08.852316Z",
     "iopub.status.idle": "2023-05-09T15:04:08.857301Z",
     "shell.execute_reply": "2023-05-09T15:04:08.856000Z"
    },
    "papermill": {
     "duration": 0.019242,
     "end_time": "2023-05-09T15:04:08.859575",
     "exception": false,
     "start_time": "2023-05-09T15:04:08.840333",
     "status": "completed"
    },
    "tags": []
   },
   "outputs": [],
   "source": [
    "# Lines below will give you a hint or solution code\n",
    "#step_3.a.hint()\n",
    "# step_3.a.solution()"
   ]
  },
  {
   "cell_type": "markdown",
   "id": "1f45bdca",
   "metadata": {
    "papermill": {
     "duration": 0.009767,
     "end_time": "2023-05-09T15:04:08.879582",
     "exception": false,
     "start_time": "2023-05-09T15:04:08.869815",
     "status": "completed"
    },
    "tags": []
   },
   "source": [
    "Run the next code cell without changes to obtain the MAE for this approach."
   ]
  },
  {
   "cell_type": "code",
   "execution_count": 15,
   "id": "c76b4308",
   "metadata": {
    "execution": {
     "iopub.execute_input": "2023-05-09T15:04:08.901643Z",
     "iopub.status.busy": "2023-05-09T15:04:08.901224Z",
     "iopub.status.idle": "2023-05-09T15:04:10.297208Z",
     "shell.execute_reply": "2023-05-09T15:04:10.295847Z"
    },
    "papermill": {
     "duration": 1.410414,
     "end_time": "2023-05-09T15:04:10.300089",
     "exception": false,
     "start_time": "2023-05-09T15:04:08.889675",
     "status": "completed"
    },
    "tags": []
   },
   "outputs": [
    {
     "name": "stdout",
     "output_type": "stream",
     "text": [
      "MAE (Imputation):\n",
      "18062.894611872147\n"
     ]
    }
   ],
   "source": [
    "print(\"MAE (Imputation):\")\n",
    "print(score_dataset(imputed_X_train, imputed_X_valid, y_train, y_valid))"
   ]
  },
  {
   "cell_type": "markdown",
   "id": "80ddfad3",
   "metadata": {
    "papermill": {
     "duration": 0.010788,
     "end_time": "2023-05-09T15:04:10.321598",
     "exception": false,
     "start_time": "2023-05-09T15:04:10.310810",
     "status": "completed"
    },
    "tags": []
   },
   "source": [
    "### Part B\n",
    "\n",
    "Compare the MAE from each approach.  Does anything surprise you about the results?  Why do you think one approach performed better than the other?"
   ]
  },
  {
   "cell_type": "code",
   "execution_count": 16,
   "id": "b617e93c",
   "metadata": {
    "execution": {
     "iopub.execute_input": "2023-05-09T15:04:10.344674Z",
     "iopub.status.busy": "2023-05-09T15:04:10.344264Z",
     "iopub.status.idle": "2023-05-09T15:04:10.353599Z",
     "shell.execute_reply": "2023-05-09T15:04:10.352432Z"
    },
    "papermill": {
     "duration": 0.023279,
     "end_time": "2023-05-09T15:04:10.355620",
     "exception": false,
     "start_time": "2023-05-09T15:04:10.332341",
     "status": "completed"
    },
    "tags": []
   },
   "outputs": [
    {
     "data": {
      "application/javascript": [
       "parent.postMessage({\"jupyterEvent\": \"custom.exercise_interaction\", \"data\": {\"outcomeType\": 1, \"valueTowardsCompletion\": 1.0, \"interactionType\": 1, \"questionType\": 4, \"questionId\": \"3.2_ImputeThought\", \"learnToolsVersion\": \"0.3.4\", \"failureMessage\": \"\", \"exceptionClass\": \"\", \"trace\": \"\"}}, \"*\")"
      ],
      "text/plain": [
       "<IPython.core.display.Javascript object>"
      ]
     },
     "metadata": {},
     "output_type": "display_data"
    },
    {
     "data": {
      "text/markdown": [
       "<span style=\"color:#33cc33\">Correct:</span> \n",
       "\n",
       "Given that thre are so few missing values in the dataset, we'd expect imputation to perform better than dropping columns entirely.  However, we see that dropping columns performs slightly better!  While this can probably partially be attributed to noise in the dataset, another potential explanation is that the imputation method is not a great match to this dataset.  That is, maybe instead of filling in the mean value, it makes more sense to set every missing value to a value of 0, to fill in the most frequently encountered value, or to use some other method.  For instance, consider the `GarageYrBlt` column (which indicates the year that the garage was built).  It's likely that in some cases, a missing value could indicate a house that does not have a garage.  Does it make more sense to fill in the median value along each column in this case?  Or could we get better results by filling in the minimum value along each column?  It's not quite clear what's best in this case, but perhaps we can rule out some options immediately - for instance, setting missing values in this column to 0 is likely to yield horrible results!"
      ],
      "text/plain": [
       "Correct: \n",
       "\n",
       "Given that thre are so few missing values in the dataset, we'd expect imputation to perform better than dropping columns entirely.  However, we see that dropping columns performs slightly better!  While this can probably partially be attributed to noise in the dataset, another potential explanation is that the imputation method is not a great match to this dataset.  That is, maybe instead of filling in the mean value, it makes more sense to set every missing value to a value of 0, to fill in the most frequently encountered value, or to use some other method.  For instance, consider the `GarageYrBlt` column (which indicates the year that the garage was built).  It's likely that in some cases, a missing value could indicate a house that does not have a garage.  Does it make more sense to fill in the median value along each column in this case?  Or could we get better results by filling in the minimum value along each column?  It's not quite clear what's best in this case, but perhaps we can rule out some options immediately - for instance, setting missing values in this column to 0 is likely to yield horrible results!"
      ]
     },
     "metadata": {},
     "output_type": "display_data"
    }
   ],
   "source": [
    "# Check your answer (Run this code cell to receive credit!)\n",
    "step_3.b.check()"
   ]
  },
  {
   "cell_type": "code",
   "execution_count": 17,
   "id": "bee0b792",
   "metadata": {
    "execution": {
     "iopub.execute_input": "2023-05-09T15:04:10.378947Z",
     "iopub.status.busy": "2023-05-09T15:04:10.378552Z",
     "iopub.status.idle": "2023-05-09T15:04:10.382665Z",
     "shell.execute_reply": "2023-05-09T15:04:10.381743Z"
    },
    "papermill": {
     "duration": 0.018476,
     "end_time": "2023-05-09T15:04:10.384777",
     "exception": false,
     "start_time": "2023-05-09T15:04:10.366301",
     "status": "completed"
    },
    "tags": []
   },
   "outputs": [],
   "source": [
    "#step_3.b.hint()"
   ]
  },
  {
   "cell_type": "markdown",
   "id": "b08e0604",
   "metadata": {
    "papermill": {
     "duration": 0.010616,
     "end_time": "2023-05-09T15:04:10.406575",
     "exception": false,
     "start_time": "2023-05-09T15:04:10.395959",
     "status": "completed"
    },
    "tags": []
   },
   "source": [
    "# Step 4: Generate test predictions\n",
    "\n",
    "In this final step, you'll use any approach of your choosing to deal with missing values.  Once you've preprocessed the training and validation features, you'll train and evaluate a random forest model.  Then, you'll preprocess the test data before generating predictions that can be submitted to the competition!\n",
    "\n",
    "### Part A\n",
    "\n",
    "Use the next code cell to preprocess the training and validation data.  Set the preprocessed DataFrames to `final_X_train` and `final_X_valid`.  **You can use any approach of your choosing here!**  in order for this step to be marked as correct, you need only ensure:\n",
    "- the preprocessed DataFrames have the same number of columns,\n",
    "- the preprocessed DataFrames have no missing values, \n",
    "- `final_X_train` and `y_train` have the same number of rows, and\n",
    "- `final_X_valid` and `y_valid` have the same number of rows."
   ]
  },
  {
   "cell_type": "code",
   "execution_count": 18,
   "id": "d4a17477",
   "metadata": {
    "execution": {
     "iopub.execute_input": "2023-05-09T15:04:10.431116Z",
     "iopub.status.busy": "2023-05-09T15:04:10.430294Z",
     "iopub.status.idle": "2023-05-09T15:04:10.457607Z",
     "shell.execute_reply": "2023-05-09T15:04:10.456650Z"
    },
    "papermill": {
     "duration": 0.042138,
     "end_time": "2023-05-09T15:04:10.459709",
     "exception": false,
     "start_time": "2023-05-09T15:04:10.417571",
     "status": "completed"
    },
    "tags": []
   },
   "outputs": [
    {
     "data": {
      "application/javascript": [
       "parent.postMessage({\"jupyterEvent\": \"custom.exercise_interaction\", \"data\": {\"outcomeType\": 1, \"valueTowardsCompletion\": 1.0, \"interactionType\": 1, \"questionType\": 2, \"questionId\": \"4.1_PredsCodeA\", \"learnToolsVersion\": \"0.3.4\", \"failureMessage\": \"\", \"exceptionClass\": \"\", \"trace\": \"\"}}, \"*\")"
      ],
      "text/plain": [
       "<IPython.core.display.Javascript object>"
      ]
     },
     "metadata": {},
     "output_type": "display_data"
    },
    {
     "data": {
      "text/markdown": [
       "<span style=\"color:#33cc33\">Correct</span>"
      ],
      "text/plain": [
       "Correct"
      ]
     },
     "metadata": {},
     "output_type": "display_data"
    }
   ],
   "source": [
    "# Preprocessed training and validation features\n",
    "final_imputer = SimpleImputer()\n",
    "final_X_train = pd.DataFrame(final_imputer.fit_transform(X_train))\n",
    "final_X_valid = pd.DataFrame(final_imputer.transform(X_valid))\n",
    "\n",
    "\n",
    "# Check your answers\n",
    "step_4.a.check()"
   ]
  },
  {
   "cell_type": "code",
   "execution_count": 19,
   "id": "77e610e2",
   "metadata": {
    "execution": {
     "iopub.execute_input": "2023-05-09T15:04:10.484597Z",
     "iopub.status.busy": "2023-05-09T15:04:10.483686Z",
     "iopub.status.idle": "2023-05-09T15:04:10.487790Z",
     "shell.execute_reply": "2023-05-09T15:04:10.486957Z"
    },
    "papermill": {
     "duration": 0.018753,
     "end_time": "2023-05-09T15:04:10.489729",
     "exception": false,
     "start_time": "2023-05-09T15:04:10.470976",
     "status": "completed"
    },
    "tags": []
   },
   "outputs": [],
   "source": [
    "# Lines below will give you a hint or solution code\n",
    "#step_4.a.hint()\n",
    "#step_4.a.solution()"
   ]
  },
  {
   "cell_type": "markdown",
   "id": "81dac7c7",
   "metadata": {
    "papermill": {
     "duration": 0.010788,
     "end_time": "2023-05-09T15:04:10.511926",
     "exception": false,
     "start_time": "2023-05-09T15:04:10.501138",
     "status": "completed"
    },
    "tags": []
   },
   "source": [
    "Run the next code cell to train and evaluate a random forest model.  (*Note that we don't use the `score_dataset()` function above, because we will soon use the trained model to generate test predictions!*)"
   ]
  },
  {
   "cell_type": "code",
   "execution_count": 20,
   "id": "22ed4b1e",
   "metadata": {
    "execution": {
     "iopub.execute_input": "2023-05-09T15:04:10.536919Z",
     "iopub.status.busy": "2023-05-09T15:04:10.536296Z",
     "iopub.status.idle": "2023-05-09T15:04:11.941641Z",
     "shell.execute_reply": "2023-05-09T15:04:11.940069Z"
    },
    "papermill": {
     "duration": 1.420864,
     "end_time": "2023-05-09T15:04:11.944141",
     "exception": false,
     "start_time": "2023-05-09T15:04:10.523277",
     "status": "completed"
    },
    "tags": []
   },
   "outputs": [
    {
     "name": "stdout",
     "output_type": "stream",
     "text": [
      "MAE (Your approach):\n",
      "18062.894611872147\n"
     ]
    }
   ],
   "source": [
    "# Define and fit model\n",
    "model = RandomForestRegressor(n_estimators=100, random_state=0)\n",
    "model.fit(final_X_train, y_train)\n",
    "\n",
    "# Get validation predictions and MAE\n",
    "preds_valid = model.predict(final_X_valid)\n",
    "print(\"MAE (Your approach):\")\n",
    "print(mean_absolute_error(y_valid, preds_valid))"
   ]
  },
  {
   "cell_type": "markdown",
   "id": "ec35031c",
   "metadata": {
    "papermill": {
     "duration": 0.010742,
     "end_time": "2023-05-09T15:04:11.966000",
     "exception": false,
     "start_time": "2023-05-09T15:04:11.955258",
     "status": "completed"
    },
    "tags": []
   },
   "source": [
    "### Part B\n",
    "\n",
    "Use the next code cell to preprocess your test data.  Make sure that you use a method that agrees with how you preprocessed the training and validation data, and set the preprocessed test features to `final_X_test`.\n",
    "\n",
    "Then, use the preprocessed test features and the trained model to generate test predictions in `preds_test`.\n",
    "\n",
    "In order for this step to be marked correct, you need only ensure:\n",
    "- the preprocessed test DataFrame has no missing values, and\n",
    "- `final_X_test` has the same number of rows as `X_test`."
   ]
  },
  {
   "cell_type": "code",
   "execution_count": 21,
   "id": "a74d1e92",
   "metadata": {
    "execution": {
     "iopub.execute_input": "2023-05-09T15:04:11.991370Z",
     "iopub.status.busy": "2023-05-09T15:04:11.990960Z",
     "iopub.status.idle": "2023-05-09T15:04:12.047875Z",
     "shell.execute_reply": "2023-05-09T15:04:12.046757Z"
    },
    "papermill": {
     "duration": 0.072442,
     "end_time": "2023-05-09T15:04:12.050078",
     "exception": false,
     "start_time": "2023-05-09T15:04:11.977636",
     "status": "completed"
    },
    "tags": []
   },
   "outputs": [
    {
     "data": {
      "application/javascript": [
       "parent.postMessage({\"jupyterEvent\": \"custom.exercise_interaction\", \"data\": {\"outcomeType\": 1, \"valueTowardsCompletion\": 1.0, \"interactionType\": 1, \"questionType\": 2, \"questionId\": \"4.2_PredsCodeB\", \"learnToolsVersion\": \"0.3.4\", \"failureMessage\": \"\", \"exceptionClass\": \"\", \"trace\": \"\"}}, \"*\")"
      ],
      "text/plain": [
       "<IPython.core.display.Javascript object>"
      ]
     },
     "metadata": {},
     "output_type": "display_data"
    },
    {
     "data": {
      "text/markdown": [
       "<span style=\"color:#33cc33\">Correct</span>"
      ],
      "text/plain": [
       "Correct"
      ]
     },
     "metadata": {},
     "output_type": "display_data"
    }
   ],
   "source": [
    "# Fill in the line below: preprocess test data\n",
    "final_X_test = pd.DataFrame(final_imputer.transform(X_test))\n",
    "\n",
    "# Fill in the line below: get test predictions\n",
    "preds_test = model.predict(final_X_test)\n",
    "\n",
    "# Check your answers\n",
    "step_4.b.check()"
   ]
  },
  {
   "cell_type": "code",
   "execution_count": 22,
   "id": "bcdc490e",
   "metadata": {
    "execution": {
     "iopub.execute_input": "2023-05-09T15:04:12.074149Z",
     "iopub.status.busy": "2023-05-09T15:04:12.073695Z",
     "iopub.status.idle": "2023-05-09T15:04:12.078128Z",
     "shell.execute_reply": "2023-05-09T15:04:12.077335Z"
    },
    "papermill": {
     "duration": 0.019121,
     "end_time": "2023-05-09T15:04:12.080211",
     "exception": false,
     "start_time": "2023-05-09T15:04:12.061090",
     "status": "completed"
    },
    "tags": []
   },
   "outputs": [],
   "source": [
    "# Lines below will give you a hint or solution code\n",
    "#step_4.b.hint()\n",
    "#step_4.b.solution()"
   ]
  },
  {
   "cell_type": "markdown",
   "id": "77cf3dd1",
   "metadata": {
    "papermill": {
     "duration": 0.010888,
     "end_time": "2023-05-09T15:04:12.102333",
     "exception": false,
     "start_time": "2023-05-09T15:04:12.091445",
     "status": "completed"
    },
    "tags": []
   },
   "source": [
    "Run the next code cell without changes to save your results to a CSV file that can be submitted directly to the competition."
   ]
  },
  {
   "cell_type": "code",
   "execution_count": 23,
   "id": "86ec65d5",
   "metadata": {
    "execution": {
     "iopub.execute_input": "2023-05-09T15:04:12.126842Z",
     "iopub.status.busy": "2023-05-09T15:04:12.126437Z",
     "iopub.status.idle": "2023-05-09T15:04:12.142886Z",
     "shell.execute_reply": "2023-05-09T15:04:12.141644Z"
    },
    "papermill": {
     "duration": 0.031908,
     "end_time": "2023-05-09T15:04:12.145473",
     "exception": false,
     "start_time": "2023-05-09T15:04:12.113565",
     "status": "completed"
    },
    "tags": []
   },
   "outputs": [],
   "source": [
    "# Save test predictions to file\n",
    "output = pd.DataFrame({'Id': X_test.index,\n",
    "                       'SalePrice': preds_test})\n",
    "output.to_csv('submission.csv', index=False)"
   ]
  },
  {
   "cell_type": "markdown",
   "id": "729496dc",
   "metadata": {
    "papermill": {
     "duration": 0.011696,
     "end_time": "2023-05-09T15:04:12.168653",
     "exception": false,
     "start_time": "2023-05-09T15:04:12.156957",
     "status": "completed"
    },
    "tags": []
   },
   "source": [
    "# Submit your results\n",
    "\n",
    "Once you have successfully completed Step 4, you're ready to submit your results to the leaderboard!  (_You also learned how to do this in the previous exercise.  If you need a reminder of how to do this, please use the instructions below._)  \n",
    "\n",
    "First, you'll need to join the competition if you haven't already.  So open a new window by clicking on [this link](https://www.kaggle.com/c/home-data-for-ml-course).  Then click on the **Join Competition** button.\n",
    "\n",
    "![join competition image](https://storage.googleapis.com/kaggle-media/learn/images/wLmFtH3.png)\n",
    "\n",
    "Next, follow the instructions below:\n",
    "1. Begin by clicking on the **Save Version** button in the top right corner of the window.  This will generate a pop-up window.  \n",
    "2. Ensure that the **Save and Run All** option is selected, and then click on the **Save** button.\n",
    "3. This generates a window in the bottom left corner of the notebook.  After it has finished running, click on the number to the right of the **Save Version** button.  This pulls up a list of versions on the right of the screen.  Click on the ellipsis **(...)** to the right of the most recent version, and select **Open in Viewer**.  This brings you into view mode of the same page. You will need to scroll down to get back to these instructions.\n",
    "4. Click on the **Data** tab near the top of the screen.  Then, click on the file you would like to submit, and click on the **Submit** button to submit your results to the leaderboard.\n",
    "\n",
    "You have now successfully submitted to the competition!\n",
    "\n",
    "If you want to keep working to improve your performance, select the **Edit** button in the top right of the screen. Then you can change your code and repeat the process. There's a lot of room to improve, and you will climb up the leaderboard as you work.\n",
    "\n",
    "\n",
    "# Keep going\n",
    "\n",
    "Move on to learn what **[categorical variables](https://www.kaggle.com/alexisbcook/categorical-variables)** are, along with how to incorporate them into your machine learning models.  Categorical variables are very common in real-world data, but you'll get an error if you try to plug them into your models without processing them first!"
   ]
  },
  {
   "cell_type": "markdown",
   "id": "932a9a47",
   "metadata": {
    "papermill": {
     "duration": 0.011167,
     "end_time": "2023-05-09T15:04:12.191241",
     "exception": false,
     "start_time": "2023-05-09T15:04:12.180074",
     "status": "completed"
    },
    "tags": []
   },
   "source": [
    "---\n",
    "\n",
    "\n",
    "\n",
    "\n",
    "*Have questions or comments? Visit the [course discussion forum](https://www.kaggle.com/learn/intermediate-machine-learning/discussion) to chat with other learners.*"
   ]
  }
 ],
 "metadata": {
  "kernelspec": {
   "display_name": "Python 3",
   "language": "python",
   "name": "python3"
  },
  "language_info": {
   "codemirror_mode": {
    "name": "ipython",
    "version": 3
   },
   "file_extension": ".py",
   "mimetype": "text/x-python",
   "name": "python",
   "nbconvert_exporter": "python",
   "pygments_lexer": "ipython3",
   "version": "3.10.10"
  },
  "papermill": {
   "default_parameters": {},
   "duration": 19.293886,
   "end_time": "2023-05-09T15:04:13.327523",
   "environment_variables": {},
   "exception": null,
   "input_path": "__notebook__.ipynb",
   "output_path": "__notebook__.ipynb",
   "parameters": {},
   "start_time": "2023-05-09T15:03:54.033637",
   "version": "2.4.0"
  }
 },
 "nbformat": 4,
 "nbformat_minor": 5
}
