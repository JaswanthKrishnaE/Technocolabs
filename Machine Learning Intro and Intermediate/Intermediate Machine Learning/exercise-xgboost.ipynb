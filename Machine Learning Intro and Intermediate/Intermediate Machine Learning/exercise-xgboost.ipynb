{
 "cells": [
  {
   "cell_type": "markdown",
   "id": "605335af",
   "metadata": {
    "papermill": {
     "duration": 0.007542,
     "end_time": "2023-05-10T07:58:43.458815",
     "exception": false,
     "start_time": "2023-05-10T07:58:43.451273",
     "status": "completed"
    },
    "tags": []
   },
   "source": [
    "**This notebook is an exercise in the [Intermediate Machine Learning](https://www.kaggle.com/learn/intermediate-machine-learning) course.  You can reference the tutorial at [this link](https://www.kaggle.com/alexisbcook/xgboost).**\n",
    "\n",
    "---\n"
   ]
  },
  {
   "cell_type": "markdown",
   "id": "4aab3017",
   "metadata": {
    "papermill": {
     "duration": 0.006506,
     "end_time": "2023-05-10T07:58:43.472259",
     "exception": false,
     "start_time": "2023-05-10T07:58:43.465753",
     "status": "completed"
    },
    "tags": []
   },
   "source": [
    "In this exercise, you will use your new knowledge to train a model with **gradient boosting**.\n",
    "\n",
    "# Setup\n",
    "\n",
    "The questions below will give you feedback on your work. Run the following cell to set up the feedback system."
   ]
  },
  {
   "cell_type": "code",
   "execution_count": 1,
   "id": "da9863c3",
   "metadata": {
    "execution": {
     "iopub.execute_input": "2023-05-10T07:58:43.488010Z",
     "iopub.status.busy": "2023-05-10T07:58:43.487376Z",
     "iopub.status.idle": "2023-05-10T07:58:46.334563Z",
     "shell.execute_reply": "2023-05-10T07:58:46.333570Z"
    },
    "papermill": {
     "duration": 2.858758,
     "end_time": "2023-05-10T07:58:46.337821",
     "exception": false,
     "start_time": "2023-05-10T07:58:43.479063",
     "status": "completed"
    },
    "tags": []
   },
   "outputs": [
    {
     "name": "stderr",
     "output_type": "stream",
     "text": [
      "/opt/conda/lib/python3.10/site-packages/scipy/__init__.py:146: UserWarning: A NumPy version >=1.16.5 and <1.23.0 is required for this version of SciPy (detected version 1.23.5\n",
      "  warnings.warn(f\"A NumPy version >={np_minversion} and <{np_maxversion}\"\n"
     ]
    },
    {
     "name": "stdout",
     "output_type": "stream",
     "text": [
      "Setup Complete\n"
     ]
    }
   ],
   "source": [
    "# Set up code checking\n",
    "import os\n",
    "if not os.path.exists(\"../input/train.csv\"):\n",
    "    os.symlink(\"../input/home-data-for-ml-course/train.csv\", \"../input/train.csv\")  \n",
    "    os.symlink(\"../input/home-data-for-ml-course/test.csv\", \"../input/test.csv\") \n",
    "from learntools.core import binder\n",
    "binder.bind(globals())\n",
    "from learntools.ml_intermediate.ex6 import *\n",
    "print(\"Setup Complete\")"
   ]
  },
  {
   "cell_type": "markdown",
   "id": "65645b64",
   "metadata": {
    "papermill": {
     "duration": 0.006852,
     "end_time": "2023-05-10T07:58:46.352698",
     "exception": false,
     "start_time": "2023-05-10T07:58:46.345846",
     "status": "completed"
    },
    "tags": []
   },
   "source": [
    "You will work with the [Housing Prices Competition for Kaggle Learn Users](https://www.kaggle.com/c/home-data-for-ml-course) dataset from the previous exercise. \n",
    "\n",
    "![Ames Housing dataset image](https://storage.googleapis.com/kaggle-media/learn/images/lTJVG4e.png)\n",
    "\n",
    "Run the next code cell without changes to load the training and validation sets in `X_train`, `X_valid`, `y_train`, and `y_valid`.  The test set is loaded in `X_test`."
   ]
  },
  {
   "cell_type": "code",
   "execution_count": 2,
   "id": "16c94c88",
   "metadata": {
    "execution": {
     "iopub.execute_input": "2023-05-10T07:58:46.368475Z",
     "iopub.status.busy": "2023-05-10T07:58:46.368034Z",
     "iopub.status.idle": "2023-05-10T07:58:46.579669Z",
     "shell.execute_reply": "2023-05-10T07:58:46.578359Z"
    },
    "papermill": {
     "duration": 0.222975,
     "end_time": "2023-05-10T07:58:46.582677",
     "exception": false,
     "start_time": "2023-05-10T07:58:46.359702",
     "status": "completed"
    },
    "tags": []
   },
   "outputs": [],
   "source": [
    "import pandas as pd\n",
    "from sklearn.model_selection import train_test_split\n",
    "\n",
    "# Read the data\n",
    "X = pd.read_csv('../input/train.csv', index_col='Id')\n",
    "X_test_full = pd.read_csv('../input/test.csv', index_col='Id')\n",
    "\n",
    "# Remove rows with missing target, separate target from predictors\n",
    "X.dropna(axis=0, subset=['SalePrice'], inplace=True)\n",
    "y = X.SalePrice              \n",
    "X.drop(['SalePrice'], axis=1, inplace=True)\n",
    "\n",
    "# Break off validation set from training data\n",
    "X_train_full, X_valid_full, y_train, y_valid = train_test_split(X, y, train_size=0.8, test_size=0.2,\n",
    "                                                                random_state=0)\n",
    "\n",
    "# \"Cardinality\" means the number of unique values in a column\n",
    "# Select categorical columns with relatively low cardinality (convenient but arbitrary)\n",
    "low_cardinality_cols = [cname for cname in X_train_full.columns if X_train_full[cname].nunique() < 10 and \n",
    "                        X_train_full[cname].dtype == \"object\"]\n",
    "\n",
    "# Select numeric columns\n",
    "numeric_cols = [cname for cname in X_train_full.columns if X_train_full[cname].dtype in ['int64', 'float64']]\n",
    "\n",
    "# Keep selected columns only\n",
    "my_cols = low_cardinality_cols + numeric_cols\n",
    "X_train = X_train_full[my_cols].copy()\n",
    "X_valid = X_valid_full[my_cols].copy()\n",
    "X_test = X_test_full[my_cols].copy()\n",
    "\n",
    "# One-hot encode the data (to shorten the code, we use pandas)\n",
    "X_train = pd.get_dummies(X_train)\n",
    "X_valid = pd.get_dummies(X_valid)\n",
    "X_test = pd.get_dummies(X_test)\n",
    "X_train, X_valid = X_train.align(X_valid, join='left', axis=1)\n",
    "X_train, X_test = X_train.align(X_test, join='left', axis=1)"
   ]
  },
  {
   "cell_type": "markdown",
   "id": "8d343971",
   "metadata": {
    "papermill": {
     "duration": 0.006764,
     "end_time": "2023-05-10T07:58:46.596658",
     "exception": false,
     "start_time": "2023-05-10T07:58:46.589894",
     "status": "completed"
    },
    "tags": []
   },
   "source": [
    "# Step 1: Build model\n",
    "\n",
    "### Part A\n",
    "\n",
    "In this step, you'll build and train your first model with gradient boosting.\n",
    "\n",
    "- Begin by setting `my_model_1` to an XGBoost model.  Use the [XGBRegressor](https://xgboost.readthedocs.io/en/latest/python/python_api.html#xgboost.XGBRegressor) class, and set the random seed to 0 (`random_state=0`).  **Leave all other parameters as default.**\n",
    "- Then, fit the model to the training data in `X_train` and `y_train`."
   ]
  },
  {
   "cell_type": "code",
   "execution_count": 3,
   "id": "095df6e1",
   "metadata": {
    "execution": {
     "iopub.execute_input": "2023-05-10T07:58:46.612867Z",
     "iopub.status.busy": "2023-05-10T07:58:46.612211Z",
     "iopub.status.idle": "2023-05-10T07:58:47.524459Z",
     "shell.execute_reply": "2023-05-10T07:58:47.523486Z"
    },
    "papermill": {
     "duration": 0.923573,
     "end_time": "2023-05-10T07:58:47.527226",
     "exception": false,
     "start_time": "2023-05-10T07:58:46.603653",
     "status": "completed"
    },
    "tags": []
   },
   "outputs": [
    {
     "data": {
      "application/javascript": [
       "parent.postMessage({\"jupyterEvent\": \"custom.exercise_interaction\", \"data\": {\"outcomeType\": 1, \"valueTowardsCompletion\": 0.5, \"interactionType\": 1, \"questionType\": 2, \"questionId\": \"1.1_Model1A\", \"learnToolsVersion\": \"0.3.4\", \"failureMessage\": \"\", \"exceptionClass\": \"\", \"trace\": \"\"}}, \"*\")"
      ],
      "text/plain": [
       "<IPython.core.display.Javascript object>"
      ]
     },
     "metadata": {},
     "output_type": "display_data"
    },
    {
     "data": {
      "text/markdown": [
       "<span style=\"color:#33cc33\">Correct</span>"
      ],
      "text/plain": [
       "Correct"
      ]
     },
     "metadata": {},
     "output_type": "display_data"
    }
   ],
   "source": [
    "from xgboost import XGBRegressor\n",
    "\n",
    "\n",
    "# Define the model\n",
    "my_model_1 = XGBRegressor(random_state=0)\n",
    "\n",
    "# Fit the model\n",
    "my_model_1.fit(X_train, y_train)\n",
    "\n",
    "# Check your answer\n",
    "step_1.a.check()"
   ]
  },
  {
   "cell_type": "code",
   "execution_count": 4,
   "id": "76c3bc36",
   "metadata": {
    "execution": {
     "iopub.execute_input": "2023-05-10T07:58:47.544651Z",
     "iopub.status.busy": "2023-05-10T07:58:47.544231Z",
     "iopub.status.idle": "2023-05-10T07:58:47.549177Z",
     "shell.execute_reply": "2023-05-10T07:58:47.547760Z"
    },
    "papermill": {
     "duration": 0.016339,
     "end_time": "2023-05-10T07:58:47.551779",
     "exception": false,
     "start_time": "2023-05-10T07:58:47.535440",
     "status": "completed"
    },
    "tags": []
   },
   "outputs": [],
   "source": [
    "# Lines below will give you a hint or solution code\n",
    "#step_1.a.hint()\n",
    "# step_1.a.solution()"
   ]
  },
  {
   "cell_type": "markdown",
   "id": "8fe2357a",
   "metadata": {
    "papermill": {
     "duration": 0.007199,
     "end_time": "2023-05-10T07:58:47.566462",
     "exception": false,
     "start_time": "2023-05-10T07:58:47.559263",
     "status": "completed"
    },
    "tags": []
   },
   "source": [
    "### Part B\n",
    "\n",
    "Set `predictions_1` to the model's predictions for the validation data.  Recall that the validation features are stored in `X_valid`."
   ]
  },
  {
   "cell_type": "code",
   "execution_count": 5,
   "id": "12705839",
   "metadata": {
    "execution": {
     "iopub.execute_input": "2023-05-10T07:58:47.583880Z",
     "iopub.status.busy": "2023-05-10T07:58:47.583476Z",
     "iopub.status.idle": "2023-05-10T07:58:47.611504Z",
     "shell.execute_reply": "2023-05-10T07:58:47.610529Z"
    },
    "papermill": {
     "duration": 0.039692,
     "end_time": "2023-05-10T07:58:47.614126",
     "exception": false,
     "start_time": "2023-05-10T07:58:47.574434",
     "status": "completed"
    },
    "tags": []
   },
   "outputs": [
    {
     "data": {
      "application/javascript": [
       "parent.postMessage({\"jupyterEvent\": \"custom.exercise_interaction\", \"data\": {\"outcomeType\": 1, \"valueTowardsCompletion\": 0.5, \"interactionType\": 1, \"questionType\": 2, \"questionId\": \"1.2_Model1B\", \"learnToolsVersion\": \"0.3.4\", \"failureMessage\": \"\", \"exceptionClass\": \"\", \"trace\": \"\"}}, \"*\")"
      ],
      "text/plain": [
       "<IPython.core.display.Javascript object>"
      ]
     },
     "metadata": {},
     "output_type": "display_data"
    },
    {
     "data": {
      "text/markdown": [
       "<span style=\"color:#33cc33\">Correct</span>"
      ],
      "text/plain": [
       "Correct"
      ]
     },
     "metadata": {},
     "output_type": "display_data"
    }
   ],
   "source": [
    "from sklearn.metrics import mean_absolute_error\n",
    "\n",
    "# Get predictions\n",
    "predictions_1 =my_model_1.predict(X_valid)\n",
    "\n",
    "# Check your answer\n",
    "step_1.b.check()"
   ]
  },
  {
   "cell_type": "code",
   "execution_count": 6,
   "id": "112393a6",
   "metadata": {
    "execution": {
     "iopub.execute_input": "2023-05-10T07:58:47.632489Z",
     "iopub.status.busy": "2023-05-10T07:58:47.632075Z",
     "iopub.status.idle": "2023-05-10T07:58:47.636913Z",
     "shell.execute_reply": "2023-05-10T07:58:47.635966Z"
    },
    "papermill": {
     "duration": 0.016495,
     "end_time": "2023-05-10T07:58:47.639256",
     "exception": false,
     "start_time": "2023-05-10T07:58:47.622761",
     "status": "completed"
    },
    "tags": []
   },
   "outputs": [],
   "source": [
    "# Lines below will give you a hint or solution code\n",
    "#step_1.b.hint()\n",
    "#step_1.b.solution()"
   ]
  },
  {
   "cell_type": "markdown",
   "id": "905f7368",
   "metadata": {
    "papermill": {
     "duration": 0.007776,
     "end_time": "2023-05-10T07:58:47.654786",
     "exception": false,
     "start_time": "2023-05-10T07:58:47.647010",
     "status": "completed"
    },
    "tags": []
   },
   "source": [
    "### Part C\n",
    "\n",
    "Finally, use the `mean_absolute_error()` function to calculate the mean absolute error (MAE) corresponding to the predictions for the validation set.  Recall that the labels for the validation data are stored in `y_valid`."
   ]
  },
  {
   "cell_type": "code",
   "execution_count": 7,
   "id": "08696568",
   "metadata": {
    "execution": {
     "iopub.execute_input": "2023-05-10T07:58:47.672728Z",
     "iopub.status.busy": "2023-05-10T07:58:47.672301Z",
     "iopub.status.idle": "2023-05-10T07:58:47.683997Z",
     "shell.execute_reply": "2023-05-10T07:58:47.682850Z"
    },
    "papermill": {
     "duration": 0.023735,
     "end_time": "2023-05-10T07:58:47.686714",
     "exception": false,
     "start_time": "2023-05-10T07:58:47.662979",
     "status": "completed"
    },
    "tags": []
   },
   "outputs": [
    {
     "name": "stdout",
     "output_type": "stream",
     "text": [
      "Mean Absolute Error: 17662.736729452055\n"
     ]
    },
    {
     "data": {
      "application/javascript": [
       "parent.postMessage({\"jupyterEvent\": \"custom.exercise_interaction\", \"data\": {\"outcomeType\": 1, \"valueTowardsCompletion\": 0.5, \"interactionType\": 1, \"questionType\": 2, \"questionId\": \"1.3_Model1C\", \"learnToolsVersion\": \"0.3.4\", \"failureMessage\": \"\", \"exceptionClass\": \"\", \"trace\": \"\"}}, \"*\")"
      ],
      "text/plain": [
       "<IPython.core.display.Javascript object>"
      ]
     },
     "metadata": {},
     "output_type": "display_data"
    },
    {
     "data": {
      "text/markdown": [
       "<span style=\"color:#33cc33\">Correct</span>"
      ],
      "text/plain": [
       "Correct"
      ]
     },
     "metadata": {},
     "output_type": "display_data"
    }
   ],
   "source": [
    "# Calculate MAE\n",
    "mae_1 = mean_absolute_error(y_valid,predictions_1)\n",
    "\n",
    "# Uncomment to print MAE\n",
    "print(\"Mean Absolute Error:\" , mae_1)\n",
    "\n",
    "# Check your answer\n",
    "step_1.c.check()"
   ]
  },
  {
   "cell_type": "code",
   "execution_count": 8,
   "id": "0fcbeac5",
   "metadata": {
    "execution": {
     "iopub.execute_input": "2023-05-10T07:58:47.705946Z",
     "iopub.status.busy": "2023-05-10T07:58:47.705123Z",
     "iopub.status.idle": "2023-05-10T07:58:47.710071Z",
     "shell.execute_reply": "2023-05-10T07:58:47.708981Z"
    },
    "papermill": {
     "duration": 0.017086,
     "end_time": "2023-05-10T07:58:47.712489",
     "exception": false,
     "start_time": "2023-05-10T07:58:47.695403",
     "status": "completed"
    },
    "tags": []
   },
   "outputs": [],
   "source": [
    "# Lines below will give you a hint or solution code\n",
    "#step_1.c.hint()\n",
    "#step_1.c.solution()"
   ]
  },
  {
   "cell_type": "markdown",
   "id": "312abefb",
   "metadata": {
    "papermill": {
     "duration": 0.007993,
     "end_time": "2023-05-10T07:58:47.728671",
     "exception": false,
     "start_time": "2023-05-10T07:58:47.720678",
     "status": "completed"
    },
    "tags": []
   },
   "source": [
    "# Step 2: Improve the model\n",
    "\n",
    "Now that you've trained a default model as baseline, it's time to tinker with the parameters, to see if you can get better performance!\n",
    "- Begin by setting `my_model_2` to an XGBoost model, using the [XGBRegressor](https://xgboost.readthedocs.io/en/latest/python/python_api.html#xgboost.XGBRegressor) class.  Use what you learned in the previous tutorial to figure out how to change the default parameters (like `n_estimators` and `learning_rate`) to get better results.\n",
    "- Then, fit the model to the training data in `X_train` and `y_train`.\n",
    "- Set `predictions_2` to the model's predictions for the validation data.  Recall that the validation features are stored in `X_valid`.\n",
    "- Finally, use the `mean_absolute_error()` function to calculate the mean absolute error (MAE) corresponding to the predictions on the validation set.  Recall that the labels for the validation data are stored in `y_valid`.\n",
    "\n",
    "In order for this step to be marked correct, your model in `my_model_2` must attain lower MAE than the model in `my_model_1`. "
   ]
  },
  {
   "cell_type": "code",
   "execution_count": 9,
   "id": "804e2399",
   "metadata": {
    "execution": {
     "iopub.execute_input": "2023-05-10T07:58:47.746931Z",
     "iopub.status.busy": "2023-05-10T07:58:47.746498Z",
     "iopub.status.idle": "2023-05-10T07:58:56.415736Z",
     "shell.execute_reply": "2023-05-10T07:58:56.413677Z"
    },
    "papermill": {
     "duration": 8.681673,
     "end_time": "2023-05-10T07:58:56.418647",
     "exception": false,
     "start_time": "2023-05-10T07:58:47.736974",
     "status": "completed"
    },
    "tags": []
   },
   "outputs": [
    {
     "name": "stdout",
     "output_type": "stream",
     "text": [
      "Mean Absolute Error: 16688.691513270547\n"
     ]
    },
    {
     "data": {
      "application/javascript": [
       "parent.postMessage({\"jupyterEvent\": \"custom.exercise_interaction\", \"data\": {\"outcomeType\": 1, \"valueTowardsCompletion\": 0.5, \"interactionType\": 1, \"questionType\": 2, \"questionId\": \"2_Model2\", \"learnToolsVersion\": \"0.3.4\", \"failureMessage\": \"\", \"exceptionClass\": \"\", \"trace\": \"\"}}, \"*\")"
      ],
      "text/plain": [
       "<IPython.core.display.Javascript object>"
      ]
     },
     "metadata": {},
     "output_type": "display_data"
    },
    {
     "data": {
      "text/markdown": [
       "<span style=\"color:#33cc33\">Correct</span>"
      ],
      "text/plain": [
       "Correct"
      ]
     },
     "metadata": {},
     "output_type": "display_data"
    }
   ],
   "source": [
    "# Define the model\n",
    "my_model_2 = XGBRegressor(n_estimators=1000,random_state=0,learning_rate=0.05)\n",
    "\n",
    "# Fit the model\n",
    "my_model_2.fit(X_train, y_train,verbose=False)\n",
    "\n",
    "# Get predictions\n",
    "predictions_2 = my_model_2.predict(X_valid)\n",
    "\n",
    "# Calculate MAE\n",
    "mae_2 = mean_absolute_error(predictions_2, y_valid)\n",
    "\n",
    "# Uncomment to print MAE\n",
    "print(\"Mean Absolute Error:\" , mae_2)\n",
    "\n",
    "# Check your answer\n",
    "step_2.check()"
   ]
  },
  {
   "cell_type": "code",
   "execution_count": 10,
   "id": "ef2aa8db",
   "metadata": {
    "execution": {
     "iopub.execute_input": "2023-05-10T07:58:56.438818Z",
     "iopub.status.busy": "2023-05-10T07:58:56.438393Z",
     "iopub.status.idle": "2023-05-10T07:58:56.443611Z",
     "shell.execute_reply": "2023-05-10T07:58:56.442335Z"
    },
    "papermill": {
     "duration": 0.01757,
     "end_time": "2023-05-10T07:58:56.446101",
     "exception": false,
     "start_time": "2023-05-10T07:58:56.428531",
     "status": "completed"
    },
    "tags": []
   },
   "outputs": [],
   "source": [
    "# Lines below will give you a hint or solution code\n",
    "#step_2.hint()\n",
    "# step_2.solution()"
   ]
  },
  {
   "cell_type": "markdown",
   "id": "ffdd8de3",
   "metadata": {
    "papermill": {
     "duration": 0.008642,
     "end_time": "2023-05-10T07:58:56.463597",
     "exception": false,
     "start_time": "2023-05-10T07:58:56.454955",
     "status": "completed"
    },
    "tags": []
   },
   "source": [
    "# Step 3: Break the model\n",
    "\n",
    "In this step, you will create a model that performs worse than the original model in Step 1.  This will help you to develop your intuition for how to set parameters.  You might even find that you accidentally get better performance, which is ultimately a nice problem to have and a valuable learning experience!\n",
    "- Begin by setting `my_model_3` to an XGBoost model, using the [XGBRegressor](https://xgboost.readthedocs.io/en/latest/python/python_api.html#xgboost.XGBRegressor) class.  Use what you learned in the previous tutorial to figure out how to change the default parameters (like `n_estimators` and `learning_rate`) to design a model to get high MAE.\n",
    "- Then, fit the model to the training data in `X_train` and `y_train`.\n",
    "- Set `predictions_3` to the model's predictions for the validation data.  Recall that the validation features are stored in `X_valid`.\n",
    "- Finally, use the `mean_absolute_error()` function to calculate the mean absolute error (MAE) corresponding to the predictions on the validation set.  Recall that the labels for the validation data are stored in `y_valid`.\n",
    "\n",
    "In order for this step to be marked correct, your model in `my_model_3` must attain higher MAE than the model in `my_model_1`. "
   ]
  },
  {
   "cell_type": "code",
   "execution_count": 11,
   "id": "896ac260",
   "metadata": {
    "execution": {
     "iopub.execute_input": "2023-05-10T07:58:56.483176Z",
     "iopub.status.busy": "2023-05-10T07:58:56.482470Z",
     "iopub.status.idle": "2023-05-10T07:58:56.619736Z",
     "shell.execute_reply": "2023-05-10T07:58:56.618775Z"
    },
    "papermill": {
     "duration": 0.150204,
     "end_time": "2023-05-10T07:58:56.622273",
     "exception": false,
     "start_time": "2023-05-10T07:58:56.472069",
     "status": "completed"
    },
    "tags": []
   },
   "outputs": [
    {
     "name": "stdout",
     "output_type": "stream",
     "text": [
      "Mean Absolute Error: 19076.726000642124\n"
     ]
    },
    {
     "data": {
      "application/javascript": [
       "parent.postMessage({\"jupyterEvent\": \"custom.exercise_interaction\", \"data\": {\"outcomeType\": 1, \"valueTowardsCompletion\": 0.5, \"interactionType\": 1, \"questionType\": 2, \"questionId\": \"3_Model3\", \"learnToolsVersion\": \"0.3.4\", \"failureMessage\": \"\", \"exceptionClass\": \"\", \"trace\": \"\"}}, \"*\")"
      ],
      "text/plain": [
       "<IPython.core.display.Javascript object>"
      ]
     },
     "metadata": {},
     "output_type": "display_data"
    },
    {
     "data": {
      "text/markdown": [
       "<span style=\"color:#33cc33\">Correct</span>"
      ],
      "text/plain": [
       "Correct"
      ]
     },
     "metadata": {},
     "output_type": "display_data"
    }
   ],
   "source": [
    "# Define the model\n",
    "my_model_3 = XGBRegressor(n_estimators=10)\n",
    "\n",
    "# Fit the model\n",
    "my_model_3.fit(X_train, y_train)\n",
    "\n",
    "# Get predictions\n",
    "predictions_3 = my_model_3.predict(X_valid)\n",
    "\n",
    "# Calculate MAE\n",
    "mae_3 = mean_absolute_error(predictions_3, y_valid)\n",
    "print(\"Mean Absolute Error:\" , mae_3)\n",
    "step_3.check()\n"
   ]
  },
  {
   "cell_type": "code",
   "execution_count": 12,
   "id": "0b7d1978",
   "metadata": {
    "execution": {
     "iopub.execute_input": "2023-05-10T07:58:56.643316Z",
     "iopub.status.busy": "2023-05-10T07:58:56.642914Z",
     "iopub.status.idle": "2023-05-10T07:58:56.646817Z",
     "shell.execute_reply": "2023-05-10T07:58:56.645930Z"
    },
    "papermill": {
     "duration": 0.01614,
     "end_time": "2023-05-10T07:58:56.649057",
     "exception": false,
     "start_time": "2023-05-10T07:58:56.632917",
     "status": "completed"
    },
    "tags": []
   },
   "outputs": [],
   "source": [
    "# Lines below will give you a hint or solution code\n",
    "#step_3.hint()\n",
    "# step_3.solution()"
   ]
  },
  {
   "cell_type": "markdown",
   "id": "00f96aa3",
   "metadata": {
    "papermill": {
     "duration": 0.008577,
     "end_time": "2023-05-10T07:58:56.666504",
     "exception": false,
     "start_time": "2023-05-10T07:58:56.657927",
     "status": "completed"
    },
    "tags": []
   },
   "source": [
    "# Keep going\n",
    "\n",
    "Continue to learn about **[data leakage](https://www.kaggle.com/alexisbcook/data-leakage)**.  This is an important issue for a data scientist to understand, and it has the potential to ruin your models in subtle and dangerous ways!"
   ]
  },
  {
   "cell_type": "markdown",
   "id": "f80d5c8f",
   "metadata": {
    "papermill": {
     "duration": 0.008748,
     "end_time": "2023-05-10T07:58:56.684167",
     "exception": false,
     "start_time": "2023-05-10T07:58:56.675419",
     "status": "completed"
    },
    "tags": []
   },
   "source": [
    "---\n",
    "\n",
    "\n",
    "\n",
    "\n",
    "*Have questions or comments? Visit the [course discussion forum](https://www.kaggle.com/learn/intermediate-machine-learning/discussion) to chat with other learners.*"
   ]
  }
 ],
 "metadata": {
  "kernelspec": {
   "display_name": "Python 3",
   "language": "python",
   "name": "python3"
  },
  "language_info": {
   "codemirror_mode": {
    "name": "ipython",
    "version": 3
   },
   "file_extension": ".py",
   "mimetype": "text/x-python",
   "name": "python",
   "nbconvert_exporter": "python",
   "pygments_lexer": "ipython3",
   "version": "3.10.10"
  },
  "papermill": {
   "default_parameters": {},
   "duration": 27.659326,
   "end_time": "2023-05-10T07:58:57.717026",
   "environment_variables": {},
   "exception": null,
   "input_path": "__notebook__.ipynb",
   "output_path": "__notebook__.ipynb",
   "parameters": {},
   "start_time": "2023-05-10T07:58:30.057700",
   "version": "2.4.0"
  }
 },
 "nbformat": 4,
 "nbformat_minor": 5
}
